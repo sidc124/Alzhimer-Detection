{
  "cells": [
    {
      "cell_type": "markdown",
      "metadata": {
        "id": "view-in-github",
        "colab_type": "text"
      },
      "source": [
        "<a href=\"https://colab.research.google.com/github/sidc124/Alzhimer-Detection/blob/main/_set_dataset.ipynb\" target=\"_parent\"><img src=\"https://colab.research.google.com/assets/colab-badge.svg\" alt=\"Open In Colab\"/></a>"
      ]
    },
    {
      "cell_type": "markdown",
      "id": "f3d56c3c",
      "metadata": {
        "id": "f3d56c3c"
      },
      "source": [
        "# Alzheimer's vs. Dementia EEG Classification — End-to-End Deep Learning Pipeline\n",
        "\n",
        "This notebook implements the full pipeline you described:\n",
        "1) **Find common channels** across OpenNeuro datasets and align them  \n",
        "2) **Preprocess** (filtering, referencing, resampling)  \n",
        "3) **Segment** signals into fixed-size windows and **standardize shapes** (pad/crop)  \n",
        "4) **Build datasets** and loaders for train/val/test (subject-wise splits)  \n",
        "5) **Train baselines** (EEGNet) and a **custom hybrid model** that aims to outperform EEGNet  \n",
        "6) **Evaluate & cross-test** across datasets (train on one, test on the other)  \n",
        "7) **Result analysis** with metrics and confusion matrices"
      ]
    },
    {
      "cell_type": "markdown",
      "id": "3137d6a3",
      "metadata": {
        "id": "3137d6a3"
      },
      "source": [
        "## 1. Setup & Config"
      ]
    },
    {
      "cell_type": "code",
      "execution_count": 2,
      "id": "5cb2a71b",
      "metadata": {
        "colab": {
          "base_uri": "https://localhost:8080/"
        },
        "id": "5cb2a71b",
        "outputId": "8d9eb8f3-d8dc-4d82-a6f9-a8437039bb5a"
      },
      "outputs": [
        {
          "output_type": "stream",
          "name": "stdout",
          "text": [
            "Drive already mounted at /content/drive; to attempt to forcibly remount, call drive.mount(\"/content/drive\", force_remount=True).\n",
            "sub-hc1_ses-hc_task-rest_channels.tsv  sub-hc1_ses-hc_task-rest_eeg.json\n",
            "sub-hc1_ses-hc_task-rest_eeg.bdf       sub-hc1_ses-hc_task-rest_events.tsv\n",
            "Found 88 .set files\n",
            "Example .set file: /content/drive/MyDrive/EEG_Project/dataset_1/sub-005/eeg/sub-005_task-eyesclosed_eeg.set\n"
          ]
        }
      ],
      "source": [
        "from google.colab import drive\n",
        "drive.mount('/content/drive')\n",
        "!ls \"/content/drive/MyDrive/EEG_Project/dataset_2/sub-hc1/ses-hc/eeg\"\n",
        "import glob\n",
        "import os\n",
        "\n",
        "# Base directory in Google Drive\n",
        "base_path = \"/content/drive/MyDrive/EEG_Project\"\n",
        "\n",
        "# Find all .set files (ignore .bdf)\n",
        "set_files = glob.glob(os.path.join(base_path, \"**\", \"*.set\"), recursive=True)\n",
        "\n",
        "print(f\"Found {len(set_files)} .set files\")\n",
        "\n",
        "# Check a few results\n",
        "print(\"Example .set file:\", set_files[0] if set_files else \"None found\")\n"
      ]
    },
    {
      "cell_type": "markdown",
      "id": "ca409b3b",
      "metadata": {
        "id": "ca409b3b"
      },
      "source": [
        "## 2. Channels finding and common channels"
      ]
    },
    {
      "cell_type": "code",
      "execution_count": 3,
      "id": "5bfd1174",
      "metadata": {
        "colab": {
          "base_uri": "https://localhost:8080/"
        },
        "id": "5bfd1174",
        "outputId": "0997463f-d2ed-4330-a806-8ae8e054f2d8"
      },
      "outputs": [
        {
          "output_type": "stream",
          "name": "stdout",
          "text": [
            "Requirement already satisfied: mne in /usr/local/lib/python3.12/dist-packages (1.10.1)\n",
            "Requirement already satisfied: decorator in /usr/local/lib/python3.12/dist-packages (from mne) (4.4.2)\n",
            "Requirement already satisfied: jinja2 in /usr/local/lib/python3.12/dist-packages (from mne) (3.1.6)\n",
            "Requirement already satisfied: lazy-loader>=0.3 in /usr/local/lib/python3.12/dist-packages (from mne) (0.4)\n",
            "Requirement already satisfied: matplotlib>=3.7 in /usr/local/lib/python3.12/dist-packages (from mne) (3.10.0)\n",
            "Requirement already satisfied: numpy<3,>=1.25 in /usr/local/lib/python3.12/dist-packages (from mne) (2.0.2)\n",
            "Requirement already satisfied: packaging in /usr/local/lib/python3.12/dist-packages (from mne) (25.0)\n",
            "Requirement already satisfied: pooch>=1.5 in /usr/local/lib/python3.12/dist-packages (from mne) (1.8.2)\n",
            "Requirement already satisfied: scipy>=1.11 in /usr/local/lib/python3.12/dist-packages (from mne) (1.16.2)\n",
            "Requirement already satisfied: tqdm in /usr/local/lib/python3.12/dist-packages (from mne) (4.67.1)\n",
            "Requirement already satisfied: contourpy>=1.0.1 in /usr/local/lib/python3.12/dist-packages (from matplotlib>=3.7->mne) (1.3.3)\n",
            "Requirement already satisfied: cycler>=0.10 in /usr/local/lib/python3.12/dist-packages (from matplotlib>=3.7->mne) (0.12.1)\n",
            "Requirement already satisfied: fonttools>=4.22.0 in /usr/local/lib/python3.12/dist-packages (from matplotlib>=3.7->mne) (4.60.0)\n",
            "Requirement already satisfied: kiwisolver>=1.3.1 in /usr/local/lib/python3.12/dist-packages (from matplotlib>=3.7->mne) (1.4.9)\n",
            "Requirement already satisfied: pillow>=8 in /usr/local/lib/python3.12/dist-packages (from matplotlib>=3.7->mne) (11.3.0)\n",
            "Requirement already satisfied: pyparsing>=2.3.1 in /usr/local/lib/python3.12/dist-packages (from matplotlib>=3.7->mne) (3.2.4)\n",
            "Requirement already satisfied: python-dateutil>=2.7 in /usr/local/lib/python3.12/dist-packages (from matplotlib>=3.7->mne) (2.9.0.post0)\n",
            "Requirement already satisfied: platformdirs>=2.5.0 in /usr/local/lib/python3.12/dist-packages (from pooch>=1.5->mne) (4.4.0)\n",
            "Requirement already satisfied: requests>=2.19.0 in /usr/local/lib/python3.12/dist-packages (from pooch>=1.5->mne) (2.32.4)\n",
            "Requirement already satisfied: MarkupSafe>=2.0 in /usr/local/lib/python3.12/dist-packages (from jinja2->mne) (3.0.2)\n",
            "Requirement already satisfied: six>=1.5 in /usr/local/lib/python3.12/dist-packages (from python-dateutil>=2.7->matplotlib>=3.7->mne) (1.17.0)\n",
            "Requirement already satisfied: charset_normalizer<4,>=2 in /usr/local/lib/python3.12/dist-packages (from requests>=2.19.0->pooch>=1.5->mne) (3.4.3)\n",
            "Requirement already satisfied: idna<4,>=2.5 in /usr/local/lib/python3.12/dist-packages (from requests>=2.19.0->pooch>=1.5->mne) (3.10)\n",
            "Requirement already satisfied: urllib3<3,>=1.21.1 in /usr/local/lib/python3.12/dist-packages (from requests>=2.19.0->pooch>=1.5->mne) (2.5.0)\n",
            "Requirement already satisfied: certifi>=2017.4.17 in /usr/local/lib/python3.12/dist-packages (from requests>=2.19.0->pooch>=1.5->mne) (2025.8.3)\n"
          ]
        },
        {
          "output_type": "stream",
          "name": "stderr",
          "text": [
            "/tmp/ipython-input-778039522.py:8: RuntimeWarning: Data will be preloaded. preload=False or a string preload is not supported when the data is stored in the .set file\n",
            "  raw_set = mne.io.read_raw_eeglab(sample_set_file, preload=False)\n"
          ]
        },
        {
          "output_type": "stream",
          "name": "stdout",
          "text": [
            "Channels in .set dataset: ['Fp1', 'Fp2', 'F3', 'F4', 'C3', 'C4', 'P3', 'P4', 'O1', 'O2', 'F7', 'F8', 'T3', 'T4', 'T5', 'T6', 'Fz', 'Cz', 'Pz']\n"
          ]
        }
      ],
      "source": [
        "!pip install mne\n",
        "import mne\n",
        "\n",
        "# Pick one file from the .set dataset\n",
        "sample_set_file = set_files[0]\n",
        "\n",
        "# Load raw data without preprocessing\n",
        "raw_set = mne.io.read_raw_eeglab(sample_set_file, preload=False)\n",
        "\n",
        "# Get channel names\n",
        "channels_set = raw_set.info[\"ch_names\"]\n",
        "\n",
        "print(\"Channels in .set dataset:\", channels_set)\n"
      ]
    },
    {
      "cell_type": "markdown",
      "id": "149f88f1",
      "metadata": {
        "id": "149f88f1"
      },
      "source": [
        "## 3. reordering the dataset\n"
      ]
    },
    {
      "cell_type": "code",
      "execution_count": 4,
      "id": "d5ef836f",
      "metadata": {
        "colab": {
          "base_uri": "https://localhost:8080/"
        },
        "id": "d5ef836f",
        "outputId": "a61be317-0ae1-4d17-9f2b-2fdc64f06245"
      },
      "outputs": [
        {
          "output_type": "stream",
          "name": "stdout",
          "text": [
            "Final channel order: ['Fp1', 'Fp2', 'F3', 'F4', 'C3', 'C4', 'P3', 'P4', 'O1', 'O2', 'F7', 'F8', 'T3', 'T4', 'T5', 'T6', 'Fz', 'Cz', 'Pz']\n",
            "NOTE: pick_channels() is a legacy function. New code should use inst.pick(...).\n",
            "NOTE: pick_channels() is a legacy function. New code should use inst.pick(...).\n"
          ]
        },
        {
          "output_type": "stream",
          "name": "stderr",
          "text": [
            "/tmp/ipython-input-839818290.py:14: RuntimeWarning: The data contains 'boundary' events, indicating data discontinuities. Be cautious of filtering and epoching around these events.\n",
            "  raw = mne.io.read_raw_eeglab(filepath, preload=True)\n"
          ]
        },
        {
          "output_type": "stream",
          "name": "stdout",
          "text": [
            "NOTE: pick_channels() is a legacy function. New code should use inst.pick(...).\n",
            "NOTE: pick_channels() is a legacy function. New code should use inst.pick(...).\n"
          ]
        },
        {
          "output_type": "stream",
          "name": "stderr",
          "text": [
            "/tmp/ipython-input-839818290.py:14: RuntimeWarning: The data contains 'boundary' events, indicating data discontinuities. Be cautious of filtering and epoching around these events.\n",
            "  raw = mne.io.read_raw_eeglab(filepath, preload=True)\n"
          ]
        },
        {
          "output_type": "stream",
          "name": "stdout",
          "text": [
            "NOTE: pick_channels() is a legacy function. New code should use inst.pick(...).\n"
          ]
        },
        {
          "output_type": "stream",
          "name": "stderr",
          "text": [
            "/tmp/ipython-input-839818290.py:14: RuntimeWarning: The data contains 'boundary' events, indicating data discontinuities. Be cautious of filtering and epoching around these events.\n",
            "  raw = mne.io.read_raw_eeglab(filepath, preload=True)\n"
          ]
        },
        {
          "output_type": "stream",
          "name": "stdout",
          "text": [
            "NOTE: pick_channels() is a legacy function. New code should use inst.pick(...).\n"
          ]
        },
        {
          "output_type": "stream",
          "name": "stderr",
          "text": [
            "/tmp/ipython-input-839818290.py:14: RuntimeWarning: The data contains 'boundary' events, indicating data discontinuities. Be cautious of filtering and epoching around these events.\n",
            "  raw = mne.io.read_raw_eeglab(filepath, preload=True)\n"
          ]
        },
        {
          "output_type": "stream",
          "name": "stdout",
          "text": [
            "NOTE: pick_channels() is a legacy function. New code should use inst.pick(...).\n"
          ]
        },
        {
          "output_type": "stream",
          "name": "stderr",
          "text": [
            "/tmp/ipython-input-839818290.py:14: RuntimeWarning: The data contains 'boundary' events, indicating data discontinuities. Be cautious of filtering and epoching around these events.\n",
            "  raw = mne.io.read_raw_eeglab(filepath, preload=True)\n"
          ]
        },
        {
          "output_type": "stream",
          "name": "stdout",
          "text": [
            "NOTE: pick_channels() is a legacy function. New code should use inst.pick(...).\n",
            "NOTE: pick_channels() is a legacy function. New code should use inst.pick(...).\n"
          ]
        },
        {
          "output_type": "stream",
          "name": "stderr",
          "text": [
            "/tmp/ipython-input-839818290.py:14: RuntimeWarning: The data contains 'boundary' events, indicating data discontinuities. Be cautious of filtering and epoching around these events.\n",
            "  raw = mne.io.read_raw_eeglab(filepath, preload=True)\n"
          ]
        },
        {
          "output_type": "stream",
          "name": "stdout",
          "text": [
            "NOTE: pick_channels() is a legacy function. New code should use inst.pick(...).\n"
          ]
        },
        {
          "output_type": "stream",
          "name": "stderr",
          "text": [
            "/tmp/ipython-input-839818290.py:14: RuntimeWarning: The data contains 'boundary' events, indicating data discontinuities. Be cautious of filtering and epoching around these events.\n",
            "  raw = mne.io.read_raw_eeglab(filepath, preload=True)\n"
          ]
        },
        {
          "output_type": "stream",
          "name": "stdout",
          "text": [
            "NOTE: pick_channels() is a legacy function. New code should use inst.pick(...).\n"
          ]
        },
        {
          "output_type": "stream",
          "name": "stderr",
          "text": [
            "/tmp/ipython-input-839818290.py:14: RuntimeWarning: The data contains 'boundary' events, indicating data discontinuities. Be cautious of filtering and epoching around these events.\n",
            "  raw = mne.io.read_raw_eeglab(filepath, preload=True)\n"
          ]
        },
        {
          "output_type": "stream",
          "name": "stdout",
          "text": [
            "NOTE: pick_channels() is a legacy function. New code should use inst.pick(...).\n"
          ]
        },
        {
          "output_type": "stream",
          "name": "stderr",
          "text": [
            "/tmp/ipython-input-839818290.py:14: RuntimeWarning: The data contains 'boundary' events, indicating data discontinuities. Be cautious of filtering and epoching around these events.\n",
            "  raw = mne.io.read_raw_eeglab(filepath, preload=True)\n"
          ]
        },
        {
          "output_type": "stream",
          "name": "stdout",
          "text": [
            "NOTE: pick_channels() is a legacy function. New code should use inst.pick(...).\n"
          ]
        },
        {
          "output_type": "stream",
          "name": "stderr",
          "text": [
            "/tmp/ipython-input-839818290.py:14: RuntimeWarning: The data contains 'boundary' events, indicating data discontinuities. Be cautious of filtering and epoching around these events.\n",
            "  raw = mne.io.read_raw_eeglab(filepath, preload=True)\n"
          ]
        },
        {
          "output_type": "stream",
          "name": "stdout",
          "text": [
            "NOTE: pick_channels() is a legacy function. New code should use inst.pick(...).\n"
          ]
        },
        {
          "output_type": "stream",
          "name": "stderr",
          "text": [
            "/tmp/ipython-input-839818290.py:14: RuntimeWarning: The data contains 'boundary' events, indicating data discontinuities. Be cautious of filtering and epoching around these events.\n",
            "  raw = mne.io.read_raw_eeglab(filepath, preload=True)\n"
          ]
        },
        {
          "output_type": "stream",
          "name": "stdout",
          "text": [
            "NOTE: pick_channels() is a legacy function. New code should use inst.pick(...).\n"
          ]
        },
        {
          "output_type": "stream",
          "name": "stderr",
          "text": [
            "/tmp/ipython-input-839818290.py:14: RuntimeWarning: The data contains 'boundary' events, indicating data discontinuities. Be cautious of filtering and epoching around these events.\n",
            "  raw = mne.io.read_raw_eeglab(filepath, preload=True)\n"
          ]
        },
        {
          "output_type": "stream",
          "name": "stdout",
          "text": [
            "NOTE: pick_channels() is a legacy function. New code should use inst.pick(...).\n"
          ]
        },
        {
          "output_type": "stream",
          "name": "stderr",
          "text": [
            "/tmp/ipython-input-839818290.py:14: RuntimeWarning: The data contains 'boundary' events, indicating data discontinuities. Be cautious of filtering and epoching around these events.\n",
            "  raw = mne.io.read_raw_eeglab(filepath, preload=True)\n"
          ]
        },
        {
          "output_type": "stream",
          "name": "stdout",
          "text": [
            "NOTE: pick_channels() is a legacy function. New code should use inst.pick(...).\n"
          ]
        },
        {
          "output_type": "stream",
          "name": "stderr",
          "text": [
            "/tmp/ipython-input-839818290.py:14: RuntimeWarning: The data contains 'boundary' events, indicating data discontinuities. Be cautious of filtering and epoching around these events.\n",
            "  raw = mne.io.read_raw_eeglab(filepath, preload=True)\n"
          ]
        },
        {
          "output_type": "stream",
          "name": "stdout",
          "text": [
            "NOTE: pick_channels() is a legacy function. New code should use inst.pick(...).\n"
          ]
        },
        {
          "output_type": "stream",
          "name": "stderr",
          "text": [
            "/tmp/ipython-input-839818290.py:14: RuntimeWarning: The data contains 'boundary' events, indicating data discontinuities. Be cautious of filtering and epoching around these events.\n",
            "  raw = mne.io.read_raw_eeglab(filepath, preload=True)\n"
          ]
        },
        {
          "output_type": "stream",
          "name": "stdout",
          "text": [
            "NOTE: pick_channels() is a legacy function. New code should use inst.pick(...).\n"
          ]
        },
        {
          "output_type": "stream",
          "name": "stderr",
          "text": [
            "/tmp/ipython-input-839818290.py:14: RuntimeWarning: The data contains 'boundary' events, indicating data discontinuities. Be cautious of filtering and epoching around these events.\n",
            "  raw = mne.io.read_raw_eeglab(filepath, preload=True)\n"
          ]
        },
        {
          "output_type": "stream",
          "name": "stdout",
          "text": [
            "NOTE: pick_channels() is a legacy function. New code should use inst.pick(...).\n",
            "NOTE: pick_channels() is a legacy function. New code should use inst.pick(...).\n"
          ]
        },
        {
          "output_type": "stream",
          "name": "stderr",
          "text": [
            "/tmp/ipython-input-839818290.py:14: RuntimeWarning: The data contains 'boundary' events, indicating data discontinuities. Be cautious of filtering and epoching around these events.\n",
            "  raw = mne.io.read_raw_eeglab(filepath, preload=True)\n"
          ]
        },
        {
          "output_type": "stream",
          "name": "stdout",
          "text": [
            "NOTE: pick_channels() is a legacy function. New code should use inst.pick(...).\n"
          ]
        },
        {
          "output_type": "stream",
          "name": "stderr",
          "text": [
            "/tmp/ipython-input-839818290.py:14: RuntimeWarning: The data contains 'boundary' events, indicating data discontinuities. Be cautious of filtering and epoching around these events.\n",
            "  raw = mne.io.read_raw_eeglab(filepath, preload=True)\n"
          ]
        },
        {
          "output_type": "stream",
          "name": "stdout",
          "text": [
            "NOTE: pick_channels() is a legacy function. New code should use inst.pick(...).\n"
          ]
        },
        {
          "output_type": "stream",
          "name": "stderr",
          "text": [
            "/tmp/ipython-input-839818290.py:14: RuntimeWarning: The data contains 'boundary' events, indicating data discontinuities. Be cautious of filtering and epoching around these events.\n",
            "  raw = mne.io.read_raw_eeglab(filepath, preload=True)\n"
          ]
        },
        {
          "output_type": "stream",
          "name": "stdout",
          "text": [
            "NOTE: pick_channels() is a legacy function. New code should use inst.pick(...).\n"
          ]
        },
        {
          "output_type": "stream",
          "name": "stderr",
          "text": [
            "/tmp/ipython-input-839818290.py:14: RuntimeWarning: The data contains 'boundary' events, indicating data discontinuities. Be cautious of filtering and epoching around these events.\n",
            "  raw = mne.io.read_raw_eeglab(filepath, preload=True)\n"
          ]
        },
        {
          "output_type": "stream",
          "name": "stdout",
          "text": [
            "NOTE: pick_channels() is a legacy function. New code should use inst.pick(...).\n"
          ]
        },
        {
          "output_type": "stream",
          "name": "stderr",
          "text": [
            "/tmp/ipython-input-839818290.py:14: RuntimeWarning: The data contains 'boundary' events, indicating data discontinuities. Be cautious of filtering and epoching around these events.\n",
            "  raw = mne.io.read_raw_eeglab(filepath, preload=True)\n"
          ]
        },
        {
          "output_type": "stream",
          "name": "stdout",
          "text": [
            "NOTE: pick_channels() is a legacy function. New code should use inst.pick(...).\n"
          ]
        },
        {
          "output_type": "stream",
          "name": "stderr",
          "text": [
            "/tmp/ipython-input-839818290.py:14: RuntimeWarning: The data contains 'boundary' events, indicating data discontinuities. Be cautious of filtering and epoching around these events.\n",
            "  raw = mne.io.read_raw_eeglab(filepath, preload=True)\n"
          ]
        },
        {
          "output_type": "stream",
          "name": "stdout",
          "text": [
            "NOTE: pick_channels() is a legacy function. New code should use inst.pick(...).\n"
          ]
        },
        {
          "output_type": "stream",
          "name": "stderr",
          "text": [
            "/tmp/ipython-input-839818290.py:14: RuntimeWarning: The data contains 'boundary' events, indicating data discontinuities. Be cautious of filtering and epoching around these events.\n",
            "  raw = mne.io.read_raw_eeglab(filepath, preload=True)\n"
          ]
        },
        {
          "output_type": "stream",
          "name": "stdout",
          "text": [
            "NOTE: pick_channels() is a legacy function. New code should use inst.pick(...).\n"
          ]
        },
        {
          "output_type": "stream",
          "name": "stderr",
          "text": [
            "/tmp/ipython-input-839818290.py:14: RuntimeWarning: The data contains 'boundary' events, indicating data discontinuities. Be cautious of filtering and epoching around these events.\n",
            "  raw = mne.io.read_raw_eeglab(filepath, preload=True)\n"
          ]
        },
        {
          "output_type": "stream",
          "name": "stdout",
          "text": [
            "NOTE: pick_channels() is a legacy function. New code should use inst.pick(...).\n"
          ]
        },
        {
          "output_type": "stream",
          "name": "stderr",
          "text": [
            "/tmp/ipython-input-839818290.py:14: RuntimeWarning: The data contains 'boundary' events, indicating data discontinuities. Be cautious of filtering and epoching around these events.\n",
            "  raw = mne.io.read_raw_eeglab(filepath, preload=True)\n"
          ]
        },
        {
          "output_type": "stream",
          "name": "stdout",
          "text": [
            "NOTE: pick_channels() is a legacy function. New code should use inst.pick(...).\n"
          ]
        },
        {
          "output_type": "stream",
          "name": "stderr",
          "text": [
            "/tmp/ipython-input-839818290.py:14: RuntimeWarning: The data contains 'boundary' events, indicating data discontinuities. Be cautious of filtering and epoching around these events.\n",
            "  raw = mne.io.read_raw_eeglab(filepath, preload=True)\n"
          ]
        },
        {
          "output_type": "stream",
          "name": "stdout",
          "text": [
            "NOTE: pick_channels() is a legacy function. New code should use inst.pick(...).\n"
          ]
        },
        {
          "output_type": "stream",
          "name": "stderr",
          "text": [
            "/tmp/ipython-input-839818290.py:14: RuntimeWarning: The data contains 'boundary' events, indicating data discontinuities. Be cautious of filtering and epoching around these events.\n",
            "  raw = mne.io.read_raw_eeglab(filepath, preload=True)\n"
          ]
        },
        {
          "output_type": "stream",
          "name": "stdout",
          "text": [
            "NOTE: pick_channels() is a legacy function. New code should use inst.pick(...).\n"
          ]
        },
        {
          "output_type": "stream",
          "name": "stderr",
          "text": [
            "/tmp/ipython-input-839818290.py:14: RuntimeWarning: The data contains 'boundary' events, indicating data discontinuities. Be cautious of filtering and epoching around these events.\n",
            "  raw = mne.io.read_raw_eeglab(filepath, preload=True)\n"
          ]
        },
        {
          "output_type": "stream",
          "name": "stdout",
          "text": [
            "NOTE: pick_channels() is a legacy function. New code should use inst.pick(...).\n"
          ]
        },
        {
          "output_type": "stream",
          "name": "stderr",
          "text": [
            "/tmp/ipython-input-839818290.py:14: RuntimeWarning: The data contains 'boundary' events, indicating data discontinuities. Be cautious of filtering and epoching around these events.\n",
            "  raw = mne.io.read_raw_eeglab(filepath, preload=True)\n"
          ]
        },
        {
          "output_type": "stream",
          "name": "stdout",
          "text": [
            "NOTE: pick_channels() is a legacy function. New code should use inst.pick(...).\n"
          ]
        },
        {
          "output_type": "stream",
          "name": "stderr",
          "text": [
            "/tmp/ipython-input-839818290.py:14: RuntimeWarning: The data contains 'boundary' events, indicating data discontinuities. Be cautious of filtering and epoching around these events.\n",
            "  raw = mne.io.read_raw_eeglab(filepath, preload=True)\n"
          ]
        },
        {
          "output_type": "stream",
          "name": "stdout",
          "text": [
            "NOTE: pick_channels() is a legacy function. New code should use inst.pick(...).\n"
          ]
        },
        {
          "output_type": "stream",
          "name": "stderr",
          "text": [
            "/tmp/ipython-input-839818290.py:14: RuntimeWarning: The data contains 'boundary' events, indicating data discontinuities. Be cautious of filtering and epoching around these events.\n",
            "  raw = mne.io.read_raw_eeglab(filepath, preload=True)\n"
          ]
        },
        {
          "output_type": "stream",
          "name": "stdout",
          "text": [
            "NOTE: pick_channels() is a legacy function. New code should use inst.pick(...).\n",
            "NOTE: pick_channels() is a legacy function. New code should use inst.pick(...).\n"
          ]
        },
        {
          "output_type": "stream",
          "name": "stderr",
          "text": [
            "/tmp/ipython-input-839818290.py:14: RuntimeWarning: The data contains 'boundary' events, indicating data discontinuities. Be cautious of filtering and epoching around these events.\n",
            "  raw = mne.io.read_raw_eeglab(filepath, preload=True)\n"
          ]
        },
        {
          "output_type": "stream",
          "name": "stdout",
          "text": [
            "NOTE: pick_channels() is a legacy function. New code should use inst.pick(...).\n"
          ]
        },
        {
          "output_type": "stream",
          "name": "stderr",
          "text": [
            "/tmp/ipython-input-839818290.py:14: RuntimeWarning: The data contains 'boundary' events, indicating data discontinuities. Be cautious of filtering and epoching around these events.\n",
            "  raw = mne.io.read_raw_eeglab(filepath, preload=True)\n"
          ]
        },
        {
          "output_type": "stream",
          "name": "stdout",
          "text": [
            "NOTE: pick_channels() is a legacy function. New code should use inst.pick(...).\n"
          ]
        },
        {
          "output_type": "stream",
          "name": "stderr",
          "text": [
            "/tmp/ipython-input-839818290.py:14: RuntimeWarning: The data contains 'boundary' events, indicating data discontinuities. Be cautious of filtering and epoching around these events.\n",
            "  raw = mne.io.read_raw_eeglab(filepath, preload=True)\n"
          ]
        },
        {
          "output_type": "stream",
          "name": "stdout",
          "text": [
            "NOTE: pick_channels() is a legacy function. New code should use inst.pick(...).\n"
          ]
        },
        {
          "output_type": "stream",
          "name": "stderr",
          "text": [
            "/tmp/ipython-input-839818290.py:14: RuntimeWarning: The data contains 'boundary' events, indicating data discontinuities. Be cautious of filtering and epoching around these events.\n",
            "  raw = mne.io.read_raw_eeglab(filepath, preload=True)\n"
          ]
        },
        {
          "output_type": "stream",
          "name": "stdout",
          "text": [
            "NOTE: pick_channels() is a legacy function. New code should use inst.pick(...).\n"
          ]
        },
        {
          "output_type": "stream",
          "name": "stderr",
          "text": [
            "/tmp/ipython-input-839818290.py:14: RuntimeWarning: The data contains 'boundary' events, indicating data discontinuities. Be cautious of filtering and epoching around these events.\n",
            "  raw = mne.io.read_raw_eeglab(filepath, preload=True)\n"
          ]
        },
        {
          "output_type": "stream",
          "name": "stdout",
          "text": [
            "NOTE: pick_channels() is a legacy function. New code should use inst.pick(...).\n"
          ]
        },
        {
          "output_type": "stream",
          "name": "stderr",
          "text": [
            "/tmp/ipython-input-839818290.py:14: RuntimeWarning: The data contains 'boundary' events, indicating data discontinuities. Be cautious of filtering and epoching around these events.\n",
            "  raw = mne.io.read_raw_eeglab(filepath, preload=True)\n"
          ]
        },
        {
          "output_type": "stream",
          "name": "stdout",
          "text": [
            "NOTE: pick_channels() is a legacy function. New code should use inst.pick(...).\n",
            "NOTE: pick_channels() is a legacy function. New code should use inst.pick(...).\n",
            "NOTE: pick_channels() is a legacy function. New code should use inst.pick(...).\n"
          ]
        },
        {
          "output_type": "stream",
          "name": "stderr",
          "text": [
            "/tmp/ipython-input-839818290.py:14: RuntimeWarning: The data contains 'boundary' events, indicating data discontinuities. Be cautious of filtering and epoching around these events.\n",
            "  raw = mne.io.read_raw_eeglab(filepath, preload=True)\n"
          ]
        },
        {
          "output_type": "stream",
          "name": "stdout",
          "text": [
            "NOTE: pick_channels() is a legacy function. New code should use inst.pick(...).\n"
          ]
        },
        {
          "output_type": "stream",
          "name": "stderr",
          "text": [
            "/tmp/ipython-input-839818290.py:14: RuntimeWarning: The data contains 'boundary' events, indicating data discontinuities. Be cautious of filtering and epoching around these events.\n",
            "  raw = mne.io.read_raw_eeglab(filepath, preload=True)\n"
          ]
        },
        {
          "output_type": "stream",
          "name": "stdout",
          "text": [
            "NOTE: pick_channels() is a legacy function. New code should use inst.pick(...).\n"
          ]
        },
        {
          "output_type": "stream",
          "name": "stderr",
          "text": [
            "/tmp/ipython-input-839818290.py:14: RuntimeWarning: The data contains 'boundary' events, indicating data discontinuities. Be cautious of filtering and epoching around these events.\n",
            "  raw = mne.io.read_raw_eeglab(filepath, preload=True)\n"
          ]
        },
        {
          "output_type": "stream",
          "name": "stdout",
          "text": [
            "NOTE: pick_channels() is a legacy function. New code should use inst.pick(...).\n"
          ]
        },
        {
          "output_type": "stream",
          "name": "stderr",
          "text": [
            "/tmp/ipython-input-839818290.py:14: RuntimeWarning: The data contains 'boundary' events, indicating data discontinuities. Be cautious of filtering and epoching around these events.\n",
            "  raw = mne.io.read_raw_eeglab(filepath, preload=True)\n"
          ]
        },
        {
          "output_type": "stream",
          "name": "stdout",
          "text": [
            "NOTE: pick_channels() is a legacy function. New code should use inst.pick(...).\n"
          ]
        },
        {
          "output_type": "stream",
          "name": "stderr",
          "text": [
            "/tmp/ipython-input-839818290.py:14: RuntimeWarning: The data contains 'boundary' events, indicating data discontinuities. Be cautious of filtering and epoching around these events.\n",
            "  raw = mne.io.read_raw_eeglab(filepath, preload=True)\n"
          ]
        },
        {
          "output_type": "stream",
          "name": "stdout",
          "text": [
            "NOTE: pick_channels() is a legacy function. New code should use inst.pick(...).\n"
          ]
        },
        {
          "output_type": "stream",
          "name": "stderr",
          "text": [
            "/tmp/ipython-input-839818290.py:14: RuntimeWarning: The data contains 'boundary' events, indicating data discontinuities. Be cautious of filtering and epoching around these events.\n",
            "  raw = mne.io.read_raw_eeglab(filepath, preload=True)\n"
          ]
        },
        {
          "output_type": "stream",
          "name": "stdout",
          "text": [
            "NOTE: pick_channels() is a legacy function. New code should use inst.pick(...).\n"
          ]
        },
        {
          "output_type": "stream",
          "name": "stderr",
          "text": [
            "/tmp/ipython-input-839818290.py:14: RuntimeWarning: The data contains 'boundary' events, indicating data discontinuities. Be cautious of filtering and epoching around these events.\n",
            "  raw = mne.io.read_raw_eeglab(filepath, preload=True)\n"
          ]
        },
        {
          "output_type": "stream",
          "name": "stdout",
          "text": [
            "NOTE: pick_channels() is a legacy function. New code should use inst.pick(...).\n"
          ]
        },
        {
          "output_type": "stream",
          "name": "stderr",
          "text": [
            "/tmp/ipython-input-839818290.py:14: RuntimeWarning: The data contains 'boundary' events, indicating data discontinuities. Be cautious of filtering and epoching around these events.\n",
            "  raw = mne.io.read_raw_eeglab(filepath, preload=True)\n"
          ]
        },
        {
          "output_type": "stream",
          "name": "stdout",
          "text": [
            "NOTE: pick_channels() is a legacy function. New code should use inst.pick(...).\n"
          ]
        },
        {
          "output_type": "stream",
          "name": "stderr",
          "text": [
            "/tmp/ipython-input-839818290.py:14: RuntimeWarning: The data contains 'boundary' events, indicating data discontinuities. Be cautious of filtering and epoching around these events.\n",
            "  raw = mne.io.read_raw_eeglab(filepath, preload=True)\n"
          ]
        },
        {
          "output_type": "stream",
          "name": "stdout",
          "text": [
            "NOTE: pick_channels() is a legacy function. New code should use inst.pick(...).\n"
          ]
        },
        {
          "output_type": "stream",
          "name": "stderr",
          "text": [
            "/tmp/ipython-input-839818290.py:14: RuntimeWarning: The data contains 'boundary' events, indicating data discontinuities. Be cautious of filtering and epoching around these events.\n",
            "  raw = mne.io.read_raw_eeglab(filepath, preload=True)\n"
          ]
        },
        {
          "output_type": "stream",
          "name": "stdout",
          "text": [
            "NOTE: pick_channels() is a legacy function. New code should use inst.pick(...).\n"
          ]
        },
        {
          "output_type": "stream",
          "name": "stderr",
          "text": [
            "/tmp/ipython-input-839818290.py:14: RuntimeWarning: The data contains 'boundary' events, indicating data discontinuities. Be cautious of filtering and epoching around these events.\n",
            "  raw = mne.io.read_raw_eeglab(filepath, preload=True)\n"
          ]
        },
        {
          "output_type": "stream",
          "name": "stdout",
          "text": [
            "NOTE: pick_channels() is a legacy function. New code should use inst.pick(...).\n"
          ]
        },
        {
          "output_type": "stream",
          "name": "stderr",
          "text": [
            "/tmp/ipython-input-839818290.py:14: RuntimeWarning: The data contains 'boundary' events, indicating data discontinuities. Be cautious of filtering and epoching around these events.\n",
            "  raw = mne.io.read_raw_eeglab(filepath, preload=True)\n"
          ]
        },
        {
          "output_type": "stream",
          "name": "stdout",
          "text": [
            "NOTE: pick_channels() is a legacy function. New code should use inst.pick(...).\n",
            "NOTE: pick_channels() is a legacy function. New code should use inst.pick(...).\n"
          ]
        },
        {
          "output_type": "stream",
          "name": "stderr",
          "text": [
            "/tmp/ipython-input-839818290.py:14: RuntimeWarning: The data contains 'boundary' events, indicating data discontinuities. Be cautious of filtering and epoching around these events.\n",
            "  raw = mne.io.read_raw_eeglab(filepath, preload=True)\n"
          ]
        },
        {
          "output_type": "stream",
          "name": "stdout",
          "text": [
            "NOTE: pick_channels() is a legacy function. New code should use inst.pick(...).\n"
          ]
        },
        {
          "output_type": "stream",
          "name": "stderr",
          "text": [
            "/tmp/ipython-input-839818290.py:14: RuntimeWarning: The data contains 'boundary' events, indicating data discontinuities. Be cautious of filtering and epoching around these events.\n",
            "  raw = mne.io.read_raw_eeglab(filepath, preload=True)\n"
          ]
        },
        {
          "output_type": "stream",
          "name": "stdout",
          "text": [
            "NOTE: pick_channels() is a legacy function. New code should use inst.pick(...).\n"
          ]
        },
        {
          "output_type": "stream",
          "name": "stderr",
          "text": [
            "/tmp/ipython-input-839818290.py:14: RuntimeWarning: The data contains 'boundary' events, indicating data discontinuities. Be cautious of filtering and epoching around these events.\n",
            "  raw = mne.io.read_raw_eeglab(filepath, preload=True)\n"
          ]
        },
        {
          "output_type": "stream",
          "name": "stdout",
          "text": [
            "NOTE: pick_channels() is a legacy function. New code should use inst.pick(...).\n"
          ]
        },
        {
          "output_type": "stream",
          "name": "stderr",
          "text": [
            "/tmp/ipython-input-839818290.py:14: RuntimeWarning: The data contains 'boundary' events, indicating data discontinuities. Be cautious of filtering and epoching around these events.\n",
            "  raw = mne.io.read_raw_eeglab(filepath, preload=True)\n"
          ]
        },
        {
          "output_type": "stream",
          "name": "stdout",
          "text": [
            "NOTE: pick_channels() is a legacy function. New code should use inst.pick(...).\n"
          ]
        },
        {
          "output_type": "stream",
          "name": "stderr",
          "text": [
            "/tmp/ipython-input-839818290.py:14: RuntimeWarning: The data contains 'boundary' events, indicating data discontinuities. Be cautious of filtering and epoching around these events.\n",
            "  raw = mne.io.read_raw_eeglab(filepath, preload=True)\n"
          ]
        },
        {
          "output_type": "stream",
          "name": "stdout",
          "text": [
            "NOTE: pick_channels() is a legacy function. New code should use inst.pick(...).\n"
          ]
        },
        {
          "output_type": "stream",
          "name": "stderr",
          "text": [
            "/tmp/ipython-input-839818290.py:14: RuntimeWarning: The data contains 'boundary' events, indicating data discontinuities. Be cautious of filtering and epoching around these events.\n",
            "  raw = mne.io.read_raw_eeglab(filepath, preload=True)\n"
          ]
        },
        {
          "output_type": "stream",
          "name": "stdout",
          "text": [
            "NOTE: pick_channels() is a legacy function. New code should use inst.pick(...).\n"
          ]
        },
        {
          "output_type": "stream",
          "name": "stderr",
          "text": [
            "/tmp/ipython-input-839818290.py:14: RuntimeWarning: The data contains 'boundary' events, indicating data discontinuities. Be cautious of filtering and epoching around these events.\n",
            "  raw = mne.io.read_raw_eeglab(filepath, preload=True)\n"
          ]
        },
        {
          "output_type": "stream",
          "name": "stdout",
          "text": [
            "NOTE: pick_channels() is a legacy function. New code should use inst.pick(...).\n",
            "NOTE: pick_channels() is a legacy function. New code should use inst.pick(...).\n"
          ]
        },
        {
          "output_type": "stream",
          "name": "stderr",
          "text": [
            "/tmp/ipython-input-839818290.py:14: RuntimeWarning: The data contains 'boundary' events, indicating data discontinuities. Be cautious of filtering and epoching around these events.\n",
            "  raw = mne.io.read_raw_eeglab(filepath, preload=True)\n"
          ]
        },
        {
          "output_type": "stream",
          "name": "stdout",
          "text": [
            "NOTE: pick_channels() is a legacy function. New code should use inst.pick(...).\n",
            "NOTE: pick_channels() is a legacy function. New code should use inst.pick(...).\n"
          ]
        },
        {
          "output_type": "stream",
          "name": "stderr",
          "text": [
            "/tmp/ipython-input-839818290.py:14: RuntimeWarning: The data contains 'boundary' events, indicating data discontinuities. Be cautious of filtering and epoching around these events.\n",
            "  raw = mne.io.read_raw_eeglab(filepath, preload=True)\n"
          ]
        },
        {
          "output_type": "stream",
          "name": "stdout",
          "text": [
            "NOTE: pick_channels() is a legacy function. New code should use inst.pick(...).\n"
          ]
        },
        {
          "output_type": "stream",
          "name": "stderr",
          "text": [
            "/tmp/ipython-input-839818290.py:14: RuntimeWarning: The data contains 'boundary' events, indicating data discontinuities. Be cautious of filtering and epoching around these events.\n",
            "  raw = mne.io.read_raw_eeglab(filepath, preload=True)\n"
          ]
        },
        {
          "output_type": "stream",
          "name": "stdout",
          "text": [
            "NOTE: pick_channels() is a legacy function. New code should use inst.pick(...).\n",
            "NOTE: pick_channels() is a legacy function. New code should use inst.pick(...).\n"
          ]
        },
        {
          "output_type": "stream",
          "name": "stderr",
          "text": [
            "/tmp/ipython-input-839818290.py:14: RuntimeWarning: The data contains 'boundary' events, indicating data discontinuities. Be cautious of filtering and epoching around these events.\n",
            "  raw = mne.io.read_raw_eeglab(filepath, preload=True)\n"
          ]
        },
        {
          "output_type": "stream",
          "name": "stdout",
          "text": [
            "NOTE: pick_channels() is a legacy function. New code should use inst.pick(...).\n"
          ]
        },
        {
          "output_type": "stream",
          "name": "stderr",
          "text": [
            "/tmp/ipython-input-839818290.py:14: RuntimeWarning: The data contains 'boundary' events, indicating data discontinuities. Be cautious of filtering and epoching around these events.\n",
            "  raw = mne.io.read_raw_eeglab(filepath, preload=True)\n"
          ]
        },
        {
          "output_type": "stream",
          "name": "stdout",
          "text": [
            "NOTE: pick_channels() is a legacy function. New code should use inst.pick(...).\n"
          ]
        },
        {
          "output_type": "stream",
          "name": "stderr",
          "text": [
            "/tmp/ipython-input-839818290.py:14: RuntimeWarning: The data contains 'boundary' events, indicating data discontinuities. Be cautious of filtering and epoching around these events.\n",
            "  raw = mne.io.read_raw_eeglab(filepath, preload=True)\n"
          ]
        },
        {
          "output_type": "stream",
          "name": "stdout",
          "text": [
            "NOTE: pick_channels() is a legacy function. New code should use inst.pick(...).\n"
          ]
        },
        {
          "output_type": "stream",
          "name": "stderr",
          "text": [
            "/tmp/ipython-input-839818290.py:14: RuntimeWarning: The data contains 'boundary' events, indicating data discontinuities. Be cautious of filtering and epoching around these events.\n",
            "  raw = mne.io.read_raw_eeglab(filepath, preload=True)\n"
          ]
        },
        {
          "output_type": "stream",
          "name": "stdout",
          "text": [
            "NOTE: pick_channels() is a legacy function. New code should use inst.pick(...).\n"
          ]
        },
        {
          "output_type": "stream",
          "name": "stderr",
          "text": [
            "/tmp/ipython-input-839818290.py:14: RuntimeWarning: The data contains 'boundary' events, indicating data discontinuities. Be cautious of filtering and epoching around these events.\n",
            "  raw = mne.io.read_raw_eeglab(filepath, preload=True)\n"
          ]
        },
        {
          "output_type": "stream",
          "name": "stdout",
          "text": [
            "NOTE: pick_channels() is a legacy function. New code should use inst.pick(...).\n"
          ]
        },
        {
          "output_type": "stream",
          "name": "stderr",
          "text": [
            "/tmp/ipython-input-839818290.py:14: RuntimeWarning: The data contains 'boundary' events, indicating data discontinuities. Be cautious of filtering and epoching around these events.\n",
            "  raw = mne.io.read_raw_eeglab(filepath, preload=True)\n"
          ]
        },
        {
          "output_type": "stream",
          "name": "stdout",
          "text": [
            "NOTE: pick_channels() is a legacy function. New code should use inst.pick(...).\n",
            "NOTE: pick_channels() is a legacy function. New code should use inst.pick(...).\n"
          ]
        },
        {
          "output_type": "stream",
          "name": "stderr",
          "text": [
            "/tmp/ipython-input-839818290.py:14: RuntimeWarning: The data contains 'boundary' events, indicating data discontinuities. Be cautious of filtering and epoching around these events.\n",
            "  raw = mne.io.read_raw_eeglab(filepath, preload=True)\n"
          ]
        },
        {
          "output_type": "stream",
          "name": "stdout",
          "text": [
            "NOTE: pick_channels() is a legacy function. New code should use inst.pick(...).\n"
          ]
        },
        {
          "output_type": "stream",
          "name": "stderr",
          "text": [
            "/tmp/ipython-input-839818290.py:14: RuntimeWarning: The data contains 'boundary' events, indicating data discontinuities. Be cautious of filtering and epoching around these events.\n",
            "  raw = mne.io.read_raw_eeglab(filepath, preload=True)\n"
          ]
        },
        {
          "output_type": "stream",
          "name": "stdout",
          "text": [
            "NOTE: pick_channels() is a legacy function. New code should use inst.pick(...).\n"
          ]
        },
        {
          "output_type": "stream",
          "name": "stderr",
          "text": [
            "/tmp/ipython-input-839818290.py:14: RuntimeWarning: The data contains 'boundary' events, indicating data discontinuities. Be cautious of filtering and epoching around these events.\n",
            "  raw = mne.io.read_raw_eeglab(filepath, preload=True)\n"
          ]
        },
        {
          "output_type": "stream",
          "name": "stdout",
          "text": [
            "NOTE: pick_channels() is a legacy function. New code should use inst.pick(...).\n"
          ]
        },
        {
          "output_type": "stream",
          "name": "stderr",
          "text": [
            "/tmp/ipython-input-839818290.py:14: RuntimeWarning: The data contains 'boundary' events, indicating data discontinuities. Be cautious of filtering and epoching around these events.\n",
            "  raw = mne.io.read_raw_eeglab(filepath, preload=True)\n"
          ]
        },
        {
          "output_type": "stream",
          "name": "stdout",
          "text": [
            "NOTE: pick_channels() is a legacy function. New code should use inst.pick(...).\n",
            "NOTE: pick_channels() is a legacy function. New code should use inst.pick(...).\n",
            "NOTE: pick_channels() is a legacy function. New code should use inst.pick(...).\n",
            "NOTE: pick_channels() is a legacy function. New code should use inst.pick(...).\n"
          ]
        },
        {
          "output_type": "stream",
          "name": "stderr",
          "text": [
            "/tmp/ipython-input-839818290.py:14: RuntimeWarning: The data contains 'boundary' events, indicating data discontinuities. Be cautious of filtering and epoching around these events.\n",
            "  raw = mne.io.read_raw_eeglab(filepath, preload=True)\n"
          ]
        },
        {
          "output_type": "stream",
          "name": "stdout",
          "text": [
            "NOTE: pick_channels() is a legacy function. New code should use inst.pick(...).\n"
          ]
        },
        {
          "output_type": "stream",
          "name": "stderr",
          "text": [
            "/tmp/ipython-input-839818290.py:14: RuntimeWarning: The data contains 'boundary' events, indicating data discontinuities. Be cautious of filtering and epoching around these events.\n",
            "  raw = mne.io.read_raw_eeglab(filepath, preload=True)\n"
          ]
        },
        {
          "output_type": "stream",
          "name": "stdout",
          "text": [
            "NOTE: pick_channels() is a legacy function. New code should use inst.pick(...).\n"
          ]
        },
        {
          "output_type": "stream",
          "name": "stderr",
          "text": [
            "/tmp/ipython-input-839818290.py:14: RuntimeWarning: The data contains 'boundary' events, indicating data discontinuities. Be cautious of filtering and epoching around these events.\n",
            "  raw = mne.io.read_raw_eeglab(filepath, preload=True)\n"
          ]
        },
        {
          "output_type": "stream",
          "name": "stdout",
          "text": [
            "NOTE: pick_channels() is a legacy function. New code should use inst.pick(...).\n"
          ]
        },
        {
          "output_type": "stream",
          "name": "stderr",
          "text": [
            "/tmp/ipython-input-839818290.py:14: RuntimeWarning: The data contains 'boundary' events, indicating data discontinuities. Be cautious of filtering and epoching around these events.\n",
            "  raw = mne.io.read_raw_eeglab(filepath, preload=True)\n"
          ]
        }
      ],
      "source": [
        "import mne\n",
        "\n",
        "# Define common_channels as all channels in the .set dataset (no .bdf dataset here)\n",
        "common_channels = channels_set\n",
        "\n",
        "# We will use the order from the .set dataset but only keep channels present in common_channels\n",
        "ordered_common_channels = [ch for ch in channels_set if ch in common_channels]\n",
        "\n",
        "print(\"Final channel order:\", ordered_common_channels)\n",
        "\n",
        "# Function to load and reorder channels\n",
        "def load_and_reorder(filepath, filetype, channel_order):\n",
        "    if filetype == \"set\":\n",
        "        raw = mne.io.read_raw_eeglab(filepath, preload=True)\n",
        "    else:\n",
        "        raise ValueError(\"Unsupported file type\")\n",
        "\n",
        "    # Pick only common channels and reorder\n",
        "    raw.pick_channels(channel_order)\n",
        "    raw.reorder_channels(channel_order)\n",
        "\n",
        "    return raw\n",
        "\n",
        "# Load all .set files in the same channel order\n",
        "all_set_data = [load_and_reorder(f, \"set\", ordered_common_channels) for f in set_files]\n",
        "\n",
        "# No .bdf loading or processing in this version\n"
      ]
    },
    {
      "cell_type": "markdown",
      "id": "b4ff6b49",
      "metadata": {
        "id": "b4ff6b49"
      },
      "source": [
        "## 4. checking if the order is same or not\n"
      ]
    },
    {
      "cell_type": "code",
      "execution_count": null,
      "id": "6525e002",
      "metadata": {
        "colab": {
          "base_uri": "https://localhost:8080/"
        },
        "id": "6525e002",
        "outputId": "e0654217-628e-4ec5-d4c0-9a5877652f18"
      },
      "outputs": [
        {
          "output_type": "stream",
          "name": "stdout",
          "text": [
            "\n",
            "SET file 1 channels:\n",
            "['Fp1', 'Fp2', 'F3', 'F4', 'C3', 'C4', 'P3', 'P4', 'O1', 'O2', 'F7', 'F8', 'Fz', 'Cz', 'Pz']\n",
            "\n",
            "SET file 2 channels:\n",
            "['Fp1', 'Fp2', 'F3', 'F4', 'C3', 'C4', 'P3', 'P4', 'O1', 'O2', 'F7', 'F8', 'Fz', 'Cz', 'Pz']\n",
            "\n",
            "SET file 3 channels:\n",
            "['Fp1', 'Fp2', 'F3', 'F4', 'C3', 'C4', 'P3', 'P4', 'O1', 'O2', 'F7', 'F8', 'Fz', 'Cz', 'Pz']\n",
            "\n",
            "BDF file 1 channels:\n",
            "['Fp1', 'Fp2', 'F3', 'F4', 'C3', 'C4', 'P3', 'P4', 'O1', 'O2', 'F7', 'F8', 'Fz', 'Cz', 'Pz']\n",
            "\n",
            "BDF file 2 channels:\n",
            "['Fp1', 'Fp2', 'F3', 'F4', 'C3', 'C4', 'P3', 'P4', 'O1', 'O2', 'F7', 'F8', 'Fz', 'Cz', 'Pz']\n",
            "\n",
            "BDF file 3 channels:\n",
            "['Fp1', 'Fp2', 'F3', 'F4', 'C3', 'C4', 'P3', 'P4', 'O1', 'O2', 'F7', 'F8', 'Fz', 'Cz', 'Pz']\n",
            "\n",
            "✅ Channel orders match for SET and BDF datasets.\n"
          ]
        }
      ],
      "source": [
        "# Check first 3 files from each dataset to verify channel order\n",
        "for i, raw_obj in enumerate(all_set_data[:3]):\n",
        "    print(f\"\\nSET file {i+1} channels:\")\n",
        "    print(raw_obj.info[\"ch_names\"])\n",
        "\n",
        "for i, raw_obj in enumerate(all_bdf_data[:3]):\n",
        "    print(f\"\\nBDF file {i+1} channels:\")\n",
        "    print(raw_obj.info[\"ch_names\"])\n",
        "\n",
        "# Final check: compare channel order between first SET and first BDF\n",
        "set_order = all_set_data[0].info[\"ch_names\"]\n",
        "bdf_order = all_bdf_data[0].info[\"ch_names\"]\n",
        "\n",
        "if set_order == bdf_order:\n",
        "    print(\"\\n✅ Channel orders match for SET and BDF datasets.\")\n",
        "else:\n",
        "    print(\"\\n❌ Channel orders do NOT match.\")\n",
        "    print(\"SET order:\", set_order)\n",
        "    print(\"BDF order:\", bdf_order)\n"
      ]
    },
    {
      "cell_type": "markdown",
      "id": "07f675f0",
      "metadata": {
        "id": "07f675f0"
      },
      "source": [
        "##5. checking the sampling freuquency"
      ]
    },
    {
      "cell_type": "markdown",
      "id": "ba4ed057",
      "metadata": {
        "id": "ba4ed057"
      },
      "source": [
        "## 6. Resampling"
      ]
    },
    {
      "cell_type": "code",
      "execution_count": 5,
      "id": "0e3a8981",
      "metadata": {
        "colab": {
          "base_uri": "https://localhost:8080/"
        },
        "id": "0e3a8981",
        "outputId": "7d5d105c-502b-459c-af02-73453bb6f8f4"
      },
      "outputs": [
        {
          "output_type": "stream",
          "name": "stdout",
          "text": [
            "Resampled .set file 1 to 128 Hz\n",
            "Resampled .set file 2 to 128 Hz\n",
            "Resampled .set file 3 to 128 Hz\n",
            "Resampled .set file 4 to 128 Hz\n",
            "Resampled .set file 5 to 128 Hz\n",
            "Resampled .set file 6 to 128 Hz\n",
            "Resampled .set file 7 to 128 Hz\n",
            "Resampled .set file 8 to 128 Hz\n",
            "Resampled .set file 9 to 128 Hz\n",
            "Resampled .set file 10 to 128 Hz\n",
            "Resampled .set file 11 to 128 Hz\n",
            "Resampled .set file 12 to 128 Hz\n",
            "Resampled .set file 13 to 128 Hz\n",
            "Resampled .set file 14 to 128 Hz\n",
            "Resampled .set file 15 to 128 Hz\n",
            "Resampled .set file 16 to 128 Hz\n",
            "Resampled .set file 17 to 128 Hz\n",
            "Resampled .set file 18 to 128 Hz\n",
            "Resampled .set file 19 to 128 Hz\n",
            "Resampled .set file 20 to 128 Hz\n",
            "Resampled .set file 21 to 128 Hz\n",
            "Resampled .set file 22 to 128 Hz\n",
            "Resampled .set file 23 to 128 Hz\n",
            "Resampled .set file 24 to 128 Hz\n",
            "Resampled .set file 25 to 128 Hz\n",
            "Resampled .set file 26 to 128 Hz\n",
            "Resampled .set file 27 to 128 Hz\n",
            "Resampled .set file 28 to 128 Hz\n",
            "Resampled .set file 29 to 128 Hz\n",
            "Resampled .set file 30 to 128 Hz\n",
            "Resampled .set file 31 to 128 Hz\n",
            "Resampled .set file 32 to 128 Hz\n",
            "Resampled .set file 33 to 128 Hz\n",
            "Resampled .set file 34 to 128 Hz\n",
            "Resampled .set file 35 to 128 Hz\n",
            "Resampled .set file 36 to 128 Hz\n",
            "Resampled .set file 37 to 128 Hz\n",
            "Resampled .set file 38 to 128 Hz\n",
            "Resampled .set file 39 to 128 Hz\n",
            "Resampled .set file 40 to 128 Hz\n",
            "Resampled .set file 41 to 128 Hz\n",
            "Resampled .set file 42 to 128 Hz\n",
            "Resampled .set file 43 to 128 Hz\n",
            "Resampled .set file 44 to 128 Hz\n",
            "Resampled .set file 45 to 128 Hz\n",
            "Resampled .set file 46 to 128 Hz\n",
            "Resampled .set file 47 to 128 Hz\n",
            "Resampled .set file 48 to 128 Hz\n",
            "Resampled .set file 49 to 128 Hz\n",
            "Resampled .set file 50 to 128 Hz\n",
            "Resampled .set file 51 to 128 Hz\n",
            "Resampled .set file 52 to 128 Hz\n",
            "Resampled .set file 53 to 128 Hz\n",
            "Resampled .set file 54 to 128 Hz\n",
            "Resampled .set file 55 to 128 Hz\n",
            "Resampled .set file 56 to 128 Hz\n",
            "Resampled .set file 57 to 128 Hz\n",
            "Resampled .set file 58 to 128 Hz\n",
            "Resampled .set file 59 to 128 Hz\n",
            "Resampled .set file 60 to 128 Hz\n",
            "Resampled .set file 61 to 128 Hz\n",
            "Resampled .set file 62 to 128 Hz\n",
            "Resampled .set file 63 to 128 Hz\n",
            "Resampled .set file 64 to 128 Hz\n",
            "Resampled .set file 65 to 128 Hz\n",
            "Resampled .set file 66 to 128 Hz\n",
            "Resampled .set file 67 to 128 Hz\n",
            "Resampled .set file 68 to 128 Hz\n",
            "Resampled .set file 69 to 128 Hz\n",
            "Resampled .set file 70 to 128 Hz\n",
            "Resampled .set file 71 to 128 Hz\n",
            "Resampled .set file 72 to 128 Hz\n",
            "Resampled .set file 73 to 128 Hz\n",
            "Resampled .set file 74 to 128 Hz\n",
            "Resampled .set file 75 to 128 Hz\n",
            "Resampled .set file 76 to 128 Hz\n",
            "Resampled .set file 77 to 128 Hz\n",
            "Resampled .set file 78 to 128 Hz\n",
            "Resampled .set file 79 to 128 Hz\n",
            "Resampled .set file 80 to 128 Hz\n",
            "Resampled .set file 81 to 128 Hz\n",
            "Resampled .set file 82 to 128 Hz\n",
            "Resampled .set file 83 to 128 Hz\n",
            "Resampled .set file 84 to 128 Hz\n",
            "Resampled .set file 85 to 128 Hz\n",
            "Resampled .set file 86 to 128 Hz\n",
            "Resampled .set file 87 to 128 Hz\n",
            "Resampled .set file 88 to 128 Hz\n"
          ]
        }
      ],
      "source": [
        "target_sfreq = 128  # Hz\n",
        "\n",
        "# Resample .set files\n",
        "for i, raw in enumerate(all_set_data):\n",
        "    if raw.info['sfreq'] != target_sfreq:\n",
        "        raw.resample(target_sfreq)\n",
        "        print(f\"Resampled .set file {i+1} to {target_sfreq} Hz\")\n",
        "\n",
        "\n"
      ]
    },
    {
      "cell_type": "markdown",
      "id": "a18de62e",
      "metadata": {
        "id": "a18de62e"
      },
      "source": [
        "##6. normalization\n"
      ]
    },
    {
      "cell_type": "code",
      "execution_count": 6,
      "id": "115942ef",
      "metadata": {
        "colab": {
          "base_uri": "https://localhost:8080/"
        },
        "id": "115942ef",
        "outputId": "40b62d38-95d5-4fd1-b381-d28f0f2dc17a"
      },
      "outputs": [
        {
          "output_type": "stream",
          "name": "stdout",
          "text": [
            "Minimum common length (time points): 39181\n",
            "✅ Dataset shape (raw): (88, 19, 39181)\n",
            "✅ Normalized dataset shape: (88, 19, 39181)\n",
            "💾 Saved normalized dataset as 'X_normalized.npy' (local + Google Drive)\n"
          ]
        }
      ],
      "source": [
        "import numpy as np\n",
        "\n",
        "# ===== 1️⃣ Shortest recording length =====\n",
        "min_times = min([raw.n_times for raw in all_set_data])\n",
        "print(f\"Minimum common length (time points): {min_times}\")\n",
        "\n",
        "# ===== 2️⃣ Combine dataset =====\n",
        "X_all = []\n",
        "\n",
        "for raw in all_set_data:\n",
        "    X_all.append(raw.get_data()[:, :min_times])\n",
        "\n",
        "X_all = np.array(X_all)  # (n_samples, n_channels, n_times)\n",
        "print(f\"✅ Dataset shape (raw): {X_all.shape}\")\n",
        "\n",
        "# ===== 3️⃣ Normalize per sample, per channel =====\n",
        "X_scaled = np.zeros_like(X_all, dtype=np.float32)\n",
        "\n",
        "for i in range(X_all.shape[0]):           # loop over samples\n",
        "    for ch in range(X_all.shape[1]):      # loop over channels\n",
        "        ch_data = X_all[i, ch, :]\n",
        "        mean = np.mean(ch_data)\n",
        "        std = np.std(ch_data)\n",
        "        if std > 0:   # avoid divide by zero\n",
        "            X_scaled[i, ch, :] = (ch_data - mean) / std\n",
        "        else:\n",
        "            X_scaled[i, ch, :] = ch_data - mean  # flat channel\n",
        "\n",
        "print(f\"✅ Normalized dataset shape: {X_scaled.shape}\")\n",
        "\n",
        "# ===== 4️⃣ Save ONLY normalized dataset =====\n",
        "np.save(\"X_normalized.npy\", X_scaled)\n",
        "np.save('/content/drive/MyDrive/X_normalized.npy', X_scaled)\n",
        "\n",
        "print(\"💾 Saved normalized dataset as 'X_normalized.npy' (local + Google Drive)\")\n"
      ]
    },
    {
      "cell_type": "code",
      "source": [
        "import numpy as np\n",
        "\n",
        "# Load normalized data\n",
        "X_normalized = np.load('/content/drive/MyDrive/X_normalized.npy')\n",
        "\n",
        "print(\"✅ X_normalized loaded\")\n",
        "print(\"Shape:\", X_normalized.shape)   # (n_samples, n_channels, n_times)\n",
        "print(\"Data type:\", X_normalized.dtype)\n",
        "\n",
        "# Check overall statistics\n",
        "print(\"\\n=== Statistics ===\")\n",
        "print(\"Min:\", np.min(X_normalized))\n",
        "print(\"Max:\", np.max(X_normalized))\n",
        "print(\"Mean:\", np.mean(X_normalized))\n",
        "print(\"Std Dev:\", np.std(X_normalized))\n",
        "\n",
        "# Check one sample (first recording)\n",
        "sample_idx = 0\n",
        "print(f\"\\n=== Sample {sample_idx} details ===\")\n",
        "print(\"Shape:\", X_normalized[sample_idx].shape)\n",
        "print(\"Mean:\", np.mean(X_normalized[sample_idx]))\n",
        "print(\"Std Dev:\", np.std(X_normalized[sample_idx]))\n",
        "\n",
        "# Check across channels for the first sample\n",
        "print(\"\\n=== First sample channel-wise stats ===\")\n",
        "for ch in range(min(5, X_normalized.shape[1])):  # show first 5 channels\n",
        "    ch_data = X_normalized[sample_idx, ch, :]\n",
        "    print(f\"Channel {ch}: mean={np.mean(ch_data):.4f}, std={np.std(ch_data):.4f}\")\n"
      ],
      "metadata": {
        "colab": {
          "base_uri": "https://localhost:8080/"
        },
        "id": "-saudAz18cgj",
        "outputId": "8dedd9a6-d9dc-48e5-82eb-803d22db3701"
      },
      "id": "-saudAz18cgj",
      "execution_count": 7,
      "outputs": [
        {
          "output_type": "stream",
          "name": "stdout",
          "text": [
            "✅ X_normalized loaded\n",
            "Shape: (88, 19, 39181)\n",
            "Data type: float32\n",
            "\n",
            "=== Statistics ===\n",
            "Min: -26.68645\n",
            "Max: 19.260849\n",
            "Mean: -1.5955076e-11\n",
            "Std Dev: 1.0000004\n",
            "\n",
            "=== Sample 0 details ===\n",
            "Shape: (19, 39181)\n",
            "Mean: -1.947218e-10\n",
            "Std Dev: 0.99999994\n",
            "\n",
            "=== First sample channel-wise stats ===\n",
            "Channel 0: mean=0.0000, std=1.0000\n",
            "Channel 1: mean=0.0000, std=1.0000\n",
            "Channel 2: mean=0.0000, std=1.0000\n",
            "Channel 3: mean=0.0000, std=1.0000\n",
            "Channel 4: mean=-0.0000, std=1.0000\n"
          ]
        }
      ]
    },
    {
      "cell_type": "markdown",
      "id": "379e1646",
      "metadata": {
        "id": "379e1646"
      },
      "source": []
    },
    {
      "cell_type": "code",
      "execution_count": 8,
      "id": "dfc56179",
      "metadata": {
        "colab": {
          "base_uri": "https://localhost:8080/"
        },
        "id": "dfc56179",
        "outputId": "7a5c042f-d88d-498e-8c2b-34b0e018971f"
      },
      "outputs": [
        {
          "output_type": "stream",
          "name": "stdout",
          "text": [
            "(88, 19, 39181)\n",
            "float32\n"
          ]
        }
      ],
      "source": [
        "import numpy as np\n",
        "\n",
        "# Load the .npy file\n",
        "data = np.load('/content/drive/MyDrive/X_normalized.npy')\n",
        "\n",
        "# Now you can inspect the 'data' variable\n",
        "# For example, to see its shape:\n",
        "print(data.shape)\n",
        "\n",
        "# To see its data type:\n",
        "print(data.dtype)"
      ]
    },
    {
      "cell_type": "markdown",
      "id": "24c0e743",
      "metadata": {
        "id": "24c0e743"
      },
      "source": [
        "## 9. Save Metrics & Plots"
      ]
    },
    {
      "cell_type": "code",
      "execution_count": 9,
      "id": "eab5e444",
      "metadata": {
        "colab": {
          "base_uri": "https://localhost:8080/"
        },
        "id": "eab5e444",
        "outputId": "5868ff9e-dbca-46ba-fb36-27e832ac6d7b"
      },
      "outputs": [
        {
          "output_type": "stream",
          "name": "stdout",
          "text": [
            "Sample 1 shape: (19, 39181)\n",
            "Sample 2 shape: (19, 39181)\n",
            "Sample 3 shape: (19, 39181)\n",
            "Sample 4 shape: (19, 39181)\n",
            "Sample 5 shape: (19, 39181)\n",
            "Sample 6 shape: (19, 39181)\n",
            "Sample 7 shape: (19, 39181)\n",
            "Sample 8 shape: (19, 39181)\n",
            "Sample 9 shape: (19, 39181)\n",
            "Sample 10 shape: (19, 39181)\n",
            "Sample 11 shape: (19, 39181)\n",
            "Sample 12 shape: (19, 39181)\n",
            "Sample 13 shape: (19, 39181)\n",
            "Sample 14 shape: (19, 39181)\n",
            "Sample 15 shape: (19, 39181)\n",
            "Sample 16 shape: (19, 39181)\n",
            "Sample 17 shape: (19, 39181)\n",
            "Sample 18 shape: (19, 39181)\n",
            "Sample 19 shape: (19, 39181)\n",
            "Sample 20 shape: (19, 39181)\n",
            "Sample 21 shape: (19, 39181)\n",
            "Sample 22 shape: (19, 39181)\n",
            "Sample 23 shape: (19, 39181)\n",
            "Sample 24 shape: (19, 39181)\n",
            "Sample 25 shape: (19, 39181)\n",
            "Sample 26 shape: (19, 39181)\n",
            "Sample 27 shape: (19, 39181)\n",
            "Sample 28 shape: (19, 39181)\n",
            "Sample 29 shape: (19, 39181)\n",
            "Sample 30 shape: (19, 39181)\n",
            "Sample 31 shape: (19, 39181)\n",
            "Sample 32 shape: (19, 39181)\n",
            "Sample 33 shape: (19, 39181)\n",
            "Sample 34 shape: (19, 39181)\n",
            "Sample 35 shape: (19, 39181)\n",
            "Sample 36 shape: (19, 39181)\n",
            "Sample 37 shape: (19, 39181)\n",
            "Sample 38 shape: (19, 39181)\n",
            "Sample 39 shape: (19, 39181)\n",
            "Sample 40 shape: (19, 39181)\n",
            "Sample 41 shape: (19, 39181)\n",
            "Sample 42 shape: (19, 39181)\n",
            "Sample 43 shape: (19, 39181)\n",
            "Sample 44 shape: (19, 39181)\n",
            "Sample 45 shape: (19, 39181)\n",
            "Sample 46 shape: (19, 39181)\n",
            "Sample 47 shape: (19, 39181)\n",
            "Sample 48 shape: (19, 39181)\n",
            "Sample 49 shape: (19, 39181)\n",
            "Sample 50 shape: (19, 39181)\n",
            "Sample 51 shape: (19, 39181)\n",
            "Sample 52 shape: (19, 39181)\n",
            "Sample 53 shape: (19, 39181)\n",
            "Sample 54 shape: (19, 39181)\n",
            "Sample 55 shape: (19, 39181)\n",
            "Sample 56 shape: (19, 39181)\n",
            "Sample 57 shape: (19, 39181)\n",
            "Sample 58 shape: (19, 39181)\n",
            "Sample 59 shape: (19, 39181)\n",
            "Sample 60 shape: (19, 39181)\n",
            "Sample 61 shape: (19, 39181)\n",
            "Sample 62 shape: (19, 39181)\n",
            "Sample 63 shape: (19, 39181)\n",
            "Sample 64 shape: (19, 39181)\n",
            "Sample 65 shape: (19, 39181)\n",
            "Sample 66 shape: (19, 39181)\n",
            "Sample 67 shape: (19, 39181)\n",
            "Sample 68 shape: (19, 39181)\n",
            "Sample 69 shape: (19, 39181)\n",
            "Sample 70 shape: (19, 39181)\n",
            "Sample 71 shape: (19, 39181)\n",
            "Sample 72 shape: (19, 39181)\n",
            "Sample 73 shape: (19, 39181)\n",
            "Sample 74 shape: (19, 39181)\n",
            "Sample 75 shape: (19, 39181)\n",
            "Sample 76 shape: (19, 39181)\n",
            "Sample 77 shape: (19, 39181)\n",
            "Sample 78 shape: (19, 39181)\n",
            "Sample 79 shape: (19, 39181)\n",
            "Sample 80 shape: (19, 39181)\n",
            "Sample 81 shape: (19, 39181)\n",
            "Sample 82 shape: (19, 39181)\n",
            "Sample 83 shape: (19, 39181)\n",
            "Sample 84 shape: (19, 39181)\n",
            "Sample 85 shape: (19, 39181)\n",
            "Sample 86 shape: (19, 39181)\n",
            "Sample 87 shape: (19, 39181)\n",
            "Sample 88 shape: (19, 39181)\n"
          ]
        }
      ],
      "source": [
        "for i, sample in enumerate(X_all):\n",
        "    print(f\"Sample {i+1} shape: {sample.shape}\")\n"
      ]
    },
    {
      "cell_type": "code",
      "execution_count": 10,
      "id": "owD2qzjsKPmx",
      "metadata": {
        "colab": {
          "base_uri": "https://localhost:8080/"
        },
        "id": "owD2qzjsKPmx",
        "outputId": "a1097e25-7d92-442c-997d-86413cd576c4"
      },
      "outputs": [
        {
          "output_type": "stream",
          "name": "stdout",
          "text": [
            "=== SET Metadata ===\n",
            "  participant_id Gender  Age Group  MMSE  label\n",
            "0        sub-001      F   57     A    16      1\n",
            "1        sub-002      F   78     A    22      1\n",
            "2        sub-003      M   70     A    14      1\n",
            "3        sub-004      F   67     A    20      1\n",
            "4        sub-005      M   70     A    22      1\n",
            "✅ Loaded normalized dataset: (88, 19, 39181)\n",
            "Missing from SET metadata: []\n",
            "✅ Labels shape: (88,)\n",
            "Class distribution:\n",
            " 1    59\n",
            "0    29\n",
            "Name: count, dtype: int64\n",
            "💾 Saved normalized X as 'X_normalized.npy', labels as 'y_all.npy', and ID-label mapping\n"
          ]
        }
      ],
      "source": [
        "import numpy as np\n",
        "import pandas as pd\n",
        "from pathlib import Path\n",
        "\n",
        "# ===== 1️⃣ Load participant metadata (only for .set dataset) =====\n",
        "df_set = pd.read_csv(\"/content/drive/MyDrive/EEG_Project/participants_set.tsv\", sep=\"\\t\")\n",
        "\n",
        "# Map groups to labels (patients=1, controls=0)\n",
        "group_map_set = {'A': 1, 'F': 1, 'C': 0}\n",
        "df_set[\"label\"] = df_set[\"Group\"].map(group_map_set)\n",
        "\n",
        "print(\"=== SET Metadata ===\")\n",
        "print(df_set.head())\n",
        "\n",
        "# ===== 2️⃣ Load normalized data =====\n",
        "X_normalized = np.load('/content/drive/MyDrive/X_normalized.npy')\n",
        "print(\"✅ Loaded normalized dataset:\", X_normalized.shape)\n",
        "\n",
        "# ===== 3️⃣ Match participant IDs with labels (only for .set data) =====\n",
        "ids_set = [Path(raw.filenames[0]).parts[-3] for raw in all_set_data]\n",
        "\n",
        "missing_set = [sid for sid in ids_set if sid not in df_set[\"participant_id\"].values]\n",
        "print(\"Missing from SET metadata:\", missing_set)\n",
        "\n",
        "# ===== 4️⃣ Build labels array (from .set only) =====\n",
        "y_all = []\n",
        "id_all = []\n",
        "\n",
        "for raw in all_set_data:\n",
        "    sid = Path(raw.filenames[0]).parts[-3]\n",
        "    label = df_set.loc[df_set[\"participant_id\"] == sid, \"label\"].values[0]\n",
        "    y_all.append(label)\n",
        "    id_all.append(sid)\n",
        "\n",
        "y_all = np.array(y_all)\n",
        "id_all = np.array(id_all)\n",
        "\n",
        "print(\"✅ Labels shape:\", y_all.shape)\n",
        "print(\"Class distribution:\\n\", pd.Series(y_all).value_counts())\n",
        "\n",
        "# ===== 5️⃣ Save labeled normalized dataset =====\n",
        "np.save(\"X_normalized.npy\", X_normalized)   # keep normalized data\n",
        "np.save(\"y_all.npy\", y_all)\n",
        "np.save('/content/drive/MyDrive/X_normalized.npy', X_normalized)\n",
        "np.save('/content/drive/MyDrive/y_all.npy', y_all)\n",
        "\n",
        "pd.DataFrame({\"ID\": id_all, \"label\": y_all}).to_csv(\"id_labels.csv\", index=False)\n",
        "\n",
        "print(\"💾 Saved normalized X as 'X_normalized.npy', labels as 'y_all.npy', and ID-label mapping\")\n"
      ]
    },
    {
      "cell_type": "markdown",
      "id": "fFmINOHgw1z5",
      "metadata": {
        "id": "fFmINOHgw1z5"
      },
      "source": []
    },
    {
      "cell_type": "code",
      "execution_count": 11,
      "id": "ep4gdVCWDIYy",
      "metadata": {
        "colab": {
          "base_uri": "https://localhost:8080/"
        },
        "id": "ep4gdVCWDIYy",
        "outputId": "bbc5bcea-26ba-43e3-974c-40d4851074e0"
      },
      "outputs": [
        {
          "output_type": "stream",
          "name": "stdout",
          "text": [
            "         ID  Label             Label_Name\n",
            "0   sub-005      1  Alzheimer/Dementia/PD\n",
            "1   sub-003      1  Alzheimer/Dementia/PD\n",
            "2   sub-001      1  Alzheimer/Dementia/PD\n",
            "3   sub-006      1  Alzheimer/Dementia/PD\n",
            "4   sub-004      1  Alzheimer/Dementia/PD\n",
            "..      ...    ...                    ...\n",
            "83  sub-084      1  Alzheimer/Dementia/PD\n",
            "84  sub-085      1  Alzheimer/Dementia/PD\n",
            "85  sub-086      1  Alzheimer/Dementia/PD\n",
            "86  sub-087      1  Alzheimer/Dementia/PD\n",
            "87  sub-088      1  Alzheimer/Dementia/PD\n",
            "\n",
            "[88 rows x 3 columns]\n",
            "💾 Saved to /content/drive/MyDrive/dataset_overview.csv\n",
            "\n",
            "Class distribution:\n",
            "Label_Name\n",
            "Alzheimer/Dementia/PD    59\n",
            "Healthy                  29\n",
            "Name: count, dtype: int64\n"
          ]
        }
      ],
      "source": [
        "import pandas as pd\n",
        "\n",
        "\n",
        "df_overview = pd.DataFrame({\n",
        "    \"ID\": id_all,\n",
        "    \"Label\": y_all\n",
        "})\n",
        "\n",
        "\n",
        "label_map = {0: \"Healthy\", 1: \"Alzheimer/Dementia/PD\"}\n",
        "df_overview[\"Label_Name\"] = df_overview[\"Label\"].map(label_map)\n",
        "\n",
        "\n",
        "print(df_overview)\n",
        "\n",
        "\n",
        "df_overview.to_csv(\"/content/drive/MyDrive/dataset_overview.csv\", index=False)\n",
        "print(\"💾 Saved to /content/drive/MyDrive/dataset_overview.csv\")\n",
        "\n",
        "print(\"\\nClass distribution:\")\n",
        "print(df_overview[\"Label_Name\"].value_counts())\n"
      ]
    },
    {
      "cell_type": "code",
      "execution_count": null,
      "id": "Fi41MKGOFq54",
      "metadata": {
        "colab": {
          "base_uri": "https://localhost:8080/"
        },
        "id": "Fi41MKGOFq54",
        "outputId": "c7c48329-32f1-42e5-da70-577ed5177570"
      },
      "outputs": [
        {
          "name": "stdout",
          "output_type": "stream",
          "text": [
            "Index 0: shape = (15, 23168)\n",
            "Index 1: shape = (15, 23168)\n",
            "Index 2: shape = (15, 23168)\n",
            "Index 3: shape = (15, 23168)\n",
            "Index 4: shape = (15, 23168)\n",
            "Index 5: shape = (15, 23168)\n",
            "Index 6: shape = (15, 23168)\n",
            "Index 7: shape = (15, 23168)\n",
            "Index 8: shape = (15, 23168)\n",
            "Index 9: shape = (15, 23168)\n",
            "Index 10: shape = (15, 23168)\n",
            "Index 11: shape = (15, 23168)\n",
            "Index 12: shape = (15, 23168)\n",
            "Index 13: shape = (15, 23168)\n",
            "Index 14: shape = (15, 23168)\n",
            "Index 15: shape = (15, 23168)\n",
            "Index 16: shape = (15, 23168)\n",
            "Index 17: shape = (15, 23168)\n",
            "Index 18: shape = (15, 23168)\n",
            "Index 19: shape = (15, 23168)\n",
            "Index 20: shape = (15, 23168)\n",
            "Index 21: shape = (15, 23168)\n",
            "Index 22: shape = (15, 23168)\n",
            "Index 23: shape = (15, 23168)\n",
            "Index 24: shape = (15, 23168)\n",
            "Index 25: shape = (15, 23168)\n",
            "Index 26: shape = (15, 23168)\n",
            "Index 27: shape = (15, 23168)\n",
            "Index 28: shape = (15, 23168)\n",
            "Index 29: shape = (15, 23168)\n",
            "Index 30: shape = (15, 23168)\n",
            "Index 31: shape = (15, 23168)\n",
            "Index 32: shape = (15, 23168)\n",
            "Index 33: shape = (15, 23168)\n",
            "Index 34: shape = (15, 23168)\n",
            "Index 35: shape = (15, 23168)\n",
            "Index 36: shape = (15, 23168)\n",
            "Index 37: shape = (15, 23168)\n",
            "Index 38: shape = (15, 23168)\n",
            "Index 39: shape = (15, 23168)\n",
            "Index 40: shape = (15, 23168)\n",
            "Index 41: shape = (15, 23168)\n",
            "Index 42: shape = (15, 23168)\n",
            "Index 43: shape = (15, 23168)\n",
            "Index 44: shape = (15, 23168)\n",
            "Index 45: shape = (15, 23168)\n",
            "Index 46: shape = (15, 23168)\n",
            "Index 47: shape = (15, 23168)\n",
            "Index 48: shape = (15, 23168)\n",
            "Index 49: shape = (15, 23168)\n",
            "Index 50: shape = (15, 23168)\n",
            "Index 51: shape = (15, 23168)\n",
            "Index 52: shape = (15, 23168)\n",
            "Index 53: shape = (15, 23168)\n",
            "Index 54: shape = (15, 23168)\n",
            "Index 55: shape = (15, 23168)\n",
            "Index 56: shape = (15, 23168)\n",
            "Index 57: shape = (15, 23168)\n",
            "Index 58: shape = (15, 23168)\n",
            "Index 59: shape = (15, 23168)\n",
            "Index 60: shape = (15, 23168)\n",
            "Index 61: shape = (15, 23168)\n",
            "Index 62: shape = (15, 23168)\n",
            "Index 63: shape = (15, 23168)\n",
            "Index 64: shape = (15, 23168)\n",
            "Index 65: shape = (15, 23168)\n",
            "Index 66: shape = (15, 23168)\n",
            "Index 67: shape = (15, 23168)\n",
            "Index 68: shape = (15, 23168)\n",
            "Index 69: shape = (15, 23168)\n",
            "Index 70: shape = (15, 23168)\n",
            "Index 71: shape = (15, 23168)\n",
            "Index 72: shape = (15, 23168)\n",
            "Index 73: shape = (15, 23168)\n",
            "Index 74: shape = (15, 23168)\n",
            "Index 75: shape = (15, 23168)\n",
            "Index 76: shape = (15, 23168)\n",
            "Index 77: shape = (15, 23168)\n",
            "Index 78: shape = (15, 23168)\n",
            "Index 79: shape = (15, 23168)\n",
            "Index 80: shape = (15, 23168)\n",
            "Index 81: shape = (15, 23168)\n",
            "Index 82: shape = (15, 23168)\n",
            "Index 83: shape = (15, 23168)\n",
            "Index 84: shape = (15, 23168)\n",
            "Index 85: shape = (15, 23168)\n",
            "Index 86: shape = (15, 23168)\n",
            "Index 87: shape = (15, 23168)\n",
            "Index 88: shape = (15, 23168)\n",
            "Index 89: shape = (15, 23168)\n",
            "Index 90: shape = (15, 23168)\n",
            "Index 91: shape = (15, 23168)\n",
            "Index 92: shape = (15, 23168)\n",
            "Index 93: shape = (15, 23168)\n",
            "Index 94: shape = (15, 23168)\n",
            "Index 95: shape = (15, 23168)\n",
            "Index 96: shape = (15, 23168)\n",
            "Index 97: shape = (15, 23168)\n",
            "Index 98: shape = (15, 23168)\n",
            "Index 99: shape = (15, 23168)\n",
            "Index 100: shape = (15, 23168)\n",
            "Index 101: shape = (15, 23168)\n",
            "Index 102: shape = (15, 23168)\n",
            "Index 103: shape = (15, 23168)\n",
            "Index 104: shape = (15, 23168)\n",
            "Index 105: shape = (15, 23168)\n",
            "Index 106: shape = (15, 23168)\n",
            "Index 107: shape = (15, 23168)\n",
            "Index 108: shape = (15, 23168)\n",
            "Index 109: shape = (15, 23168)\n",
            "Index 110: shape = (15, 23168)\n",
            "Index 111: shape = (15, 23168)\n",
            "Index 112: shape = (15, 23168)\n",
            "Index 113: shape = (15, 23168)\n",
            "Index 114: shape = (15, 23168)\n",
            "Index 115: shape = (15, 23168)\n",
            "Index 116: shape = (15, 23168)\n",
            "Index 117: shape = (15, 23168)\n",
            "Index 118: shape = (15, 23168)\n",
            "Index 119: shape = (15, 23168)\n",
            "Index 120: shape = (15, 23168)\n",
            "Index 121: shape = (15, 23168)\n",
            "Index 122: shape = (15, 23168)\n",
            "Index 123: shape = (15, 23168)\n",
            "Index 124: shape = (15, 23168)\n",
            "Index 125: shape = (15, 23168)\n",
            "Index 126: shape = (15, 23168)\n",
            "Index 127: shape = (15, 23168)\n",
            "Index 128: shape = (15, 23168)\n",
            "Index 129: shape = (15, 23168)\n",
            "Index 130: shape = (15, 23168)\n",
            "Index 131: shape = (15, 23168)\n",
            "Index 132: shape = (15, 23168)\n",
            "Index 133: shape = (15, 23168)\n"
          ]
        }
      ],
      "source": [
        "for i, arr in enumerate(X_all):\n",
        "    print(f\"Index {i}: shape = {np.array(arr).shape}\")\n"
      ]
    },
    {
      "cell_type": "code",
      "execution_count": 12,
      "id": "BQhCYyzY_UtP",
      "metadata": {
        "id": "BQhCYyzY_UtP"
      },
      "outputs": [],
      "source": [
        "import os\n",
        "import time\n",
        "import os, time, glob\n",
        "import numpy as np\n",
        "import pandas as pd\n",
        "import librosa as lb\n",
        "from tqdm import tqdm\n",
        "import seaborn as sns\n",
        "from scipy.io import loadmat\n",
        "from scipy.signal.windows import gaussian\n",
        "import matplotlib.pyplot as plt\n",
        "import tensorflow as tf\n",
        "from sklearn.model_selection import train_test_split\n",
        "from sklearn.preprocessing import OneHotEncoder, StandardScaler\n",
        "from sklearn import metrics\n",
        "from keras.regularizers import l2\n",
        "from tensorflow.random import set_seed\n",
        "from keras.models import Sequential\n",
        "from keras.layers import Dense, Dropout, Flatten, Conv2D, MaxPool2D, GlobalAveragePooling2D, AvgPool2D\n",
        "from keras import Model, Input\n",
        "from tensorflow.keras.optimizers import Adam\n",
        "from keras.models import load_model"
      ]
    },
    {
      "cell_type": "code",
      "execution_count": 13,
      "id": "6ok4rd1WD7F-",
      "metadata": {
        "colab": {
          "base_uri": "https://localhost:8080/"
        },
        "id": "6ok4rd1WD7F-",
        "outputId": "ee6d9e7e-5ce6-43ad-961f-c982f7c61cd2"
      },
      "outputs": [
        {
          "output_type": "stream",
          "name": "stdout",
          "text": [
            "✅ Data loaded\n",
            "X: (88, 19, 39181) y: (88,)\n",
            "✅ Final splits:\n",
            "Train: (52, 19, 39181) (52,)\n",
            "Val  : (18, 19, 39181) (18,)\n",
            "Test : (18, 19, 39181) (18,)\n",
            "\n",
            "Class distribution:\n",
            "Train: {1: 35, 0: 17}\n",
            "Val  : {1: 12, 0: 6}\n",
            "Test : {1: 12, 0: 6}\n"
          ]
        }
      ],
      "source": [
        "import numpy as np\n",
        "from sklearn.model_selection import train_test_split\n",
        "import pandas as pd\n",
        "\n",
        "# ===== 1️⃣ Load normalized data + labels =====\n",
        "X = np.load(\"/content/drive/MyDrive/X_normalized.npy\")   # (N, 15, 23168)\n",
        "y = np.load(\"/content/drive/MyDrive/y_all.npy\")          # (N,)\n",
        "\n",
        "print(\"✅ Data loaded\")\n",
        "print(\"X:\", X.shape, \"y:\", y.shape)\n",
        "\n",
        "# ===== 2️⃣ Split into train (60%) and temp (40%) =====\n",
        "X_train, X_temp, y_train, y_temp = train_test_split(\n",
        "    X, y, test_size=0.40, random_state=42, stratify=y\n",
        ")\n",
        "\n",
        "# ===== 3️⃣ Split temp into val (20%) and test (20%) =====\n",
        "# Note: test_size=0.5 → 0.5 * 0.40 = 0.20 overall\n",
        "X_val, X_test, y_val, y_test = train_test_split(\n",
        "    X_temp, y_temp, test_size=0.5, random_state=42, stratify=y_temp\n",
        ")\n",
        "\n",
        "print(\"✅ Final splits:\")\n",
        "print(\"Train:\", X_train.shape, y_train.shape)\n",
        "print(\"Val  :\", X_val.shape, y_val.shape)\n",
        "print(\"Test :\", X_test.shape, y_test.shape)\n",
        "\n",
        "# ===== 4️⃣ Check class balance =====\n",
        "print(\"\\nClass distribution:\")\n",
        "print(\"Train:\", pd.Series(y_train).value_counts().to_dict())\n",
        "print(\"Val  :\", pd.Series(y_val).value_counts().to_dict())\n",
        "print(\"Test :\", pd.Series(y_test).value_counts().to_dict())\n"
      ]
    },
    {
      "cell_type": "code",
      "execution_count": 14,
      "id": "TgSeMMv8-0R1",
      "metadata": {
        "id": "TgSeMMv8-0R1"
      },
      "outputs": [],
      "source": [
        "import torch\n",
        "import torch.nn as nn\n",
        "\n",
        "# Depthwise Separable Conv1d Block\n",
        "class DepthwiseSeparableConv1d(nn.Module):\n",
        "    def __init__(self, in_channels, out_channels, kernel_size, stride=1, padding=0, dropout=0.3):\n",
        "        super().__init__()\n",
        "        self.depthwise = nn.Conv1d(\n",
        "            in_channels, in_channels, kernel_size,\n",
        "            stride=stride, padding=padding, groups=in_channels\n",
        "        )\n",
        "        self.pointwise = nn.Conv1d(in_channels, out_channels, kernel_size=1)\n",
        "        self.bn = nn.BatchNorm1d(out_channels)\n",
        "        self.dropout = nn.Dropout(dropout)\n",
        "\n",
        "    def forward(self, x):\n",
        "        x = self.depthwise(x)\n",
        "        x = self.pointwise(x)\n",
        "        x = self.bn(x)\n",
        "        x = torch.tanh(x)\n",
        "        return self.dropout(x)\n",
        "\n",
        "\n",
        "class STEADYNet1D(nn.Module):\n",
        "    def __init__(self, num_classes=2, dropout=0.3):\n",
        "        super(STEADYNet1D, self).__init__()\n",
        "\n",
        "        # Input: (B, 15, 23168)\n",
        "        self.conv1 = nn.Conv1d(19, 32, kernel_size=7, stride=2, padding=3)\n",
        "        self.bn1   = nn.BatchNorm1d(32)\n",
        "\n",
        "        self.conv2 = nn.Conv1d(32, 64, kernel_size=5, stride=2, padding=2)\n",
        "        self.bn2   = nn.BatchNorm1d(64)\n",
        "\n",
        "        self.conv3 = nn.Conv1d(64, 128, kernel_size=3, stride=2, padding=1)\n",
        "        self.bn3   = nn.BatchNorm1d(128)\n",
        "\n",
        "        self.conv4 = nn.Conv1d(128, 256, kernel_size=3, stride=2, padding=1)\n",
        "        self.bn4   = nn.BatchNorm1d(256)\n",
        "\n",
        "        self.conv5 = nn.Conv1d(256, 512, kernel_size=3, stride=2, padding=1)\n",
        "        self.bn5   = nn.BatchNorm1d(512)\n",
        "\n",
        "        # Depthwise separable convolution (extra CNN layer with dropout)\n",
        "        self.conv6 = DepthwiseSeparableConv1d(512, 512, kernel_size=3, stride=1, padding=1, dropout=dropout)\n",
        "\n",
        "\n",
        "\n",
        "        # Dropout after convs\n",
        "        self.dropout = nn.Dropout(dropout)\n",
        "\n",
        "        # Adaptive pooling → fix sequence length\n",
        "        self.global_pool = nn.AdaptiveAvgPool1d(256)  # (B, 512, 256)\n",
        "\n",
        "        # GRU on temporal features\n",
        "        self.gru = nn.GRU(\n",
        "            input_size=512,\n",
        "            hidden_size=128,\n",
        "            batch_first=True,\n",
        "            bidirectional=True\n",
        "        )\n",
        "\n",
        "        # Classifier\n",
        "        self.fc = nn.Linear(128 * 2, num_classes)\n",
        "\n",
        "    def forward(self, x):\n",
        "        if x.dim() == 4 and x.shape[-1] == 1:\n",
        "            x = x.squeeze(-1)   # (B, 15, 23168)\n",
        "\n",
        "        # Standard CNN layers\n",
        "        x = torch.tanh(self.bn1(self.conv1(x)))\n",
        "        x = torch.tanh(self.bn2(self.conv2(x)))\n",
        "        x = torch.tanh(self.bn3(self.conv3(x)))\n",
        "        x = torch.tanh(self.bn4(self.conv4(x)))\n",
        "        x = torch.tanh(self.bn5(self.conv5(x)))\n",
        "\n",
        "        # Depthwise separable conv layer\n",
        "        x = self.conv6(x)\n",
        "\n",
        "\n",
        "\n",
        "        # Global pooling\n",
        "        x = self.global_pool(x)        # (B, 512, 256)\n",
        "\n",
        "        # Rearrange for GRU\n",
        "        x = x.permute(0, 2, 1)         # (B, 256, 512)\n",
        "\n",
        "        # GRU\n",
        "        out, _ = self.gru(x)           # (B, 256, 256)\n",
        "        out = out[:, -1, :]            # last timestep\n",
        "\n",
        "        # Classifier\n",
        "        return self.fc(out)"
      ]
    },
    {
      "cell_type": "code",
      "execution_count": 15,
      "id": "ElZOeCcJ-64d",
      "metadata": {
        "id": "ElZOeCcJ-64d"
      },
      "outputs": [],
      "source": [
        "class EEGDataset(torch.utils.data.Dataset):\n",
        "    def __init__(self, X, y):\n",
        "        self.X = torch.tensor(X, dtype=torch.float32)   # (N, 15, 23168)\n",
        "        self.y = torch.tensor(y, dtype=torch.long)\n",
        "\n",
        "    def __len__(self):\n",
        "        return len(self.X)\n",
        "\n",
        "    def __getitem__(self, idx):\n",
        "        return self.X[idx], self.y[idx]\n"
      ]
    },
    {
      "cell_type": "code",
      "execution_count": 16,
      "id": "Mfar5e00BhuA",
      "metadata": {
        "id": "Mfar5e00BhuA"
      },
      "outputs": [],
      "source": [
        "from torch.utils.data import DataLoader, WeightedRandomSampler\n",
        "batch_size = 128\n",
        "\n",
        "# Create datasets\n",
        "train_dataset = EEGDataset(X_train, y_train)\n",
        "val_dataset   = EEGDataset(X_val, y_val)\n",
        "test_dataset  = EEGDataset(X_test, y_test)\n",
        "\n",
        "# Create dataloaders\n",
        "train_loader = DataLoader(train_dataset, batch_size=batch_size, shuffle=True)\n",
        "val_loader   = DataLoader(val_dataset, batch_size=batch_size, shuffle=False)\n",
        "test_loader  = DataLoader(test_dataset, batch_size=batch_size, shuffle=False)\n"
      ]
    },
    {
      "cell_type": "code",
      "execution_count": 18,
      "id": "ukuVABdnAvXG",
      "metadata": {
        "colab": {
          "base_uri": "https://localhost:8080/",
          "height": 1000
        },
        "id": "ukuVABdnAvXG",
        "outputId": "2284c192-acc0-4380-d017-bb3bc4d92a86"
      },
      "outputs": [
        {
          "output_type": "stream",
          "name": "stdout",
          "text": [
            "Epoch [1/100]\n",
            "  Train Loss: 0.6757 | Train Acc: 0.6538\n",
            "  Val   Loss: 0.6954 | Val Acc: 0.6667\n",
            "  Test  Loss: 0.6910 | Test Acc: 0.6667\n",
            "✅ New best model saved (epoch 1, Test acc: 0.6667)\n",
            "Epoch [2/100]\n",
            "  Train Loss: 0.6893 | Train Acc: 0.5962\n",
            "  Val   Loss: 0.6982 | Val Acc: 0.3889\n",
            "  Test  Loss: 0.6860 | Test Acc: 0.7778\n",
            "Epoch [3/100]\n",
            "  Train Loss: 0.6851 | Train Acc: 0.5962\n",
            "  Val   Loss: 0.6994 | Val Acc: 0.4444\n",
            "  Test  Loss: 0.6794 | Test Acc: 0.7222\n",
            "Epoch [4/100]\n",
            "  Train Loss: 0.6930 | Train Acc: 0.5192\n",
            "  Val   Loss: 0.6980 | Val Acc: 0.4444\n",
            "  Test  Loss: 0.6754 | Test Acc: 0.6667\n",
            "Epoch [5/100]\n",
            "  Train Loss: 0.6886 | Train Acc: 0.4808\n",
            "  Val   Loss: 0.6968 | Val Acc: 0.5000\n",
            "  Test  Loss: 0.6745 | Test Acc: 0.7222\n",
            "Epoch [6/100]\n",
            "  Train Loss: 0.6940 | Train Acc: 0.5192\n",
            "  Val   Loss: 0.6962 | Val Acc: 0.4444\n",
            "  Test  Loss: 0.6752 | Test Acc: 0.7222\n",
            "Epoch [7/100]\n",
            "  Train Loss: 0.6717 | Train Acc: 0.6538\n",
            "  Val   Loss: 0.6962 | Val Acc: 0.4444\n",
            "  Test  Loss: 0.6763 | Test Acc: 0.7222\n",
            "Epoch [8/100]\n",
            "  Train Loss: 0.6855 | Train Acc: 0.5769\n",
            "  Val   Loss: 0.6963 | Val Acc: 0.4444\n",
            "  Test  Loss: 0.6767 | Test Acc: 0.6667\n",
            "Epoch [9/100]\n",
            "  Train Loss: 0.6899 | Train Acc: 0.5577\n",
            "  Val   Loss: 0.6962 | Val Acc: 0.4444\n",
            "  Test  Loss: 0.6770 | Test Acc: 0.6667\n",
            "Epoch [10/100]\n",
            "  Train Loss: 0.6646 | Train Acc: 0.7500\n",
            "  Val   Loss: 0.6980 | Val Acc: 0.4444\n",
            "  Test  Loss: 0.6775 | Test Acc: 0.6667\n",
            "Epoch [11/100]\n",
            "  Train Loss: 0.6597 | Train Acc: 0.7308\n",
            "  Val   Loss: 0.6979 | Val Acc: 0.4444\n",
            "  Test  Loss: 0.6773 | Test Acc: 0.6111\n",
            "Epoch [12/100]\n",
            "  Train Loss: 0.7000 | Train Acc: 0.5769\n",
            "  Val   Loss: 0.6982 | Val Acc: 0.4444\n",
            "  Test  Loss: 0.6773 | Test Acc: 0.6111\n",
            "Epoch [13/100]\n",
            "  Train Loss: 0.6677 | Train Acc: 0.6731\n",
            "  Val   Loss: 0.6987 | Val Acc: 0.4444\n",
            "  Test  Loss: 0.6781 | Test Acc: 0.6111\n",
            "Epoch [14/100]\n",
            "  Train Loss: 0.6862 | Train Acc: 0.6154\n",
            "  Val   Loss: 0.6997 | Val Acc: 0.4444\n",
            "  Test  Loss: 0.6783 | Test Acc: 0.6111\n",
            "Epoch [15/100]\n",
            "  Train Loss: 0.6492 | Train Acc: 0.7308\n",
            "  Val   Loss: 0.6999 | Val Acc: 0.4444\n",
            "  Test  Loss: 0.6783 | Test Acc: 0.6111\n",
            "Epoch [16/100]\n",
            "  Train Loss: 0.6688 | Train Acc: 0.5769\n",
            "  Val   Loss: 0.6999 | Val Acc: 0.4444\n",
            "  Test  Loss: 0.6785 | Test Acc: 0.6111\n",
            "Epoch [17/100]\n",
            "  Train Loss: 0.6598 | Train Acc: 0.6923\n",
            "  Val   Loss: 0.7002 | Val Acc: 0.4444\n",
            "  Test  Loss: 0.6783 | Test Acc: 0.6111\n",
            "Epoch [18/100]\n",
            "  Train Loss: 0.6504 | Train Acc: 0.7308\n",
            "  Val   Loss: 0.7001 | Val Acc: 0.4444\n",
            "  Test  Loss: 0.6783 | Test Acc: 0.6111\n",
            "Epoch [19/100]\n",
            "  Train Loss: 0.6640 | Train Acc: 0.6923\n",
            "  Val   Loss: 0.7008 | Val Acc: 0.3889\n",
            "  Test  Loss: 0.6786 | Test Acc: 0.6111\n",
            "Epoch [20/100]\n",
            "  Train Loss: 0.6887 | Train Acc: 0.5769\n",
            "  Val   Loss: 0.7009 | Val Acc: 0.3889\n",
            "  Test  Loss: 0.6786 | Test Acc: 0.6111\n",
            "Epoch [21/100]\n",
            "  Train Loss: 0.6647 | Train Acc: 0.7115\n",
            "  Val   Loss: 0.7010 | Val Acc: 0.3889\n",
            "  Test  Loss: 0.6784 | Test Acc: 0.6111\n",
            "Epoch [22/100]\n",
            "  Train Loss: 0.6655 | Train Acc: 0.6538\n",
            "  Val   Loss: 0.7012 | Val Acc: 0.3889\n",
            "  Test  Loss: 0.6781 | Test Acc: 0.6667\n",
            "Epoch [23/100]\n",
            "  Train Loss: 0.6925 | Train Acc: 0.5769\n",
            "  Val   Loss: 0.7013 | Val Acc: 0.3889\n",
            "  Test  Loss: 0.6784 | Test Acc: 0.6111\n",
            "Epoch [24/100]\n",
            "  Train Loss: 0.6765 | Train Acc: 0.5577\n",
            "  Val   Loss: 0.7014 | Val Acc: 0.3889\n",
            "  Test  Loss: 0.6782 | Test Acc: 0.6667\n",
            "Epoch [25/100]\n",
            "  Train Loss: 0.6632 | Train Acc: 0.6538\n",
            "  Val   Loss: 0.7014 | Val Acc: 0.3889\n",
            "  Test  Loss: 0.6784 | Test Acc: 0.6111\n",
            "Epoch [26/100]\n",
            "  Train Loss: 0.6682 | Train Acc: 0.5962\n",
            "  Val   Loss: 0.7018 | Val Acc: 0.3889\n",
            "  Test  Loss: 0.6786 | Test Acc: 0.6667\n",
            "Epoch [27/100]\n",
            "  Train Loss: 0.6873 | Train Acc: 0.5192\n",
            "  Val   Loss: 0.7018 | Val Acc: 0.3889\n",
            "  Test  Loss: 0.6783 | Test Acc: 0.6111\n",
            "Epoch [28/100]\n",
            "  Train Loss: 0.6831 | Train Acc: 0.6731\n",
            "  Val   Loss: 0.7018 | Val Acc: 0.3889\n",
            "  Test  Loss: 0.6786 | Test Acc: 0.6111\n",
            "Epoch [29/100]\n",
            "  Train Loss: 0.6672 | Train Acc: 0.6346\n",
            "  Val   Loss: 0.7013 | Val Acc: 0.3889\n",
            "  Test  Loss: 0.6787 | Test Acc: 0.6667\n",
            "Epoch [30/100]\n",
            "  Train Loss: 0.6618 | Train Acc: 0.6923\n",
            "  Val   Loss: 0.7015 | Val Acc: 0.3889\n",
            "  Test  Loss: 0.6786 | Test Acc: 0.6667\n",
            "Epoch [31/100]\n",
            "  Train Loss: 0.6551 | Train Acc: 0.6538\n",
            "  Val   Loss: 0.7013 | Val Acc: 0.3889\n",
            "  Test  Loss: 0.6785 | Test Acc: 0.6667\n",
            "Epoch [32/100]\n",
            "  Train Loss: 0.6644 | Train Acc: 0.6731\n",
            "  Val   Loss: 0.7017 | Val Acc: 0.3889\n",
            "  Test  Loss: 0.6789 | Test Acc: 0.6111\n",
            "Epoch [33/100]\n",
            "  Train Loss: 0.6647 | Train Acc: 0.6346\n",
            "  Val   Loss: 0.7020 | Val Acc: 0.3889\n",
            "  Test  Loss: 0.6790 | Test Acc: 0.6667\n",
            "Epoch [34/100]\n",
            "  Train Loss: 0.6725 | Train Acc: 0.6346\n",
            "  Val   Loss: 0.7014 | Val Acc: 0.3889\n",
            "  Test  Loss: 0.6784 | Test Acc: 0.6667\n",
            "Epoch [35/100]\n",
            "  Train Loss: 0.6774 | Train Acc: 0.5962\n",
            "  Val   Loss: 0.7017 | Val Acc: 0.3889\n",
            "  Test  Loss: 0.6785 | Test Acc: 0.6667\n",
            "Epoch [36/100]\n",
            "  Train Loss: 0.6433 | Train Acc: 0.7308\n",
            "  Val   Loss: 0.7016 | Val Acc: 0.3889\n",
            "  Test  Loss: 0.6789 | Test Acc: 0.6111\n",
            "Epoch [37/100]\n",
            "  Train Loss: 0.6673 | Train Acc: 0.6538\n",
            "  Val   Loss: 0.7014 | Val Acc: 0.3889\n",
            "  Test  Loss: 0.6788 | Test Acc: 0.6667\n",
            "Epoch [38/100]\n",
            "  Train Loss: 0.6889 | Train Acc: 0.5962\n",
            "  Val   Loss: 0.7018 | Val Acc: 0.3889\n",
            "  Test  Loss: 0.6788 | Test Acc: 0.6667\n",
            "Epoch [39/100]\n",
            "  Train Loss: 0.6758 | Train Acc: 0.5577\n",
            "  Val   Loss: 0.7021 | Val Acc: 0.3889\n",
            "  Test  Loss: 0.6789 | Test Acc: 0.6111\n",
            "Epoch [40/100]\n",
            "  Train Loss: 0.6546 | Train Acc: 0.7500\n",
            "  Val   Loss: 0.7016 | Val Acc: 0.3889\n",
            "  Test  Loss: 0.6791 | Test Acc: 0.6111\n",
            "Epoch [41/100]\n",
            "  Train Loss: 0.6565 | Train Acc: 0.6731\n",
            "  Val   Loss: 0.7018 | Val Acc: 0.3889\n",
            "  Test  Loss: 0.6791 | Test Acc: 0.6111\n",
            "Epoch [42/100]\n",
            "  Train Loss: 0.6853 | Train Acc: 0.5769\n",
            "  Val   Loss: 0.7021 | Val Acc: 0.3889\n",
            "  Test  Loss: 0.6793 | Test Acc: 0.6111\n",
            "Epoch [43/100]\n",
            "  Train Loss: 0.6693 | Train Acc: 0.5769\n",
            "  Val   Loss: 0.7022 | Val Acc: 0.3889\n",
            "  Test  Loss: 0.6793 | Test Acc: 0.6111\n",
            "Epoch [44/100]\n",
            "  Train Loss: 0.6764 | Train Acc: 0.7308\n",
            "  Val   Loss: 0.7018 | Val Acc: 0.3889\n",
            "  Test  Loss: 0.6791 | Test Acc: 0.6111\n",
            "Epoch [45/100]\n",
            "  Train Loss: 0.6755 | Train Acc: 0.7115\n",
            "  Val   Loss: 0.7018 | Val Acc: 0.3889\n",
            "  Test  Loss: 0.6792 | Test Acc: 0.6111\n",
            "Epoch [46/100]\n",
            "  Train Loss: 0.6642 | Train Acc: 0.6731\n",
            "  Val   Loss: 0.7020 | Val Acc: 0.3889\n",
            "  Test  Loss: 0.6793 | Test Acc: 0.6111\n",
            "Epoch [47/100]\n",
            "  Train Loss: 0.6700 | Train Acc: 0.6154\n",
            "  Val   Loss: 0.7018 | Val Acc: 0.3889\n",
            "  Test  Loss: 0.6790 | Test Acc: 0.6111\n",
            "Epoch [48/100]\n",
            "  Train Loss: 0.6824 | Train Acc: 0.6154\n",
            "  Val   Loss: 0.7021 | Val Acc: 0.3889\n",
            "  Test  Loss: 0.6790 | Test Acc: 0.6111\n",
            "Epoch [49/100]\n",
            "  Train Loss: 0.6767 | Train Acc: 0.6731\n",
            "  Val   Loss: 0.7017 | Val Acc: 0.3889\n",
            "  Test  Loss: 0.6789 | Test Acc: 0.6111\n",
            "Epoch [50/100]\n",
            "  Train Loss: 0.6650 | Train Acc: 0.7115\n",
            "  Val   Loss: 0.7019 | Val Acc: 0.3889\n",
            "  Test  Loss: 0.6788 | Test Acc: 0.6667\n",
            "Epoch [51/100]\n",
            "  Train Loss: 0.6722 | Train Acc: 0.6538\n",
            "  Val   Loss: 0.7021 | Val Acc: 0.3889\n",
            "  Test  Loss: 0.6786 | Test Acc: 0.6667\n",
            "Epoch [52/100]\n",
            "  Train Loss: 0.6595 | Train Acc: 0.6538\n",
            "  Val   Loss: 0.7022 | Val Acc: 0.3889\n",
            "  Test  Loss: 0.6789 | Test Acc: 0.6667\n",
            "Epoch [53/100]\n",
            "  Train Loss: 0.6634 | Train Acc: 0.6346\n",
            "  Val   Loss: 0.7022 | Val Acc: 0.3889\n",
            "  Test  Loss: 0.6788 | Test Acc: 0.6667\n",
            "Epoch [54/100]\n",
            "  Train Loss: 0.6711 | Train Acc: 0.6538\n",
            "  Val   Loss: 0.7020 | Val Acc: 0.3889\n",
            "  Test  Loss: 0.6790 | Test Acc: 0.6667\n",
            "Epoch [55/100]\n",
            "  Train Loss: 0.6566 | Train Acc: 0.6346\n",
            "  Val   Loss: 0.7018 | Val Acc: 0.3889\n",
            "  Test  Loss: 0.6787 | Test Acc: 0.6111\n",
            "Epoch [56/100]\n",
            "  Train Loss: 0.6558 | Train Acc: 0.7115\n",
            "  Val   Loss: 0.7017 | Val Acc: 0.3889\n",
            "  Test  Loss: 0.6789 | Test Acc: 0.6667\n",
            "Epoch [57/100]\n",
            "  Train Loss: 0.6686 | Train Acc: 0.6731\n",
            "  Val   Loss: 0.7013 | Val Acc: 0.3889\n",
            "  Test  Loss: 0.6786 | Test Acc: 0.6667\n",
            "Epoch [58/100]\n",
            "  Train Loss: 0.6629 | Train Acc: 0.6923\n",
            "  Val   Loss: 0.7016 | Val Acc: 0.3889\n",
            "  Test  Loss: 0.6789 | Test Acc: 0.6667\n",
            "Epoch [59/100]\n",
            "  Train Loss: 0.6770 | Train Acc: 0.5577\n",
            "  Val   Loss: 0.7014 | Val Acc: 0.3889\n",
            "  Test  Loss: 0.6785 | Test Acc: 0.6667\n",
            "Epoch [60/100]\n",
            "  Train Loss: 0.6377 | Train Acc: 0.7500\n",
            "  Val   Loss: 0.7015 | Val Acc: 0.3889\n",
            "  Test  Loss: 0.6783 | Test Acc: 0.6667\n",
            "Epoch [61/100]\n",
            "  Train Loss: 0.6533 | Train Acc: 0.7308\n",
            "  Val   Loss: 0.7023 | Val Acc: 0.3889\n",
            "  Test  Loss: 0.6789 | Test Acc: 0.6667\n",
            "Epoch [62/100]\n",
            "  Train Loss: 0.6686 | Train Acc: 0.5769\n",
            "  Val   Loss: 0.7018 | Val Acc: 0.3889\n",
            "  Test  Loss: 0.6786 | Test Acc: 0.6111\n",
            "Epoch [63/100]\n",
            "  Train Loss: 0.6805 | Train Acc: 0.5962\n",
            "  Val   Loss: 0.7018 | Val Acc: 0.3889\n",
            "  Test  Loss: 0.6786 | Test Acc: 0.6667\n",
            "Epoch [64/100]\n",
            "  Train Loss: 0.6888 | Train Acc: 0.5577\n",
            "  Val   Loss: 0.7016 | Val Acc: 0.3889\n",
            "  Test  Loss: 0.6783 | Test Acc: 0.6667\n",
            "Epoch [65/100]\n",
            "  Train Loss: 0.6870 | Train Acc: 0.5385\n",
            "  Val   Loss: 0.7013 | Val Acc: 0.3889\n",
            "  Test  Loss: 0.6784 | Test Acc: 0.6667\n",
            "Epoch [66/100]\n",
            "  Train Loss: 0.6512 | Train Acc: 0.6538\n",
            "  Val   Loss: 0.7017 | Val Acc: 0.3889\n",
            "  Test  Loss: 0.6782 | Test Acc: 0.6111\n",
            "Epoch [67/100]\n",
            "  Train Loss: 0.6801 | Train Acc: 0.6154\n",
            "  Val   Loss: 0.7016 | Val Acc: 0.3889\n",
            "  Test  Loss: 0.6787 | Test Acc: 0.6667\n",
            "Epoch [68/100]\n",
            "  Train Loss: 0.6635 | Train Acc: 0.6346\n",
            "  Val   Loss: 0.7018 | Val Acc: 0.3889\n",
            "  Test  Loss: 0.6787 | Test Acc: 0.6667\n",
            "Epoch [69/100]\n",
            "  Train Loss: 0.6647 | Train Acc: 0.6538\n",
            "  Val   Loss: 0.7017 | Val Acc: 0.3889\n",
            "  Test  Loss: 0.6787 | Test Acc: 0.6667\n",
            "Epoch [70/100]\n",
            "  Train Loss: 0.6813 | Train Acc: 0.6538\n",
            "  Val   Loss: 0.7017 | Val Acc: 0.3889\n",
            "  Test  Loss: 0.6785 | Test Acc: 0.6667\n",
            "Epoch [71/100]\n",
            "  Train Loss: 0.6728 | Train Acc: 0.6154\n",
            "  Val   Loss: 0.7019 | Val Acc: 0.3889\n",
            "  Test  Loss: 0.6787 | Test Acc: 0.6667\n",
            "Epoch [72/100]\n",
            "  Train Loss: 0.6636 | Train Acc: 0.6731\n",
            "  Val   Loss: 0.7027 | Val Acc: 0.3889\n",
            "  Test  Loss: 0.6792 | Test Acc: 0.6111\n",
            "Epoch [73/100]\n",
            "  Train Loss: 0.6702 | Train Acc: 0.5385\n",
            "  Val   Loss: 0.7025 | Val Acc: 0.3889\n",
            "  Test  Loss: 0.6789 | Test Acc: 0.6111\n",
            "Epoch [74/100]\n",
            "  Train Loss: 0.6819 | Train Acc: 0.5577\n",
            "  Val   Loss: 0.7023 | Val Acc: 0.3889\n",
            "  Test  Loss: 0.6788 | Test Acc: 0.6667\n",
            "Epoch [75/100]\n",
            "  Train Loss: 0.6918 | Train Acc: 0.5000\n",
            "  Val   Loss: 0.7020 | Val Acc: 0.3889\n",
            "  Test  Loss: 0.6794 | Test Acc: 0.6111\n",
            "Epoch [76/100]\n",
            "  Train Loss: 0.6601 | Train Acc: 0.6731\n",
            "  Val   Loss: 0.7022 | Val Acc: 0.3889\n",
            "  Test  Loss: 0.6792 | Test Acc: 0.6111\n",
            "Epoch [77/100]\n",
            "  Train Loss: 0.6658 | Train Acc: 0.6538\n",
            "  Val   Loss: 0.7022 | Val Acc: 0.3889\n",
            "  Test  Loss: 0.6790 | Test Acc: 0.6667\n",
            "Epoch [78/100]\n",
            "  Train Loss: 0.6697 | Train Acc: 0.6731\n",
            "  Val   Loss: 0.7023 | Val Acc: 0.3889\n",
            "  Test  Loss: 0.6789 | Test Acc: 0.6111\n",
            "Epoch [79/100]\n",
            "  Train Loss: 0.6578 | Train Acc: 0.6923\n",
            "  Val   Loss: 0.7018 | Val Acc: 0.3889\n",
            "  Test  Loss: 0.6791 | Test Acc: 0.6667\n",
            "Epoch [80/100]\n",
            "  Train Loss: 0.6556 | Train Acc: 0.7115\n",
            "  Val   Loss: 0.7019 | Val Acc: 0.3889\n",
            "  Test  Loss: 0.6791 | Test Acc: 0.6111\n",
            "Epoch [81/100]\n",
            "  Train Loss: 0.6482 | Train Acc: 0.7692\n",
            "  Val   Loss: 0.7019 | Val Acc: 0.3889\n",
            "  Test  Loss: 0.6790 | Test Acc: 0.6667\n",
            "Epoch [82/100]\n",
            "  Train Loss: 0.6598 | Train Acc: 0.7308\n",
            "  Val   Loss: 0.7024 | Val Acc: 0.3889\n",
            "  Test  Loss: 0.6788 | Test Acc: 0.6111\n",
            "Epoch [83/100]\n",
            "  Train Loss: 0.6579 | Train Acc: 0.8462\n",
            "  Val   Loss: 0.7025 | Val Acc: 0.3889\n",
            "  Test  Loss: 0.6789 | Test Acc: 0.6667\n",
            "Epoch [84/100]\n",
            "  Train Loss: 0.6672 | Train Acc: 0.7115\n",
            "  Val   Loss: 0.7026 | Val Acc: 0.3889\n",
            "  Test  Loss: 0.6791 | Test Acc: 0.6667\n",
            "Epoch [85/100]\n",
            "  Train Loss: 0.6676 | Train Acc: 0.6923\n",
            "  Val   Loss: 0.7019 | Val Acc: 0.3889\n",
            "  Test  Loss: 0.6787 | Test Acc: 0.6667\n",
            "Epoch [86/100]\n",
            "  Train Loss: 0.6501 | Train Acc: 0.6923\n",
            "  Val   Loss: 0.7021 | Val Acc: 0.3889\n",
            "  Test  Loss: 0.6790 | Test Acc: 0.6667\n",
            "Epoch [87/100]\n",
            "  Train Loss: 0.6616 | Train Acc: 0.6538\n",
            "  Val   Loss: 0.7019 | Val Acc: 0.3889\n",
            "  Test  Loss: 0.6788 | Test Acc: 0.6667\n",
            "Epoch [88/100]\n",
            "  Train Loss: 0.6706 | Train Acc: 0.6346\n",
            "  Val   Loss: 0.7026 | Val Acc: 0.3889\n",
            "  Test  Loss: 0.6793 | Test Acc: 0.6111\n",
            "Epoch [89/100]\n",
            "  Train Loss: 0.6554 | Train Acc: 0.6346\n",
            "  Val   Loss: 0.7028 | Val Acc: 0.3889\n",
            "  Test  Loss: 0.6793 | Test Acc: 0.6111\n",
            "Epoch [90/100]\n",
            "  Train Loss: 0.6728 | Train Acc: 0.6346\n",
            "  Val   Loss: 0.7026 | Val Acc: 0.3889\n",
            "  Test  Loss: 0.6792 | Test Acc: 0.6667\n",
            "Epoch [91/100]\n",
            "  Train Loss: 0.6673 | Train Acc: 0.6154\n",
            "  Val   Loss: 0.7027 | Val Acc: 0.3889\n",
            "  Test  Loss: 0.6793 | Test Acc: 0.6667\n",
            "Epoch [92/100]\n",
            "  Train Loss: 0.6803 | Train Acc: 0.5192\n",
            "  Val   Loss: 0.7024 | Val Acc: 0.3889\n",
            "  Test  Loss: 0.6791 | Test Acc: 0.6111\n",
            "Epoch [93/100]\n",
            "  Train Loss: 0.6528 | Train Acc: 0.7885\n",
            "  Val   Loss: 0.7022 | Val Acc: 0.3889\n",
            "  Test  Loss: 0.6793 | Test Acc: 0.6111\n",
            "Epoch [94/100]\n",
            "  Train Loss: 0.6673 | Train Acc: 0.6538\n",
            "  Val   Loss: 0.7024 | Val Acc: 0.3889\n",
            "  Test  Loss: 0.6795 | Test Acc: 0.6667\n",
            "Epoch [95/100]\n",
            "  Train Loss: 0.6694 | Train Acc: 0.6731\n",
            "  Val   Loss: 0.7028 | Val Acc: 0.3889\n",
            "  Test  Loss: 0.6796 | Test Acc: 0.5556\n",
            "Epoch [96/100]\n",
            "  Train Loss: 0.6517 | Train Acc: 0.7308\n",
            "  Val   Loss: 0.7026 | Val Acc: 0.3889\n",
            "  Test  Loss: 0.6791 | Test Acc: 0.6111\n",
            "Epoch [97/100]\n",
            "  Train Loss: 0.6629 | Train Acc: 0.7115\n",
            "  Val   Loss: 0.7022 | Val Acc: 0.3889\n",
            "  Test  Loss: 0.6790 | Test Acc: 0.6667\n",
            "Epoch [98/100]\n",
            "  Train Loss: 0.6615 | Train Acc: 0.7308\n",
            "  Val   Loss: 0.7026 | Val Acc: 0.3889\n",
            "  Test  Loss: 0.6790 | Test Acc: 0.6667\n",
            "Epoch [99/100]\n",
            "  Train Loss: 0.6592 | Train Acc: 0.6346\n",
            "  Val   Loss: 0.7028 | Val Acc: 0.3889\n",
            "  Test  Loss: 0.6792 | Test Acc: 0.6667\n",
            "Epoch [100/100]\n",
            "  Train Loss: 0.6629 | Train Acc: 0.6346\n",
            "  Val   Loss: 0.7020 | Val Acc: 0.3889\n",
            "  Test  Loss: 0.6792 | Test Acc: 0.6667\n",
            "\n",
            "🌟 Training finished.\n",
            "Best Model came from Epoch 1 with Val Acc: 0.6667\n",
            "Final Test Acc (best model): 0.6667\n"
          ]
        },
        {
          "output_type": "display_data",
          "data": {
            "text/plain": [
              "<Figure size 1200x500 with 3 Axes>"
            ],
            "image/png": "[encoded data removed]"
          },
          "metadata": {}
        }
      ],
      "source": [
        "import torch\n",
        "import torch.nn as nn\n",
        "import torch.optim as optim\n",
        "from torch.utils.data import DataLoader, WeightedRandomSampler\n",
        "import numpy as np\n",
        "import matplotlib.pyplot as plt\n",
        "from sklearn.model_selection import train_test_split\n",
        "\n",
        "# ---- Dataset class ----\n",
        "class EEGDataset(torch.utils.data.Dataset):\n",
        "    def __init__(self, X, y):\n",
        "        self.X = torch.tensor(X, dtype=torch.float32)\n",
        "        if y.ndim > 1:  # one-hot → class indices\n",
        "            y = np.argmax(y, axis=1)\n",
        "        self.y = torch.tensor(y, dtype=torch.long)\n",
        "\n",
        "    def __len__(self):\n",
        "        return len(self.X)\n",
        "\n",
        "    def __getitem__(self, idx):\n",
        "        return self.X[idx], self.y[idx]\n",
        "\n",
        "\n",
        "\n",
        "\n",
        "# Datasets\n",
        "train_dataset = EEGDataset(X_train, y_train)\n",
        "val_dataset   = EEGDataset(X_val, y_val)\n",
        "test_dataset  = EEGDataset(X_test, y_test)\n",
        "\n",
        "# Oversampling on training set\n",
        "y_train_labels = train_dataset.y.numpy()\n",
        "class_sample_counts = np.bincount(y_train_labels)\n",
        "weights = 1. / class_sample_counts\n",
        "sample_weights = [weights[t] for t in y_train_labels]\n",
        "sampler = WeightedRandomSampler(sample_weights, num_samples=len(sample_weights), replacement=True)\n",
        "\n",
        "# DataLoaders\n",
        "train_loader = DataLoader(train_dataset, batch_size=8, sampler=sampler)\n",
        "val_loader   = DataLoader(val_dataset, batch_size=8, shuffle=False)\n",
        "test_loader  = DataLoader(test_dataset, batch_size=8, shuffle=False)\n",
        "\n",
        "\n",
        "# ============================\n",
        "# 🔹 Model / Loss / Optimizer\n",
        "# ============================\n",
        "device = torch.device(\"cuda\" if torch.cuda.is_available() else \"cpu\")\n",
        "model = STEADYNet1D(num_classes=2, dropout=0.3).to(device)\n",
        "\n",
        "class_counts = torch.tensor(class_sample_counts, dtype=torch.float)\n",
        "class_weights = 1.0 / class_counts\n",
        "class_weights = class_weights / class_weights.sum()\n",
        "criterion = nn.CrossEntropyLoss(weight=class_weights.to(device))\n",
        "\n",
        "optimizer = optim.Adam(model.parameters(), lr=0.000001, weight_decay=0)\n",
        "scheduler = optim.lr_scheduler.ReduceLROnPlateau(optimizer, patience=5, factor=0.5)\n",
        "\n",
        "\n",
        "# ============================\n",
        "# 🔹 Train / Eval Functions\n",
        "# ============================\n",
        "def train_one_epoch(model, loader, criterion, optimizer, device):\n",
        "    model.train()\n",
        "    running_loss, correct, total = 0.0, 0, 0\n",
        "    for X, y in loader:\n",
        "        X, y = X.to(device), y.to(device)\n",
        "        optimizer.zero_grad()\n",
        "        outputs = model(X)\n",
        "        loss = criterion(outputs, y)\n",
        "        loss.backward()\n",
        "        optimizer.step()\n",
        "\n",
        "        running_loss += loss.item() * X.size(0)\n",
        "        _, preds = torch.max(outputs, 1)\n",
        "        correct += (preds == y).sum().item()\n",
        "        total += y.size(0)\n",
        "\n",
        "    return running_loss / total, correct / total\n",
        "\n",
        "\n",
        "def evaluate(model, loader, criterion, device):\n",
        "    model.eval()\n",
        "    running_loss, correct, total = 0.0, 0, 0\n",
        "    with torch.no_grad():\n",
        "        for X, y in loader:\n",
        "            X, y = X.to(device), y.to(device)\n",
        "            outputs = model(X)\n",
        "            loss = criterion(outputs, y)\n",
        "\n",
        "            running_loss += loss.item() * X.size(0)\n",
        "            _, preds = torch.max(outputs, 1)\n",
        "            correct += (preds == y).sum().item()\n",
        "            total += y.size(0)\n",
        "\n",
        "    return running_loss / total, correct / total\n",
        "\n",
        "# ============================\n",
        "# 🔹 Main Training Loop\n",
        "# ============================\n",
        "n_epochs = 100\n",
        "best_val_acc = 0.0\n",
        "best_epoch = 0\n",
        "best_model_path = \"best_model.pth\"\n",
        "\n",
        "train_losses, val_losses, test_losses = [], [], []\n",
        "train_accs, val_accs, test_accs = [], [], []\n",
        "\n",
        "for epoch in range(1, n_epochs + 1):\n",
        "    train_loss, train_acc = train_one_epoch(model, train_loader, criterion, optimizer, device)\n",
        "    val_loss, val_acc     = evaluate(model, val_loader, criterion, device)\n",
        "    test_loss, test_acc   = evaluate(model, test_loader, criterion, device)  # 🔹 added\n",
        "\n",
        "    scheduler.step(val_loss)\n",
        "\n",
        "    # Save history\n",
        "    train_losses.append(train_loss)\n",
        "    val_losses.append(val_loss)\n",
        "    test_losses.append(test_loss)\n",
        "    train_accs.append(train_acc)\n",
        "    val_accs.append(val_acc)\n",
        "    test_accs.append(test_acc)\n",
        "\n",
        "    # Print metrics\n",
        "    print(f\"Epoch [{epoch}/{n_epochs}]\")\n",
        "    print(f\"  Train Loss: {train_loss:.4f} | Train Acc: {train_acc:.4f}\")\n",
        "    print(f\"  Val   Loss: {val_loss:.4f} | Val Acc: {val_acc:.4f}\")\n",
        "    print(f\"  Test  Loss: {test_loss:.4f} | Test Acc: {test_acc:.4f}\")\n",
        "\n",
        "    # Save best model based on validation\n",
        "    if val_acc > best_val_acc:\n",
        "        best_val_acc = val_acc\n",
        "        best_epoch = epoch\n",
        "        torch.save(model.state_dict(), best_model_path)\n",
        "        print(f\"✅ New best model saved (epoch {epoch}, Test acc: {test_acc:.4f})\")\n",
        "\n",
        "# ============================\n",
        "# 🔹 Final Test Evaluation\n",
        "# ============================\n",
        "model.load_state_dict(torch.load(best_model_path))\n",
        "final_test_loss, final_test_acc = evaluate(model, test_loader, criterion, device)\n",
        "\n",
        "print(f\"\\n🌟 Training finished.\")\n",
        "print(f\"Best Model came from Epoch {best_epoch} with Val Acc: {best_val_acc:.4f}\")\n",
        "print(f\"Final Test Acc (best model): {final_test_acc:.4f}\")\n",
        "\n",
        "\n",
        "# ============================\n",
        "# 🔹 Plot metrics\n",
        "# ============================\n",
        "plt.figure(figsize=(12,5))\n",
        "plt.subplot(1,3,1)\n",
        "plt.plot(train_losses, label=\"Train Loss\")\n",
        "plt.plot(val_losses, label=\"Val Loss\")\n",
        "plt.plot(test_accs, label=\"Test Acc\")\n",
        "plt.xlabel(\"Epoch\")\n",
        "plt.ylabel(\"Loss\")\n",
        "plt.title(\"Loss over Epochs\")\n",
        "plt.legend()\n",
        "\n",
        "plt.subplot(1,3,2)\n",
        "plt.plot(train_accs, label=\"Train Acc\")\n",
        "plt.plot(val_accs, label=\"Val Acc\")\n",
        "plt.plot(test_accs, label=\"Test Acc\")\n",
        "plt.xlabel(\"Epoch\")\n",
        "plt.ylabel(\"Accuracy\")\n",
        "plt.title(\"Accuracy over Epochs\")\n",
        "plt.legend()\n",
        "\n",
        "plt.subplot(1,3,3)\n",
        "plt.plot(train_accs, label=\"Train Acc\")\n",
        "plt.plot(val_accs, label=\"Val Acc\")\n",
        "plt.plot(test_accs, label=\"Test Acc\")\n",
        "plt.xlabel(\"Epoch\")\n",
        "plt.ylabel(\"Accuracy\")\n",
        "plt.title(\"Accuracy over Epochs\")\n",
        "plt.legend()\n",
        "plt.show()\n"
      ]
    },
    {
      "cell_type": "code",
      "source": [
        "import torch\n",
        "import numpy as np\n",
        "from sklearn.metrics import (\n",
        "    classification_report,\n",
        "    confusion_matrix,\n",
        "    roc_auc_score,\n",
        "    accuracy_score\n",
        ")\n",
        "from statsmodels.stats.proportion import proportions_ztest\n",
        "\n",
        "# ============================\n",
        "# 🔹 Function: Evaluate Model in Detail\n",
        "# ============================\n",
        "def detailed_evaluation(model, loader, device):\n",
        "    model.eval()\n",
        "    all_preds, all_labels, all_probs = [], [], []\n",
        "\n",
        "    with torch.no_grad():\n",
        "        for X, y in loader:\n",
        "            X, y = X.to(device), y.to(device)\n",
        "            outputs = model(X)\n",
        "\n",
        "            probs = torch.softmax(outputs, dim=1)[:, 1].cpu().numpy()\n",
        "            preds = torch.argmax(outputs, dim=1).cpu().numpy()\n",
        "            labels = y.cpu().numpy()\n",
        "\n",
        "            all_preds.extend(preds)\n",
        "            all_labels.extend(labels)\n",
        "            all_probs.extend(probs)\n",
        "\n",
        "    all_preds = np.array(all_preds)\n",
        "    all_labels = np.array(all_labels)\n",
        "    all_probs = np.array(all_probs)\n",
        "\n",
        "    # ============================\n",
        "    # 🔹 Metrics\n",
        "    # ============================\n",
        "    print(\"\\n=== Classification Report ===\")\n",
        "    print(classification_report(all_labels, all_preds, digits=4))\n",
        "\n",
        "    print(\"\\n=== Confusion Matrix ===\")\n",
        "    print(confusion_matrix(all_labels, all_preds))\n",
        "\n",
        "    acc = accuracy_score(all_labels, all_preds)\n",
        "    auc = roc_auc_score(all_labels, all_probs)\n",
        "\n",
        "    print(f\"\\nAccuracy: {acc:.4f}\")\n",
        "    print(f\"ROC AUC : {auc:.4f}\")\n",
        "\n",
        "    # ============================\n",
        "    # 🔹 Statistical Test (p-value)\n",
        "    # ============================\n",
        "    # z-test for difference from random chance (0.5 accuracy)\n",
        "    successes = (all_preds == all_labels).sum()\n",
        "    n_obs = len(all_labels)\n",
        "    stat, pval = proportions_ztest(successes, n_obs, value=0.5)\n",
        "\n",
        "    print(\"\\n=== Statistical Significance Test ===\")\n",
        "    print(f\"z-statistic: {stat:.4f}, p-value: {pval:.6f}\")\n",
        "\n",
        "    return all_labels, all_preds, all_probs\n",
        "\n",
        "\n",
        "# ============================\n",
        "# 🔹 Run Evaluation\n",
        "# ============================\n",
        "# Use your test_loader after training\n",
        "labels, preds, probs = detailed_evaluation(model, test_loader, device)\n"
      ],
      "metadata": {
        "colab": {
          "base_uri": "https://localhost:8080/"
        },
        "id": "b1Hk78CKIZoy",
        "outputId": "e213a0cf-4fab-4b24-bb02-2611c4c6e627"
      },
      "id": "b1Hk78CKIZoy",
      "execution_count": 19,
      "outputs": [
        {
          "output_type": "stream",
          "name": "stdout",
          "text": [
            "\n",
            "=== Classification Report ===\n",
            "              precision    recall  f1-score   support\n",
            "\n",
            "           0     0.0000    0.0000    0.0000         6\n",
            "           1     0.6667    1.0000    0.8000        12\n",
            "\n",
            "    accuracy                         0.6667        18\n",
            "   macro avg     0.3333    0.5000    0.4000        18\n",
            "weighted avg     0.4444    0.6667    0.5333        18\n",
            "\n",
            "\n",
            "=== Confusion Matrix ===\n",
            "[[ 0  6]\n",
            " [ 0 12]]\n",
            "\n",
            "Accuracy: 0.6667\n",
            "ROC AUC : 0.6389\n",
            "\n",
            "=== Statistical Significance Test ===\n",
            "z-statistic: 1.5000, p-value: 0.133614\n"
          ]
        },
        {
          "output_type": "stream",
          "name": "stderr",
          "text": [
            "/usr/local/lib/python3.12/dist-packages/sklearn/metrics/_classification.py:1565: UndefinedMetricWarning: Precision is ill-defined and being set to 0.0 in labels with no predicted samples. Use `zero_division` parameter to control this behavior.\n",
            "  _warn_prf(average, modifier, f\"{metric.capitalize()} is\", len(result))\n",
            "/usr/local/lib/python3.12/dist-packages/sklearn/metrics/_classification.py:1565: UndefinedMetricWarning: Precision is ill-defined and being set to 0.0 in labels with no predicted samples. Use `zero_division` parameter to control this behavior.\n",
            "  _warn_prf(average, modifier, f\"{metric.capitalize()} is\", len(result))\n",
            "/usr/local/lib/python3.12/dist-packages/sklearn/metrics/_classification.py:1565: UndefinedMetricWarning: Precision is ill-defined and being set to 0.0 in labels with no predicted samples. Use `zero_division` parameter to control this behavior.\n",
            "  _warn_prf(average, modifier, f\"{metric.capitalize()} is\", len(result))\n"
          ]
        }
      ]
    },
    {
      "cell_type": "code",
      "execution_count": null,
      "id": "GOrFLWDeG40m",
      "metadata": {
        "id": "GOrFLWDeG40m",
        "colab": {
          "base_uri": "https://localhost:8080/",
          "height": 1000
        },
        "outputId": "2c28e7df-23d1-480a-dd4e-82ed02e85bcd"
      },
      "outputs": [
        {
          "output_type": "display_data",
          "data": {
            "text/plain": [
              "<Figure size 1200x500 with 2 Axes>"
            ],
            "image/png": "[encoded data removed]"
          },
          "metadata": {}
        },
        {
          "output_type": "stream",
          "name": "stdout",
          "text": [
            "=== Classification Report ===\n",
            "              precision    recall  f1-score   support\n",
            "\n",
            "           0     1.0000    0.8000    0.8889         5\n",
            "           1     0.8333    1.0000    0.9091         5\n",
            "\n",
            "    accuracy                         0.9000        10\n",
            "   macro avg     0.9167    0.9000    0.8990        10\n",
            "weighted avg     0.9167    0.9000    0.8990        10\n",
            "\n"
          ]
        },
        {
          "output_type": "display_data",
          "data": {
            "text/plain": [
              "<Figure size 600x500 with 2 Axes>"
            ],
            "image/png": "[encoded data removed]"
          },
          "metadata": {}
        },
        {
          "output_type": "display_data",
          "data": {
            "text/plain": [
              "<Figure size 600x500 with 1 Axes>"
            ],
            "image/png": "[encoded data removed]"
          },
          "metadata": {}
        },
        {
          "output_type": "display_data",
          "data": {
            "text/plain": [
              "<Figure size 600x500 with 1 Axes>"
            ],
            "image/png": "[encoded data removed]"
          },
          "metadata": {}
        }
      ],
      "source": [
        "import matplotlib.pyplot as plt\n",
        "import seaborn as sns\n",
        "from sklearn.metrics import (\n",
        "    classification_report, confusion_matrix, roc_curve, auc, precision_recall_curve\n",
        ")\n",
        "import numpy as np\n",
        "\n",
        "# === 1️⃣ Training Curves ===\n",
        "def plot_training_curves(train_losses, val_losses, train_accs, val_accs):\n",
        "    plt.figure(figsize=(12,5))\n",
        "\n",
        "    # Loss\n",
        "    plt.subplot(1,2,1)\n",
        "    plt.plot(train_losses, label=\"Train Loss\")\n",
        "    plt.plot(val_losses, label=\"Val Loss\")\n",
        "    plt.xlabel(\"Epochs\")\n",
        "    plt.ylabel(\"Loss\")\n",
        "    plt.title(\"Training vs Validation Loss\")\n",
        "    plt.legend()\n",
        "\n",
        "    # Accuracy\n",
        "    plt.subplot(1,2,2)\n",
        "    plt.plot(train_accs, label=\"Train Acc\")\n",
        "    plt.plot(val_accs, label=\"Val Acc\")\n",
        "    plt.xlabel(\"Epochs\")\n",
        "    plt.ylabel(\"Accuracy\")\n",
        "    plt.title(\"Training vs Validation Accuracy\")\n",
        "    plt.legend()\n",
        "\n",
        "    plt.tight_layout()\n",
        "    plt.show()\n",
        "\n",
        "\n",
        "# === 2️⃣ Confusion Matrix ===\n",
        "def plot_confusion_matrix(y_true, y_pred, labels=[0,1]):\n",
        "    cm = confusion_matrix(y_true, y_pred)\n",
        "    plt.figure(figsize=(6,5))\n",
        "    sns.heatmap(cm, annot=True, fmt=\"d\", cmap=\"Blues\",\n",
        "                xticklabels=labels, yticklabels=labels)\n",
        "    plt.xlabel(\"Predicted\")\n",
        "    plt.ylabel(\"True\")\n",
        "    plt.title(\"Confusion Matrix\")\n",
        "    plt.show()\n",
        "\n",
        "\n",
        "# === 3️⃣ ROC Curve ===\n",
        "def plot_roc(y_true, y_probs):\n",
        "    fpr, tpr, thresholds = roc_curve(y_true, y_probs)\n",
        "    roc_auc = auc(fpr, tpr)\n",
        "\n",
        "    plt.figure(figsize=(6,5))\n",
        "    plt.plot(fpr, tpr, label=f\"ROC Curve (AUC = {roc_auc:.3f})\")\n",
        "    plt.plot([0,1], [0,1], 'k--')\n",
        "    plt.xlabel(\"False Positive Rate\")\n",
        "    plt.ylabel(\"True Positive Rate\")\n",
        "    plt.title(\"Receiver Operating Characteristic (ROC)\")\n",
        "    plt.legend(loc=\"lower right\")\n",
        "    plt.show()\n",
        "\n",
        "\n",
        "# === 4️⃣ Precision-Recall Curve ===\n",
        "def plot_precision_recall(y_true, y_probs):\n",
        "    precision, recall, thresholds = precision_recall_curve(y_true, y_probs)\n",
        "    plt.figure(figsize=(6,5))\n",
        "    plt.plot(recall, precision, label=\"PR Curve\")\n",
        "    plt.xlabel(\"Recall\")\n",
        "    plt.ylabel(\"Precision\")\n",
        "    plt.title(\"Precision-Recall Curve\")\n",
        "    plt.legend()\n",
        "    plt.show()\n",
        "\n",
        "\n",
        "# === 5️⃣ Classification Report ===\n",
        "def print_classification_report(y_true, y_pred):\n",
        "    report = classification_report(y_true, y_pred, digits=4)\n",
        "    print(\"=== Classification Report ===\")\n",
        "    print(report)\n",
        "\n",
        "\n",
        "# ========================\n",
        "# ✅ Example Usage\n",
        "# ========================\n",
        "\n",
        "# Suppose these come from your training loop\n",
        "# (replace with your real arrays)\n",
        "train_losses = [0.9, 0.7, 0.5, 0.3]\n",
        "val_losses   = [1.0, 0.8, 0.6, 0.4]\n",
        "train_accs   = [0.6, 0.7, 0.8, 0.9]\n",
        "val_accs     = [0.55, 0.65, 0.75, 0.85]\n",
        "\n",
        "plot_training_curves(train_losses, val_losses, train_accs, val_accs)\n",
        "\n",
        "# Suppose you already have predictions from your model:\n",
        "# y_probs = model(X_test)   # predicted probabilities (numpy array)\n",
        "# y_pred = (y_probs >= 0.5).astype(int)\n",
        "# Here I’ll fake them for demo:\n",
        "\n",
        "y_true = np.array([0,0,1,1,0,1,0,1,1,0])   # true labels\n",
        "y_probs = np.array([0.2,0.6,0.8,0.9,0.4,0.7,0.3,0.65,0.85,0.1])  # predicted probs\n",
        "y_pred = (y_probs >= 0.5).astype(int)\n",
        "\n",
        "print_classification_report(y_true, y_pred)\n",
        "plot_confusion_matrix(y_true, y_pred)\n",
        "plot_roc(y_true, y_probs)\n",
        "plot_precision_recall(y_true, y_probs)\n"
      ]
    },
    {
      "cell_type": "code",
      "execution_count": null,
      "id": "8ba1a214",
      "metadata": {
        "id": "8ba1a214"
      },
      "outputs": [],
      "source": [
        "\n",
        "# ✅ Evaluate on Test Set\n",
        "def evaluate(model, loader, device):\n",
        "    model.eval()\n",
        "    correct = 0\n",
        "    total = 0\n",
        "    with torch.no_grad():\n",
        "        for X, y in loader:\n",
        "            X, y = X.to(device), y.to(device)\n",
        "            outputs = model(X)\n",
        "            _, predicted = torch.max(outputs, 1)\n",
        "            total += y.size(0)\n",
        "            correct += (predicted == y).sum().item()\n",
        "    return correct / total\n",
        "\n",
        "# Run evaluation on test set\n",
        "test_acc = evaluate(model, test_loader, device)\n",
        "print(f\"✅ Test Accuracy: {test_acc:.4f}\")\n"
      ]
    }
  ],
  "metadata": {
    "accelerator": "GPU",
    "colab": {
      "gpuType": "T4",
      "provenance": [],
      "include_colab_link": true
    },
    "kernelspec": {
      "display_name": "base",
      "language": "python",
      "name": "python3"
    },
    "language_info": {
      "name": "python",
      "version": "3.12.2"
    }
  },
  "nbformat": 4,
  "nbformat_minor": 5
}