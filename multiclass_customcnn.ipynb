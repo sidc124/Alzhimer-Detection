{
  "cells": [
    {
      "cell_type": "markdown",
      "metadata": {
        "id": "view-in-github",
        "colab_type": "text"
      },
      "source": [
        "<a href=\"https://colab.research.google.com/github/sidc124/Alzhimer-Detection/blob/main/multiclass_customcnn.ipynb\" target=\"_parent\"><img src=\"https://colab.research.google.com/assets/colab-badge.svg\" alt=\"Open In Colab\"/></a>"
      ]
    },
    {
      "cell_type": "markdown",
      "id": "f3d56c3c",
      "metadata": {
        "id": "f3d56c3c"
      },
      "source": [
        "# Alzheimer's vs. Dementia EEG Classification — End-to-End Deep Learning Pipeline\n",
        "\n",
        "This notebook implements the full pipeline you described:\n",
        "1) **Find common channels** across OpenNeuro datasets and align them  \n",
        "2) **Preprocess** (filtering, referencing, resampling)  \n",
        "3) **Segment** signals into fixed-size windows and **standardize shapes** (pad/crop)  \n",
        "4) **Build datasets** and loaders for train/val/test (subject-wise splits)  \n",
        "5) **Train baselines** (EEGNet) and a **custom hybrid model** that aims to outperform EEGNet  \n",
        "6) **Evaluate & cross-test** across datasets (train on one, test on the other)  \n",
        "7) **Result analysis** with metrics and confusion matrices"
      ]
    },
    {
      "cell_type": "markdown",
      "id": "3137d6a3",
      "metadata": {
        "id": "3137d6a3"
      },
      "source": [
        "## 1. Setup & Config"
      ]
    },
    {
      "cell_type": "code",
      "execution_count": 1,
      "id": "5cb2a71b",
      "metadata": {
        "colab": {
          "base_uri": "https://localhost:8080/"
        },
        "id": "5cb2a71b",
        "outputId": "683c859b-16ac-4ea9-e7fd-281c967a279d"
      },
      "outputs": [
        {
          "output_type": "stream",
          "name": "stdout",
          "text": [
            "Drive already mounted at /content/drive; to attempt to forcibly remount, call drive.mount(\"/content/drive\", force_remount=True).\n",
            "sub-hc1_ses-hc_task-rest_channels.tsv  sub-hc1_ses-hc_task-rest_eeg.json\n",
            "sub-hc1_ses-hc_task-rest_eeg.bdf       sub-hc1_ses-hc_task-rest_events.tsv\n",
            "Found 88 .set files\n",
            "Found 46 .bdf files\n",
            "Example .set file: /content/drive/MyDrive/EEG_Project/dataset_1/sub-005/eeg/sub-005_task-eyesclosed_eeg.set\n",
            "Example .bdf file: /content/drive/MyDrive/EEG_Project/dataset_2/sub-hc7/ses-hc/eeg/sub-hc7_ses-hc_task-rest_eeg.bdf\n"
          ]
        }
      ],
      "source": [
        "from google.colab import drive\n",
        "drive.mount('/content/drive')\n",
        "!ls \"/content/drive/MyDrive/EEG_Project/dataset_2/sub-hc1/ses-hc/eeg\"\n",
        "import glob\n",
        "import os\n",
        "\n",
        "# Base directory in Google Drive\n",
        "base_path = \"/content/drive/MyDrive/EEG_Project\"\n",
        "\n",
        "# Find all .set and .bdf files\n",
        "set_files = glob.glob(os.path.join(base_path, \"**\", \"*.set\"), recursive=True)\n",
        "bdf_files = glob.glob(os.path.join(base_path, \"**\", \"*.bdf\"), recursive=True)\n",
        "\n",
        "print(f\"Found {len(set_files)} .set files\")\n",
        "print(f\"Found {len(bdf_files)} .bdf files\")\n",
        "\n",
        "# Check a few results\n",
        "print(\"Example .set file:\", set_files[0] if set_files else \"None found\")\n",
        "print(\"Example .bdf file:\", bdf_files[0] if bdf_files else \"None found\")\n"
      ]
    },
    {
      "cell_type": "markdown",
      "id": "ca409b3b",
      "metadata": {
        "id": "ca409b3b"
      },
      "source": [
        "## 2. Channels finding and common channels"
      ]
    },
    {
      "cell_type": "code",
      "execution_count": 2,
      "id": "5bfd1174",
      "metadata": {
        "colab": {
          "base_uri": "https://localhost:8080/"
        },
        "id": "5bfd1174",
        "outputId": "2789181d-7b34-4120-fe91-a9a8b84de5ac"
      },
      "outputs": [
        {
          "output_type": "stream",
          "name": "stdout",
          "text": [
            "Requirement already satisfied: mne in /usr/local/lib/python3.12/dist-packages (1.10.2)\n",
            "Requirement already satisfied: decorator in /usr/local/lib/python3.12/dist-packages (from mne) (4.4.2)\n",
            "Requirement already satisfied: jinja2 in /usr/local/lib/python3.12/dist-packages (from mne) (3.1.6)\n",
            "Requirement already satisfied: lazy-loader>=0.3 in /usr/local/lib/python3.12/dist-packages (from mne) (0.4)\n",
            "Requirement already satisfied: matplotlib>=3.7 in /usr/local/lib/python3.12/dist-packages (from mne) (3.10.0)\n",
            "Requirement already satisfied: numpy<3,>=1.25 in /usr/local/lib/python3.12/dist-packages (from mne) (2.0.2)\n",
            "Requirement already satisfied: packaging in /usr/local/lib/python3.12/dist-packages (from mne) (25.0)\n",
            "Requirement already satisfied: pooch>=1.5 in /usr/local/lib/python3.12/dist-packages (from mne) (1.8.2)\n",
            "Requirement already satisfied: scipy>=1.11 in /usr/local/lib/python3.12/dist-packages (from mne) (1.16.2)\n",
            "Requirement already satisfied: tqdm in /usr/local/lib/python3.12/dist-packages (from mne) (4.67.1)\n",
            "Requirement already satisfied: contourpy>=1.0.1 in /usr/local/lib/python3.12/dist-packages (from matplotlib>=3.7->mne) (1.3.3)\n",
            "Requirement already satisfied: cycler>=0.10 in /usr/local/lib/python3.12/dist-packages (from matplotlib>=3.7->mne) (0.12.1)\n",
            "Requirement already satisfied: fonttools>=4.22.0 in /usr/local/lib/python3.12/dist-packages (from matplotlib>=3.7->mne) (4.60.1)\n",
            "Requirement already satisfied: kiwisolver>=1.3.1 in /usr/local/lib/python3.12/dist-packages (from matplotlib>=3.7->mne) (1.4.9)\n",
            "Requirement already satisfied: pillow>=8 in /usr/local/lib/python3.12/dist-packages (from matplotlib>=3.7->mne) (11.3.0)\n",
            "Requirement already satisfied: pyparsing>=2.3.1 in /usr/local/lib/python3.12/dist-packages (from matplotlib>=3.7->mne) (3.2.5)\n",
            "Requirement already satisfied: python-dateutil>=2.7 in /usr/local/lib/python3.12/dist-packages (from matplotlib>=3.7->mne) (2.9.0.post0)\n",
            "Requirement already satisfied: platformdirs>=2.5.0 in /usr/local/lib/python3.12/dist-packages (from pooch>=1.5->mne) (4.5.0)\n",
            "Requirement already satisfied: requests>=2.19.0 in /usr/local/lib/python3.12/dist-packages (from pooch>=1.5->mne) (2.32.4)\n",
            "Requirement already satisfied: MarkupSafe>=2.0 in /usr/local/lib/python3.12/dist-packages (from jinja2->mne) (3.0.3)\n",
            "Requirement already satisfied: six>=1.5 in /usr/local/lib/python3.12/dist-packages (from python-dateutil>=2.7->matplotlib>=3.7->mne) (1.17.0)\n",
            "Requirement already satisfied: charset_normalizer<4,>=2 in /usr/local/lib/python3.12/dist-packages (from requests>=2.19.0->pooch>=1.5->mne) (3.4.4)\n",
            "Requirement already satisfied: idna<4,>=2.5 in /usr/local/lib/python3.12/dist-packages (from requests>=2.19.0->pooch>=1.5->mne) (3.11)\n",
            "Requirement already satisfied: urllib3<3,>=1.21.1 in /usr/local/lib/python3.12/dist-packages (from requests>=2.19.0->pooch>=1.5->mne) (2.5.0)\n",
            "Requirement already satisfied: certifi>=2017.4.17 in /usr/local/lib/python3.12/dist-packages (from requests>=2.19.0->pooch>=1.5->mne) (2025.10.5)\n"
          ]
        },
        {
          "output_type": "stream",
          "name": "stderr",
          "text": [
            "/tmp/ipython-input-1621918465.py:9: RuntimeWarning: Data will be preloaded. preload=False or a string preload is not supported when the data is stored in the .set file\n",
            "  raw_set = mne.io.read_raw_eeglab(sample_set_file, preload=False)\n"
          ]
        },
        {
          "output_type": "stream",
          "name": "stdout",
          "text": [
            "Extracting EDF parameters from /content/drive/MyDrive/EEG_Project/dataset_2/sub-hc7/ses-hc/eeg/sub-hc7_ses-hc_task-rest_eeg.bdf...\n",
            "BDF file detected\n",
            "Setting channel info structure...\n",
            "Creating raw.info structure...\n",
            "Channels in .set dataset: ['Fp1', 'Fp2', 'F3', 'F4', 'C3', 'C4', 'P3', 'P4', 'O1', 'O2', 'F7', 'F8', 'T3', 'T4', 'T5', 'T6', 'Fz', 'Cz', 'Pz']\n",
            "Channels in .bdf dataset: ['Fp1', 'AF3', 'F7', 'F3', 'FC1', 'FC5', 'T7', 'C3', 'CP1', 'CP5', 'P7', 'P3', 'Pz', 'PO3', 'O1', 'Oz', 'O2', 'PO4', 'P4', 'P8', 'CP6', 'CP2', 'C4', 'T8', 'FC6', 'FC2', 'F4', 'F8', 'AF4', 'Fp2', 'Fz', 'Cz', 'EXG1', 'EXG2', 'EXG3', 'EXG4', 'EXG5', 'EXG6', 'EXG7', 'EXG8', 'Status']\n",
            "Number of common channels: 15\n",
            "Common channels: ['Fz', 'Fp2', 'Fp1', 'F3', 'F4', 'Cz', 'F7', 'P4', 'O1', 'O2', 'F8', 'C3', 'Pz', 'C4', 'P3']\n"
          ]
        }
      ],
      "source": [
        "\n",
        "!pip install mne\n",
        "import mne\n",
        "\n",
        "# Pick one file from each dataset\n",
        "sample_set_file = set_files[0]\n",
        "sample_bdf_file = bdf_files[0]\n",
        "\n",
        "# Load raw data without preprocessing\n",
        "raw_set = mne.io.read_raw_eeglab(sample_set_file, preload=False)\n",
        "raw_bdf = mne.io.read_raw_bdf(sample_bdf_file, preload=False)\n",
        "\n",
        "# Get channel names\n",
        "channels_set = raw_set.info[\"ch_names\"]\n",
        "channels_bdf = raw_bdf.info[\"ch_names\"]\n",
        "\n",
        "print(\"Channels in .set dataset:\", channels_set)\n",
        "print(\"Channels in .bdf dataset:\", channels_bdf)\n",
        "\n",
        "# Find common channels\n",
        "common_channels = list(set(channels_set).intersection(set(channels_bdf)))\n",
        "print(f\"Number of common channels: {len(common_channels)}\")\n",
        "print(\"Common channels:\", common_channels)\n"
      ]
    },
    {
      "cell_type": "markdown",
      "id": "149f88f1",
      "metadata": {
        "id": "149f88f1"
      },
      "source": [
        "## 3. reordering the dataset\n"
      ]
    },
    {
      "cell_type": "code",
      "execution_count": 3,
      "id": "d5ef836f",
      "metadata": {
        "colab": {
          "base_uri": "https://localhost:8080/"
        },
        "id": "d5ef836f",
        "outputId": "fa4cbe2e-4f40-4f69-fb0d-34fb9bc3e698"
      },
      "outputs": [
        {
          "output_type": "stream",
          "name": "stdout",
          "text": [
            "Final channel order: ['Fp1', 'Fp2', 'F3', 'F4', 'C3', 'C4', 'P3', 'P4', 'O1', 'O2', 'F7', 'F8', 'Fz', 'Cz', 'Pz']\n",
            "NOTE: pick_channels() is a legacy function. New code should use inst.pick(...).\n",
            "NOTE: pick_channels() is a legacy function. New code should use inst.pick(...).\n"
          ]
        },
        {
          "output_type": "stream",
          "name": "stderr",
          "text": [
            "/tmp/ipython-input-1251132072.py:11: RuntimeWarning: The data contains 'boundary' events, indicating data discontinuities. Be cautious of filtering and epoching around these events.\n",
            "  raw = mne.io.read_raw_eeglab(filepath, preload=True)\n"
          ]
        },
        {
          "output_type": "stream",
          "name": "stdout",
          "text": [
            "NOTE: pick_channels() is a legacy function. New code should use inst.pick(...).\n",
            "NOTE: pick_channels() is a legacy function. New code should use inst.pick(...).\n"
          ]
        },
        {
          "output_type": "stream",
          "name": "stderr",
          "text": [
            "/tmp/ipython-input-1251132072.py:11: RuntimeWarning: The data contains 'boundary' events, indicating data discontinuities. Be cautious of filtering and epoching around these events.\n",
            "  raw = mne.io.read_raw_eeglab(filepath, preload=True)\n"
          ]
        },
        {
          "output_type": "stream",
          "name": "stdout",
          "text": [
            "NOTE: pick_channels() is a legacy function. New code should use inst.pick(...).\n"
          ]
        },
        {
          "output_type": "stream",
          "name": "stderr",
          "text": [
            "/tmp/ipython-input-1251132072.py:11: RuntimeWarning: The data contains 'boundary' events, indicating data discontinuities. Be cautious of filtering and epoching around these events.\n",
            "  raw = mne.io.read_raw_eeglab(filepath, preload=True)\n"
          ]
        },
        {
          "output_type": "stream",
          "name": "stdout",
          "text": [
            "NOTE: pick_channels() is a legacy function. New code should use inst.pick(...).\n"
          ]
        },
        {
          "output_type": "stream",
          "name": "stderr",
          "text": [
            "/tmp/ipython-input-1251132072.py:11: RuntimeWarning: The data contains 'boundary' events, indicating data discontinuities. Be cautious of filtering and epoching around these events.\n",
            "  raw = mne.io.read_raw_eeglab(filepath, preload=True)\n"
          ]
        },
        {
          "output_type": "stream",
          "name": "stdout",
          "text": [
            "NOTE: pick_channels() is a legacy function. New code should use inst.pick(...).\n"
          ]
        },
        {
          "output_type": "stream",
          "name": "stderr",
          "text": [
            "/tmp/ipython-input-1251132072.py:11: RuntimeWarning: The data contains 'boundary' events, indicating data discontinuities. Be cautious of filtering and epoching around these events.\n",
            "  raw = mne.io.read_raw_eeglab(filepath, preload=True)\n"
          ]
        },
        {
          "output_type": "stream",
          "name": "stdout",
          "text": [
            "NOTE: pick_channels() is a legacy function. New code should use inst.pick(...).\n",
            "NOTE: pick_channels() is a legacy function. New code should use inst.pick(...).\n"
          ]
        },
        {
          "output_type": "stream",
          "name": "stderr",
          "text": [
            "/tmp/ipython-input-1251132072.py:11: RuntimeWarning: The data contains 'boundary' events, indicating data discontinuities. Be cautious of filtering and epoching around these events.\n",
            "  raw = mne.io.read_raw_eeglab(filepath, preload=True)\n"
          ]
        },
        {
          "output_type": "stream",
          "name": "stdout",
          "text": [
            "NOTE: pick_channels() is a legacy function. New code should use inst.pick(...).\n"
          ]
        },
        {
          "output_type": "stream",
          "name": "stderr",
          "text": [
            "/tmp/ipython-input-1251132072.py:11: RuntimeWarning: The data contains 'boundary' events, indicating data discontinuities. Be cautious of filtering and epoching around these events.\n",
            "  raw = mne.io.read_raw_eeglab(filepath, preload=True)\n"
          ]
        },
        {
          "output_type": "stream",
          "name": "stdout",
          "text": [
            "NOTE: pick_channels() is a legacy function. New code should use inst.pick(...).\n"
          ]
        },
        {
          "output_type": "stream",
          "name": "stderr",
          "text": [
            "/tmp/ipython-input-1251132072.py:11: RuntimeWarning: The data contains 'boundary' events, indicating data discontinuities. Be cautious of filtering and epoching around these events.\n",
            "  raw = mne.io.read_raw_eeglab(filepath, preload=True)\n"
          ]
        },
        {
          "output_type": "stream",
          "name": "stdout",
          "text": [
            "NOTE: pick_channels() is a legacy function. New code should use inst.pick(...).\n"
          ]
        },
        {
          "output_type": "stream",
          "name": "stderr",
          "text": [
            "/tmp/ipython-input-1251132072.py:11: RuntimeWarning: The data contains 'boundary' events, indicating data discontinuities. Be cautious of filtering and epoching around these events.\n",
            "  raw = mne.io.read_raw_eeglab(filepath, preload=True)\n"
          ]
        },
        {
          "output_type": "stream",
          "name": "stdout",
          "text": [
            "NOTE: pick_channels() is a legacy function. New code should use inst.pick(...).\n"
          ]
        },
        {
          "output_type": "stream",
          "name": "stderr",
          "text": [
            "/tmp/ipython-input-1251132072.py:11: RuntimeWarning: The data contains 'boundary' events, indicating data discontinuities. Be cautious of filtering and epoching around these events.\n",
            "  raw = mne.io.read_raw_eeglab(filepath, preload=True)\n"
          ]
        },
        {
          "output_type": "stream",
          "name": "stdout",
          "text": [
            "NOTE: pick_channels() is a legacy function. New code should use inst.pick(...).\n"
          ]
        },
        {
          "output_type": "stream",
          "name": "stderr",
          "text": [
            "/tmp/ipython-input-1251132072.py:11: RuntimeWarning: The data contains 'boundary' events, indicating data discontinuities. Be cautious of filtering and epoching around these events.\n",
            "  raw = mne.io.read_raw_eeglab(filepath, preload=True)\n"
          ]
        },
        {
          "output_type": "stream",
          "name": "stdout",
          "text": [
            "NOTE: pick_channels() is a legacy function. New code should use inst.pick(...).\n"
          ]
        },
        {
          "output_type": "stream",
          "name": "stderr",
          "text": [
            "/tmp/ipython-input-1251132072.py:11: RuntimeWarning: The data contains 'boundary' events, indicating data discontinuities. Be cautious of filtering and epoching around these events.\n",
            "  raw = mne.io.read_raw_eeglab(filepath, preload=True)\n"
          ]
        },
        {
          "output_type": "stream",
          "name": "stdout",
          "text": [
            "NOTE: pick_channels() is a legacy function. New code should use inst.pick(...).\n"
          ]
        },
        {
          "output_type": "stream",
          "name": "stderr",
          "text": [
            "/tmp/ipython-input-1251132072.py:11: RuntimeWarning: The data contains 'boundary' events, indicating data discontinuities. Be cautious of filtering and epoching around these events.\n",
            "  raw = mne.io.read_raw_eeglab(filepath, preload=True)\n"
          ]
        },
        {
          "output_type": "stream",
          "name": "stdout",
          "text": [
            "NOTE: pick_channels() is a legacy function. New code should use inst.pick(...).\n"
          ]
        },
        {
          "output_type": "stream",
          "name": "stderr",
          "text": [
            "/tmp/ipython-input-1251132072.py:11: RuntimeWarning: The data contains 'boundary' events, indicating data discontinuities. Be cautious of filtering and epoching around these events.\n",
            "  raw = mne.io.read_raw_eeglab(filepath, preload=True)\n"
          ]
        },
        {
          "output_type": "stream",
          "name": "stdout",
          "text": [
            "NOTE: pick_channels() is a legacy function. New code should use inst.pick(...).\n"
          ]
        },
        {
          "output_type": "stream",
          "name": "stderr",
          "text": [
            "/tmp/ipython-input-1251132072.py:11: RuntimeWarning: The data contains 'boundary' events, indicating data discontinuities. Be cautious of filtering and epoching around these events.\n",
            "  raw = mne.io.read_raw_eeglab(filepath, preload=True)\n"
          ]
        },
        {
          "output_type": "stream",
          "name": "stdout",
          "text": [
            "NOTE: pick_channels() is a legacy function. New code should use inst.pick(...).\n"
          ]
        },
        {
          "output_type": "stream",
          "name": "stderr",
          "text": [
            "/tmp/ipython-input-1251132072.py:11: RuntimeWarning: The data contains 'boundary' events, indicating data discontinuities. Be cautious of filtering and epoching around these events.\n",
            "  raw = mne.io.read_raw_eeglab(filepath, preload=True)\n"
          ]
        },
        {
          "output_type": "stream",
          "name": "stdout",
          "text": [
            "NOTE: pick_channels() is a legacy function. New code should use inst.pick(...).\n",
            "NOTE: pick_channels() is a legacy function. New code should use inst.pick(...).\n"
          ]
        },
        {
          "output_type": "stream",
          "name": "stderr",
          "text": [
            "/tmp/ipython-input-1251132072.py:11: RuntimeWarning: The data contains 'boundary' events, indicating data discontinuities. Be cautious of filtering and epoching around these events.\n",
            "  raw = mne.io.read_raw_eeglab(filepath, preload=True)\n"
          ]
        },
        {
          "output_type": "stream",
          "name": "stdout",
          "text": [
            "NOTE: pick_channels() is a legacy function. New code should use inst.pick(...).\n"
          ]
        },
        {
          "output_type": "stream",
          "name": "stderr",
          "text": [
            "/tmp/ipython-input-1251132072.py:11: RuntimeWarning: The data contains 'boundary' events, indicating data discontinuities. Be cautious of filtering and epoching around these events.\n",
            "  raw = mne.io.read_raw_eeglab(filepath, preload=True)\n"
          ]
        },
        {
          "output_type": "stream",
          "name": "stdout",
          "text": [
            "NOTE: pick_channels() is a legacy function. New code should use inst.pick(...).\n"
          ]
        },
        {
          "output_type": "stream",
          "name": "stderr",
          "text": [
            "/tmp/ipython-input-1251132072.py:11: RuntimeWarning: The data contains 'boundary' events, indicating data discontinuities. Be cautious of filtering and epoching around these events.\n",
            "  raw = mne.io.read_raw_eeglab(filepath, preload=True)\n"
          ]
        },
        {
          "output_type": "stream",
          "name": "stdout",
          "text": [
            "NOTE: pick_channels() is a legacy function. New code should use inst.pick(...).\n"
          ]
        },
        {
          "output_type": "stream",
          "name": "stderr",
          "text": [
            "/tmp/ipython-input-1251132072.py:11: RuntimeWarning: The data contains 'boundary' events, indicating data discontinuities. Be cautious of filtering and epoching around these events.\n",
            "  raw = mne.io.read_raw_eeglab(filepath, preload=True)\n"
          ]
        },
        {
          "output_type": "stream",
          "name": "stdout",
          "text": [
            "NOTE: pick_channels() is a legacy function. New code should use inst.pick(...).\n"
          ]
        },
        {
          "output_type": "stream",
          "name": "stderr",
          "text": [
            "/tmp/ipython-input-1251132072.py:11: RuntimeWarning: The data contains 'boundary' events, indicating data discontinuities. Be cautious of filtering and epoching around these events.\n",
            "  raw = mne.io.read_raw_eeglab(filepath, preload=True)\n"
          ]
        },
        {
          "output_type": "stream",
          "name": "stdout",
          "text": [
            "NOTE: pick_channels() is a legacy function. New code should use inst.pick(...).\n"
          ]
        },
        {
          "output_type": "stream",
          "name": "stderr",
          "text": [
            "/tmp/ipython-input-1251132072.py:11: RuntimeWarning: The data contains 'boundary' events, indicating data discontinuities. Be cautious of filtering and epoching around these events.\n",
            "  raw = mne.io.read_raw_eeglab(filepath, preload=True)\n"
          ]
        },
        {
          "output_type": "stream",
          "name": "stdout",
          "text": [
            "NOTE: pick_channels() is a legacy function. New code should use inst.pick(...).\n"
          ]
        },
        {
          "output_type": "stream",
          "name": "stderr",
          "text": [
            "/tmp/ipython-input-1251132072.py:11: RuntimeWarning: The data contains 'boundary' events, indicating data discontinuities. Be cautious of filtering and epoching around these events.\n",
            "  raw = mne.io.read_raw_eeglab(filepath, preload=True)\n"
          ]
        },
        {
          "output_type": "stream",
          "name": "stdout",
          "text": [
            "NOTE: pick_channels() is a legacy function. New code should use inst.pick(...).\n"
          ]
        },
        {
          "output_type": "stream",
          "name": "stderr",
          "text": [
            "/tmp/ipython-input-1251132072.py:11: RuntimeWarning: The data contains 'boundary' events, indicating data discontinuities. Be cautious of filtering and epoching around these events.\n",
            "  raw = mne.io.read_raw_eeglab(filepath, preload=True)\n",
            "/tmp/ipython-input-1251132072.py:11: RuntimeWarning: The data contains 'boundary' events, indicating data discontinuities. Be cautious of filtering and epoching around these events.\n",
            "  raw = mne.io.read_raw_eeglab(filepath, preload=True)\n"
          ]
        },
        {
          "output_type": "stream",
          "name": "stdout",
          "text": [
            "NOTE: pick_channels() is a legacy function. New code should use inst.pick(...).\n",
            "NOTE: pick_channels() is a legacy function. New code should use inst.pick(...).\n"
          ]
        },
        {
          "output_type": "stream",
          "name": "stderr",
          "text": [
            "/tmp/ipython-input-1251132072.py:11: RuntimeWarning: The data contains 'boundary' events, indicating data discontinuities. Be cautious of filtering and epoching around these events.\n",
            "  raw = mne.io.read_raw_eeglab(filepath, preload=True)\n"
          ]
        },
        {
          "output_type": "stream",
          "name": "stdout",
          "text": [
            "NOTE: pick_channels() is a legacy function. New code should use inst.pick(...).\n"
          ]
        },
        {
          "output_type": "stream",
          "name": "stderr",
          "text": [
            "/tmp/ipython-input-1251132072.py:11: RuntimeWarning: The data contains 'boundary' events, indicating data discontinuities. Be cautious of filtering and epoching around these events.\n",
            "  raw = mne.io.read_raw_eeglab(filepath, preload=True)\n"
          ]
        },
        {
          "output_type": "stream",
          "name": "stdout",
          "text": [
            "NOTE: pick_channels() is a legacy function. New code should use inst.pick(...).\n"
          ]
        },
        {
          "output_type": "stream",
          "name": "stderr",
          "text": [
            "/tmp/ipython-input-1251132072.py:11: RuntimeWarning: The data contains 'boundary' events, indicating data discontinuities. Be cautious of filtering and epoching around these events.\n",
            "  raw = mne.io.read_raw_eeglab(filepath, preload=True)\n"
          ]
        },
        {
          "output_type": "stream",
          "name": "stdout",
          "text": [
            "NOTE: pick_channels() is a legacy function. New code should use inst.pick(...).\n"
          ]
        },
        {
          "output_type": "stream",
          "name": "stderr",
          "text": [
            "/tmp/ipython-input-1251132072.py:11: RuntimeWarning: The data contains 'boundary' events, indicating data discontinuities. Be cautious of filtering and epoching around these events.\n",
            "  raw = mne.io.read_raw_eeglab(filepath, preload=True)\n"
          ]
        },
        {
          "output_type": "stream",
          "name": "stdout",
          "text": [
            "NOTE: pick_channels() is a legacy function. New code should use inst.pick(...).\n"
          ]
        },
        {
          "output_type": "stream",
          "name": "stderr",
          "text": [
            "/tmp/ipython-input-1251132072.py:11: RuntimeWarning: The data contains 'boundary' events, indicating data discontinuities. Be cautious of filtering and epoching around these events.\n",
            "  raw = mne.io.read_raw_eeglab(filepath, preload=True)\n"
          ]
        },
        {
          "output_type": "stream",
          "name": "stdout",
          "text": [
            "NOTE: pick_channels() is a legacy function. New code should use inst.pick(...).\n"
          ]
        },
        {
          "output_type": "stream",
          "name": "stderr",
          "text": [
            "/tmp/ipython-input-1251132072.py:11: RuntimeWarning: The data contains 'boundary' events, indicating data discontinuities. Be cautious of filtering and epoching around these events.\n",
            "  raw = mne.io.read_raw_eeglab(filepath, preload=True)\n"
          ]
        },
        {
          "output_type": "stream",
          "name": "stdout",
          "text": [
            "NOTE: pick_channels() is a legacy function. New code should use inst.pick(...).\n",
            "NOTE: pick_channels() is a legacy function. New code should use inst.pick(...).\n"
          ]
        },
        {
          "output_type": "stream",
          "name": "stderr",
          "text": [
            "/tmp/ipython-input-1251132072.py:11: RuntimeWarning: The data contains 'boundary' events, indicating data discontinuities. Be cautious of filtering and epoching around these events.\n",
            "  raw = mne.io.read_raw_eeglab(filepath, preload=True)\n"
          ]
        },
        {
          "output_type": "stream",
          "name": "stdout",
          "text": [
            "NOTE: pick_channels() is a legacy function. New code should use inst.pick(...).\n"
          ]
        },
        {
          "output_type": "stream",
          "name": "stderr",
          "text": [
            "/tmp/ipython-input-1251132072.py:11: RuntimeWarning: The data contains 'boundary' events, indicating data discontinuities. Be cautious of filtering and epoching around these events.\n",
            "  raw = mne.io.read_raw_eeglab(filepath, preload=True)\n"
          ]
        },
        {
          "output_type": "stream",
          "name": "stdout",
          "text": [
            "NOTE: pick_channels() is a legacy function. New code should use inst.pick(...).\n"
          ]
        },
        {
          "output_type": "stream",
          "name": "stderr",
          "text": [
            "/tmp/ipython-input-1251132072.py:11: RuntimeWarning: The data contains 'boundary' events, indicating data discontinuities. Be cautious of filtering and epoching around these events.\n",
            "  raw = mne.io.read_raw_eeglab(filepath, preload=True)\n"
          ]
        },
        {
          "output_type": "stream",
          "name": "stdout",
          "text": [
            "NOTE: pick_channels() is a legacy function. New code should use inst.pick(...).\n"
          ]
        },
        {
          "output_type": "stream",
          "name": "stderr",
          "text": [
            "/tmp/ipython-input-1251132072.py:11: RuntimeWarning: The data contains 'boundary' events, indicating data discontinuities. Be cautious of filtering and epoching around these events.\n",
            "  raw = mne.io.read_raw_eeglab(filepath, preload=True)\n"
          ]
        },
        {
          "output_type": "stream",
          "name": "stdout",
          "text": [
            "NOTE: pick_channels() is a legacy function. New code should use inst.pick(...).\n"
          ]
        },
        {
          "output_type": "stream",
          "name": "stderr",
          "text": [
            "/tmp/ipython-input-1251132072.py:11: RuntimeWarning: The data contains 'boundary' events, indicating data discontinuities. Be cautious of filtering and epoching around these events.\n",
            "  raw = mne.io.read_raw_eeglab(filepath, preload=True)\n"
          ]
        },
        {
          "output_type": "stream",
          "name": "stdout",
          "text": [
            "NOTE: pick_channels() is a legacy function. New code should use inst.pick(...).\n"
          ]
        },
        {
          "output_type": "stream",
          "name": "stderr",
          "text": [
            "/tmp/ipython-input-1251132072.py:11: RuntimeWarning: The data contains 'boundary' events, indicating data discontinuities. Be cautious of filtering and epoching around these events.\n",
            "  raw = mne.io.read_raw_eeglab(filepath, preload=True)\n"
          ]
        },
        {
          "output_type": "stream",
          "name": "stdout",
          "text": [
            "NOTE: pick_channels() is a legacy function. New code should use inst.pick(...).\n",
            "NOTE: pick_channels() is a legacy function. New code should use inst.pick(...).\n",
            "NOTE: pick_channels() is a legacy function. New code should use inst.pick(...).\n",
            "NOTE: pick_channels() is a legacy function. New code should use inst.pick(...).\n"
          ]
        },
        {
          "output_type": "stream",
          "name": "stderr",
          "text": [
            "/tmp/ipython-input-1251132072.py:11: RuntimeWarning: The data contains 'boundary' events, indicating data discontinuities. Be cautious of filtering and epoching around these events.\n",
            "  raw = mne.io.read_raw_eeglab(filepath, preload=True)\n",
            "/tmp/ipython-input-1251132072.py:11: RuntimeWarning: The data contains 'boundary' events, indicating data discontinuities. Be cautious of filtering and epoching around these events.\n",
            "  raw = mne.io.read_raw_eeglab(filepath, preload=True)\n"
          ]
        },
        {
          "output_type": "stream",
          "name": "stdout",
          "text": [
            "NOTE: pick_channels() is a legacy function. New code should use inst.pick(...).\n"
          ]
        },
        {
          "output_type": "stream",
          "name": "stderr",
          "text": [
            "/tmp/ipython-input-1251132072.py:11: RuntimeWarning: The data contains 'boundary' events, indicating data discontinuities. Be cautious of filtering and epoching around these events.\n",
            "  raw = mne.io.read_raw_eeglab(filepath, preload=True)\n"
          ]
        },
        {
          "output_type": "stream",
          "name": "stdout",
          "text": [
            "NOTE: pick_channels() is a legacy function. New code should use inst.pick(...).\n"
          ]
        },
        {
          "output_type": "stream",
          "name": "stderr",
          "text": [
            "/tmp/ipython-input-1251132072.py:11: RuntimeWarning: The data contains 'boundary' events, indicating data discontinuities. Be cautious of filtering and epoching around these events.\n",
            "  raw = mne.io.read_raw_eeglab(filepath, preload=True)\n"
          ]
        },
        {
          "output_type": "stream",
          "name": "stdout",
          "text": [
            "NOTE: pick_channels() is a legacy function. New code should use inst.pick(...).\n"
          ]
        },
        {
          "output_type": "stream",
          "name": "stderr",
          "text": [
            "/tmp/ipython-input-1251132072.py:11: RuntimeWarning: The data contains 'boundary' events, indicating data discontinuities. Be cautious of filtering and epoching around these events.\n",
            "  raw = mne.io.read_raw_eeglab(filepath, preload=True)\n"
          ]
        },
        {
          "output_type": "stream",
          "name": "stdout",
          "text": [
            "NOTE: pick_channels() is a legacy function. New code should use inst.pick(...).\n"
          ]
        },
        {
          "output_type": "stream",
          "name": "stderr",
          "text": [
            "/tmp/ipython-input-1251132072.py:11: RuntimeWarning: The data contains 'boundary' events, indicating data discontinuities. Be cautious of filtering and epoching around these events.\n",
            "  raw = mne.io.read_raw_eeglab(filepath, preload=True)\n",
            "/tmp/ipython-input-1251132072.py:11: RuntimeWarning: The data contains 'boundary' events, indicating data discontinuities. Be cautious of filtering and epoching around these events.\n",
            "  raw = mne.io.read_raw_eeglab(filepath, preload=True)\n"
          ]
        },
        {
          "output_type": "stream",
          "name": "stdout",
          "text": [
            "NOTE: pick_channels() is a legacy function. New code should use inst.pick(...).\n",
            "NOTE: pick_channels() is a legacy function. New code should use inst.pick(...).\n"
          ]
        },
        {
          "output_type": "stream",
          "name": "stderr",
          "text": [
            "/tmp/ipython-input-1251132072.py:11: RuntimeWarning: The data contains 'boundary' events, indicating data discontinuities. Be cautious of filtering and epoching around these events.\n",
            "  raw = mne.io.read_raw_eeglab(filepath, preload=True)\n"
          ]
        },
        {
          "output_type": "stream",
          "name": "stdout",
          "text": [
            "NOTE: pick_channels() is a legacy function. New code should use inst.pick(...).\n"
          ]
        },
        {
          "output_type": "stream",
          "name": "stderr",
          "text": [
            "/tmp/ipython-input-1251132072.py:11: RuntimeWarning: The data contains 'boundary' events, indicating data discontinuities. Be cautious of filtering and epoching around these events.\n",
            "  raw = mne.io.read_raw_eeglab(filepath, preload=True)\n"
          ]
        },
        {
          "output_type": "stream",
          "name": "stdout",
          "text": [
            "NOTE: pick_channels() is a legacy function. New code should use inst.pick(...).\n"
          ]
        },
        {
          "output_type": "stream",
          "name": "stderr",
          "text": [
            "/tmp/ipython-input-1251132072.py:11: RuntimeWarning: The data contains 'boundary' events, indicating data discontinuities. Be cautious of filtering and epoching around these events.\n",
            "  raw = mne.io.read_raw_eeglab(filepath, preload=True)\n"
          ]
        },
        {
          "output_type": "stream",
          "name": "stdout",
          "text": [
            "NOTE: pick_channels() is a legacy function. New code should use inst.pick(...).\n"
          ]
        },
        {
          "output_type": "stream",
          "name": "stderr",
          "text": [
            "/tmp/ipython-input-1251132072.py:11: RuntimeWarning: The data contains 'boundary' events, indicating data discontinuities. Be cautious of filtering and epoching around these events.\n",
            "  raw = mne.io.read_raw_eeglab(filepath, preload=True)\n"
          ]
        },
        {
          "output_type": "stream",
          "name": "stdout",
          "text": [
            "NOTE: pick_channels() is a legacy function. New code should use inst.pick(...).\n",
            "NOTE: pick_channels() is a legacy function. New code should use inst.pick(...).\n"
          ]
        },
        {
          "output_type": "stream",
          "name": "stderr",
          "text": [
            "/tmp/ipython-input-1251132072.py:11: RuntimeWarning: The data contains 'boundary' events, indicating data discontinuities. Be cautious of filtering and epoching around these events.\n",
            "  raw = mne.io.read_raw_eeglab(filepath, preload=True)\n"
          ]
        },
        {
          "output_type": "stream",
          "name": "stdout",
          "text": [
            "NOTE: pick_channels() is a legacy function. New code should use inst.pick(...).\n"
          ]
        },
        {
          "output_type": "stream",
          "name": "stderr",
          "text": [
            "/tmp/ipython-input-1251132072.py:11: RuntimeWarning: The data contains 'boundary' events, indicating data discontinuities. Be cautious of filtering and epoching around these events.\n",
            "  raw = mne.io.read_raw_eeglab(filepath, preload=True)\n"
          ]
        },
        {
          "output_type": "stream",
          "name": "stdout",
          "text": [
            "NOTE: pick_channels() is a legacy function. New code should use inst.pick(...).\n",
            "NOTE: pick_channels() is a legacy function. New code should use inst.pick(...).\n"
          ]
        },
        {
          "output_type": "stream",
          "name": "stderr",
          "text": [
            "/tmp/ipython-input-1251132072.py:11: RuntimeWarning: The data contains 'boundary' events, indicating data discontinuities. Be cautious of filtering and epoching around these events.\n",
            "  raw = mne.io.read_raw_eeglab(filepath, preload=True)\n",
            "/tmp/ipython-input-1251132072.py:11: RuntimeWarning: The data contains 'boundary' events, indicating data discontinuities. Be cautious of filtering and epoching around these events.\n",
            "  raw = mne.io.read_raw_eeglab(filepath, preload=True)\n"
          ]
        },
        {
          "output_type": "stream",
          "name": "stdout",
          "text": [
            "NOTE: pick_channels() is a legacy function. New code should use inst.pick(...).\n"
          ]
        },
        {
          "output_type": "stream",
          "name": "stderr",
          "text": [
            "/tmp/ipython-input-1251132072.py:11: RuntimeWarning: The data contains 'boundary' events, indicating data discontinuities. Be cautious of filtering and epoching around these events.\n",
            "  raw = mne.io.read_raw_eeglab(filepath, preload=True)\n"
          ]
        },
        {
          "output_type": "stream",
          "name": "stdout",
          "text": [
            "NOTE: pick_channels() is a legacy function. New code should use inst.pick(...).\n"
          ]
        },
        {
          "output_type": "stream",
          "name": "stderr",
          "text": [
            "/tmp/ipython-input-1251132072.py:11: RuntimeWarning: The data contains 'boundary' events, indicating data discontinuities. Be cautious of filtering and epoching around these events.\n",
            "  raw = mne.io.read_raw_eeglab(filepath, preload=True)\n"
          ]
        },
        {
          "output_type": "stream",
          "name": "stdout",
          "text": [
            "NOTE: pick_channels() is a legacy function. New code should use inst.pick(...).\n"
          ]
        },
        {
          "output_type": "stream",
          "name": "stderr",
          "text": [
            "/tmp/ipython-input-1251132072.py:11: RuntimeWarning: The data contains 'boundary' events, indicating data discontinuities. Be cautious of filtering and epoching around these events.\n",
            "  raw = mne.io.read_raw_eeglab(filepath, preload=True)\n"
          ]
        },
        {
          "output_type": "stream",
          "name": "stdout",
          "text": [
            "NOTE: pick_channels() is a legacy function. New code should use inst.pick(...).\n"
          ]
        },
        {
          "output_type": "stream",
          "name": "stderr",
          "text": [
            "/tmp/ipython-input-1251132072.py:11: RuntimeWarning: The data contains 'boundary' events, indicating data discontinuities. Be cautious of filtering and epoching around these events.\n",
            "  raw = mne.io.read_raw_eeglab(filepath, preload=True)\n"
          ]
        },
        {
          "output_type": "stream",
          "name": "stdout",
          "text": [
            "NOTE: pick_channels() is a legacy function. New code should use inst.pick(...).\n",
            "NOTE: pick_channels() is a legacy function. New code should use inst.pick(...).\n"
          ]
        },
        {
          "output_type": "stream",
          "name": "stderr",
          "text": [
            "/tmp/ipython-input-1251132072.py:11: RuntimeWarning: The data contains 'boundary' events, indicating data discontinuities. Be cautious of filtering and epoching around these events.\n",
            "  raw = mne.io.read_raw_eeglab(filepath, preload=True)\n"
          ]
        },
        {
          "output_type": "stream",
          "name": "stdout",
          "text": [
            "NOTE: pick_channels() is a legacy function. New code should use inst.pick(...).\n",
            "NOTE: pick_channels() is a legacy function. New code should use inst.pick(...).\n"
          ]
        },
        {
          "output_type": "stream",
          "name": "stderr",
          "text": [
            "/tmp/ipython-input-1251132072.py:11: RuntimeWarning: The data contains 'boundary' events, indicating data discontinuities. Be cautious of filtering and epoching around these events.\n",
            "  raw = mne.io.read_raw_eeglab(filepath, preload=True)\n"
          ]
        },
        {
          "output_type": "stream",
          "name": "stdout",
          "text": [
            "NOTE: pick_channels() is a legacy function. New code should use inst.pick(...).\n"
          ]
        },
        {
          "output_type": "stream",
          "name": "stderr",
          "text": [
            "/tmp/ipython-input-1251132072.py:11: RuntimeWarning: The data contains 'boundary' events, indicating data discontinuities. Be cautious of filtering and epoching around these events.\n",
            "  raw = mne.io.read_raw_eeglab(filepath, preload=True)\n"
          ]
        },
        {
          "output_type": "stream",
          "name": "stdout",
          "text": [
            "NOTE: pick_channels() is a legacy function. New code should use inst.pick(...).\n",
            "NOTE: pick_channels() is a legacy function. New code should use inst.pick(...).\n"
          ]
        },
        {
          "output_type": "stream",
          "name": "stderr",
          "text": [
            "/tmp/ipython-input-1251132072.py:11: RuntimeWarning: The data contains 'boundary' events, indicating data discontinuities. Be cautious of filtering and epoching around these events.\n",
            "  raw = mne.io.read_raw_eeglab(filepath, preload=True)\n"
          ]
        },
        {
          "output_type": "stream",
          "name": "stdout",
          "text": [
            "NOTE: pick_channels() is a legacy function. New code should use inst.pick(...).\n"
          ]
        },
        {
          "output_type": "stream",
          "name": "stderr",
          "text": [
            "/tmp/ipython-input-1251132072.py:11: RuntimeWarning: The data contains 'boundary' events, indicating data discontinuities. Be cautious of filtering and epoching around these events.\n",
            "  raw = mne.io.read_raw_eeglab(filepath, preload=True)\n"
          ]
        },
        {
          "output_type": "stream",
          "name": "stdout",
          "text": [
            "NOTE: pick_channels() is a legacy function. New code should use inst.pick(...).\n"
          ]
        },
        {
          "output_type": "stream",
          "name": "stderr",
          "text": [
            "/tmp/ipython-input-1251132072.py:11: RuntimeWarning: The data contains 'boundary' events, indicating data discontinuities. Be cautious of filtering and epoching around these events.\n",
            "  raw = mne.io.read_raw_eeglab(filepath, preload=True)\n"
          ]
        },
        {
          "output_type": "stream",
          "name": "stdout",
          "text": [
            "NOTE: pick_channels() is a legacy function. New code should use inst.pick(...).\n"
          ]
        },
        {
          "output_type": "stream",
          "name": "stderr",
          "text": [
            "/tmp/ipython-input-1251132072.py:11: RuntimeWarning: The data contains 'boundary' events, indicating data discontinuities. Be cautious of filtering and epoching around these events.\n",
            "  raw = mne.io.read_raw_eeglab(filepath, preload=True)\n"
          ]
        },
        {
          "output_type": "stream",
          "name": "stdout",
          "text": [
            "NOTE: pick_channels() is a legacy function. New code should use inst.pick(...).\n",
            "NOTE: pick_channels() is a legacy function. New code should use inst.pick(...).\n"
          ]
        },
        {
          "output_type": "stream",
          "name": "stderr",
          "text": [
            "/tmp/ipython-input-1251132072.py:11: RuntimeWarning: The data contains 'boundary' events, indicating data discontinuities. Be cautious of filtering and epoching around these events.\n",
            "  raw = mne.io.read_raw_eeglab(filepath, preload=True)\n",
            "/tmp/ipython-input-1251132072.py:11: RuntimeWarning: The data contains 'boundary' events, indicating data discontinuities. Be cautious of filtering and epoching around these events.\n",
            "  raw = mne.io.read_raw_eeglab(filepath, preload=True)\n"
          ]
        },
        {
          "output_type": "stream",
          "name": "stdout",
          "text": [
            "NOTE: pick_channels() is a legacy function. New code should use inst.pick(...).\n",
            "NOTE: pick_channels() is a legacy function. New code should use inst.pick(...).\n"
          ]
        },
        {
          "output_type": "stream",
          "name": "stderr",
          "text": [
            "/tmp/ipython-input-1251132072.py:11: RuntimeWarning: The data contains 'boundary' events, indicating data discontinuities. Be cautious of filtering and epoching around these events.\n",
            "  raw = mne.io.read_raw_eeglab(filepath, preload=True)\n"
          ]
        },
        {
          "output_type": "stream",
          "name": "stdout",
          "text": [
            "NOTE: pick_channels() is a legacy function. New code should use inst.pick(...).\n"
          ]
        },
        {
          "output_type": "stream",
          "name": "stderr",
          "text": [
            "/tmp/ipython-input-1251132072.py:11: RuntimeWarning: The data contains 'boundary' events, indicating data discontinuities. Be cautious of filtering and epoching around these events.\n",
            "  raw = mne.io.read_raw_eeglab(filepath, preload=True)\n"
          ]
        },
        {
          "output_type": "stream",
          "name": "stdout",
          "text": [
            "NOTE: pick_channels() is a legacy function. New code should use inst.pick(...).\n"
          ]
        },
        {
          "output_type": "stream",
          "name": "stderr",
          "text": [
            "/tmp/ipython-input-1251132072.py:11: RuntimeWarning: The data contains 'boundary' events, indicating data discontinuities. Be cautious of filtering and epoching around these events.\n",
            "  raw = mne.io.read_raw_eeglab(filepath, preload=True)\n"
          ]
        },
        {
          "output_type": "stream",
          "name": "stdout",
          "text": [
            "NOTE: pick_channels() is a legacy function. New code should use inst.pick(...).\n"
          ]
        },
        {
          "output_type": "stream",
          "name": "stderr",
          "text": [
            "/tmp/ipython-input-1251132072.py:11: RuntimeWarning: The data contains 'boundary' events, indicating data discontinuities. Be cautious of filtering and epoching around these events.\n",
            "  raw = mne.io.read_raw_eeglab(filepath, preload=True)\n"
          ]
        },
        {
          "output_type": "stream",
          "name": "stdout",
          "text": [
            "NOTE: pick_channels() is a legacy function. New code should use inst.pick(...).\n",
            "NOTE: pick_channels() is a legacy function. New code should use inst.pick(...).\n",
            "NOTE: pick_channels() is a legacy function. New code should use inst.pick(...).\n",
            "NOTE: pick_channels() is a legacy function. New code should use inst.pick(...).\n",
            "NOTE: pick_channels() is a legacy function. New code should use inst.pick(...).\n"
          ]
        },
        {
          "output_type": "stream",
          "name": "stderr",
          "text": [
            "/tmp/ipython-input-1251132072.py:11: RuntimeWarning: The data contains 'boundary' events, indicating data discontinuities. Be cautious of filtering and epoching around these events.\n",
            "  raw = mne.io.read_raw_eeglab(filepath, preload=True)\n",
            "/tmp/ipython-input-1251132072.py:11: RuntimeWarning: The data contains 'boundary' events, indicating data discontinuities. Be cautious of filtering and epoching around these events.\n",
            "  raw = mne.io.read_raw_eeglab(filepath, preload=True)\n"
          ]
        },
        {
          "output_type": "stream",
          "name": "stdout",
          "text": [
            "NOTE: pick_channels() is a legacy function. New code should use inst.pick(...).\n"
          ]
        },
        {
          "output_type": "stream",
          "name": "stderr",
          "text": [
            "/tmp/ipython-input-1251132072.py:11: RuntimeWarning: The data contains 'boundary' events, indicating data discontinuities. Be cautious of filtering and epoching around these events.\n",
            "  raw = mne.io.read_raw_eeglab(filepath, preload=True)\n"
          ]
        },
        {
          "output_type": "stream",
          "name": "stdout",
          "text": [
            "NOTE: pick_channels() is a legacy function. New code should use inst.pick(...).\n",
            "Extracting EDF parameters from /content/drive/MyDrive/EEG_Project/dataset_2/sub-hc7/ses-hc/eeg/sub-hc7_ses-hc_task-rest_eeg.bdf...\n",
            "BDF file detected\n",
            "Setting channel info structure...\n",
            "Creating raw.info structure...\n",
            "Reading 0 ... 98303  =      0.000 ...   191.998 secs...\n"
          ]
        },
        {
          "output_type": "stream",
          "name": "stderr",
          "text": [
            "/tmp/ipython-input-1251132072.py:11: RuntimeWarning: The data contains 'boundary' events, indicating data discontinuities. Be cautious of filtering and epoching around these events.\n",
            "  raw = mne.io.read_raw_eeglab(filepath, preload=True)\n"
          ]
        },
        {
          "output_type": "stream",
          "name": "stdout",
          "text": [
            "NOTE: pick_channels() is a legacy function. New code should use inst.pick(...).\n",
            "Extracting EDF parameters from /content/drive/MyDrive/EEG_Project/dataset_2/sub-hc1/ses-hc/eeg/sub-hc1_ses-hc_task-rest_eeg.bdf...\n",
            "BDF file detected\n",
            "Setting channel info structure...\n",
            "Creating raw.info structure...\n",
            "Reading 0 ... 98303  =      0.000 ...   191.998 secs...\n",
            "NOTE: pick_channels() is a legacy function. New code should use inst.pick(...).\n",
            "Extracting EDF parameters from /content/drive/MyDrive/EEG_Project/dataset_2/sub-hc2/ses-hc/eeg/sub-hc2_ses-hc_task-rest_eeg.bdf...\n",
            "BDF file detected\n",
            "Setting channel info structure...\n",
            "Creating raw.info structure...\n",
            "Reading 0 ... 99327  =      0.000 ...   193.998 secs...\n",
            "NOTE: pick_channels() is a legacy function. New code should use inst.pick(...).\n",
            "Extracting EDF parameters from /content/drive/MyDrive/EEG_Project/dataset_2/sub-hc21/ses-hc/eeg/sub-hc21_ses-hc_task-rest_eeg.bdf...\n",
            "BDF file detected\n",
            "Setting channel info structure...\n",
            "Creating raw.info structure...\n",
            "Reading 0 ... 96767  =      0.000 ...   188.998 secs...\n",
            "NOTE: pick_channels() is a legacy function. New code should use inst.pick(...).\n",
            "Extracting EDF parameters from /content/drive/MyDrive/EEG_Project/dataset_2/sub-hc4/ses-hc/eeg/sub-hc4_ses-hc_task-rest_eeg.bdf...\n",
            "BDF file detected\n",
            "Setting channel info structure...\n",
            "Creating raw.info structure...\n",
            "Reading 0 ... 92671  =      0.000 ...   180.998 secs...\n",
            "NOTE: pick_channels() is a legacy function. New code should use inst.pick(...).\n",
            "Extracting EDF parameters from /content/drive/MyDrive/EEG_Project/dataset_2/sub-hc8/ses-hc/eeg/sub-hc8_ses-hc_task-rest_eeg.bdf...\n",
            "BDF file detected\n",
            "Setting channel info structure...\n",
            "Creating raw.info structure...\n",
            "Reading 0 ... 97791  =      0.000 ...   190.998 secs...\n",
            "NOTE: pick_channels() is a legacy function. New code should use inst.pick(...).\n",
            "Extracting EDF parameters from /content/drive/MyDrive/EEG_Project/dataset_2/sub-hc10/ses-hc/eeg/sub-hc10_ses-hc_task-rest_eeg.bdf...\n",
            "BDF file detected\n",
            "Setting channel info structure...\n",
            "Creating raw.info structure...\n",
            "Reading 0 ... 102911  =      0.000 ...   200.998 secs...\n",
            "NOTE: pick_channels() is a legacy function. New code should use inst.pick(...).\n",
            "Extracting EDF parameters from /content/drive/MyDrive/EEG_Project/dataset_2/sub-hc18/ses-hc/eeg/sub-hc18_ses-hc_task-rest_eeg.bdf...\n",
            "BDF file detected\n",
            "Setting channel info structure...\n",
            "Creating raw.info structure...\n",
            "Reading 0 ... 95231  =      0.000 ...   185.998 secs...\n",
            "NOTE: pick_channels() is a legacy function. New code should use inst.pick(...).\n",
            "Extracting EDF parameters from /content/drive/MyDrive/EEG_Project/dataset_2/sub-hc24/ses-hc/eeg/sub-hc24_ses-hc_task-rest_eeg.bdf...\n",
            "BDF file detected\n",
            "Setting channel info structure...\n",
            "Creating raw.info structure...\n",
            "Reading 0 ... 98303  =      0.000 ...   191.998 secs...\n",
            "NOTE: pick_channels() is a legacy function. New code should use inst.pick(...).\n",
            "Extracting EDF parameters from /content/drive/MyDrive/EEG_Project/dataset_2/sub-hc20/ses-hc/eeg/sub-hc20_ses-hc_task-rest_eeg.bdf...\n",
            "BDF file detected\n",
            "Setting channel info structure...\n",
            "Creating raw.info structure...\n",
            "Reading 0 ... 94207  =      0.000 ...   183.998 secs...\n",
            "NOTE: pick_channels() is a legacy function. New code should use inst.pick(...).\n",
            "Extracting EDF parameters from /content/drive/MyDrive/EEG_Project/dataset_2/sub-hc25/ses-hc/eeg/sub-hc25_ses-hc_task-rest_eeg.bdf...\n",
            "BDF file detected\n",
            "Setting channel info structure...\n",
            "Creating raw.info structure...\n",
            "Reading 0 ... 103423  =      0.000 ...   201.998 secs...\n",
            "NOTE: pick_channels() is a legacy function. New code should use inst.pick(...).\n",
            "Extracting EDF parameters from /content/drive/MyDrive/EEG_Project/dataset_2/sub-hc29/ses-hc/eeg/sub-hc29_ses-hc_task-rest_eeg.bdf...\n",
            "BDF file detected\n",
            "Setting channel info structure...\n",
            "Creating raw.info structure...\n",
            "Reading 0 ... 101887  =      0.000 ...   198.998 secs...\n",
            "NOTE: pick_channels() is a legacy function. New code should use inst.pick(...).\n",
            "Extracting EDF parameters from /content/drive/MyDrive/EEG_Project/dataset_2/sub-hc30/ses-hc/eeg/sub-hc30_ses-hc_task-rest_eeg.bdf...\n",
            "BDF file detected\n",
            "Setting channel info structure...\n",
            "Creating raw.info structure...\n",
            "Reading 0 ... 96767  =      0.000 ...   188.998 secs...\n",
            "NOTE: pick_channels() is a legacy function. New code should use inst.pick(...).\n",
            "Extracting EDF parameters from /content/drive/MyDrive/EEG_Project/dataset_2/sub-hc31/ses-hc/eeg/sub-hc31_ses-hc_task-rest_eeg.bdf...\n",
            "BDF file detected\n",
            "Setting channel info structure...\n",
            "Creating raw.info structure...\n",
            "Reading 0 ... 95743  =      0.000 ...   186.998 secs...\n",
            "NOTE: pick_channels() is a legacy function. New code should use inst.pick(...).\n",
            "Extracting EDF parameters from /content/drive/MyDrive/EEG_Project/dataset_2/sub-hc32/ses-hc/eeg/sub-hc32_ses-hc_task-rest_eeg.bdf...\n",
            "BDF file detected\n",
            "Setting channel info structure...\n",
            "Creating raw.info structure...\n",
            "Reading 0 ... 100351  =      0.000 ...   195.998 secs...\n",
            "NOTE: pick_channels() is a legacy function. New code should use inst.pick(...).\n",
            "Extracting EDF parameters from /content/drive/MyDrive/EEG_Project/dataset_2/sub-hc33/ses-hc/eeg/sub-hc33_ses-hc_task-rest_eeg.bdf...\n",
            "BDF file detected\n",
            "Setting channel info structure...\n",
            "Creating raw.info structure...\n",
            "Reading 0 ... 97279  =      0.000 ...   189.998 secs...\n",
            "NOTE: pick_channels() is a legacy function. New code should use inst.pick(...).\n",
            "Extracting EDF parameters from /content/drive/MyDrive/EEG_Project/dataset_2/sub-pd3/ses-on/eeg/sub-pd3_ses-on_task-rest_eeg.bdf...\n",
            "BDF file detected\n",
            "Setting channel info structure...\n",
            "Creating raw.info structure...\n",
            "Reading 0 ... 109055  =      0.000 ...   212.998 secs...\n",
            "NOTE: pick_channels() is a legacy function. New code should use inst.pick(...).\n",
            "Extracting EDF parameters from /content/drive/MyDrive/EEG_Project/dataset_2/sub-pd3/ses-off/eeg/sub-pd3_ses-off_task-rest_eeg.bdf...\n",
            "BDF file detected\n",
            "Setting channel info structure...\n",
            "Creating raw.info structure...\n",
            "Reading 0 ... 102399  =      0.000 ...   199.998 secs...\n",
            "NOTE: pick_channels() is a legacy function. New code should use inst.pick(...).\n",
            "Extracting EDF parameters from /content/drive/MyDrive/EEG_Project/dataset_2/sub-pd5/ses-on/eeg/sub-pd5_ses-on_task-rest_eeg.bdf...\n",
            "BDF file detected\n",
            "Setting channel info structure...\n",
            "Creating raw.info structure...\n",
            "Reading 0 ... 105471  =      0.000 ...   205.998 secs...\n",
            "NOTE: pick_channels() is a legacy function. New code should use inst.pick(...).\n",
            "Extracting EDF parameters from /content/drive/MyDrive/EEG_Project/dataset_2/sub-pd5/ses-off/eeg/sub-pd5_ses-off_task-rest_eeg.bdf...\n",
            "BDF file detected\n",
            "Setting channel info structure...\n",
            "Creating raw.info structure...\n",
            "Reading 0 ... 100863  =      0.000 ...   196.998 secs...\n",
            "NOTE: pick_channels() is a legacy function. New code should use inst.pick(...).\n",
            "Extracting EDF parameters from /content/drive/MyDrive/EEG_Project/dataset_2/sub-pd6/ses-on/eeg/sub-pd6_ses-on_task-rest_eeg.bdf...\n",
            "BDF file detected\n",
            "Setting channel info structure...\n",
            "Creating raw.info structure...\n",
            "Reading 0 ... 147967  =      0.000 ...   288.998 secs...\n",
            "NOTE: pick_channels() is a legacy function. New code should use inst.pick(...).\n",
            "Extracting EDF parameters from /content/drive/MyDrive/EEG_Project/dataset_2/sub-pd6/ses-off/eeg/sub-pd6_ses-off_task-rest_eeg.bdf...\n",
            "BDF file detected\n",
            "Setting channel info structure...\n",
            "Creating raw.info structure...\n",
            "Reading 0 ... 97791  =      0.000 ...   190.998 secs...\n",
            "NOTE: pick_channels() is a legacy function. New code should use inst.pick(...).\n",
            "Extracting EDF parameters from /content/drive/MyDrive/EEG_Project/dataset_2/sub-pd9/ses-on/eeg/sub-pd9_ses-on_task-rest_eeg.bdf...\n",
            "BDF file detected\n",
            "Setting channel info structure...\n",
            "Creating raw.info structure...\n",
            "Reading 0 ... 95743  =      0.000 ...   186.998 secs...\n",
            "NOTE: pick_channels() is a legacy function. New code should use inst.pick(...).\n",
            "Extracting EDF parameters from /content/drive/MyDrive/EEG_Project/dataset_2/sub-pd9/ses-off/eeg/sub-pd9_ses-off_task-rest_eeg.bdf...\n",
            "BDF file detected\n",
            "Setting channel info structure...\n",
            "Creating raw.info structure...\n",
            "Reading 0 ... 97791  =      0.000 ...   190.998 secs...\n",
            "NOTE: pick_channels() is a legacy function. New code should use inst.pick(...).\n",
            "Extracting EDF parameters from /content/drive/MyDrive/EEG_Project/dataset_2/sub-pd11/ses-on/eeg/sub-pd11_ses-on_task-rest_eeg.bdf...\n",
            "BDF file detected\n",
            "Setting channel info structure...\n",
            "Creating raw.info structure...\n",
            "Reading 0 ... 95743  =      0.000 ...   186.998 secs...\n",
            "NOTE: pick_channels() is a legacy function. New code should use inst.pick(...).\n",
            "Extracting EDF parameters from /content/drive/MyDrive/EEG_Project/dataset_2/sub-pd11/ses-off/eeg/sub-pd11_ses-off_task-rest_eeg.bdf...\n",
            "BDF file detected\n",
            "Setting channel info structure...\n",
            "Creating raw.info structure...\n",
            "Reading 0 ... 95231  =      0.000 ...   185.998 secs...\n",
            "NOTE: pick_channels() is a legacy function. New code should use inst.pick(...).\n",
            "Extracting EDF parameters from /content/drive/MyDrive/EEG_Project/dataset_2/sub-pd12/ses-off/eeg/sub-pd12_ses-off_task-rest_eeg.bdf...\n",
            "BDF file detected\n",
            "Setting channel info structure...\n",
            "Creating raw.info structure...\n",
            "Reading 0 ... 105983  =      0.000 ...   206.998 secs...\n",
            "NOTE: pick_channels() is a legacy function. New code should use inst.pick(...).\n",
            "Extracting EDF parameters from /content/drive/MyDrive/EEG_Project/dataset_2/sub-pd12/ses-on/eeg/sub-pd12_ses-on_task-rest_eeg.bdf...\n",
            "BDF file detected\n",
            "Setting channel info structure...\n",
            "Creating raw.info structure...\n",
            "Reading 0 ... 98303  =      0.000 ...   191.998 secs...\n",
            "NOTE: pick_channels() is a legacy function. New code should use inst.pick(...).\n",
            "Extracting EDF parameters from /content/drive/MyDrive/EEG_Project/dataset_2/sub-pd13/ses-on/eeg/sub-pd13_ses-on_task-rest_eeg.bdf...\n",
            "BDF file detected\n",
            "Setting channel info structure...\n",
            "Creating raw.info structure...\n",
            "Reading 0 ... 95743  =      0.000 ...   186.998 secs...\n",
            "NOTE: pick_channels() is a legacy function. New code should use inst.pick(...).\n",
            "Extracting EDF parameters from /content/drive/MyDrive/EEG_Project/dataset_2/sub-pd13/ses-off/eeg/sub-pd13_ses-off_task-rest_eeg.bdf...\n",
            "BDF file detected\n",
            "Setting channel info structure...\n",
            "Creating raw.info structure...\n",
            "Reading 0 ... 95231  =      0.000 ...   185.998 secs...\n",
            "NOTE: pick_channels() is a legacy function. New code should use inst.pick(...).\n",
            "Extracting EDF parameters from /content/drive/MyDrive/EEG_Project/dataset_2/sub-pd14/ses-on/eeg/sub-pd14_ses-on_task-rest_eeg.bdf...\n",
            "BDF file detected\n",
            "Setting channel info structure...\n",
            "Creating raw.info structure...\n",
            "Reading 0 ... 96767  =      0.000 ...   188.998 secs...\n",
            "NOTE: pick_channels() is a legacy function. New code should use inst.pick(...).\n",
            "Extracting EDF parameters from /content/drive/MyDrive/EEG_Project/dataset_2/sub-pd14/ses-off/eeg/sub-pd14_ses-off_task-rest_eeg.bdf...\n",
            "BDF file detected\n",
            "Setting channel info structure...\n",
            "Creating raw.info structure...\n",
            "Reading 0 ... 149503  =      0.000 ...   291.998 secs...\n",
            "NOTE: pick_channels() is a legacy function. New code should use inst.pick(...).\n",
            "Extracting EDF parameters from /content/drive/MyDrive/EEG_Project/dataset_2/sub-pd16/ses-on/eeg/sub-pd16_ses-on_task-rest_eeg.bdf...\n",
            "BDF file detected\n",
            "Setting channel info structure...\n",
            "Creating raw.info structure...\n",
            "Reading 0 ... 95743  =      0.000 ...   186.998 secs...\n",
            "NOTE: pick_channels() is a legacy function. New code should use inst.pick(...).\n",
            "Extracting EDF parameters from /content/drive/MyDrive/EEG_Project/dataset_2/sub-pd16/ses-off/eeg/sub-pd16_ses-off_task-rest_eeg.bdf...\n",
            "BDF file detected\n",
            "Setting channel info structure...\n",
            "Creating raw.info structure...\n",
            "Reading 0 ... 96255  =      0.000 ...   187.998 secs...\n",
            "NOTE: pick_channels() is a legacy function. New code should use inst.pick(...).\n",
            "Extracting EDF parameters from /content/drive/MyDrive/EEG_Project/dataset_2/sub-pd17/ses-on/eeg/sub-pd17_ses-on_task-rest_eeg.bdf...\n",
            "BDF file detected\n",
            "Setting channel info structure...\n",
            "Creating raw.info structure...\n",
            "Reading 0 ... 95231  =      0.000 ...   185.998 secs...\n",
            "NOTE: pick_channels() is a legacy function. New code should use inst.pick(...).\n",
            "Extracting EDF parameters from /content/drive/MyDrive/EEG_Project/dataset_2/sub-pd17/ses-off/eeg/sub-pd17_ses-off_task-rest_eeg.bdf...\n",
            "BDF file detected\n",
            "Setting channel info structure...\n",
            "Creating raw.info structure...\n",
            "Reading 0 ... 96767  =      0.000 ...   188.998 secs...\n",
            "NOTE: pick_channels() is a legacy function. New code should use inst.pick(...).\n",
            "Extracting EDF parameters from /content/drive/MyDrive/EEG_Project/dataset_2/sub-pd22/ses-on/eeg/sub-pd22_ses-on_task-rest_eeg.bdf...\n",
            "BDF file detected\n",
            "Setting channel info structure...\n",
            "Creating raw.info structure...\n",
            "Reading 0 ... 94207  =      0.000 ...   183.998 secs...\n",
            "NOTE: pick_channels() is a legacy function. New code should use inst.pick(...).\n",
            "Extracting EDF parameters from /content/drive/MyDrive/EEG_Project/dataset_2/sub-pd22/ses-off/eeg/sub-pd22_ses-off_task-rest_eeg.bdf...\n",
            "BDF file detected\n",
            "Setting channel info structure...\n",
            "Creating raw.info structure...\n",
            "Reading 0 ... 96255  =      0.000 ...   187.998 secs...\n",
            "NOTE: pick_channels() is a legacy function. New code should use inst.pick(...).\n",
            "Extracting EDF parameters from /content/drive/MyDrive/EEG_Project/dataset_2/sub-pd19/ses-on/eeg/sub-pd19_ses-on_task-rest_eeg.bdf...\n",
            "BDF file detected\n",
            "Setting channel info structure...\n",
            "Creating raw.info structure...\n",
            "Reading 0 ... 96255  =      0.000 ...   187.998 secs...\n",
            "NOTE: pick_channels() is a legacy function. New code should use inst.pick(...).\n",
            "Extracting EDF parameters from /content/drive/MyDrive/EEG_Project/dataset_2/sub-pd19/ses-off/eeg/sub-pd19_ses-off_task-rest_eeg.bdf...\n",
            "BDF file detected\n",
            "Setting channel info structure...\n",
            "Creating raw.info structure...\n",
            "Reading 0 ... 94719  =      0.000 ...   184.998 secs...\n",
            "NOTE: pick_channels() is a legacy function. New code should use inst.pick(...).\n",
            "Extracting EDF parameters from /content/drive/MyDrive/EEG_Project/dataset_2/sub-pd23/ses-on/eeg/sub-pd23_ses-on_task-rest_eeg.bdf...\n",
            "BDF file detected\n",
            "Setting channel info structure...\n",
            "Creating raw.info structure...\n",
            "Reading 0 ... 95231  =      0.000 ...   185.998 secs...\n",
            "NOTE: pick_channels() is a legacy function. New code should use inst.pick(...).\n",
            "Extracting EDF parameters from /content/drive/MyDrive/EEG_Project/dataset_2/sub-pd23/ses-off/eeg/sub-pd23_ses-off_task-rest_eeg.bdf...\n",
            "BDF file detected\n",
            "Setting channel info structure...\n",
            "Creating raw.info structure...\n",
            "Reading 0 ... 104447  =      0.000 ...   203.998 secs...\n",
            "NOTE: pick_channels() is a legacy function. New code should use inst.pick(...).\n",
            "Extracting EDF parameters from /content/drive/MyDrive/EEG_Project/dataset_2/sub-pd26/ses-on/eeg/sub-pd26_ses-on_task-rest_eeg.bdf...\n",
            "BDF file detected\n",
            "Setting channel info structure...\n",
            "Creating raw.info structure...\n",
            "Reading 0 ... 110591  =      0.000 ...   215.998 secs...\n",
            "NOTE: pick_channels() is a legacy function. New code should use inst.pick(...).\n",
            "Extracting EDF parameters from /content/drive/MyDrive/EEG_Project/dataset_2/sub-pd26/ses-off/eeg/sub-pd26_ses-off_task-rest_eeg.bdf...\n",
            "BDF file detected\n",
            "Setting channel info structure...\n",
            "Creating raw.info structure...\n",
            "Reading 0 ... 97791  =      0.000 ...   190.998 secs...\n",
            "NOTE: pick_channels() is a legacy function. New code should use inst.pick(...).\n",
            "Extracting EDF parameters from /content/drive/MyDrive/EEG_Project/dataset_2/sub-pd28/ses-on/eeg/sub-pd28_ses-on_task-rest_eeg.bdf...\n",
            "BDF file detected\n",
            "Setting channel info structure...\n",
            "Creating raw.info structure...\n",
            "Reading 0 ... 102911  =      0.000 ...   200.998 secs...\n",
            "NOTE: pick_channels() is a legacy function. New code should use inst.pick(...).\n",
            "Extracting EDF parameters from /content/drive/MyDrive/EEG_Project/dataset_2/sub-pd28/ses-off/eeg/sub-pd28_ses-off_task-rest_eeg.bdf...\n",
            "BDF file detected\n",
            "Setting channel info structure...\n",
            "Creating raw.info structure...\n",
            "Reading 0 ... 105471  =      0.000 ...   205.998 secs...\n",
            "NOTE: pick_channels() is a legacy function. New code should use inst.pick(...).\n"
          ]
        }
      ],
      "source": [
        "import mne\n",
        "\n",
        "# We will use the order from the .set dataset\n",
        "ordered_common_channels = [ch for ch in channels_set if ch in common_channels]\n",
        "\n",
        "print(\"Final channel order:\", ordered_common_channels)\n",
        "\n",
        "# Function to load and reorder channels\n",
        "def load_and_reorder(filepath, filetype, channel_order):\n",
        "    if filetype == \"set\":\n",
        "        raw = mne.io.read_raw_eeglab(filepath, preload=True)\n",
        "    elif filetype == \"bdf\":\n",
        "        raw = mne.io.read_raw_bdf(filepath, preload=True)\n",
        "    else:\n",
        "        raise ValueError(\"Unsupported file type\")\n",
        "\n",
        "    # Pick only common channels and reorder\n",
        "    raw.pick_channels(channel_order)\n",
        "    raw.reorder_channels(channel_order)\n",
        "\n",
        "    return raw\n",
        "\n",
        "# Load all .set files in same channel order\n",
        "all_set_data = [load_and_reorder(f, \"set\", ordered_common_channels) for f in set_files]\n",
        "\n",
        "# Load all .bdf files in same channel order\n",
        "all_bdf_data = [load_and_reorder(f, \"bdf\", ordered_common_channels) for f in bdf_files]\n"
      ]
    },
    {
      "cell_type": "markdown",
      "id": "b4ff6b49",
      "metadata": {
        "id": "b4ff6b49"
      },
      "source": [
        "## 4. checking if the order is same or not\n"
      ]
    },
    {
      "cell_type": "code",
      "execution_count": 4,
      "id": "6525e002",
      "metadata": {
        "colab": {
          "base_uri": "https://localhost:8080/"
        },
        "id": "6525e002",
        "outputId": "9b48e622-9d9c-4d17-854c-7d9b0b90576d"
      },
      "outputs": [
        {
          "output_type": "stream",
          "name": "stdout",
          "text": [
            "\n",
            "SET file 1 channels:\n",
            "['Fp1', 'Fp2', 'F3', 'F4', 'C3', 'C4', 'P3', 'P4', 'O1', 'O2', 'F7', 'F8', 'Fz', 'Cz', 'Pz']\n",
            "\n",
            "SET file 2 channels:\n",
            "['Fp1', 'Fp2', 'F3', 'F4', 'C3', 'C4', 'P3', 'P4', 'O1', 'O2', 'F7', 'F8', 'Fz', 'Cz', 'Pz']\n",
            "\n",
            "SET file 3 channels:\n",
            "['Fp1', 'Fp2', 'F3', 'F4', 'C3', 'C4', 'P3', 'P4', 'O1', 'O2', 'F7', 'F8', 'Fz', 'Cz', 'Pz']\n",
            "\n",
            "SET file 4 channels:\n",
            "['Fp1', 'Fp2', 'F3', 'F4', 'C3', 'C4', 'P3', 'P4', 'O1', 'O2', 'F7', 'F8', 'Fz', 'Cz', 'Pz']\n",
            "\n",
            "SET file 5 channels:\n",
            "['Fp1', 'Fp2', 'F3', 'F4', 'C3', 'C4', 'P3', 'P4', 'O1', 'O2', 'F7', 'F8', 'Fz', 'Cz', 'Pz']\n",
            "\n",
            "SET file 6 channels:\n",
            "['Fp1', 'Fp2', 'F3', 'F4', 'C3', 'C4', 'P3', 'P4', 'O1', 'O2', 'F7', 'F8', 'Fz', 'Cz', 'Pz']\n",
            "\n",
            "SET file 7 channels:\n",
            "['Fp1', 'Fp2', 'F3', 'F4', 'C3', 'C4', 'P3', 'P4', 'O1', 'O2', 'F7', 'F8', 'Fz', 'Cz', 'Pz']\n",
            "\n",
            "BDF file 1 channels:\n",
            "['Fp1', 'Fp2', 'F3', 'F4', 'C3', 'C4', 'P3', 'P4', 'O1', 'O2', 'F7', 'F8', 'Fz', 'Cz', 'Pz']\n",
            "\n",
            "BDF file 2 channels:\n",
            "['Fp1', 'Fp2', 'F3', 'F4', 'C3', 'C4', 'P3', 'P4', 'O1', 'O2', 'F7', 'F8', 'Fz', 'Cz', 'Pz']\n",
            "\n",
            "BDF file 3 channels:\n",
            "['Fp1', 'Fp2', 'F3', 'F4', 'C3', 'C4', 'P3', 'P4', 'O1', 'O2', 'F7', 'F8', 'Fz', 'Cz', 'Pz']\n",
            "\n",
            "BDF file 4 channels:\n",
            "['Fp1', 'Fp2', 'F3', 'F4', 'C3', 'C4', 'P3', 'P4', 'O1', 'O2', 'F7', 'F8', 'Fz', 'Cz', 'Pz']\n",
            "\n",
            "BDF file 5 channels:\n",
            "['Fp1', 'Fp2', 'F3', 'F4', 'C3', 'C4', 'P3', 'P4', 'O1', 'O2', 'F7', 'F8', 'Fz', 'Cz', 'Pz']\n",
            "\n",
            "BDF file 6 channels:\n",
            "['Fp1', 'Fp2', 'F3', 'F4', 'C3', 'C4', 'P3', 'P4', 'O1', 'O2', 'F7', 'F8', 'Fz', 'Cz', 'Pz']\n",
            "\n",
            "BDF file 7 channels:\n",
            "['Fp1', 'Fp2', 'F3', 'F4', 'C3', 'C4', 'P3', 'P4', 'O1', 'O2', 'F7', 'F8', 'Fz', 'Cz', 'Pz']\n",
            "\n",
            "✅ Channel orders match for SET and BDF datasets.\n"
          ]
        }
      ],
      "source": [
        "# Check first 3 files from each dataset to verify channel order\n",
        "for i, raw_obj in enumerate(all_set_data[:7]):\n",
        "    print(f\"\\nSET file {i+1} channels:\")\n",
        "    print(raw_obj.info[\"ch_names\"])\n",
        "\n",
        "for i, raw_obj in enumerate(all_bdf_data[:7]):\n",
        "    print(f\"\\nBDF file {i+1} channels:\")\n",
        "    print(raw_obj.info[\"ch_names\"])\n",
        "\n",
        "# Final check: compare channel order between first SET and first BDF\n",
        "set_order = all_set_data[0].info[\"ch_names\"]\n",
        "bdf_order = all_bdf_data[0].info[\"ch_names\"]\n",
        "\n",
        "if set_order == bdf_order:\n",
        "    print(\"\\n✅ Channel orders match for SET and BDF datasets.\")\n",
        "else:\n",
        "    print(\"\\n❌ Channel orders do NOT match.\")\n",
        "    print(\"SET order:\", set_order)\n",
        "    print(\"BDF order:\", bdf_order)\n"
      ]
    },
    {
      "cell_type": "markdown",
      "id": "07f675f0",
      "metadata": {
        "id": "07f675f0"
      },
      "source": [
        "##5. checking the sampling freuquency"
      ]
    },
    {
      "cell_type": "markdown",
      "id": "ba4ed057",
      "metadata": {
        "id": "ba4ed057"
      },
      "source": [
        "## 6. Resampling"
      ]
    },
    {
      "cell_type": "code",
      "execution_count": 5,
      "id": "0e3a8981",
      "metadata": {
        "colab": {
          "base_uri": "https://localhost:8080/"
        },
        "id": "0e3a8981",
        "outputId": "a7a12ce3-e72c-4dda-cf7f-ba62653fadfb"
      },
      "outputs": [
        {
          "output_type": "stream",
          "name": "stdout",
          "text": [
            "Resampled .set file 1 to 256 Hz\n",
            "Resampled .set file 2 to 256 Hz\n",
            "Resampled .set file 3 to 256 Hz\n",
            "Resampled .set file 4 to 256 Hz\n",
            "Resampled .set file 5 to 256 Hz\n",
            "Resampled .set file 6 to 256 Hz\n",
            "Resampled .set file 7 to 256 Hz\n",
            "Resampled .set file 8 to 256 Hz\n",
            "Resampled .set file 9 to 256 Hz\n",
            "Resampled .set file 10 to 256 Hz\n",
            "Resampled .set file 11 to 256 Hz\n",
            "Resampled .set file 12 to 256 Hz\n",
            "Resampled .set file 13 to 256 Hz\n",
            "Resampled .set file 14 to 256 Hz\n",
            "Resampled .set file 15 to 256 Hz\n",
            "Resampled .set file 16 to 256 Hz\n",
            "Resampled .set file 17 to 256 Hz\n",
            "Resampled .set file 18 to 256 Hz\n",
            "Resampled .set file 19 to 256 Hz\n",
            "Resampled .set file 20 to 256 Hz\n",
            "Resampled .set file 21 to 256 Hz\n",
            "Resampled .set file 22 to 256 Hz\n",
            "Resampled .set file 23 to 256 Hz\n",
            "Resampled .set file 24 to 256 Hz\n",
            "Resampled .set file 25 to 256 Hz\n",
            "Resampled .set file 26 to 256 Hz\n",
            "Resampled .set file 27 to 256 Hz\n",
            "Resampled .set file 28 to 256 Hz\n",
            "Resampled .set file 29 to 256 Hz\n",
            "Resampled .set file 30 to 256 Hz\n",
            "Resampled .set file 31 to 256 Hz\n",
            "Resampled .set file 32 to 256 Hz\n",
            "Resampled .set file 33 to 256 Hz\n",
            "Resampled .set file 34 to 256 Hz\n",
            "Resampled .set file 35 to 256 Hz\n",
            "Resampled .set file 36 to 256 Hz\n",
            "Resampled .set file 37 to 256 Hz\n",
            "Resampled .set file 38 to 256 Hz\n",
            "Resampled .set file 39 to 256 Hz\n",
            "Resampled .set file 40 to 256 Hz\n",
            "Resampled .set file 41 to 256 Hz\n",
            "Resampled .set file 42 to 256 Hz\n",
            "Resampled .set file 43 to 256 Hz\n",
            "Resampled .set file 44 to 256 Hz\n",
            "Resampled .set file 45 to 256 Hz\n",
            "Resampled .set file 46 to 256 Hz\n",
            "Resampled .set file 47 to 256 Hz\n",
            "Resampled .set file 48 to 256 Hz\n",
            "Resampled .set file 49 to 256 Hz\n",
            "Resampled .set file 50 to 256 Hz\n",
            "Resampled .set file 51 to 256 Hz\n",
            "Resampled .set file 52 to 256 Hz\n",
            "Resampled .set file 53 to 256 Hz\n",
            "Resampled .set file 54 to 256 Hz\n",
            "Resampled .set file 55 to 256 Hz\n",
            "Resampled .set file 56 to 256 Hz\n",
            "Resampled .set file 57 to 256 Hz\n",
            "Resampled .set file 58 to 256 Hz\n",
            "Resampled .set file 59 to 256 Hz\n",
            "Resampled .set file 60 to 256 Hz\n",
            "Resampled .set file 61 to 256 Hz\n",
            "Resampled .set file 62 to 256 Hz\n",
            "Resampled .set file 63 to 256 Hz\n",
            "Resampled .set file 64 to 256 Hz\n",
            "Resampled .set file 65 to 256 Hz\n",
            "Resampled .set file 66 to 256 Hz\n",
            "Resampled .set file 67 to 256 Hz\n",
            "Resampled .set file 68 to 256 Hz\n",
            "Resampled .set file 69 to 256 Hz\n",
            "Resampled .set file 70 to 256 Hz\n",
            "Resampled .set file 71 to 256 Hz\n",
            "Resampled .set file 72 to 256 Hz\n",
            "Resampled .set file 73 to 256 Hz\n",
            "Resampled .set file 74 to 256 Hz\n",
            "Resampled .set file 75 to 256 Hz\n",
            "Resampled .set file 76 to 256 Hz\n",
            "Resampled .set file 77 to 256 Hz\n",
            "Resampled .set file 78 to 256 Hz\n",
            "Resampled .set file 79 to 256 Hz\n",
            "Resampled .set file 80 to 256 Hz\n",
            "Resampled .set file 81 to 256 Hz\n",
            "Resampled .set file 82 to 256 Hz\n",
            "Resampled .set file 83 to 256 Hz\n",
            "Resampled .set file 84 to 256 Hz\n",
            "Resampled .set file 85 to 256 Hz\n",
            "Resampled .set file 86 to 256 Hz\n",
            "Resampled .set file 87 to 256 Hz\n",
            "Resampled .set file 88 to 256 Hz\n",
            "Resampled .bdf file 1 to 256 Hz\n",
            "Resampled .bdf file 2 to 256 Hz\n",
            "Resampled .bdf file 3 to 256 Hz\n",
            "Resampled .bdf file 4 to 256 Hz\n",
            "Resampled .bdf file 5 to 256 Hz\n",
            "Resampled .bdf file 6 to 256 Hz\n",
            "Resampled .bdf file 7 to 256 Hz\n",
            "Resampled .bdf file 8 to 256 Hz\n",
            "Resampled .bdf file 9 to 256 Hz\n",
            "Resampled .bdf file 10 to 256 Hz\n",
            "Resampled .bdf file 11 to 256 Hz\n",
            "Resampled .bdf file 12 to 256 Hz\n",
            "Resampled .bdf file 13 to 256 Hz\n",
            "Resampled .bdf file 14 to 256 Hz\n",
            "Resampled .bdf file 15 to 256 Hz\n",
            "Resampled .bdf file 16 to 256 Hz\n",
            "Resampled .bdf file 17 to 256 Hz\n",
            "Resampled .bdf file 18 to 256 Hz\n",
            "Resampled .bdf file 19 to 256 Hz\n",
            "Resampled .bdf file 20 to 256 Hz\n",
            "Resampled .bdf file 21 to 256 Hz\n",
            "Resampled .bdf file 22 to 256 Hz\n",
            "Resampled .bdf file 23 to 256 Hz\n",
            "Resampled .bdf file 24 to 256 Hz\n",
            "Resampled .bdf file 25 to 256 Hz\n",
            "Resampled .bdf file 26 to 256 Hz\n",
            "Resampled .bdf file 27 to 256 Hz\n",
            "Resampled .bdf file 28 to 256 Hz\n",
            "Resampled .bdf file 29 to 256 Hz\n",
            "Resampled .bdf file 30 to 256 Hz\n",
            "Resampled .bdf file 31 to 256 Hz\n",
            "Resampled .bdf file 32 to 256 Hz\n",
            "Resampled .bdf file 33 to 256 Hz\n",
            "Resampled .bdf file 34 to 256 Hz\n",
            "Resampled .bdf file 35 to 256 Hz\n",
            "Resampled .bdf file 36 to 256 Hz\n",
            "Resampled .bdf file 37 to 256 Hz\n",
            "Resampled .bdf file 38 to 256 Hz\n",
            "Resampled .bdf file 39 to 256 Hz\n",
            "Resampled .bdf file 40 to 256 Hz\n",
            "Resampled .bdf file 41 to 256 Hz\n",
            "Resampled .bdf file 42 to 256 Hz\n",
            "Resampled .bdf file 43 to 256 Hz\n",
            "Resampled .bdf file 44 to 256 Hz\n",
            "Resampled .bdf file 45 to 256 Hz\n",
            "Resampled .bdf file 46 to 256 Hz\n"
          ]
        }
      ],
      "source": [
        "target_sfreq = 256  # Hz\n",
        "\n",
        "# Resample .set files\n",
        "for i, raw in enumerate(all_set_data):\n",
        "    if raw.info['sfreq'] != target_sfreq:\n",
        "        raw.resample(target_sfreq)\n",
        "        print(f\"Resampled .set file {i+1} to {target_sfreq} Hz\")\n",
        "\n",
        "# Resample .bdf files\n",
        "for i, raw in enumerate(all_bdf_data):\n",
        "    if raw.info['sfreq'] != target_sfreq:\n",
        "        raw.resample(target_sfreq)\n",
        "        print(f\"Resampled .bdf file {i+1} to {target_sfreq} Hz\")\n"
      ]
    },
    {
      "cell_type": "markdown",
      "id": "a18de62e",
      "metadata": {
        "id": "a18de62e"
      },
      "source": [
        "##6. normalization\n"
      ]
    },
    {
      "cell_type": "code",
      "execution_count": 6,
      "id": "115942ef",
      "metadata": {
        "colab": {
          "base_uri": "https://localhost:8080/"
        },
        "id": "115942ef",
        "outputId": "16c6e137-e259-4fb6-f5fa-3b0232c6c00c"
      },
      "outputs": [
        {
          "output_type": "stream",
          "name": "stdout",
          "text": [
            "Minimum common length (time points): 46336\n",
            "✅ Combined dataset shape (raw): (134, 15, 46336)\n",
            "✅ Normalized dataset shape: (134, 15, 46336)\n",
            "💾 Saved normalized dataset as 'X_normalized.npy' (local + Google Drive)\n"
          ]
        }
      ],
      "source": [
        "import numpy as np\n",
        "\n",
        "# ===== 1️⃣ Shortest recording length =====\n",
        "min_times = min([raw.n_times for raw in all_set_data + all_bdf_data])\n",
        "print(f\"Minimum common length (time points): {min_times}\")\n",
        "\n",
        "# ===== 2️⃣ Combine datasets =====\n",
        "X_all = []\n",
        "\n",
        "for raw in all_set_data:\n",
        "    X_all.append(raw.get_data()[:, :min_times])\n",
        "\n",
        "for raw in all_bdf_data:\n",
        "    X_all.append(raw.get_data()[:, :min_times])\n",
        "\n",
        "X_all = np.array(X_all)  # (n_samples, n_channels, n_times)\n",
        "print(f\"✅ Combined dataset shape (raw): {X_all.shape}\")\n",
        "\n",
        "# ===== 3️⃣ Normalize per sample, per channel =====\n",
        "X_scaled = np.zeros_like(X_all, dtype=np.float32)\n",
        "\n",
        "for i in range(X_all.shape[0]):           # loop over samples\n",
        "    for ch in range(X_all.shape[1]):      # loop over channels\n",
        "        ch_data = X_all[i, ch, :]\n",
        "        mean = np.mean(ch_data)\n",
        "        std = np.std(ch_data)\n",
        "        if std > 0:   # avoid divide by zero\n",
        "            X_scaled[i, ch, :] = (ch_data - mean) / std\n",
        "        else:\n",
        "            X_scaled[i, ch, :] = ch_data - mean  # flat channel\n",
        "\n",
        "print(f\"✅ Normalized dataset shape: {X_scaled.shape}\")\n",
        "\n",
        "# ===== 4️⃣ Save ONLY normalized dataset =====\n",
        "np.save(\"X_normalized.npy\", X_scaled)\n",
        "np.save('/content/drive/MyDrive/X_normalized.npy', X_scaled)\n",
        "\n",
        "print(\"💾 Saved normalized dataset as 'X_normalized.npy' (local + Google Drive)\")\n"
      ]
    },
    {
      "cell_type": "code",
      "source": [
        "import numpy as np\n",
        "\n",
        "# Load normalized data\n",
        "X_normalized = np.load('/content/drive/MyDrive/X_normalized.npy')\n",
        "\n",
        "print(\"✅ X_normalized loaded\")\n",
        "print(\"Shape:\", X_normalized.shape)   # (n_samples, n_channels, n_times)\n",
        "print(\"Data type:\", X_normalized.dtype)\n",
        "\n",
        "# Check overall statistics\n",
        "print(\"\\n=== Statistics ===\")\n",
        "print(\"Min:\", np.min(X_normalized))\n",
        "print(\"Max:\", np.max(X_normalized))\n",
        "print(\"Mean:\", np.mean(X_normalized))\n",
        "print(\"Std Dev:\", np.std(X_normalized))\n",
        "\n",
        "# Check one sample (first recording)\n",
        "sample_idx = 0\n",
        "print(f\"\\n=== Sample {sample_idx} details ===\")\n",
        "print(\"Shape:\", X_normalized[sample_idx].shape)\n",
        "print(\"Mean:\", np.mean(X_normalized[sample_idx]))\n",
        "print(\"Std Dev:\", np.std(X_normalized[sample_idx]))\n",
        "\n",
        "# Check across channels for the first sample\n",
        "print(\"\\n=== First sample channel-wise stats ===\")\n",
        "for ch in range(min(5, X_normalized.shape[1])):  # show first 5 channels\n",
        "    ch_data = X_normalized[sample_idx, ch, :]\n",
        "    print(f\"Channel {ch}: mean={np.mean(ch_data):.4f}, std={np.std(ch_data):.4f}\")\n"
      ],
      "metadata": {
        "colab": {
          "base_uri": "https://localhost:8080/"
        },
        "id": "-saudAz18cgj",
        "outputId": "cae5ce4e-ac80-4660-be19-7b4fcb49bd33"
      },
      "id": "-saudAz18cgj",
      "execution_count": 7,
      "outputs": [
        {
          "output_type": "stream",
          "name": "stdout",
          "text": [
            "✅ X_normalized loaded\n",
            "Shape: (134, 15, 46336)\n",
            "Data type: float32\n",
            "\n",
            "=== Statistics ===\n",
            "Min: -26.498531\n",
            "Max: 32.419365\n",
            "Mean: 1.631792e-10\n",
            "Std Dev: 1.0000008\n",
            "\n",
            "=== Sample 0 details ===\n",
            "Shape: (15, 46336)\n",
            "Mean: -1.7453293e-09\n",
            "Std Dev: 0.99999994\n",
            "\n",
            "=== First sample channel-wise stats ===\n",
            "Channel 0: mean=-0.0000, std=1.0000\n",
            "Channel 1: mean=-0.0000, std=1.0000\n",
            "Channel 2: mean=-0.0000, std=1.0000\n",
            "Channel 3: mean=-0.0000, std=1.0000\n",
            "Channel 4: mean=0.0000, std=1.0000\n"
          ]
        }
      ]
    },
    {
      "cell_type": "markdown",
      "id": "379e1646",
      "metadata": {
        "id": "379e1646"
      },
      "source": []
    },
    {
      "cell_type": "code",
      "execution_count": 8,
      "id": "dfc56179",
      "metadata": {
        "colab": {
          "base_uri": "https://localhost:8080/"
        },
        "id": "dfc56179",
        "outputId": "15fd9887-eefd-4916-e0ad-0bc01ef39a5b"
      },
      "outputs": [
        {
          "output_type": "stream",
          "name": "stdout",
          "text": [
            "(134, 15, 46336)\n",
            "float32\n"
          ]
        }
      ],
      "source": [
        "import numpy as np\n",
        "\n",
        "# Load the .npy file\n",
        "data = np.load('/content/drive/MyDrive/X_normalized.npy')\n",
        "\n",
        "# Now you can inspect the 'data' variable\n",
        "# For example, to see its shape:\n",
        "print(data.shape)\n",
        "\n",
        "# To see its data type:\n",
        "print(data.dtype)"
      ]
    },
    {
      "cell_type": "markdown",
      "id": "24c0e743",
      "metadata": {
        "id": "24c0e743"
      },
      "source": [
        "## 9. Save Metrics & Plots"
      ]
    },
    {
      "cell_type": "code",
      "execution_count": 10,
      "id": "eab5e444",
      "metadata": {
        "colab": {
          "base_uri": "https://localhost:8080/"
        },
        "id": "eab5e444",
        "outputId": "5ba02134-d144-4a73-db40-be3ffb2f94e2"
      },
      "outputs": [
        {
          "output_type": "stream",
          "name": "stdout",
          "text": [
            "Sample 1 shape: (15, 46336)\n",
            "Sample 2 shape: (15, 46336)\n",
            "Sample 3 shape: (15, 46336)\n",
            "Sample 4 shape: (15, 46336)\n",
            "Sample 5 shape: (15, 46336)\n",
            "Sample 6 shape: (15, 46336)\n",
            "Sample 7 shape: (15, 46336)\n",
            "Sample 8 shape: (15, 46336)\n",
            "Sample 9 shape: (15, 46336)\n",
            "Sample 10 shape: (15, 46336)\n",
            "Sample 11 shape: (15, 46336)\n",
            "Sample 12 shape: (15, 46336)\n",
            "Sample 13 shape: (15, 46336)\n",
            "Sample 14 shape: (15, 46336)\n",
            "Sample 15 shape: (15, 46336)\n",
            "Sample 16 shape: (15, 46336)\n",
            "Sample 17 shape: (15, 46336)\n",
            "Sample 18 shape: (15, 46336)\n",
            "Sample 19 shape: (15, 46336)\n",
            "Sample 20 shape: (15, 46336)\n",
            "Sample 21 shape: (15, 46336)\n",
            "Sample 22 shape: (15, 46336)\n",
            "Sample 23 shape: (15, 46336)\n",
            "Sample 24 shape: (15, 46336)\n",
            "Sample 25 shape: (15, 46336)\n",
            "Sample 26 shape: (15, 46336)\n",
            "Sample 27 shape: (15, 46336)\n",
            "Sample 28 shape: (15, 46336)\n",
            "Sample 29 shape: (15, 46336)\n",
            "Sample 30 shape: (15, 46336)\n",
            "Sample 31 shape: (15, 46336)\n",
            "Sample 32 shape: (15, 46336)\n",
            "Sample 33 shape: (15, 46336)\n",
            "Sample 34 shape: (15, 46336)\n",
            "Sample 35 shape: (15, 46336)\n",
            "Sample 36 shape: (15, 46336)\n",
            "Sample 37 shape: (15, 46336)\n",
            "Sample 38 shape: (15, 46336)\n",
            "Sample 39 shape: (15, 46336)\n",
            "Sample 40 shape: (15, 46336)\n",
            "Sample 41 shape: (15, 46336)\n",
            "Sample 42 shape: (15, 46336)\n",
            "Sample 43 shape: (15, 46336)\n",
            "Sample 44 shape: (15, 46336)\n",
            "Sample 45 shape: (15, 46336)\n",
            "Sample 46 shape: (15, 46336)\n",
            "Sample 47 shape: (15, 46336)\n",
            "Sample 48 shape: (15, 46336)\n",
            "Sample 49 shape: (15, 46336)\n",
            "Sample 50 shape: (15, 46336)\n",
            "Sample 51 shape: (15, 46336)\n",
            "Sample 52 shape: (15, 46336)\n",
            "Sample 53 shape: (15, 46336)\n",
            "Sample 54 shape: (15, 46336)\n",
            "Sample 55 shape: (15, 46336)\n",
            "Sample 56 shape: (15, 46336)\n",
            "Sample 57 shape: (15, 46336)\n",
            "Sample 58 shape: (15, 46336)\n",
            "Sample 59 shape: (15, 46336)\n",
            "Sample 60 shape: (15, 46336)\n",
            "Sample 61 shape: (15, 46336)\n",
            "Sample 62 shape: (15, 46336)\n",
            "Sample 63 shape: (15, 46336)\n",
            "Sample 64 shape: (15, 46336)\n",
            "Sample 65 shape: (15, 46336)\n",
            "Sample 66 shape: (15, 46336)\n",
            "Sample 67 shape: (15, 46336)\n",
            "Sample 68 shape: (15, 46336)\n",
            "Sample 69 shape: (15, 46336)\n",
            "Sample 70 shape: (15, 46336)\n",
            "Sample 71 shape: (15, 46336)\n",
            "Sample 72 shape: (15, 46336)\n",
            "Sample 73 shape: (15, 46336)\n",
            "Sample 74 shape: (15, 46336)\n",
            "Sample 75 shape: (15, 46336)\n",
            "Sample 76 shape: (15, 46336)\n",
            "Sample 77 shape: (15, 46336)\n",
            "Sample 78 shape: (15, 46336)\n",
            "Sample 79 shape: (15, 46336)\n",
            "Sample 80 shape: (15, 46336)\n",
            "Sample 81 shape: (15, 46336)\n",
            "Sample 82 shape: (15, 46336)\n",
            "Sample 83 shape: (15, 46336)\n",
            "Sample 84 shape: (15, 46336)\n",
            "Sample 85 shape: (15, 46336)\n",
            "Sample 86 shape: (15, 46336)\n",
            "Sample 87 shape: (15, 46336)\n",
            "Sample 88 shape: (15, 46336)\n",
            "Sample 89 shape: (15, 46336)\n",
            "Sample 90 shape: (15, 46336)\n",
            "Sample 91 shape: (15, 46336)\n",
            "Sample 92 shape: (15, 46336)\n",
            "Sample 93 shape: (15, 46336)\n",
            "Sample 94 shape: (15, 46336)\n",
            "Sample 95 shape: (15, 46336)\n",
            "Sample 96 shape: (15, 46336)\n",
            "Sample 97 shape: (15, 46336)\n",
            "Sample 98 shape: (15, 46336)\n",
            "Sample 99 shape: (15, 46336)\n",
            "Sample 100 shape: (15, 46336)\n",
            "Sample 101 shape: (15, 46336)\n",
            "Sample 102 shape: (15, 46336)\n",
            "Sample 103 shape: (15, 46336)\n",
            "Sample 104 shape: (15, 46336)\n",
            "Sample 105 shape: (15, 46336)\n",
            "Sample 106 shape: (15, 46336)\n",
            "Sample 107 shape: (15, 46336)\n",
            "Sample 108 shape: (15, 46336)\n",
            "Sample 109 shape: (15, 46336)\n",
            "Sample 110 shape: (15, 46336)\n",
            "Sample 111 shape: (15, 46336)\n",
            "Sample 112 shape: (15, 46336)\n",
            "Sample 113 shape: (15, 46336)\n",
            "Sample 114 shape: (15, 46336)\n",
            "Sample 115 shape: (15, 46336)\n",
            "Sample 116 shape: (15, 46336)\n",
            "Sample 117 shape: (15, 46336)\n",
            "Sample 118 shape: (15, 46336)\n",
            "Sample 119 shape: (15, 46336)\n",
            "Sample 120 shape: (15, 46336)\n",
            "Sample 121 shape: (15, 46336)\n",
            "Sample 122 shape: (15, 46336)\n",
            "Sample 123 shape: (15, 46336)\n",
            "Sample 124 shape: (15, 46336)\n",
            "Sample 125 shape: (15, 46336)\n",
            "Sample 126 shape: (15, 46336)\n",
            "Sample 127 shape: (15, 46336)\n",
            "Sample 128 shape: (15, 46336)\n",
            "Sample 129 shape: (15, 46336)\n",
            "Sample 130 shape: (15, 46336)\n",
            "Sample 131 shape: (15, 46336)\n",
            "Sample 132 shape: (15, 46336)\n",
            "Sample 133 shape: (15, 46336)\n",
            "Sample 134 shape: (15, 46336)\n"
          ]
        }
      ],
      "source": [
        "for i, sample in enumerate(X_all):\n",
        "    print(f\"Sample {i+1} shape: {sample.shape}\")\n"
      ]
    },
    {
      "cell_type": "code",
      "execution_count": 8,
      "id": "owD2qzjsKPmx",
      "metadata": {
        "colab": {
          "base_uri": "https://localhost:8080/"
        },
        "id": "owD2qzjsKPmx",
        "outputId": "bf62f648-f14e-46c2-ded2-e75e86bb2cb5"
      },
      "outputs": [
        {
          "output_type": "stream",
          "name": "stdout",
          "text": [
            "=== SET Metadata ===\n",
            "  participant_id Gender  Age Group  MMSE  label\n",
            "0        sub-001      F   57     A    16      1\n",
            "1        sub-002      F   78     A    22      1\n",
            "2        sub-003      M   70     A    14      1\n",
            "3        sub-004      F   67     A    20      1\n",
            "4        sub-005      M   70     A    22      1\n",
            "=== BDF Metadata ===\n",
            "  participant_id  age gender hand  MMSE  NAART  disease_duration  \\\n",
            "0        sub-hc1   54      f    r    30     48               NaN   \n",
            "1        sub-hc2   50      f    r    30     55               NaN   \n",
            "2        sub-pd3   52      f    r    29     44               9.0   \n",
            "3        sub-hc4   50      f    r    30     52               NaN   \n",
            "4        sub-pd5   67      f    r    29     48               2.0   \n",
            "\n",
            "                     rl_deficits notes  label  \n",
            "0                            NaN   NaN      0  \n",
            "1                            NaN   NaN      0  \n",
            "2                              R   NaN      2  \n",
            "3                            NaN   NaN      0  \n",
            "4  No clear side, perhaps more L   NaN      2  \n",
            "✅ Loaded normalized dataset: (134, 15, 46336)\n",
            "Missing from SET metadata: []\n",
            "Missing from BDF metadata: []\n",
            "✅ Labels shape: (134,)\n",
            "Class distribution:\n",
            " 0    45\n",
            "1    36\n",
            "2    30\n",
            "3    23\n",
            "Name: count, dtype: int64\n",
            "💾 Saved normalized X as 'X_normalized.npy', labels as 'y_all.npy', and ID-label mapping (local + Google Drive)\n"
          ]
        }
      ],
      "source": [
        "import numpy as np\n",
        "import pandas as pd\n",
        "from pathlib import Path\n",
        "\n",
        "# ===== 1️⃣ Load participant metadata =====\n",
        "df_set = pd.read_csv(\"/content/drive/MyDrive/EEG_Project/participants_set.tsv\", sep=\"\\t\")\n",
        "df_bdf = pd.read_csv(\"/content/drive/MyDrive/EEG_Project/participants_bdf.tsv\", sep=\"\\t\")\n",
        "\n",
        "# Map groups to labels (Healthy=0, AD=1, PD=2, Dementia=3)\n",
        "# Based on the documentation:\n",
        "# dataset_1 (set files): A - AD, F - FTD (Dementia), C - Control (Healthy)\n",
        "# dataset_2 (bdf files): hc - Healthy Control, pd - Parkinson's Disease (PD)\n",
        "\n",
        "group_map_set = {'A': 1, 'F': 3, 'C': 0} # AD=1, Dementia=3, Healthy=0\n",
        "df_set[\"label\"] = df_set[\"Group\"].map(group_map_set)\n",
        "\n",
        "# For BDF, 'hc' is Healthy (0), 'pd' is Parkinson's Disease (2)\n",
        "df_bdf[\"label\"] = df_bdf[\"participant_id\"].apply(lambda x: 0 if \"hc\" in x.lower() else 2) # Healthy=0, PD=2\n",
        "\n",
        "\n",
        "print(\"=== SET Metadata ===\")\n",
        "print(df_set.head())\n",
        "print(\"=== BDF Metadata ===\")\n",
        "print(df_bdf.head())\n",
        "\n",
        "# ===== 2️⃣ Load normalized data =====\n",
        "X_normalized = np.load('/content/drive/MyDrive/X_normalized.npy')\n",
        "print(\"✅ Loaded normalized dataset:\", X_normalized.shape)\n",
        "\n",
        "# ===== 3️⃣ Match participant IDs with labels =====\n",
        "ids_set = [Path(raw.filenames[0]).parts[-3] for raw in all_set_data]\n",
        "ids_bdf = [Path(raw.filenames[0]).parts[-4] for raw in all_bdf_data]\n",
        "\n",
        "# Check for missing IDs in metadata - still useful for verification\n",
        "missing_set = [sid for sid in ids_set if sid not in df_set[\"participant_id\"].values]\n",
        "missing_bdf = [sid for sid in ids_bdf if sid not in df_bdf[\"participant_id\"].values]\n",
        "print(\"Missing from SET metadata:\", missing_set)\n",
        "print(\"Missing from BDF metadata:\", missing_bdf)\n",
        "\n",
        "# ===== 4️⃣ Build labels array =====\n",
        "y_all = []\n",
        "id_all = []\n",
        "\n",
        "# Get labels from SET data\n",
        "for raw in all_set_data:\n",
        "    sid = Path(raw.filenames[0]).parts[-3]\n",
        "    # Ensure the participant ID exists in the metadata before accessing the label\n",
        "    if sid in df_set[\"participant_id\"].values:\n",
        "        label = df_set.loc[df_set[\"participant_id\"] == sid, \"label\"].values[0]\n",
        "        y_all.append(label)\n",
        "        id_all.append(sid)\n",
        "    else:\n",
        "        print(f\"Warning: Participant ID {sid} from SET file not found in SET metadata. Skipping.\")\n",
        "\n",
        "\n",
        "# Get labels from BDF data\n",
        "for raw in all_bdf_data:\n",
        "    sid = Path(raw.filenames[0]).parts[-4]\n",
        "    # Ensure the participant ID exists in the metadata before accessing the label\n",
        "    if sid in df_bdf[\"participant_id\"].values:\n",
        "        label = df_bdf.loc[df_bdf[\"participant_id\"] == sid, \"label\"].values[0]\n",
        "        y_all.append(label)\n",
        "        id_all.append(sid)\n",
        "    else:\n",
        "         print(f\"Warning: Participant ID {sid} from BDF file not found in BDF metadata. Skipping.\")\n",
        "\n",
        "\n",
        "y_all = np.array(y_all)\n",
        "id_all = np.array(id_all)\n",
        "\n",
        "print(\"✅ Labels shape:\", y_all.shape)\n",
        "print(\"Class distribution:\\n\", pd.Series(y_all).value_counts())\n",
        "\n",
        "# ===== 5️⃣ Save labeled normalized dataset =====\n",
        "np.save(\"X_normalized.npy\", X_normalized)   # keep normalized data\n",
        "np.save(\"y_all.npy\", y_all)\n",
        "np.save('/content/drive/MyDrive/X_normalized.npy', X_normalized)\n",
        "np.save('/content/drive/MyDrive/y_all.npy', y_all)\n",
        "\n",
        "\n",
        "pd.DataFrame({\"ID\": id_all, \"label\": y_all}).to_csv(\"id_labels.csv\", index=False)\n",
        "pd.DataFrame({\"ID\": id_all, \"label\": y_all}).to_csv(\"/content/drive/MyDrive/id_labels.csv\", index=False) # Save to Drive as well\n",
        "\n",
        "\n",
        "print(\"💾 Saved normalized X as 'X_normalized.npy', labels as 'y_all.npy', and ID-label mapping (local + Google Drive)\")"
      ]
    },
    {
      "cell_type": "markdown",
      "id": "fFmINOHgw1z5",
      "metadata": {
        "id": "fFmINOHgw1z5"
      },
      "source": []
    },
    {
      "cell_type": "code",
      "execution_count": 9,
      "id": "ep4gdVCWDIYy",
      "metadata": {
        "colab": {
          "base_uri": "https://localhost:8080/"
        },
        "id": "ep4gdVCWDIYy",
        "outputId": "b883fd6d-6262-4051-f397-a4a7aa2adc98"
      },
      "outputs": [
        {
          "output_type": "stream",
          "name": "stdout",
          "text": [
            "           ID  Label Label_Name\n",
            "0     sub-005      1         AD\n",
            "1     sub-003      1         AD\n",
            "2     sub-001      1         AD\n",
            "3     sub-006      1         AD\n",
            "4     sub-004      1         AD\n",
            "..        ...    ...        ...\n",
            "129  sub-pd23      2         PD\n",
            "130  sub-pd26      2         PD\n",
            "131  sub-pd26      2         PD\n",
            "132  sub-pd28      2         PD\n",
            "133  sub-pd28      2         PD\n",
            "\n",
            "[134 rows x 3 columns]\n",
            "💾 Saved to /content/drive/MyDrive/dataset_overview.csv\n",
            "\n",
            "Class distribution:\n",
            "Label_Name\n",
            "Healthy     45\n",
            "AD          36\n",
            "PD          30\n",
            "Dementia    23\n",
            "Name: count, dtype: int64\n"
          ]
        }
      ],
      "source": [
        "import pandas as pd\n",
        "\n",
        "\n",
        "df_overview = pd.DataFrame({\n",
        "    \"ID\": id_all,\n",
        "    \"Label\": y_all\n",
        "})\n",
        "\n",
        "\n",
        "# Updated label_map for multi-class classification\n",
        "label_map = {0: \"Healthy\", 1: \"AD\", 2: \"PD\", 3: \"Dementia\"}\n",
        "df_overview[\"Label_Name\"] = df_overview[\"Label\"].map(label_map)\n",
        "\n",
        "\n",
        "print(df_overview)\n",
        "\n",
        "\n",
        "df_overview.to_csv(\"/content/drive/MyDrive/dataset_overview.csv\", index=False)\n",
        "print(\"💾 Saved to /content/drive/MyDrive/dataset_overview.csv\")\n",
        "\n",
        "print(\"\\nClass distribution:\")\n",
        "print(df_overview[\"Label_Name\"].value_counts())"
      ]
    },
    {
      "cell_type": "code",
      "execution_count": 11,
      "id": "Fi41MKGOFq54",
      "metadata": {
        "colab": {
          "base_uri": "https://localhost:8080/"
        },
        "id": "Fi41MKGOFq54",
        "outputId": "e4105e74-411a-412e-a8b8-e15da473f195"
      },
      "outputs": [
        {
          "output_type": "stream",
          "name": "stdout",
          "text": [
            "Index 0: shape = (15, 46336)\n",
            "Index 1: shape = (15, 46336)\n",
            "Index 2: shape = (15, 46336)\n",
            "Index 3: shape = (15, 46336)\n",
            "Index 4: shape = (15, 46336)\n",
            "Index 5: shape = (15, 46336)\n",
            "Index 6: shape = (15, 46336)\n",
            "Index 7: shape = (15, 46336)\n",
            "Index 8: shape = (15, 46336)\n",
            "Index 9: shape = (15, 46336)\n",
            "Index 10: shape = (15, 46336)\n",
            "Index 11: shape = (15, 46336)\n",
            "Index 12: shape = (15, 46336)\n",
            "Index 13: shape = (15, 46336)\n",
            "Index 14: shape = (15, 46336)\n",
            "Index 15: shape = (15, 46336)\n",
            "Index 16: shape = (15, 46336)\n",
            "Index 17: shape = (15, 46336)\n",
            "Index 18: shape = (15, 46336)\n",
            "Index 19: shape = (15, 46336)\n",
            "Index 20: shape = (15, 46336)\n",
            "Index 21: shape = (15, 46336)\n",
            "Index 22: shape = (15, 46336)\n",
            "Index 23: shape = (15, 46336)\n",
            "Index 24: shape = (15, 46336)\n",
            "Index 25: shape = (15, 46336)\n",
            "Index 26: shape = (15, 46336)\n",
            "Index 27: shape = (15, 46336)\n",
            "Index 28: shape = (15, 46336)\n",
            "Index 29: shape = (15, 46336)\n",
            "Index 30: shape = (15, 46336)\n",
            "Index 31: shape = (15, 46336)\n",
            "Index 32: shape = (15, 46336)\n",
            "Index 33: shape = (15, 46336)\n",
            "Index 34: shape = (15, 46336)\n",
            "Index 35: shape = (15, 46336)\n",
            "Index 36: shape = (15, 46336)\n",
            "Index 37: shape = (15, 46336)\n",
            "Index 38: shape = (15, 46336)\n",
            "Index 39: shape = (15, 46336)\n",
            "Index 40: shape = (15, 46336)\n",
            "Index 41: shape = (15, 46336)\n",
            "Index 42: shape = (15, 46336)\n",
            "Index 43: shape = (15, 46336)\n",
            "Index 44: shape = (15, 46336)\n",
            "Index 45: shape = (15, 46336)\n",
            "Index 46: shape = (15, 46336)\n",
            "Index 47: shape = (15, 46336)\n",
            "Index 48: shape = (15, 46336)\n",
            "Index 49: shape = (15, 46336)\n",
            "Index 50: shape = (15, 46336)\n",
            "Index 51: shape = (15, 46336)\n",
            "Index 52: shape = (15, 46336)\n",
            "Index 53: shape = (15, 46336)\n",
            "Index 54: shape = (15, 46336)\n",
            "Index 55: shape = (15, 46336)\n",
            "Index 56: shape = (15, 46336)\n",
            "Index 57: shape = (15, 46336)\n",
            "Index 58: shape = (15, 46336)\n",
            "Index 59: shape = (15, 46336)\n",
            "Index 60: shape = (15, 46336)\n",
            "Index 61: shape = (15, 46336)\n",
            "Index 62: shape = (15, 46336)\n",
            "Index 63: shape = (15, 46336)\n",
            "Index 64: shape = (15, 46336)\n",
            "Index 65: shape = (15, 46336)\n",
            "Index 66: shape = (15, 46336)\n",
            "Index 67: shape = (15, 46336)\n",
            "Index 68: shape = (15, 46336)\n",
            "Index 69: shape = (15, 46336)\n",
            "Index 70: shape = (15, 46336)\n",
            "Index 71: shape = (15, 46336)\n",
            "Index 72: shape = (15, 46336)\n",
            "Index 73: shape = (15, 46336)\n",
            "Index 74: shape = (15, 46336)\n",
            "Index 75: shape = (15, 46336)\n",
            "Index 76: shape = (15, 46336)\n",
            "Index 77: shape = (15, 46336)\n",
            "Index 78: shape = (15, 46336)\n",
            "Index 79: shape = (15, 46336)\n",
            "Index 80: shape = (15, 46336)\n",
            "Index 81: shape = (15, 46336)\n",
            "Index 82: shape = (15, 46336)\n",
            "Index 83: shape = (15, 46336)\n",
            "Index 84: shape = (15, 46336)\n",
            "Index 85: shape = (15, 46336)\n",
            "Index 86: shape = (15, 46336)\n",
            "Index 87: shape = (15, 46336)\n",
            "Index 88: shape = (15, 46336)\n",
            "Index 89: shape = (15, 46336)\n",
            "Index 90: shape = (15, 46336)\n",
            "Index 91: shape = (15, 46336)\n",
            "Index 92: shape = (15, 46336)\n",
            "Index 93: shape = (15, 46336)\n",
            "Index 94: shape = (15, 46336)\n",
            "Index 95: shape = (15, 46336)\n",
            "Index 96: shape = (15, 46336)\n",
            "Index 97: shape = (15, 46336)\n",
            "Index 98: shape = (15, 46336)\n",
            "Index 99: shape = (15, 46336)\n",
            "Index 100: shape = (15, 46336)\n",
            "Index 101: shape = (15, 46336)\n",
            "Index 102: shape = (15, 46336)\n",
            "Index 103: shape = (15, 46336)\n",
            "Index 104: shape = (15, 46336)\n",
            "Index 105: shape = (15, 46336)\n",
            "Index 106: shape = (15, 46336)\n",
            "Index 107: shape = (15, 46336)\n",
            "Index 108: shape = (15, 46336)\n",
            "Index 109: shape = (15, 46336)\n",
            "Index 110: shape = (15, 46336)\n",
            "Index 111: shape = (15, 46336)\n",
            "Index 112: shape = (15, 46336)\n",
            "Index 113: shape = (15, 46336)\n",
            "Index 114: shape = (15, 46336)\n",
            "Index 115: shape = (15, 46336)\n",
            "Index 116: shape = (15, 46336)\n",
            "Index 117: shape = (15, 46336)\n",
            "Index 118: shape = (15, 46336)\n",
            "Index 119: shape = (15, 46336)\n",
            "Index 120: shape = (15, 46336)\n",
            "Index 121: shape = (15, 46336)\n",
            "Index 122: shape = (15, 46336)\n",
            "Index 123: shape = (15, 46336)\n",
            "Index 124: shape = (15, 46336)\n",
            "Index 125: shape = (15, 46336)\n",
            "Index 126: shape = (15, 46336)\n",
            "Index 127: shape = (15, 46336)\n",
            "Index 128: shape = (15, 46336)\n",
            "Index 129: shape = (15, 46336)\n",
            "Index 130: shape = (15, 46336)\n",
            "Index 131: shape = (15, 46336)\n",
            "Index 132: shape = (15, 46336)\n",
            "Index 133: shape = (15, 46336)\n"
          ]
        }
      ],
      "source": [
        "for i, arr in enumerate(X_all):\n",
        "    print(f\"Index {i}: shape = {np.array(arr).shape}\")\n"
      ]
    },
    {
      "cell_type": "code",
      "source": [
        "import numpy as np\n",
        "from imblearn.over_sampling import SMOTE\n",
        "from collections import Counter\n",
        "\n",
        "# ===== 1️⃣ Load the data =====\n",
        "X_normalized = np.load('/content/drive/MyDrive/X_normalized.npy')\n",
        "y_all = np.load('/content/drive/MyDrive/y_all.npy')\n",
        "\n",
        "print(\"Original Data Shape:\", X_normalized.shape)\n",
        "print(\"Original Labels Shape:\", y_all.shape)\n",
        "print(\"Original Class Distribution:\", Counter(y_all))\n",
        "\n",
        "# ===== 2️⃣ Reshape for SMOTE =====\n",
        "n_samples, n_channels, n_times = X_normalized.shape\n",
        "X_reshaped = X_normalized.reshape(n_samples, n_channels * n_times)\n",
        "\n",
        "# ===== 3️⃣ Apply SMOTE with target of 100 samples per class =====\n",
        "target_samples = 100\n",
        "sampling_strategy = {0: target_samples, 1: target_samples, 2: target_samples, 3: target_samples}\n",
        "\n",
        "print(\"\\nApplying SMOTE...\")\n",
        "smote = SMOTE(sampling_strategy=sampling_strategy, random_state=42)\n",
        "X_resampled, y_resampled = smote.fit_resample(X_reshaped, y_all)\n",
        "\n",
        "# ===== 4️⃣ Reshape back to original EEG format =====\n",
        "X_resampled = X_resampled.reshape(-1, n_channels, n_times)\n",
        "\n",
        "print(\"\\n✅ SMOTE applied with target 100 samples per class.\")\n",
        "print(\"Resampled Data Shape:\", X_resampled.shape)\n",
        "print(\"Resampled Labels Shape:\", y_resampled.shape)\n",
        "print(\"Resampled Class Distribution:\", Counter(y_resampled))\n",
        "\n",
        "# ===== 5️⃣ Save the resampled data =====\n",
        "np.save('/content/drive/MyDrive/X_resampled.npy', X_resampled)\n",
        "np.save('/content/drive/MyDrive/y_resampled.npy', y_resampled)\n",
        "\n",
        "print(\"\\n💾 Files saved successfully:\")\n",
        "print(\"→ /content/drive/MyDrive/X_resampled.npy\")\n",
        "print(\"→ /content/drive/MyDrive/y_resampled.npy\")\n"
      ],
      "metadata": {
        "colab": {
          "base_uri": "https://localhost:8080/"
        },
        "id": "d0t-UuGaLhrC",
        "outputId": "c46ba99e-d691-4bc7-ba7c-f57762511545"
      },
      "id": "d0t-UuGaLhrC",
      "execution_count": 11,
      "outputs": [
        {
          "output_type": "stream",
          "name": "stdout",
          "text": [
            "Original Data Shape: (134, 15, 46336)\n",
            "Original Labels Shape: (134,)\n",
            "Original Class Distribution: Counter({np.int64(0): 45, np.int64(1): 36, np.int64(2): 30, np.int64(3): 23})\n",
            "\n",
            "Applying SMOTE...\n",
            "\n",
            "✅ SMOTE applied with target 100 samples per class.\n",
            "Resampled Data Shape: (400, 15, 46336)\n",
            "Resampled Labels Shape: (400,)\n",
            "Resampled Class Distribution: Counter({np.int64(1): 100, np.int64(0): 100, np.int64(3): 100, np.int64(2): 100})\n",
            "\n",
            "💾 Files saved successfully:\n",
            "→ /content/drive/MyDrive/X_resampled.npy\n",
            "→ /content/drive/MyDrive/y_resampled.npy\n"
          ]
        }
      ]
    },
    {
      "cell_type": "code",
      "source": [
        "X = np.load('/content/drive/MyDrive/X_resampled.npy')\n",
        "y = np.load('/content/drive/MyDrive/y_resampled.npy')\n"
      ],
      "metadata": {
        "id": "rQd3h2_KM5Yx"
      },
      "id": "rQd3h2_KM5Yx",
      "execution_count": 6,
      "outputs": []
    },
    {
      "cell_type": "code",
      "execution_count": 9,
      "id": "BQhCYyzY_UtP",
      "metadata": {
        "id": "BQhCYyzY_UtP"
      },
      "outputs": [],
      "source": [
        "import os\n",
        "import time\n",
        "import os, time, glob\n",
        "import numpy as np\n",
        "import pandas as pd\n",
        "import librosa as lb\n",
        "from tqdm import tqdm\n",
        "import seaborn as sns\n",
        "from scipy.io import loadmat\n",
        "from scipy.signal.windows import gaussian\n",
        "import matplotlib.pyplot as plt\n",
        "import tensorflow as tf\n",
        "from sklearn.model_selection import train_test_split\n",
        "from sklearn.preprocessing import OneHotEncoder, StandardScaler\n",
        "from sklearn import metrics\n",
        "from keras.regularizers import l2\n",
        "from tensorflow.random import set_seed\n",
        "from keras.models import Sequential\n",
        "from keras.layers import Dense, Dropout, Flatten, Conv2D, MaxPool2D, GlobalAveragePooling2D, AvgPool2D\n",
        "from keras import Model, Input\n",
        "from tensorflow.keras.optimizers import Adam\n",
        "from keras.models import load_model"
      ]
    },
    {
      "cell_type": "code",
      "execution_count": 12,
      "id": "6ok4rd1WD7F-",
      "metadata": {
        "colab": {
          "base_uri": "https://localhost:8080/"
        },
        "id": "6ok4rd1WD7F-",
        "outputId": "a9d8a80a-8ba9-4d24-e95b-c611eefccab8"
      },
      "outputs": [
        {
          "output_type": "stream",
          "name": "stdout",
          "text": [
            "✅ SMOTE-resampled data loaded.\n",
            "X shape: (400, 15, 46336)\n",
            "y shape: (400,)\n",
            "Class Distribution: Counter({np.int64(1): 100, np.int64(0): 100, np.int64(3): 100, np.int64(2): 100})\n",
            "\n",
            "✅ Split Complete.\n",
            "Train: (240, 15, 46336), (240,)\n",
            "Val  : (80, 15, 46336), (80,)\n",
            "Test : (80, 15, 46336), (80,)\n",
            "\n",
            "Class Distribution:\n",
            "Train: Counter({np.int64(3): 60, np.int64(0): 60, np.int64(2): 60, np.int64(1): 60})\n",
            "Val  : Counter({np.int64(1): 20, np.int64(0): 20, np.int64(3): 20, np.int64(2): 20})\n",
            "Test : Counter({np.int64(0): 20, np.int64(3): 20, np.int64(2): 20, np.int64(1): 20})\n"
          ]
        }
      ],
      "source": [
        "import numpy as np\n",
        "from sklearn.model_selection import train_test_split\n",
        "from collections import Counter\n",
        "\n",
        "# ===== 1️⃣ Load the already SMOTE-resampled dataset =====\n",
        "X = np.load(\"/content/drive/MyDrive/X_resampled.npy\")   # (N, 15, 46336)\n",
        "y = np.load(\"/content/drive/MyDrive/y_resampled.npy\")   # (N,)\n",
        "\n",
        "print(\"✅ SMOTE-resampled data loaded.\")\n",
        "print(\"X shape:\", X.shape)\n",
        "print(\"y shape:\", y.shape)\n",
        "print(\"Class Distribution:\", Counter(y))\n",
        "\n",
        "# ===== 2️⃣ Split into Train (60%), Temp (40%) =====\n",
        "X_train, X_temp, y_train, y_temp = train_test_split(\n",
        "    X, y, test_size=0.40, random_state=42, stratify=y\n",
        ")\n",
        "\n",
        "# ===== 3️⃣ Split Temp into Validation (20%) and Test (20%) =====\n",
        "X_val, X_test, y_val, y_test = train_test_split(\n",
        "    X_temp, y_temp, test_size=0.50, random_state=42, stratify=y_temp\n",
        ")\n",
        "\n",
        "# ===== 4️⃣ Print Summary =====\n",
        "print(\"\\n✅ Split Complete.\")\n",
        "print(f\"Train: {X_train.shape}, {y_train.shape}\")\n",
        "print(f\"Val  : {X_val.shape}, {y_val.shape}\")\n",
        "print(f\"Test : {X_test.shape}, {y_test.shape}\")\n",
        "\n",
        "print(\"\\nClass Distribution:\")\n",
        "print(\"Train:\", Counter(y_train))\n",
        "print(\"Val  :\", Counter(y_val))\n",
        "print(\"Test :\", Counter(y_test))\n"
      ]
    },
    {
      "cell_type": "code",
      "execution_count": 13,
      "id": "TgSeMMv8-0R1",
      "metadata": {
        "id": "TgSeMMv8-0R1"
      },
      "outputs": [],
      "source": [
        "import torch\n",
        "import torch.nn as nn\n",
        "\n",
        "# Depthwise Separable Conv1d Block\n",
        "class DepthwiseSeparableConv1d(nn.Module):\n",
        "    def __init__(self, in_channels, out_channels, kernel_size, stride=1, dropout=0.3):\n",
        "        super().__init__()\n",
        "        padding = kernel_size // 2  # same padding to preserve temporal context\n",
        "        self.depthwise = nn.Conv1d(\n",
        "            in_channels, in_channels, kernel_size,\n",
        "            stride=stride, padding=padding, groups=in_channels\n",
        "        )\n",
        "        self.pointwise = nn.Conv1d(in_channels, out_channels, kernel_size=1)\n",
        "        self.bn = nn.BatchNorm1d(out_channels)\n",
        "        self.dropout = nn.Dropout(dropout)\n",
        "\n",
        "    def forward(self, x):\n",
        "        x = self.depthwise(x)\n",
        "        x = self.pointwise(x)\n",
        "        x = self.bn(x)\n",
        "        x = torch.tanh(x)\n",
        "        return self.dropout(x)\n",
        "\n",
        "\n",
        "class STEADYNet1D(nn.Module):\n",
        "    def __init__(self, num_classes=4, dropout=0.25):\n",
        "        super(STEADYNet1D, self).__init__()\n",
        "\n",
        "        # Input: (B, 15, 23168)\n",
        "        self.conv1 = nn.Conv1d(15, 16, kernel_size=7, stride=2, padding=7)\n",
        "        self.bn1 = nn.BatchNorm1d(16)\n",
        "\n",
        "        self.conv2 = nn.Conv1d(16, 32, kernel_size=5, stride=2, padding=5)\n",
        "        self.bn2 = nn.BatchNorm1d(32)\n",
        "\n",
        "        self.conv3 = nn.Conv1d(32, 64, kernel_size=3, stride=2, padding=3)\n",
        "        self.bn3 = nn.BatchNorm1d(64)\n",
        "\n",
        "        self.conv4 = nn.Conv1d(64, 128, kernel_size=3, stride=2, padding=2)\n",
        "        self.bn4 = nn.BatchNorm1d(128)\n",
        "\n",
        "        self.conv5 = nn.Conv1d(128, 256, kernel_size=3, stride=2, padding=1)\n",
        "        self.bn5 = nn.BatchNorm1d(256)\n",
        "\n",
        "        # Depthwise Separable Conv\n",
        "        self.conv6 = DepthwiseSeparableConv1d(256, 256, kernel_size=3, stride=1, dropout=dropout)\n",
        "\n",
        "        # Global average pooling\n",
        "        self.global_pool = nn.AdaptiveAvgPool1d(128)  # output: (B, 256, 128)\n",
        "\n",
        "        # GRU for temporal dynamics\n",
        "        self.gru = nn.GRU(\n",
        "            input_size=256,\n",
        "            hidden_size=64,\n",
        "            batch_first=True,\n",
        "            bidirectional=True\n",
        "        )\n",
        "\n",
        "        # Classifier\n",
        "        self.fc = nn.Linear(64 * 2, num_classes)\n",
        "\n",
        "    def forward(self, x):\n",
        "        if x.dim() == 4 and x.shape[-1] == 1:\n",
        "            x = x.squeeze(-1)  # (B, 15, 23168)\n",
        "\n",
        "        # Feature extraction with tanh\n",
        "        x = torch.tanh(self.bn1(self.conv1(x)))\n",
        "        x = torch.tanh(self.bn2(self.conv2(x)))\n",
        "        x = torch.tanh(self.bn3(self.conv3(x)))\n",
        "        x = torch.tanh(self.bn4(self.conv4(x)))\n",
        "        x = torch.tanh(self.bn5(self.conv5(x)))\n",
        "\n",
        "        # Depthwise separable conv\n",
        "        x = self.conv6(x)\n",
        "\n",
        "        # Pooling\n",
        "        x = self.global_pool(x)  # (B, 256, 128)\n",
        "\n",
        "        # Prepare for GRU\n",
        "        x = x.permute(0, 2, 1)  # (B, 128, 256)\n",
        "\n",
        "        # GRU\n",
        "        out, _ = self.gru(x)\n",
        "        out = out[:, -1, :]  # last time step\n",
        "\n",
        "        # Classification\n",
        "        return self.fc(out)\n"
      ]
    },
    {
      "cell_type": "code",
      "execution_count": 14,
      "id": "ElZOeCcJ-64d",
      "metadata": {
        "id": "ElZOeCcJ-64d"
      },
      "outputs": [],
      "source": [
        "class EEGDataset(torch.utils.data.Dataset):\n",
        "    def __init__(self, X, y):\n",
        "        self.X = torch.tensor(X, dtype=torch.float32)   # (N, 15, 23168)\n",
        "        self.y = torch.tensor(y, dtype=torch.long)\n",
        "\n",
        "    def __len__(self):\n",
        "        return len(self.X)\n",
        "\n",
        "    def __getitem__(self, idx):\n",
        "        return self.X[idx], self.y[idx]\n"
      ]
    },
    {
      "cell_type": "code",
      "execution_count": 15,
      "id": "Mfar5e00BhuA",
      "metadata": {
        "id": "Mfar5e00BhuA"
      },
      "outputs": [],
      "source": [
        "from torch.utils.data import DataLoader, WeightedRandomSampler\n",
        "batch_size = 128\n",
        "\n",
        "# Create datasets\n",
        "train_dataset = EEGDataset(X_train, y_train)\n",
        "val_dataset   = EEGDataset(X_val, y_val)\n",
        "test_dataset  = EEGDataset(X_test, y_test)\n",
        "\n",
        "# Create dataloaders\n",
        "train_loader = DataLoader(train_dataset, batch_size=batch_size, shuffle=True)\n",
        "val_loader   = DataLoader(val_dataset, batch_size=batch_size, shuffle=False)\n",
        "test_loader  = DataLoader(test_dataset, batch_size=batch_size, shuffle=False)\n"
      ]
    },
    {
      "cell_type": "code",
      "execution_count": 21,
      "id": "ukuVABdnAvXG",
      "metadata": {
        "colab": {
          "base_uri": "https://localhost:8080/",
          "height": 1000
        },
        "id": "ukuVABdnAvXG",
        "outputId": "dcf872c4-db56-4472-d755-265168e9d598"
      },
      "outputs": [
        {
          "output_type": "stream",
          "name": "stdout",
          "text": [
            "Shape of training data being used: (240, 15, 46336) (240,)\n",
            "Shape of validation data being used: (80, 15, 46336) (80,)\n",
            "Shape of test data being used: (80, 15, 46336) (80,)\n",
            "Epoch [1/70]\n",
            "  Train Loss: 1.3793 | Train Acc: 0.2875\n",
            "  Val   Loss: 1.3570 | Val Acc: 0.3500\n",
            "  Test  Loss: 1.3336 | Test Acc: 0.3500\n",
            "✅ New best model saved (epoch 1, Test acc: 0.3500)\n",
            "Epoch [2/70]\n",
            "  Train Loss: 1.1631 | Train Acc: 0.4250\n",
            "  Val   Loss: 1.1336 | Val Acc: 0.4250\n",
            "  Test  Loss: 1.1027 | Test Acc: 0.4375\n",
            "✅ New best model saved (epoch 2, Test acc: 0.4375)\n",
            "Epoch [3/70]\n",
            "  Train Loss: 0.9412 | Train Acc: 0.5583\n",
            "  Val   Loss: 1.0380 | Val Acc: 0.4875\n",
            "  Test  Loss: 1.0163 | Test Acc: 0.5375\n",
            "✅ New best model saved (epoch 3, Test acc: 0.5375)\n",
            "Epoch [4/70]\n",
            "  Train Loss: 0.8327 | Train Acc: 0.6292\n",
            "  Val   Loss: 1.0927 | Val Acc: 0.4750\n",
            "  Test  Loss: 1.1098 | Test Acc: 0.4750\n",
            "Epoch [5/70]\n",
            "  Train Loss: 0.6948 | Train Acc: 0.6708\n",
            "  Val   Loss: 0.9403 | Val Acc: 0.5375\n",
            "  Test  Loss: 0.9910 | Test Acc: 0.5500\n",
            "✅ New best model saved (epoch 5, Test acc: 0.5500)\n",
            "Epoch [6/70]\n",
            "  Train Loss: 0.6348 | Train Acc: 0.7042\n",
            "  Val   Loss: 1.1508 | Val Acc: 0.5500\n",
            "  Test  Loss: 1.0731 | Test Acc: 0.5000\n",
            "✅ New best model saved (epoch 6, Test acc: 0.5000)\n",
            "Epoch [7/70]\n",
            "  Train Loss: 0.5415 | Train Acc: 0.7417\n",
            "  Val   Loss: 1.1717 | Val Acc: 0.4875\n",
            "  Test  Loss: 1.0562 | Test Acc: 0.4875\n",
            "Epoch [8/70]\n",
            "  Train Loss: 0.5642 | Train Acc: 0.7292\n",
            "  Val   Loss: 1.0602 | Val Acc: 0.5250\n",
            "  Test  Loss: 1.0460 | Test Acc: 0.5625\n",
            "Epoch [9/70]\n",
            "  Train Loss: 0.4903 | Train Acc: 0.7917\n",
            "  Val   Loss: 1.1541 | Val Acc: 0.5625\n",
            "  Test  Loss: 1.3010 | Test Acc: 0.5000\n",
            "✅ New best model saved (epoch 9, Test acc: 0.5000)\n",
            "Epoch [10/70]\n",
            "  Train Loss: 0.4383 | Train Acc: 0.8083\n",
            "  Val   Loss: 1.3601 | Val Acc: 0.5750\n",
            "  Test  Loss: 1.2381 | Test Acc: 0.5875\n",
            "✅ New best model saved (epoch 10, Test acc: 0.5875)\n",
            "Epoch [11/70]\n",
            "  Train Loss: 0.4211 | Train Acc: 0.8375\n",
            "  Val   Loss: 1.1114 | Val Acc: 0.6000\n",
            "  Test  Loss: 1.2304 | Test Acc: 0.5375\n",
            "✅ New best model saved (epoch 11, Test acc: 0.5375)\n",
            "Epoch [12/70]\n",
            "  Train Loss: 0.3566 | Train Acc: 0.8625\n",
            "  Val   Loss: 1.2584 | Val Acc: 0.5875\n",
            "  Test  Loss: 1.2283 | Test Acc: 0.6125\n",
            "Epoch [13/70]\n",
            "  Train Loss: 0.3234 | Train Acc: 0.8667\n",
            "  Val   Loss: 1.0678 | Val Acc: 0.6125\n",
            "  Test  Loss: 1.1008 | Test Acc: 0.6250\n",
            "✅ New best model saved (epoch 13, Test acc: 0.6250)\n",
            "Epoch [14/70]\n",
            "  Train Loss: 0.3108 | Train Acc: 0.8583\n",
            "  Val   Loss: 0.8460 | Val Acc: 0.7000\n",
            "  Test  Loss: 0.9362 | Test Acc: 0.6875\n",
            "✅ New best model saved (epoch 14, Test acc: 0.6875)\n",
            "Epoch [15/70]\n",
            "  Train Loss: 0.2960 | Train Acc: 0.8458\n",
            "  Val   Loss: 1.0835 | Val Acc: 0.6625\n",
            "  Test  Loss: 1.0239 | Test Acc: 0.5875\n",
            "Epoch [16/70]\n",
            "  Train Loss: 0.2349 | Train Acc: 0.9000\n",
            "  Val   Loss: 1.5101 | Val Acc: 0.5875\n",
            "  Test  Loss: 1.3430 | Test Acc: 0.5500\n",
            "Epoch [17/70]\n",
            "  Train Loss: 0.2021 | Train Acc: 0.9125\n",
            "  Val   Loss: 0.9377 | Val Acc: 0.6750\n",
            "  Test  Loss: 0.8199 | Test Acc: 0.6875\n",
            "Epoch [18/70]\n",
            "  Train Loss: 0.1887 | Train Acc: 0.9292\n",
            "  Val   Loss: 0.8631 | Val Acc: 0.7000\n",
            "  Test  Loss: 0.7146 | Test Acc: 0.7250\n",
            "Epoch [19/70]\n",
            "  Train Loss: 0.1672 | Train Acc: 0.9208\n",
            "  Val   Loss: 0.8473 | Val Acc: 0.7375\n",
            "  Test  Loss: 0.7228 | Test Acc: 0.7625\n",
            "✅ New best model saved (epoch 19, Test acc: 0.7625)\n",
            "Epoch [20/70]\n",
            "  Train Loss: 0.1550 | Train Acc: 0.9458\n",
            "  Val   Loss: 0.4501 | Val Acc: 0.7875\n",
            "  Test  Loss: 0.5237 | Test Acc: 0.7625\n",
            "✅ New best model saved (epoch 20, Test acc: 0.7625)\n",
            "Epoch [21/70]\n",
            "  Train Loss: 0.1078 | Train Acc: 0.9542\n",
            "  Val   Loss: 0.4699 | Val Acc: 0.8125\n",
            "  Test  Loss: 0.4507 | Test Acc: 0.8125\n",
            "✅ New best model saved (epoch 21, Test acc: 0.8125)\n",
            "Epoch [22/70]\n",
            "  Train Loss: 0.0939 | Train Acc: 0.9750\n",
            "  Val   Loss: 0.4722 | Val Acc: 0.8125\n",
            "  Test  Loss: 0.4644 | Test Acc: 0.7875\n",
            "Epoch [23/70]\n",
            "  Train Loss: 0.0691 | Train Acc: 0.9792\n",
            "  Val   Loss: 0.5155 | Val Acc: 0.8000\n",
            "  Test  Loss: 0.5342 | Test Acc: 0.8125\n",
            "Epoch [24/70]\n",
            "  Train Loss: 0.0646 | Train Acc: 0.9833\n",
            "  Val   Loss: 0.5289 | Val Acc: 0.8250\n",
            "  Test  Loss: 0.5667 | Test Acc: 0.8125\n",
            "✅ New best model saved (epoch 24, Test acc: 0.8125)\n",
            "Epoch [25/70]\n",
            "  Train Loss: 0.0490 | Train Acc: 0.9792\n",
            "  Val   Loss: 0.5984 | Val Acc: 0.8375\n",
            "  Test  Loss: 0.6390 | Test Acc: 0.8500\n",
            "✅ New best model saved (epoch 25, Test acc: 0.8500)\n",
            "Epoch [26/70]\n",
            "  Train Loss: 0.0483 | Train Acc: 0.9833\n",
            "  Val   Loss: 0.6119 | Val Acc: 0.8250\n",
            "  Test  Loss: 0.6832 | Test Acc: 0.8000\n",
            "Epoch [27/70]\n",
            "  Train Loss: 0.0346 | Train Acc: 0.9917\n",
            "  Val   Loss: 0.6202 | Val Acc: 0.8000\n",
            "  Test  Loss: 0.6632 | Test Acc: 0.8375\n",
            "Epoch [28/70]\n",
            "  Train Loss: 0.0340 | Train Acc: 1.0000\n",
            "  Val   Loss: 0.8555 | Val Acc: 0.8125\n",
            "  Test  Loss: 0.9321 | Test Acc: 0.7750\n",
            "Epoch [29/70]\n",
            "  Train Loss: 0.0399 | Train Acc: 0.9833\n",
            "  Val   Loss: 0.7814 | Val Acc: 0.7875\n",
            "  Test  Loss: 0.7688 | Test Acc: 0.8500\n",
            "Epoch [30/70]\n",
            "  Train Loss: 0.0411 | Train Acc: 0.9917\n",
            "  Val   Loss: 0.7796 | Val Acc: 0.7625\n",
            "  Test  Loss: 0.7146 | Test Acc: 0.8375\n",
            "Epoch [31/70]\n",
            "  Train Loss: 0.0233 | Train Acc: 0.9958\n",
            "  Val   Loss: 0.7149 | Val Acc: 0.8000\n",
            "  Test  Loss: 0.6657 | Test Acc: 0.8625\n",
            "Epoch [32/70]\n",
            "  Train Loss: 0.0207 | Train Acc: 1.0000\n",
            "  Val   Loss: 0.7482 | Val Acc: 0.7875\n",
            "  Test  Loss: 0.6770 | Test Acc: 0.8500\n",
            "Epoch [33/70]\n",
            "  Train Loss: 0.0169 | Train Acc: 1.0000\n",
            "  Val   Loss: 0.7117 | Val Acc: 0.8000\n",
            "  Test  Loss: 0.6495 | Test Acc: 0.8125\n",
            "Epoch [34/70]\n",
            "  Train Loss: 0.0143 | Train Acc: 1.0000\n",
            "  Val   Loss: 0.5828 | Val Acc: 0.8000\n",
            "  Test  Loss: 0.5588 | Test Acc: 0.8625\n",
            "Epoch [35/70]\n",
            "  Train Loss: 0.0110 | Train Acc: 1.0000\n",
            "  Val   Loss: 0.4991 | Val Acc: 0.8250\n",
            "  Test  Loss: 0.5109 | Test Acc: 0.8750\n",
            "Epoch [36/70]\n",
            "  Train Loss: 0.0107 | Train Acc: 1.0000\n",
            "  Val   Loss: 0.5458 | Val Acc: 0.8500\n",
            "  Test  Loss: 0.5577 | Test Acc: 0.8500\n",
            "✅ New best model saved (epoch 36, Test acc: 0.8500)\n",
            "Epoch [37/70]\n",
            "  Train Loss: 0.0138 | Train Acc: 0.9958\n",
            "  Val   Loss: 0.6789 | Val Acc: 0.8375\n",
            "  Test  Loss: 0.7096 | Test Acc: 0.8375\n",
            "Epoch [38/70]\n",
            "  Train Loss: 0.0095 | Train Acc: 1.0000\n",
            "  Val   Loss: 0.6738 | Val Acc: 0.8375\n",
            "  Test  Loss: 0.7139 | Test Acc: 0.8125\n",
            "Epoch [39/70]\n",
            "  Train Loss: 0.0093 | Train Acc: 1.0000\n",
            "  Val   Loss: 0.4703 | Val Acc: 0.8625\n",
            "  Test  Loss: 0.5210 | Test Acc: 0.8500\n",
            "✅ New best model saved (epoch 39, Test acc: 0.8500)\n",
            "Epoch [40/70]\n",
            "  Train Loss: 0.0078 | Train Acc: 1.0000\n",
            "  Val   Loss: 0.3951 | Val Acc: 0.8625\n",
            "  Test  Loss: 0.4715 | Test Acc: 0.8625\n",
            "Epoch [41/70]\n",
            "  Train Loss: 0.0079 | Train Acc: 1.0000\n",
            "  Val   Loss: 0.4013 | Val Acc: 0.8750\n",
            "  Test  Loss: 0.4832 | Test Acc: 0.8625\n",
            "✅ New best model saved (epoch 41, Test acc: 0.8625)\n",
            "Epoch [42/70]\n",
            "  Train Loss: 0.0067 | Train Acc: 1.0000\n",
            "  Val   Loss: 0.4360 | Val Acc: 0.8625\n",
            "  Test  Loss: 0.4986 | Test Acc: 0.8500\n",
            "Epoch [43/70]\n",
            "  Train Loss: 0.0067 | Train Acc: 1.0000\n",
            "  Val   Loss: 0.4513 | Val Acc: 0.8625\n",
            "  Test  Loss: 0.4845 | Test Acc: 0.8500\n",
            "Epoch [44/70]\n",
            "  Train Loss: 0.0063 | Train Acc: 1.0000\n",
            "  Val   Loss: 0.4787 | Val Acc: 0.8625\n",
            "  Test  Loss: 0.4828 | Test Acc: 0.8625\n",
            "Epoch [45/70]\n",
            "  Train Loss: 0.0058 | Train Acc: 1.0000\n",
            "  Val   Loss: 0.4635 | Val Acc: 0.8625\n",
            "  Test  Loss: 0.4549 | Test Acc: 0.8625\n",
            "Epoch [46/70]\n",
            "  Train Loss: 0.0047 | Train Acc: 1.0000\n",
            "  Val   Loss: 0.4464 | Val Acc: 0.8625\n",
            "  Test  Loss: 0.4342 | Test Acc: 0.8625\n",
            "Epoch [47/70]\n",
            "  Train Loss: 0.0051 | Train Acc: 1.0000\n",
            "  Val   Loss: 0.4411 | Val Acc: 0.8750\n",
            "  Test  Loss: 0.4295 | Test Acc: 0.8625\n",
            "Epoch [48/70]\n",
            "  Train Loss: 0.0044 | Train Acc: 1.0000\n",
            "  Val   Loss: 0.4475 | Val Acc: 0.8750\n",
            "  Test  Loss: 0.4374 | Test Acc: 0.8625\n",
            "Epoch [49/70]\n",
            "  Train Loss: 0.0041 | Train Acc: 1.0000\n",
            "  Val   Loss: 0.4674 | Val Acc: 0.8500\n",
            "  Test  Loss: 0.4594 | Test Acc: 0.8625\n",
            "Epoch [50/70]\n",
            "  Train Loss: 0.0036 | Train Acc: 1.0000\n",
            "  Val   Loss: 0.4845 | Val Acc: 0.8375\n",
            "  Test  Loss: 0.4800 | Test Acc: 0.8625\n",
            "Epoch [51/70]\n",
            "  Train Loss: 0.0058 | Train Acc: 1.0000\n",
            "  Val   Loss: 0.4821 | Val Acc: 0.8375\n",
            "  Test  Loss: 0.4770 | Test Acc: 0.8625\n",
            "Epoch [52/70]\n",
            "  Train Loss: 0.0034 | Train Acc: 1.0000\n",
            "  Val   Loss: 0.4727 | Val Acc: 0.8375\n",
            "  Test  Loss: 0.4647 | Test Acc: 0.8625\n",
            "Epoch [53/70]\n",
            "  Train Loss: 0.0033 | Train Acc: 1.0000\n",
            "  Val   Loss: 0.4614 | Val Acc: 0.8625\n",
            "  Test  Loss: 0.4526 | Test Acc: 0.8750\n",
            "Epoch [54/70]\n",
            "  Train Loss: 0.0030 | Train Acc: 1.0000\n",
            "  Val   Loss: 0.4479 | Val Acc: 0.8625\n",
            "  Test  Loss: 0.4398 | Test Acc: 0.8750\n",
            "Epoch [55/70]\n",
            "  Train Loss: 0.0031 | Train Acc: 1.0000\n",
            "  Val   Loss: 0.4309 | Val Acc: 0.8625\n",
            "  Test  Loss: 0.4264 | Test Acc: 0.8750\n",
            "Epoch [56/70]\n",
            "  Train Loss: 0.0027 | Train Acc: 1.0000\n",
            "  Val   Loss: 0.4151 | Val Acc: 0.8625\n",
            "  Test  Loss: 0.4164 | Test Acc: 0.8750\n",
            "Epoch [57/70]\n",
            "  Train Loss: 0.0026 | Train Acc: 1.0000\n",
            "  Val   Loss: 0.4056 | Val Acc: 0.8750\n",
            "  Test  Loss: 0.4115 | Test Acc: 0.8750\n",
            "Epoch [58/70]\n",
            "  Train Loss: 0.0028 | Train Acc: 1.0000\n",
            "  Val   Loss: 0.4017 | Val Acc: 0.8750\n",
            "  Test  Loss: 0.4111 | Test Acc: 0.8750\n",
            "Epoch [59/70]\n",
            "  Train Loss: 0.0024 | Train Acc: 1.0000\n",
            "  Val   Loss: 0.4004 | Val Acc: 0.8750\n",
            "  Test  Loss: 0.4123 | Test Acc: 0.8750\n",
            "Epoch [60/70]\n",
            "  Train Loss: 0.0024 | Train Acc: 1.0000\n",
            "  Val   Loss: 0.4052 | Val Acc: 0.8750\n",
            "  Test  Loss: 0.4189 | Test Acc: 0.8750\n",
            "Epoch [61/70]\n",
            "  Train Loss: 0.0024 | Train Acc: 1.0000\n",
            "  Val   Loss: 0.4092 | Val Acc: 0.8750\n",
            "  Test  Loss: 0.4224 | Test Acc: 0.8750\n",
            "Epoch [62/70]\n",
            "  Train Loss: 0.0032 | Train Acc: 1.0000\n",
            "  Val   Loss: 0.4135 | Val Acc: 0.8875\n",
            "  Test  Loss: 0.4283 | Test Acc: 0.8750\n",
            "✅ New best model saved (epoch 62, Test acc: 0.8750)\n",
            "Epoch [63/70]\n",
            "  Train Loss: 0.0031 | Train Acc: 1.0000\n",
            "  Val   Loss: 0.4173 | Val Acc: 0.8875\n",
            "  Test  Loss: 0.4330 | Test Acc: 0.8750\n",
            "Epoch [64/70]\n",
            "  Train Loss: 0.0025 | Train Acc: 1.0000\n",
            "  Val   Loss: 0.4211 | Val Acc: 0.8875\n",
            "  Test  Loss: 0.4372 | Test Acc: 0.8750\n",
            "Epoch [65/70]\n",
            "  Train Loss: 0.0024 | Train Acc: 1.0000\n",
            "  Val   Loss: 0.4240 | Val Acc: 0.8875\n",
            "  Test  Loss: 0.4406 | Test Acc: 0.8750\n",
            "Epoch [66/70]\n",
            "  Train Loss: 0.0022 | Train Acc: 1.0000\n",
            "  Val   Loss: 0.4271 | Val Acc: 0.8875\n",
            "  Test  Loss: 0.4443 | Test Acc: 0.8625\n",
            "Epoch [67/70]\n",
            "  Train Loss: 0.0025 | Train Acc: 1.0000\n",
            "  Val   Loss: 0.4313 | Val Acc: 0.8750\n",
            "  Test  Loss: 0.4484 | Test Acc: 0.8625\n",
            "Epoch [68/70]\n",
            "  Train Loss: 0.0023 | Train Acc: 1.0000\n",
            "  Val   Loss: 0.4356 | Val Acc: 0.8625\n",
            "  Test  Loss: 0.4520 | Test Acc: 0.8625\n",
            "Epoch [69/70]\n",
            "  Train Loss: 0.0023 | Train Acc: 1.0000\n",
            "  Val   Loss: 0.4380 | Val Acc: 0.8500\n",
            "  Test  Loss: 0.4537 | Test Acc: 0.8625\n",
            "Epoch [70/70]\n",
            "  Train Loss: 0.0023 | Train Acc: 1.0000\n",
            "  Val   Loss: 0.4422 | Val Acc: 0.8500\n",
            "  Test  Loss: 0.4571 | Test Acc: 0.8625\n",
            "\n",
            "🌟 Training finished.\n",
            "Best Model came from Epoch 62 with Val Acc: 0.8875\n",
            "Final Test Acc (best model): 0.8750\n"
          ]
        },
        {
          "output_type": "display_data",
          "data": {
            "text/plain": [
              "<Figure size 1200x500 with 2 Axes>"
            ],
            "image/png": "[encoded data removed]"
          },
          "metadata": {}
        },
        {
          "output_type": "display_data",
          "data": {
            "text/plain": [
              "<Figure size 800x600 with 1 Axes>"
            ],
            "image/png": "[encoded data removed]"
          },
          "metadata": {}
        },
        {
          "output_type": "stream",
          "name": "stdout",
          "text": [
            "\n",
            "=== ROC-AUC Scores ===\n",
            "Class 0: 0.9067\n",
            "Class 1: 0.9867\n",
            "Class 2: 0.9808\n",
            "Class 3: 0.9942\n",
            "Macro Avg ROC-AUC: 0.9724\n"
          ]
        }
      ],
      "source": [
        "import torch\n",
        "import torch.nn as nn\n",
        "import torch.optim as optim\n",
        "from torch.utils.data import DataLoader\n",
        "import numpy as np\n",
        "import matplotlib.pyplot as plt\n",
        "from sklearn.model_selection import train_test_split\n",
        "from sklearn.metrics import roc_curve, auc, roc_auc_score\n",
        "from collections import Counter\n",
        "from sklearn.preprocessing import label_binarize\n",
        "\n",
        "# ---- Dataset class ----\n",
        "class EEGDataset(torch.utils.data.Dataset):\n",
        "    def __init__(self, X, y):\n",
        "        self.X = torch.tensor(X, dtype=torch.float32)\n",
        "        if y.ndim > 1:\n",
        "            y = np.argmax(y, axis=1)\n",
        "        self.y = torch.tensor(y, dtype=torch.long)\n",
        "\n",
        "    def __len__(self):\n",
        "        return len(self.X)\n",
        "\n",
        "    def __getitem__(self, idx):\n",
        "        return self.X[idx], self.y[idx]\n",
        "\n",
        "\n",
        "# ============================\n",
        "# 🔹 Train / Val / Test Split\n",
        "# ============================\n",
        "print(\"Shape of training data being used:\", X_train.shape, y_train.shape)\n",
        "print(\"Shape of validation data being used:\", X_val.shape, y_val.shape)\n",
        "print(\"Shape of test data being used:\", X_test.shape, y_test.shape)\n",
        "\n",
        "# Original data for class weights\n",
        "X_original = np.load(\"/content/drive/MyDrive/X_normalized.npy\")\n",
        "y_original = np.load(\"/content/drive/MyDrive/y_all.npy\")\n",
        "\n",
        "_, _, y_train_original_for_weights, _ = train_test_split(\n",
        "    X_original, y_original, test_size=0.4, random_state=0, stratify=y_original\n",
        ")\n",
        "class_sample_counts = np.bincount(y_train_original_for_weights)\n",
        "\n",
        "# ============================\n",
        "# 🔹 DataLoaders\n",
        "# ============================\n",
        "try:\n",
        "    train_loader, val_loader, test_loader\n",
        "except NameError:\n",
        "    print(\"Creating DataLoaders within this cell as they were not found.\")\n",
        "    train_dataset = EEGDataset(X_train, y_train)\n",
        "    val_dataset   = EEGDataset(X_val, y_val)\n",
        "    test_dataset  = EEGDataset(X_test, y_test)\n",
        "    batch_size = 8\n",
        "    train_loader = DataLoader(train_dataset, batch_size=batch_size, shuffle=True)\n",
        "    val_loader   = DataLoader(val_dataset, batch_size=batch_size, shuffle=False)\n",
        "    test_loader  = DataLoader(test_dataset, batch_size=batch_size, shuffle=False)\n",
        "\n",
        "# ============================\n",
        "# 🔹 Model / Loss / Optimizer\n",
        "# ============================\n",
        "device = torch.device(\"cuda\" if torch.cuda.is_available() else \"cpu\")\n",
        "model = STEADYNet1D(num_classes=4, dropout=0.7).to(device)\n",
        "\n",
        "class_weights = 1.0 / class_sample_counts\n",
        "class_weights = class_weights / class_weights.sum()\n",
        "criterion = nn.CrossEntropyLoss(weight=torch.tensor(class_weights, dtype=torch.float).to(device))\n",
        "\n",
        "optimizer = optim.Adam(model.parameters(), lr=0.01, weight_decay=0)\n",
        "scheduler = optim.lr_scheduler.ReduceLROnPlateau(optimizer, patience=9, factor=0.5)\n",
        "\n",
        "# ============================\n",
        "# 🔹 Train / Eval Functions\n",
        "# ============================\n",
        "def train_one_epoch(model, loader, criterion, optimizer, device):\n",
        "    model.train()\n",
        "    running_loss, correct, total = 0.0, 0, 0\n",
        "    for X, y in loader:\n",
        "        X, y = X.to(device), y.to(device)\n",
        "        optimizer.zero_grad()\n",
        "        outputs = model(X)\n",
        "        loss = criterion(outputs, y)\n",
        "        loss.backward()\n",
        "        optimizer.step()\n",
        "\n",
        "        running_loss += loss.item() * X.size(0)\n",
        "        _, preds = torch.max(outputs, 1)\n",
        "        correct += (preds == y).sum().item()\n",
        "        total += y.size(0)\n",
        "\n",
        "    return running_loss / total, correct / total\n",
        "\n",
        "\n",
        "def evaluate(model, loader, criterion, device):\n",
        "    model.eval()\n",
        "    running_loss, correct, total = 0.0, 0, 0\n",
        "    all_labels, all_probs = [], []\n",
        "    with torch.no_grad():\n",
        "        for X, y in loader:\n",
        "            X, y = X.to(device), y.to(device)\n",
        "            outputs = model(X)\n",
        "            probs = torch.softmax(outputs, dim=1)\n",
        "            loss = criterion(outputs, y)\n",
        "\n",
        "            running_loss += loss.item() * X.size(0)\n",
        "            _, preds = torch.max(outputs, 1)\n",
        "            correct += (preds == y).sum().item()\n",
        "            total += y.size(0)\n",
        "\n",
        "            all_labels.append(y.cpu().numpy())\n",
        "            all_probs.append(probs.cpu().numpy())\n",
        "\n",
        "    all_labels = np.concatenate(all_labels)\n",
        "    all_probs = np.concatenate(all_probs)\n",
        "    return running_loss / total, correct / total, all_labels, all_probs\n",
        "\n",
        "\n",
        "# ============================\n",
        "# 🔹 Main Training Loop\n",
        "# ============================\n",
        "n_epochs = 70\n",
        "best_val_acc = 0.0\n",
        "best_epoch = 0\n",
        "best_model_path = \"best_model.pth\"\n",
        "\n",
        "train_losses, val_losses, test_losses = [], [], []\n",
        "train_accs, val_accs, test_accs = [], [], []\n",
        "\n",
        "for epoch in range(1, n_epochs + 1):\n",
        "    train_loss, train_acc = train_one_epoch(model, train_loader, criterion, optimizer, device)\n",
        "    val_loss, val_acc, _, _ = evaluate(model, val_loader, criterion, device)\n",
        "    test_loss, test_acc, _, _ = evaluate(model, test_loader, criterion, device)\n",
        "\n",
        "    scheduler.step(val_loss)\n",
        "\n",
        "    train_losses.append(train_loss)\n",
        "    val_losses.append(val_loss)\n",
        "    test_losses.append(test_loss)\n",
        "    train_accs.append(train_acc)\n",
        "    val_accs.append(val_acc)\n",
        "    test_accs.append(test_acc)\n",
        "\n",
        "    print(f\"Epoch [{epoch}/{n_epochs}]\")\n",
        "    print(f\"  Train Loss: {train_loss:.4f} | Train Acc: {train_acc:.4f}\")\n",
        "    print(f\"  Val   Loss: {val_loss:.4f} | Val Acc: {val_acc:.4f}\")\n",
        "    print(f\"  Test  Loss: {test_loss:.4f} | Test Acc: {test_acc:.4f}\")\n",
        "\n",
        "    if val_acc > best_val_acc:\n",
        "        best_val_acc = val_acc\n",
        "        best_epoch = epoch\n",
        "        torch.save(model.state_dict(), best_model_path)\n",
        "        print(f\"✅ New best model saved (epoch {epoch}, Test acc: {test_acc:.4f})\")\n",
        "\n",
        "# ============================\n",
        "# 🔹 Final Test Evaluation\n",
        "# ============================\n",
        "model.load_state_dict(torch.load(best_model_path))\n",
        "final_test_loss, final_test_acc, y_true, y_prob = evaluate(model, test_loader, criterion, device)\n",
        "\n",
        "print(f\"\\n🌟 Training finished.\")\n",
        "print(f\"Best Model came from Epoch {best_epoch} with Val Acc: {best_val_acc:.4f}\")\n",
        "print(f\"Final Test Acc (best model): {final_test_acc:.4f}\")\n",
        "\n",
        "# ============================\n",
        "# 🔹 Plot Metrics\n",
        "# ============================\n",
        "plt.figure(figsize=(12,5))\n",
        "plt.subplot(1,2,1)\n",
        "plt.plot(train_losses, label=\"Train Loss\")\n",
        "plt.plot(val_losses, label=\"Val Loss\")\n",
        "plt.xlabel(\"Epoch\")\n",
        "plt.ylabel(\"Loss\")\n",
        "plt.title(\"Loss over Epochs\")\n",
        "plt.legend()\n",
        "\n",
        "plt.subplot(1,2,2)\n",
        "plt.plot(train_accs, label=\"Train Acc\")\n",
        "plt.plot(val_accs, label=\"Val Acc\")\n",
        "plt.xlabel(\"Epoch\")\n",
        "plt.ylabel(\"Accuracy\")\n",
        "plt.title(\"Accuracy over Epochs\")\n",
        "plt.legend()\n",
        "plt.show()\n",
        "\n",
        "# ============================\n",
        "# 🔹 ROC Curve (Multiclass)\n",
        "# ============================\n",
        "n_classes = 4\n",
        "y_true_bin = label_binarize(y_true, classes=np.arange(n_classes))\n",
        "\n",
        "fpr, tpr, roc_auc = {}, {}, {}\n",
        "for i in range(n_classes):\n",
        "    fpr[i], tpr[i], _ = roc_curve(y_true_bin[:, i], y_prob[:, i])\n",
        "    roc_auc[i] = auc(fpr[i], tpr[i])\n",
        "\n",
        "# Macro-average ROC\n",
        "fpr[\"macro\"], tpr[\"macro\"], _ = roc_curve(y_true_bin.ravel(), y_prob.ravel())\n",
        "roc_auc[\"macro\"] = auc(fpr[\"macro\"], tpr[\"macro\"])\n",
        "\n",
        "# Plot ROC\n",
        "plt.figure(figsize=(8,6))\n",
        "for i in range(n_classes):\n",
        "    plt.plot(fpr[i], tpr[i], lw=2, label=f\"Class {i} (AUC = {roc_auc[i]:.3f})\")\n",
        "\n",
        "plt.plot(fpr[\"macro\"], tpr[\"macro\"], color=\"navy\", linestyle=\"--\", lw=2, label=f\"Macro Avg (AUC = {roc_auc['macro']:.3f})\")\n",
        "plt.plot([0, 1], [0, 1], \"k--\", lw=1)\n",
        "plt.xlim([0.0, 1.0])\n",
        "plt.ylim([0.0, 1.05])\n",
        "plt.xlabel(\"False Positive Rate\")\n",
        "plt.ylabel(\"True Positive Rate\")\n",
        "plt.title(\"ROC Curve (Multiclass)\")\n",
        "plt.legend(loc=\"lower right\")\n",
        "plt.grid(alpha=0.3)\n",
        "plt.show()\n",
        "\n",
        "print(f\"\\n=== ROC-AUC Scores ===\")\n",
        "for i in range(n_classes):\n",
        "    print(f\"Class {i}: {roc_auc[i]:.4f}\")\n",
        "print(f\"Macro Avg ROC-AUC: {roc_auc['macro']:.4f}\")\n"
      ]
    },
    {
      "cell_type": "code",
      "execution_count": 28,
      "id": "GOrFLWDeG40m",
      "metadata": {
        "id": "GOrFLWDeG40m",
        "colab": {
          "base_uri": "https://localhost:8080/",
          "height": 1000
        },
        "outputId": "df5314a3-d227-452d-c24b-7ad834cf4653"
      },
      "outputs": [
        {
          "output_type": "stream",
          "name": "stdout",
          "text": [
            "\n",
            "=== Classification Report ===\n",
            "              precision    recall  f1-score   support\n",
            "\n",
            "           0     0.9286    0.6500    0.7647        20\n",
            "           1     0.8571    0.9000    0.8780        20\n",
            "           2     0.8696    1.0000    0.9302        20\n",
            "           3     0.8636    0.9500    0.9048        20\n",
            "\n",
            "    accuracy                         0.8750        80\n",
            "   macro avg     0.8797    0.8750    0.8694        80\n",
            "weighted avg     0.8797    0.8750    0.8694        80\n",
            "\n",
            "\n",
            "Accuracy: 0.8750\n",
            "ROC AUC (macro, ovr): 0.9671\n"
          ]
        },
        {
          "output_type": "display_data",
          "data": {
            "text/plain": [
              "<Figure size 800x600 with 2 Axes>"
            ],
            "image/png": "[encoded data removed]"
          },
          "metadata": {}
        },
        {
          "output_type": "stream",
          "name": "stdout",
          "text": [
            "\n",
            "=== Class-wise Sensitivity & Specificity ===\n",
            "Class 0:  Sensitivity (Recall) = 0.6500,  Specificity = 0.9833\n",
            "Class 1:  Sensitivity (Recall) = 0.9000,  Specificity = 0.9500\n",
            "Class 2:  Sensitivity (Recall) = 1.0000,  Specificity = 0.9500\n",
            "Class 3:  Sensitivity (Recall) = 0.9500,  Specificity = 0.9500\n",
            "\n",
            "Mean Sensitivity: 0.8750\n",
            "Mean Specificity: 0.9583\n",
            "\n",
            "=== Diagnostic Group Summary ===\n",
            "✅ Healthy (HC): 13/20 correctly classified (65.0%)\n",
            "✅ Alzheimer's (AD): 18/20 correctly classified (90.0%)\n",
            "✅ Parkinson’s (PD): 20/20 correctly classified (100.0%)\n",
            "✅ Frontotemporal Dementia (FTD): 19/20 correctly classified (95.0%)\n",
            "\n",
            "=== Statistical Significance Test ===\n",
            "z-statistic: 16.9031, p-value: 0.000000\n"
          ]
        }
      ],
      "source": [
        "import matplotlib.pyplot as plt\n",
        "import seaborn as sns\n",
        "\n",
        "# ============================\n",
        "# 🔹 Function: Detailed Evaluation (with Confusion Matrix Plot)\n",
        "# ============================\n",
        "def detailed_evaluation(model, loader, device):\n",
        "    model.eval()\n",
        "    all_preds, all_labels, all_probs = [], [], []\n",
        "\n",
        "    with torch.no_grad():\n",
        "        for X, y in loader:\n",
        "            X, y = X.to(device), y.to(device)\n",
        "            outputs = model(X)\n",
        "\n",
        "            probs = torch.softmax(outputs, dim=1).cpu().numpy()\n",
        "            preds = torch.argmax(outputs, dim=1).cpu().numpy()\n",
        "            labels = y.cpu().numpy()\n",
        "\n",
        "            all_preds.extend(preds)\n",
        "            all_labels.extend(labels)\n",
        "            all_probs.extend(probs)\n",
        "\n",
        "    all_preds = np.array(all_preds)\n",
        "    all_labels = np.array(all_labels)\n",
        "    all_probs = np.array(all_probs)\n",
        "\n",
        "    # ============================\n",
        "    # 🔹 Basic Classification Metrics\n",
        "    # ============================\n",
        "    print(\"\\n=== Classification Report ===\")\n",
        "    print(classification_report(all_labels, all_preds, digits=4))\n",
        "\n",
        "    acc = accuracy_score(all_labels, all_preds)\n",
        "    auc = roc_auc_score(all_labels, all_probs, multi_class='ovr', average='macro')\n",
        "    print(f\"\\nAccuracy: {acc:.4f}\")\n",
        "    print(f\"ROC AUC (macro, ovr): {auc:.4f}\")\n",
        "\n",
        "    # ============================\n",
        "    # 🔹 Confusion Matrix (Formatted)\n",
        "    # ============================\n",
        "    cm = confusion_matrix(all_labels, all_preds)\n",
        "    cm_percent = cm.astype('float') / cm.sum(axis=1)[:, np.newaxis] * 100\n",
        "\n",
        "    label_names_dict = {\n",
        "        0: \"Healthy (HC)\",\n",
        "        1: \"Alzheimer's (AD)\",\n",
        "        2: \"Parkinson’s (PD)\",\n",
        "        3: \"Frontotemporal Dementia (FTD)\"\n",
        "    }\n",
        "    class_names = [label_names_dict[i] for i in sorted(label_names_dict.keys())]\n",
        "\n",
        "    # Prepare annotations (counts + percentages)\n",
        "    annot = np.empty_like(cm).astype(str)\n",
        "    for i in range(cm.shape[0]):\n",
        "        for j in range(cm.shape[1]):\n",
        "            annot[i, j] = f\"{cm[i,j]}/{cm[i].sum()} ({cm_percent[i,j]:.1f}%)\"\n",
        "\n",
        "    plt.figure(figsize=(8,6))\n",
        "    sns.heatmap(cm_percent, annot=annot, fmt=\"\", cmap=\"Blues\",\n",
        "                xticklabels=class_names, yticklabels=class_names, cbar=True)\n",
        "    plt.ylabel(\"True Label\")\n",
        "    plt.xlabel(\"Predicted Label\")\n",
        "    plt.title(\"Confusion Matrix (Counts + %)\")\n",
        "    plt.xticks(rotation=45)\n",
        "    plt.yticks(rotation=0)\n",
        "    plt.tight_layout()\n",
        "    plt.show()\n",
        "\n",
        "    # ============================\n",
        "    # 🔹 Sensitivity & Specificity\n",
        "    # ============================\n",
        "    num_classes = cm.shape[0]\n",
        "    sensitivity = []\n",
        "    specificity = []\n",
        "\n",
        "    for i in range(num_classes):\n",
        "        TP = cm[i, i]\n",
        "        FN = cm[i, :].sum() - TP\n",
        "        FP = cm[:, i].sum() - TP\n",
        "        TN = cm.sum() - (TP + FP + FN)\n",
        "\n",
        "        sens = TP / (TP + FN) if (TP + FN) > 0 else 0\n",
        "        spec = TN / (TN + FP) if (TN + FP) > 0 else 0\n",
        "\n",
        "        sensitivity.append(sens)\n",
        "        specificity.append(spec)\n",
        "\n",
        "    print(\"\\n=== Class-wise Sensitivity & Specificity ===\")\n",
        "    for i in range(num_classes):\n",
        "        print(f\"Class {i}:  Sensitivity (Recall) = {sensitivity[i]:.4f},  Specificity = {specificity[i]:.4f}\")\n",
        "\n",
        "    print(f\"\\nMean Sensitivity: {np.mean(sensitivity):.4f}\")\n",
        "    print(f\"Mean Specificity: {np.mean(specificity):.4f}\")\n",
        "\n",
        "    # ============================\n",
        "    # 🔹 Human-Readable Summary\n",
        "    # ============================\n",
        "    print(\"\\n=== Diagnostic Group Summary ===\")\n",
        "    for label, name in label_names_dict.items():\n",
        "        total = np.sum(all_labels == label)\n",
        "        correct = np.sum((all_labels == label) & (all_preds == label))\n",
        "        acc_class = (correct / total * 100) if total > 0 else 0.0\n",
        "        print(f\"✅ {name}: {correct}/{total} correctly classified ({acc_class:.1f}%)\")\n",
        "\n",
        "    # ============================\n",
        "    # 🔹 Statistical Significance Test\n",
        "    # ============================\n",
        "    chance_accuracy = 1.0 / num_classes\n",
        "    successes = (all_preds == all_labels).sum()\n",
        "    n_obs = len(all_labels)\n",
        "    stat, pval = proportions_ztest(successes, n_obs, value=chance_accuracy)\n",
        "\n",
        "    print(\"\\n=== Statistical Significance Test ===\")\n",
        "    print(f\"z-statistic: {stat:.4f}, p-value: {pval:.6f}\")\n",
        "\n",
        "    return all_labels, all_preds, all_probs, sensitivity, specificity\n",
        "\n",
        "# ============================\n",
        "# 🔹 Run Evaluation\n",
        "# ============================\n",
        "labels, preds, probs, sensitivity, specificity = detailed_evaluation(model, test_loader, device)\n"
      ]
    }
  ],
  "metadata": {
    "accelerator": "GPU",
    "colab": {
      "gpuType": "T4",
      "provenance": [],
      "include_colab_link": true
    },
    "kernelspec": {
      "display_name": "Python 3",
      "name": "python3"
    },
    "language_info": {
      "name": "python",
      "version": "3.12.2"
    }
  },
  "nbformat": 4,
  "nbformat_minor": 5
}