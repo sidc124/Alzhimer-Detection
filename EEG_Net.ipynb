{
  "cells": [
    {
      "cell_type": "markdown",
      "metadata": {
        "id": "view-in-github",
        "colab_type": "text"
      },
      "source": [
        "<a href=\"https://colab.research.google.com/github/sidc124/Alzhimer-Detection/blob/main/EEG_Net.ipynb\" target=\"_parent\"><img src=\"https://colab.research.google.com/assets/colab-badge.svg\" alt=\"Open In Colab\"/></a>"
      ]
    },
    {
      "cell_type": "markdown",
      "id": "f3d56c3c",
      "metadata": {
        "id": "f3d56c3c"
      },
      "source": [
        "# Alzheimer's vs. Dementia EEG Classification — End-to-End Deep Learning Pipeline\n",
        "\n",
        "This notebook implements the full pipeline you described:\n",
        "1) **Find common channels** across OpenNeuro datasets and align them  \n",
        "2) **Preprocess** (filtering, referencing, resampling)  \n",
        "3) **Segment** signals into fixed-size windows and **standardize shapes** (pad/crop)  \n",
        "4) **Build datasets** and loaders for train/val/test (subject-wise splits)  \n",
        "5) **Train baselines** (EEGNet) and a **custom hybrid model** that aims to outperform EEGNet  \n",
        "6) **Evaluate & cross-test** across datasets (train on one, test on the other)  \n",
        "7) **Result analysis** with metrics and confusion matrices"
      ]
    },
    {
      "cell_type": "markdown",
      "id": "3137d6a3",
      "metadata": {
        "id": "3137d6a3"
      },
      "source": [
        "## 1. Setup & Config"
      ]
    },
    {
      "cell_type": "code",
      "execution_count": null,
      "id": "5cb2a71b",
      "metadata": {
        "colab": {
          "base_uri": "https://localhost:8080/"
        },
        "id": "5cb2a71b",
        "outputId": "3f7e9a78-894f-42a7-bfb0-69cde81cb602"
      },
      "outputs": [
        {
          "output_type": "stream",
          "name": "stdout",
          "text": [
            "Mounted at /content/drive\n",
            "sub-hc1_ses-hc_task-rest_channels.tsv  sub-hc1_ses-hc_task-rest_eeg.json\n",
            "sub-hc1_ses-hc_task-rest_eeg.bdf       sub-hc1_ses-hc_task-rest_events.tsv\n",
            "Found 88 .set files\n",
            "Found 46 .bdf files\n",
            "Example .set file: /content/drive/MyDrive/EEG_Project/dataset_1/sub-005/eeg/sub-005_task-eyesclosed_eeg.set\n",
            "Example .bdf file: /content/drive/MyDrive/EEG_Project/dataset_2/sub-hc7/ses-hc/eeg/sub-hc7_ses-hc_task-rest_eeg.bdf\n"
          ]
        }
      ],
      "source": [
        "from google.colab import drive\n",
        "drive.mount('/content/drive')\n",
        "!ls \"/content/drive/MyDrive/EEG_Project/dataset_2/sub-hc1/ses-hc/eeg\"\n",
        "import glob\n",
        "import os\n",
        "\n",
        "# Base directory in Google Drive\n",
        "base_path = \"/content/drive/MyDrive/EEG_Project\"\n",
        "\n",
        "# Find all .set and .bdf files\n",
        "set_files = glob.glob(os.path.join(base_path, \"**\", \"*.set\"), recursive=True)\n",
        "bdf_files = glob.glob(os.path.join(base_path, \"**\", \"*.bdf\"), recursive=True)\n",
        "\n",
        "print(f\"Found {len(set_files)} .set files\")\n",
        "print(f\"Found {len(bdf_files)} .bdf files\")\n",
        "\n",
        "# Check a few results\n",
        "print(\"Example .set file:\", set_files[0] if set_files else \"None found\")\n",
        "print(\"Example .bdf file:\", bdf_files[0] if bdf_files else \"None found\")\n"
      ]
    },
    {
      "cell_type": "markdown",
      "id": "ca409b3b",
      "metadata": {
        "id": "ca409b3b"
      },
      "source": [
        "## 2. Channels finding and common channels"
      ]
    },
    {
      "cell_type": "code",
      "execution_count": null,
      "id": "5bfd1174",
      "metadata": {
        "colab": {
          "base_uri": "https://localhost:8080/"
        },
        "id": "5bfd1174",
        "outputId": "11948e23-5b2e-4348-bc0e-f94339f6ec43"
      },
      "outputs": [
        {
          "output_type": "stream",
          "name": "stdout",
          "text": [
            "Collecting mne\n",
            "  Downloading mne-1.10.1-py3-none-any.whl.metadata (20 kB)\n",
            "Requirement already satisfied: decorator in /usr/local/lib/python3.12/dist-packages (from mne) (4.4.2)\n",
            "Requirement already satisfied: jinja2 in /usr/local/lib/python3.12/dist-packages (from mne) (3.1.6)\n",
            "Requirement already satisfied: lazy-loader>=0.3 in /usr/local/lib/python3.12/dist-packages (from mne) (0.4)\n",
            "Requirement already satisfied: matplotlib>=3.7 in /usr/local/lib/python3.12/dist-packages (from mne) (3.10.0)\n",
            "Requirement already satisfied: numpy<3,>=1.25 in /usr/local/lib/python3.12/dist-packages (from mne) (2.0.2)\n",
            "Requirement already satisfied: packaging in /usr/local/lib/python3.12/dist-packages (from mne) (25.0)\n",
            "Requirement already satisfied: pooch>=1.5 in /usr/local/lib/python3.12/dist-packages (from mne) (1.8.2)\n",
            "Requirement already satisfied: scipy>=1.11 in /usr/local/lib/python3.12/dist-packages (from mne) (1.16.1)\n",
            "Requirement already satisfied: tqdm in /usr/local/lib/python3.12/dist-packages (from mne) (4.67.1)\n",
            "Requirement already satisfied: contourpy>=1.0.1 in /usr/local/lib/python3.12/dist-packages (from matplotlib>=3.7->mne) (1.3.3)\n",
            "Requirement already satisfied: cycler>=0.10 in /usr/local/lib/python3.12/dist-packages (from matplotlib>=3.7->mne) (0.12.1)\n",
            "Requirement already satisfied: fonttools>=4.22.0 in /usr/local/lib/python3.12/dist-packages (from matplotlib>=3.7->mne) (4.59.1)\n",
            "Requirement already satisfied: kiwisolver>=1.3.1 in /usr/local/lib/python3.12/dist-packages (from matplotlib>=3.7->mne) (1.4.9)\n",
            "Requirement already satisfied: pillow>=8 in /usr/local/lib/python3.12/dist-packages (from matplotlib>=3.7->mne) (11.3.0)\n",
            "Requirement already satisfied: pyparsing>=2.3.1 in /usr/local/lib/python3.12/dist-packages (from matplotlib>=3.7->mne) (3.2.3)\n",
            "Requirement already satisfied: python-dateutil>=2.7 in /usr/local/lib/python3.12/dist-packages (from matplotlib>=3.7->mne) (2.9.0.post0)\n",
            "Requirement already satisfied: platformdirs>=2.5.0 in /usr/local/lib/python3.12/dist-packages (from pooch>=1.5->mne) (4.3.8)\n",
            "Requirement already satisfied: requests>=2.19.0 in /usr/local/lib/python3.12/dist-packages (from pooch>=1.5->mne) (2.32.4)\n",
            "Requirement already satisfied: MarkupSafe>=2.0 in /usr/local/lib/python3.12/dist-packages (from jinja2->mne) (3.0.2)\n",
            "Requirement already satisfied: six>=1.5 in /usr/local/lib/python3.12/dist-packages (from python-dateutil>=2.7->matplotlib>=3.7->mne) (1.17.0)\n",
            "Requirement already satisfied: charset_normalizer<4,>=2 in /usr/local/lib/python3.12/dist-packages (from requests>=2.19.0->pooch>=1.5->mne) (3.4.3)\n",
            "Requirement already satisfied: idna<4,>=2.5 in /usr/local/lib/python3.12/dist-packages (from requests>=2.19.0->pooch>=1.5->mne) (3.10)\n",
            "Requirement already satisfied: urllib3<3,>=1.21.1 in /usr/local/lib/python3.12/dist-packages (from requests>=2.19.0->pooch>=1.5->mne) (2.5.0)\n",
            "Requirement already satisfied: certifi>=2017.4.17 in /usr/local/lib/python3.12/dist-packages (from requests>=2.19.0->pooch>=1.5->mne) (2025.8.3)\n",
            "Downloading mne-1.10.1-py3-none-any.whl (7.4 MB)\n",
            "\u001b[2K   \u001b[90m━━━━━━━━━━━━━━━━━━━━━━━━━━━━━━━━━━━━━━━━\u001b[0m \u001b[32m7.4/7.4 MB\u001b[0m \u001b[31m115.1 MB/s\u001b[0m eta \u001b[36m0:00:00\u001b[0m\n",
            "\u001b[?25hInstalling collected packages: mne\n",
            "Successfully installed mne-1.10.1\n"
          ]
        },
        {
          "output_type": "stream",
          "name": "stderr",
          "text": [
            "/tmp/ipython-input-1621918465.py:9: RuntimeWarning: Data will be preloaded. preload=False or a string preload is not supported when the data is stored in the .set file\n",
            "  raw_set = mne.io.read_raw_eeglab(sample_set_file, preload=False)\n"
          ]
        },
        {
          "output_type": "stream",
          "name": "stdout",
          "text": [
            "Extracting EDF parameters from /content/drive/MyDrive/EEG_Project/dataset_2/sub-hc7/ses-hc/eeg/sub-hc7_ses-hc_task-rest_eeg.bdf...\n",
            "BDF file detected\n",
            "Setting channel info structure...\n",
            "Creating raw.info structure...\n",
            "Channels in .set dataset: ['Fp1', 'Fp2', 'F3', 'F4', 'C3', 'C4', 'P3', 'P4', 'O1', 'O2', 'F7', 'F8', 'T3', 'T4', 'T5', 'T6', 'Fz', 'Cz', 'Pz']\n",
            "Channels in .bdf dataset: ['Fp1', 'AF3', 'F7', 'F3', 'FC1', 'FC5', 'T7', 'C3', 'CP1', 'CP5', 'P7', 'P3', 'Pz', 'PO3', 'O1', 'Oz', 'O2', 'PO4', 'P4', 'P8', 'CP6', 'CP2', 'C4', 'T8', 'FC6', 'FC2', 'F4', 'F8', 'AF4', 'Fp2', 'Fz', 'Cz', 'EXG1', 'EXG2', 'EXG3', 'EXG4', 'EXG5', 'EXG6', 'EXG7', 'EXG8', 'Status']\n",
            "Number of common channels: 15\n",
            "Common channels: ['O1', 'Cz', 'Fp1', 'Fp2', 'P4', 'Fz', 'F7', 'Pz', 'C3', 'C4', 'P3', 'O2', 'F8', 'F3', 'F4']\n"
          ]
        }
      ],
      "source": [
        "\n",
        "!pip install mne\n",
        "import mne\n",
        "\n",
        "# Pick one file from each dataset\n",
        "sample_set_file = set_files[0]\n",
        "sample_bdf_file = bdf_files[0]\n",
        "\n",
        "# Load raw data without preprocessing\n",
        "raw_set = mne.io.read_raw_eeglab(sample_set_file, preload=False)\n",
        "raw_bdf = mne.io.read_raw_bdf(sample_bdf_file, preload=False)\n",
        "\n",
        "# Get channel names\n",
        "channels_set = raw_set.info[\"ch_names\"]\n",
        "channels_bdf = raw_bdf.info[\"ch_names\"]\n",
        "\n",
        "print(\"Channels in .set dataset:\", channels_set)\n",
        "print(\"Channels in .bdf dataset:\", channels_bdf)\n",
        "\n",
        "# Find common channels\n",
        "common_channels = list(set(channels_set).intersection(set(channels_bdf)))\n",
        "print(f\"Number of common channels: {len(common_channels)}\")\n",
        "print(\"Common channels:\", common_channels)\n"
      ]
    },
    {
      "cell_type": "markdown",
      "id": "149f88f1",
      "metadata": {
        "id": "149f88f1"
      },
      "source": [
        "## 3. reordering the dataset\n"
      ]
    },
    {
      "cell_type": "code",
      "execution_count": null,
      "id": "d5ef836f",
      "metadata": {
        "id": "d5ef836f",
        "colab": {
          "base_uri": "https://localhost:8080/"
        },
        "outputId": "f48b64c9-67d7-45dc-df8a-3532c5e776db"
      },
      "outputs": [
        {
          "output_type": "stream",
          "name": "stdout",
          "text": [
            "Final channel order: ['Fp1', 'Fp2', 'F3', 'F4', 'C3', 'C4', 'P3', 'P4', 'O1', 'O2', 'F7', 'F8', 'Fz', 'Cz', 'Pz']\n",
            "NOTE: pick_channels() is a legacy function. New code should use inst.pick(...).\n",
            "NOTE: pick_channels() is a legacy function. New code should use inst.pick(...).\n"
          ]
        },
        {
          "output_type": "stream",
          "name": "stderr",
          "text": [
            "/tmp/ipython-input-1251132072.py:11: RuntimeWarning: The data contains 'boundary' events, indicating data discontinuities. Be cautious of filtering and epoching around these events.\n",
            "  raw = mne.io.read_raw_eeglab(filepath, preload=True)\n"
          ]
        },
        {
          "output_type": "stream",
          "name": "stdout",
          "text": [
            "NOTE: pick_channels() is a legacy function. New code should use inst.pick(...).\n",
            "NOTE: pick_channels() is a legacy function. New code should use inst.pick(...).\n"
          ]
        },
        {
          "output_type": "stream",
          "name": "stderr",
          "text": [
            "/tmp/ipython-input-1251132072.py:11: RuntimeWarning: The data contains 'boundary' events, indicating data discontinuities. Be cautious of filtering and epoching around these events.\n",
            "  raw = mne.io.read_raw_eeglab(filepath, preload=True)\n"
          ]
        },
        {
          "output_type": "stream",
          "name": "stdout",
          "text": [
            "NOTE: pick_channels() is a legacy function. New code should use inst.pick(...).\n"
          ]
        },
        {
          "output_type": "stream",
          "name": "stderr",
          "text": [
            "/tmp/ipython-input-1251132072.py:11: RuntimeWarning: The data contains 'boundary' events, indicating data discontinuities. Be cautious of filtering and epoching around these events.\n",
            "  raw = mne.io.read_raw_eeglab(filepath, preload=True)\n"
          ]
        },
        {
          "output_type": "stream",
          "name": "stdout",
          "text": [
            "NOTE: pick_channels() is a legacy function. New code should use inst.pick(...).\n"
          ]
        },
        {
          "output_type": "stream",
          "name": "stderr",
          "text": [
            "/tmp/ipython-input-1251132072.py:11: RuntimeWarning: The data contains 'boundary' events, indicating data discontinuities. Be cautious of filtering and epoching around these events.\n",
            "  raw = mne.io.read_raw_eeglab(filepath, preload=True)\n"
          ]
        },
        {
          "output_type": "stream",
          "name": "stdout",
          "text": [
            "NOTE: pick_channels() is a legacy function. New code should use inst.pick(...).\n"
          ]
        },
        {
          "output_type": "stream",
          "name": "stderr",
          "text": [
            "/tmp/ipython-input-1251132072.py:11: RuntimeWarning: The data contains 'boundary' events, indicating data discontinuities. Be cautious of filtering and epoching around these events.\n",
            "  raw = mne.io.read_raw_eeglab(filepath, preload=True)\n"
          ]
        },
        {
          "output_type": "stream",
          "name": "stdout",
          "text": [
            "NOTE: pick_channels() is a legacy function. New code should use inst.pick(...).\n",
            "NOTE: pick_channels() is a legacy function. New code should use inst.pick(...).\n"
          ]
        },
        {
          "output_type": "stream",
          "name": "stderr",
          "text": [
            "/tmp/ipython-input-1251132072.py:11: RuntimeWarning: The data contains 'boundary' events, indicating data discontinuities. Be cautious of filtering and epoching around these events.\n",
            "  raw = mne.io.read_raw_eeglab(filepath, preload=True)\n"
          ]
        },
        {
          "output_type": "stream",
          "name": "stdout",
          "text": [
            "NOTE: pick_channels() is a legacy function. New code should use inst.pick(...).\n"
          ]
        },
        {
          "output_type": "stream",
          "name": "stderr",
          "text": [
            "/tmp/ipython-input-1251132072.py:11: RuntimeWarning: The data contains 'boundary' events, indicating data discontinuities. Be cautious of filtering and epoching around these events.\n",
            "  raw = mne.io.read_raw_eeglab(filepath, preload=True)\n"
          ]
        },
        {
          "output_type": "stream",
          "name": "stdout",
          "text": [
            "NOTE: pick_channels() is a legacy function. New code should use inst.pick(...).\n"
          ]
        },
        {
          "output_type": "stream",
          "name": "stderr",
          "text": [
            "/tmp/ipython-input-1251132072.py:11: RuntimeWarning: The data contains 'boundary' events, indicating data discontinuities. Be cautious of filtering and epoching around these events.\n",
            "  raw = mne.io.read_raw_eeglab(filepath, preload=True)\n"
          ]
        },
        {
          "output_type": "stream",
          "name": "stdout",
          "text": [
            "NOTE: pick_channels() is a legacy function. New code should use inst.pick(...).\n"
          ]
        },
        {
          "output_type": "stream",
          "name": "stderr",
          "text": [
            "/tmp/ipython-input-1251132072.py:11: RuntimeWarning: The data contains 'boundary' events, indicating data discontinuities. Be cautious of filtering and epoching around these events.\n",
            "  raw = mne.io.read_raw_eeglab(filepath, preload=True)\n"
          ]
        },
        {
          "output_type": "stream",
          "name": "stdout",
          "text": [
            "NOTE: pick_channels() is a legacy function. New code should use inst.pick(...).\n"
          ]
        },
        {
          "output_type": "stream",
          "name": "stderr",
          "text": [
            "/tmp/ipython-input-1251132072.py:11: RuntimeWarning: The data contains 'boundary' events, indicating data discontinuities. Be cautious of filtering and epoching around these events.\n",
            "  raw = mne.io.read_raw_eeglab(filepath, preload=True)\n"
          ]
        },
        {
          "output_type": "stream",
          "name": "stdout",
          "text": [
            "NOTE: pick_channels() is a legacy function. New code should use inst.pick(...).\n"
          ]
        },
        {
          "output_type": "stream",
          "name": "stderr",
          "text": [
            "/tmp/ipython-input-1251132072.py:11: RuntimeWarning: The data contains 'boundary' events, indicating data discontinuities. Be cautious of filtering and epoching around these events.\n",
            "  raw = mne.io.read_raw_eeglab(filepath, preload=True)\n"
          ]
        },
        {
          "output_type": "stream",
          "name": "stdout",
          "text": [
            "NOTE: pick_channels() is a legacy function. New code should use inst.pick(...).\n"
          ]
        },
        {
          "output_type": "stream",
          "name": "stderr",
          "text": [
            "/tmp/ipython-input-1251132072.py:11: RuntimeWarning: The data contains 'boundary' events, indicating data discontinuities. Be cautious of filtering and epoching around these events.\n",
            "  raw = mne.io.read_raw_eeglab(filepath, preload=True)\n"
          ]
        },
        {
          "output_type": "stream",
          "name": "stdout",
          "text": [
            "NOTE: pick_channels() is a legacy function. New code should use inst.pick(...).\n"
          ]
        },
        {
          "output_type": "stream",
          "name": "stderr",
          "text": [
            "/tmp/ipython-input-1251132072.py:11: RuntimeWarning: The data contains 'boundary' events, indicating data discontinuities. Be cautious of filtering and epoching around these events.\n",
            "  raw = mne.io.read_raw_eeglab(filepath, preload=True)\n"
          ]
        },
        {
          "output_type": "stream",
          "name": "stdout",
          "text": [
            "NOTE: pick_channels() is a legacy function. New code should use inst.pick(...).\n"
          ]
        },
        {
          "output_type": "stream",
          "name": "stderr",
          "text": [
            "/tmp/ipython-input-1251132072.py:11: RuntimeWarning: The data contains 'boundary' events, indicating data discontinuities. Be cautious of filtering and epoching around these events.\n",
            "  raw = mne.io.read_raw_eeglab(filepath, preload=True)\n"
          ]
        },
        {
          "output_type": "stream",
          "name": "stdout",
          "text": [
            "NOTE: pick_channels() is a legacy function. New code should use inst.pick(...).\n"
          ]
        },
        {
          "output_type": "stream",
          "name": "stderr",
          "text": [
            "/tmp/ipython-input-1251132072.py:11: RuntimeWarning: The data contains 'boundary' events, indicating data discontinuities. Be cautious of filtering and epoching around these events.\n",
            "  raw = mne.io.read_raw_eeglab(filepath, preload=True)\n"
          ]
        },
        {
          "output_type": "stream",
          "name": "stdout",
          "text": [
            "NOTE: pick_channels() is a legacy function. New code should use inst.pick(...).\n"
          ]
        },
        {
          "output_type": "stream",
          "name": "stderr",
          "text": [
            "/tmp/ipython-input-1251132072.py:11: RuntimeWarning: The data contains 'boundary' events, indicating data discontinuities. Be cautious of filtering and epoching around these events.\n",
            "  raw = mne.io.read_raw_eeglab(filepath, preload=True)\n"
          ]
        },
        {
          "output_type": "stream",
          "name": "stdout",
          "text": [
            "NOTE: pick_channels() is a legacy function. New code should use inst.pick(...).\n",
            "NOTE: pick_channels() is a legacy function. New code should use inst.pick(...).\n"
          ]
        },
        {
          "output_type": "stream",
          "name": "stderr",
          "text": [
            "/tmp/ipython-input-1251132072.py:11: RuntimeWarning: The data contains 'boundary' events, indicating data discontinuities. Be cautious of filtering and epoching around these events.\n",
            "  raw = mne.io.read_raw_eeglab(filepath, preload=True)\n"
          ]
        },
        {
          "output_type": "stream",
          "name": "stdout",
          "text": [
            "NOTE: pick_channels() is a legacy function. New code should use inst.pick(...).\n"
          ]
        },
        {
          "output_type": "stream",
          "name": "stderr",
          "text": [
            "/tmp/ipython-input-1251132072.py:11: RuntimeWarning: The data contains 'boundary' events, indicating data discontinuities. Be cautious of filtering and epoching around these events.\n",
            "  raw = mne.io.read_raw_eeglab(filepath, preload=True)\n"
          ]
        },
        {
          "output_type": "stream",
          "name": "stdout",
          "text": [
            "NOTE: pick_channels() is a legacy function. New code should use inst.pick(...).\n"
          ]
        },
        {
          "output_type": "stream",
          "name": "stderr",
          "text": [
            "/tmp/ipython-input-1251132072.py:11: RuntimeWarning: The data contains 'boundary' events, indicating data discontinuities. Be cautious of filtering and epoching around these events.\n",
            "  raw = mne.io.read_raw_eeglab(filepath, preload=True)\n"
          ]
        },
        {
          "output_type": "stream",
          "name": "stdout",
          "text": [
            "NOTE: pick_channels() is a legacy function. New code should use inst.pick(...).\n"
          ]
        },
        {
          "output_type": "stream",
          "name": "stderr",
          "text": [
            "/tmp/ipython-input-1251132072.py:11: RuntimeWarning: The data contains 'boundary' events, indicating data discontinuities. Be cautious of filtering and epoching around these events.\n",
            "  raw = mne.io.read_raw_eeglab(filepath, preload=True)\n"
          ]
        },
        {
          "output_type": "stream",
          "name": "stdout",
          "text": [
            "NOTE: pick_channels() is a legacy function. New code should use inst.pick(...).\n"
          ]
        },
        {
          "output_type": "stream",
          "name": "stderr",
          "text": [
            "/tmp/ipython-input-1251132072.py:11: RuntimeWarning: The data contains 'boundary' events, indicating data discontinuities. Be cautious of filtering and epoching around these events.\n",
            "  raw = mne.io.read_raw_eeglab(filepath, preload=True)\n"
          ]
        },
        {
          "output_type": "stream",
          "name": "stdout",
          "text": [
            "NOTE: pick_channels() is a legacy function. New code should use inst.pick(...).\n"
          ]
        },
        {
          "output_type": "stream",
          "name": "stderr",
          "text": [
            "/tmp/ipython-input-1251132072.py:11: RuntimeWarning: The data contains 'boundary' events, indicating data discontinuities. Be cautious of filtering and epoching around these events.\n",
            "  raw = mne.io.read_raw_eeglab(filepath, preload=True)\n"
          ]
        },
        {
          "output_type": "stream",
          "name": "stdout",
          "text": [
            "NOTE: pick_channels() is a legacy function. New code should use inst.pick(...).\n"
          ]
        },
        {
          "output_type": "stream",
          "name": "stderr",
          "text": [
            "/tmp/ipython-input-1251132072.py:11: RuntimeWarning: The data contains 'boundary' events, indicating data discontinuities. Be cautious of filtering and epoching around these events.\n",
            "  raw = mne.io.read_raw_eeglab(filepath, preload=True)\n"
          ]
        },
        {
          "output_type": "stream",
          "name": "stdout",
          "text": [
            "NOTE: pick_channels() is a legacy function. New code should use inst.pick(...).\n"
          ]
        },
        {
          "output_type": "stream",
          "name": "stderr",
          "text": [
            "/tmp/ipython-input-1251132072.py:11: RuntimeWarning: The data contains 'boundary' events, indicating data discontinuities. Be cautious of filtering and epoching around these events.\n",
            "  raw = mne.io.read_raw_eeglab(filepath, preload=True)\n"
          ]
        },
        {
          "output_type": "stream",
          "name": "stdout",
          "text": [
            "NOTE: pick_channels() is a legacy function. New code should use inst.pick(...).\n"
          ]
        },
        {
          "output_type": "stream",
          "name": "stderr",
          "text": [
            "/tmp/ipython-input-1251132072.py:11: RuntimeWarning: The data contains 'boundary' events, indicating data discontinuities. Be cautious of filtering and epoching around these events.\n",
            "  raw = mne.io.read_raw_eeglab(filepath, preload=True)\n"
          ]
        },
        {
          "output_type": "stream",
          "name": "stdout",
          "text": [
            "NOTE: pick_channels() is a legacy function. New code should use inst.pick(...).\n"
          ]
        },
        {
          "output_type": "stream",
          "name": "stderr",
          "text": [
            "/tmp/ipython-input-1251132072.py:11: RuntimeWarning: The data contains 'boundary' events, indicating data discontinuities. Be cautious of filtering and epoching around these events.\n",
            "  raw = mne.io.read_raw_eeglab(filepath, preload=True)\n"
          ]
        },
        {
          "output_type": "stream",
          "name": "stdout",
          "text": [
            "NOTE: pick_channels() is a legacy function. New code should use inst.pick(...).\n"
          ]
        },
        {
          "output_type": "stream",
          "name": "stderr",
          "text": [
            "/tmp/ipython-input-1251132072.py:11: RuntimeWarning: The data contains 'boundary' events, indicating data discontinuities. Be cautious of filtering and epoching around these events.\n",
            "  raw = mne.io.read_raw_eeglab(filepath, preload=True)\n"
          ]
        },
        {
          "output_type": "stream",
          "name": "stdout",
          "text": [
            "NOTE: pick_channels() is a legacy function. New code should use inst.pick(...).\n"
          ]
        },
        {
          "output_type": "stream",
          "name": "stderr",
          "text": [
            "/tmp/ipython-input-1251132072.py:11: RuntimeWarning: The data contains 'boundary' events, indicating data discontinuities. Be cautious of filtering and epoching around these events.\n",
            "  raw = mne.io.read_raw_eeglab(filepath, preload=True)\n"
          ]
        },
        {
          "output_type": "stream",
          "name": "stdout",
          "text": [
            "NOTE: pick_channels() is a legacy function. New code should use inst.pick(...).\n"
          ]
        },
        {
          "output_type": "stream",
          "name": "stderr",
          "text": [
            "/tmp/ipython-input-1251132072.py:11: RuntimeWarning: The data contains 'boundary' events, indicating data discontinuities. Be cautious of filtering and epoching around these events.\n",
            "  raw = mne.io.read_raw_eeglab(filepath, preload=True)\n"
          ]
        },
        {
          "output_type": "stream",
          "name": "stdout",
          "text": [
            "NOTE: pick_channels() is a legacy function. New code should use inst.pick(...).\n"
          ]
        },
        {
          "output_type": "stream",
          "name": "stderr",
          "text": [
            "/tmp/ipython-input-1251132072.py:11: RuntimeWarning: The data contains 'boundary' events, indicating data discontinuities. Be cautious of filtering and epoching around these events.\n",
            "  raw = mne.io.read_raw_eeglab(filepath, preload=True)\n"
          ]
        },
        {
          "output_type": "stream",
          "name": "stdout",
          "text": [
            "NOTE: pick_channels() is a legacy function. New code should use inst.pick(...).\n"
          ]
        },
        {
          "output_type": "stream",
          "name": "stderr",
          "text": [
            "/tmp/ipython-input-1251132072.py:11: RuntimeWarning: The data contains 'boundary' events, indicating data discontinuities. Be cautious of filtering and epoching around these events.\n",
            "  raw = mne.io.read_raw_eeglab(filepath, preload=True)\n"
          ]
        },
        {
          "output_type": "stream",
          "name": "stdout",
          "text": [
            "NOTE: pick_channels() is a legacy function. New code should use inst.pick(...).\n",
            "NOTE: pick_channels() is a legacy function. New code should use inst.pick(...).\n"
          ]
        },
        {
          "output_type": "stream",
          "name": "stderr",
          "text": [
            "/tmp/ipython-input-1251132072.py:11: RuntimeWarning: The data contains 'boundary' events, indicating data discontinuities. Be cautious of filtering and epoching around these events.\n",
            "  raw = mne.io.read_raw_eeglab(filepath, preload=True)\n"
          ]
        },
        {
          "output_type": "stream",
          "name": "stdout",
          "text": [
            "NOTE: pick_channels() is a legacy function. New code should use inst.pick(...).\n"
          ]
        },
        {
          "output_type": "stream",
          "name": "stderr",
          "text": [
            "/tmp/ipython-input-1251132072.py:11: RuntimeWarning: The data contains 'boundary' events, indicating data discontinuities. Be cautious of filtering and epoching around these events.\n",
            "  raw = mne.io.read_raw_eeglab(filepath, preload=True)\n"
          ]
        },
        {
          "output_type": "stream",
          "name": "stdout",
          "text": [
            "NOTE: pick_channels() is a legacy function. New code should use inst.pick(...).\n"
          ]
        },
        {
          "output_type": "stream",
          "name": "stderr",
          "text": [
            "/tmp/ipython-input-1251132072.py:11: RuntimeWarning: The data contains 'boundary' events, indicating data discontinuities. Be cautious of filtering and epoching around these events.\n",
            "  raw = mne.io.read_raw_eeglab(filepath, preload=True)\n"
          ]
        },
        {
          "output_type": "stream",
          "name": "stdout",
          "text": [
            "NOTE: pick_channels() is a legacy function. New code should use inst.pick(...).\n"
          ]
        },
        {
          "output_type": "stream",
          "name": "stderr",
          "text": [
            "/tmp/ipython-input-1251132072.py:11: RuntimeWarning: The data contains 'boundary' events, indicating data discontinuities. Be cautious of filtering and epoching around these events.\n",
            "  raw = mne.io.read_raw_eeglab(filepath, preload=True)\n"
          ]
        },
        {
          "output_type": "stream",
          "name": "stdout",
          "text": [
            "NOTE: pick_channels() is a legacy function. New code should use inst.pick(...).\n"
          ]
        },
        {
          "output_type": "stream",
          "name": "stderr",
          "text": [
            "/tmp/ipython-input-1251132072.py:11: RuntimeWarning: The data contains 'boundary' events, indicating data discontinuities. Be cautious of filtering and epoching around these events.\n",
            "  raw = mne.io.read_raw_eeglab(filepath, preload=True)\n"
          ]
        },
        {
          "output_type": "stream",
          "name": "stdout",
          "text": [
            "NOTE: pick_channels() is a legacy function. New code should use inst.pick(...).\n"
          ]
        },
        {
          "output_type": "stream",
          "name": "stderr",
          "text": [
            "/tmp/ipython-input-1251132072.py:11: RuntimeWarning: The data contains 'boundary' events, indicating data discontinuities. Be cautious of filtering and epoching around these events.\n",
            "  raw = mne.io.read_raw_eeglab(filepath, preload=True)\n"
          ]
        },
        {
          "output_type": "stream",
          "name": "stdout",
          "text": [
            "NOTE: pick_channels() is a legacy function. New code should use inst.pick(...).\n",
            "NOTE: pick_channels() is a legacy function. New code should use inst.pick(...).\n",
            "NOTE: pick_channels() is a legacy function. New code should use inst.pick(...).\n"
          ]
        },
        {
          "output_type": "stream",
          "name": "stderr",
          "text": [
            "/tmp/ipython-input-1251132072.py:11: RuntimeWarning: The data contains 'boundary' events, indicating data discontinuities. Be cautious of filtering and epoching around these events.\n",
            "  raw = mne.io.read_raw_eeglab(filepath, preload=True)\n"
          ]
        },
        {
          "output_type": "stream",
          "name": "stdout",
          "text": [
            "NOTE: pick_channels() is a legacy function. New code should use inst.pick(...).\n"
          ]
        },
        {
          "output_type": "stream",
          "name": "stderr",
          "text": [
            "/tmp/ipython-input-1251132072.py:11: RuntimeWarning: The data contains 'boundary' events, indicating data discontinuities. Be cautious of filtering and epoching around these events.\n",
            "  raw = mne.io.read_raw_eeglab(filepath, preload=True)\n"
          ]
        },
        {
          "output_type": "stream",
          "name": "stdout",
          "text": [
            "NOTE: pick_channels() is a legacy function. New code should use inst.pick(...).\n"
          ]
        },
        {
          "output_type": "stream",
          "name": "stderr",
          "text": [
            "/tmp/ipython-input-1251132072.py:11: RuntimeWarning: The data contains 'boundary' events, indicating data discontinuities. Be cautious of filtering and epoching around these events.\n",
            "  raw = mne.io.read_raw_eeglab(filepath, preload=True)\n"
          ]
        },
        {
          "output_type": "stream",
          "name": "stdout",
          "text": [
            "NOTE: pick_channels() is a legacy function. New code should use inst.pick(...).\n"
          ]
        },
        {
          "output_type": "stream",
          "name": "stderr",
          "text": [
            "/tmp/ipython-input-1251132072.py:11: RuntimeWarning: The data contains 'boundary' events, indicating data discontinuities. Be cautious of filtering and epoching around these events.\n",
            "  raw = mne.io.read_raw_eeglab(filepath, preload=True)\n"
          ]
        },
        {
          "output_type": "stream",
          "name": "stdout",
          "text": [
            "NOTE: pick_channels() is a legacy function. New code should use inst.pick(...).\n"
          ]
        },
        {
          "output_type": "stream",
          "name": "stderr",
          "text": [
            "/tmp/ipython-input-1251132072.py:11: RuntimeWarning: The data contains 'boundary' events, indicating data discontinuities. Be cautious of filtering and epoching around these events.\n",
            "  raw = mne.io.read_raw_eeglab(filepath, preload=True)\n"
          ]
        },
        {
          "output_type": "stream",
          "name": "stdout",
          "text": [
            "NOTE: pick_channels() is a legacy function. New code should use inst.pick(...).\n"
          ]
        },
        {
          "output_type": "stream",
          "name": "stderr",
          "text": [
            "/tmp/ipython-input-1251132072.py:11: RuntimeWarning: The data contains 'boundary' events, indicating data discontinuities. Be cautious of filtering and epoching around these events.\n",
            "  raw = mne.io.read_raw_eeglab(filepath, preload=True)\n"
          ]
        },
        {
          "output_type": "stream",
          "name": "stdout",
          "text": [
            "NOTE: pick_channels() is a legacy function. New code should use inst.pick(...).\n"
          ]
        },
        {
          "output_type": "stream",
          "name": "stderr",
          "text": [
            "/tmp/ipython-input-1251132072.py:11: RuntimeWarning: The data contains 'boundary' events, indicating data discontinuities. Be cautious of filtering and epoching around these events.\n",
            "  raw = mne.io.read_raw_eeglab(filepath, preload=True)\n"
          ]
        },
        {
          "output_type": "stream",
          "name": "stdout",
          "text": [
            "NOTE: pick_channels() is a legacy function. New code should use inst.pick(...).\n"
          ]
        },
        {
          "output_type": "stream",
          "name": "stderr",
          "text": [
            "/tmp/ipython-input-1251132072.py:11: RuntimeWarning: The data contains 'boundary' events, indicating data discontinuities. Be cautious of filtering and epoching around these events.\n",
            "  raw = mne.io.read_raw_eeglab(filepath, preload=True)\n"
          ]
        },
        {
          "output_type": "stream",
          "name": "stdout",
          "text": [
            "NOTE: pick_channels() is a legacy function. New code should use inst.pick(...).\n"
          ]
        },
        {
          "output_type": "stream",
          "name": "stderr",
          "text": [
            "/tmp/ipython-input-1251132072.py:11: RuntimeWarning: The data contains 'boundary' events, indicating data discontinuities. Be cautious of filtering and epoching around these events.\n",
            "  raw = mne.io.read_raw_eeglab(filepath, preload=True)\n"
          ]
        },
        {
          "output_type": "stream",
          "name": "stdout",
          "text": [
            "NOTE: pick_channels() is a legacy function. New code should use inst.pick(...).\n"
          ]
        },
        {
          "output_type": "stream",
          "name": "stderr",
          "text": [
            "/tmp/ipython-input-1251132072.py:11: RuntimeWarning: The data contains 'boundary' events, indicating data discontinuities. Be cautious of filtering and epoching around these events.\n",
            "  raw = mne.io.read_raw_eeglab(filepath, preload=True)\n"
          ]
        },
        {
          "output_type": "stream",
          "name": "stdout",
          "text": [
            "NOTE: pick_channels() is a legacy function. New code should use inst.pick(...).\n"
          ]
        },
        {
          "output_type": "stream",
          "name": "stderr",
          "text": [
            "/tmp/ipython-input-1251132072.py:11: RuntimeWarning: The data contains 'boundary' events, indicating data discontinuities. Be cautious of filtering and epoching around these events.\n",
            "  raw = mne.io.read_raw_eeglab(filepath, preload=True)\n"
          ]
        },
        {
          "output_type": "stream",
          "name": "stdout",
          "text": [
            "NOTE: pick_channels() is a legacy function. New code should use inst.pick(...).\n"
          ]
        },
        {
          "output_type": "stream",
          "name": "stderr",
          "text": [
            "/tmp/ipython-input-1251132072.py:11: RuntimeWarning: The data contains 'boundary' events, indicating data discontinuities. Be cautious of filtering and epoching around these events.\n",
            "  raw = mne.io.read_raw_eeglab(filepath, preload=True)\n"
          ]
        },
        {
          "output_type": "stream",
          "name": "stdout",
          "text": [
            "NOTE: pick_channels() is a legacy function. New code should use inst.pick(...).\n",
            "NOTE: pick_channels() is a legacy function. New code should use inst.pick(...).\n"
          ]
        },
        {
          "output_type": "stream",
          "name": "stderr",
          "text": [
            "/tmp/ipython-input-1251132072.py:11: RuntimeWarning: The data contains 'boundary' events, indicating data discontinuities. Be cautious of filtering and epoching around these events.\n",
            "  raw = mne.io.read_raw_eeglab(filepath, preload=True)\n"
          ]
        },
        {
          "output_type": "stream",
          "name": "stdout",
          "text": [
            "NOTE: pick_channels() is a legacy function. New code should use inst.pick(...).\n"
          ]
        },
        {
          "output_type": "stream",
          "name": "stderr",
          "text": [
            "/tmp/ipython-input-1251132072.py:11: RuntimeWarning: The data contains 'boundary' events, indicating data discontinuities. Be cautious of filtering and epoching around these events.\n",
            "  raw = mne.io.read_raw_eeglab(filepath, preload=True)\n"
          ]
        },
        {
          "output_type": "stream",
          "name": "stdout",
          "text": [
            "NOTE: pick_channels() is a legacy function. New code should use inst.pick(...).\n"
          ]
        },
        {
          "output_type": "stream",
          "name": "stderr",
          "text": [
            "/tmp/ipython-input-1251132072.py:11: RuntimeWarning: The data contains 'boundary' events, indicating data discontinuities. Be cautious of filtering and epoching around these events.\n",
            "  raw = mne.io.read_raw_eeglab(filepath, preload=True)\n"
          ]
        },
        {
          "output_type": "stream",
          "name": "stdout",
          "text": [
            "NOTE: pick_channels() is a legacy function. New code should use inst.pick(...).\n"
          ]
        },
        {
          "output_type": "stream",
          "name": "stderr",
          "text": [
            "/tmp/ipython-input-1251132072.py:11: RuntimeWarning: The data contains 'boundary' events, indicating data discontinuities. Be cautious of filtering and epoching around these events.\n",
            "  raw = mne.io.read_raw_eeglab(filepath, preload=True)\n"
          ]
        },
        {
          "output_type": "stream",
          "name": "stdout",
          "text": [
            "NOTE: pick_channels() is a legacy function. New code should use inst.pick(...).\n"
          ]
        },
        {
          "output_type": "stream",
          "name": "stderr",
          "text": [
            "/tmp/ipython-input-1251132072.py:11: RuntimeWarning: The data contains 'boundary' events, indicating data discontinuities. Be cautious of filtering and epoching around these events.\n",
            "  raw = mne.io.read_raw_eeglab(filepath, preload=True)\n"
          ]
        },
        {
          "output_type": "stream",
          "name": "stdout",
          "text": [
            "NOTE: pick_channels() is a legacy function. New code should use inst.pick(...).\n"
          ]
        },
        {
          "output_type": "stream",
          "name": "stderr",
          "text": [
            "/tmp/ipython-input-1251132072.py:11: RuntimeWarning: The data contains 'boundary' events, indicating data discontinuities. Be cautious of filtering and epoching around these events.\n",
            "  raw = mne.io.read_raw_eeglab(filepath, preload=True)\n"
          ]
        },
        {
          "output_type": "stream",
          "name": "stdout",
          "text": [
            "NOTE: pick_channels() is a legacy function. New code should use inst.pick(...).\n"
          ]
        },
        {
          "output_type": "stream",
          "name": "stderr",
          "text": [
            "/tmp/ipython-input-1251132072.py:11: RuntimeWarning: The data contains 'boundary' events, indicating data discontinuities. Be cautious of filtering and epoching around these events.\n",
            "  raw = mne.io.read_raw_eeglab(filepath, preload=True)\n"
          ]
        },
        {
          "output_type": "stream",
          "name": "stdout",
          "text": [
            "NOTE: pick_channels() is a legacy function. New code should use inst.pick(...).\n",
            "NOTE: pick_channels() is a legacy function. New code should use inst.pick(...).\n"
          ]
        },
        {
          "output_type": "stream",
          "name": "stderr",
          "text": [
            "/tmp/ipython-input-1251132072.py:11: RuntimeWarning: The data contains 'boundary' events, indicating data discontinuities. Be cautious of filtering and epoching around these events.\n",
            "  raw = mne.io.read_raw_eeglab(filepath, preload=True)\n"
          ]
        },
        {
          "output_type": "stream",
          "name": "stdout",
          "text": [
            "NOTE: pick_channels() is a legacy function. New code should use inst.pick(...).\n",
            "NOTE: pick_channels() is a legacy function. New code should use inst.pick(...).\n"
          ]
        },
        {
          "output_type": "stream",
          "name": "stderr",
          "text": [
            "/tmp/ipython-input-1251132072.py:11: RuntimeWarning: The data contains 'boundary' events, indicating data discontinuities. Be cautious of filtering and epoching around these events.\n",
            "  raw = mne.io.read_raw_eeglab(filepath, preload=True)\n"
          ]
        },
        {
          "output_type": "stream",
          "name": "stdout",
          "text": [
            "NOTE: pick_channels() is a legacy function. New code should use inst.pick(...).\n"
          ]
        },
        {
          "output_type": "stream",
          "name": "stderr",
          "text": [
            "/tmp/ipython-input-1251132072.py:11: RuntimeWarning: The data contains 'boundary' events, indicating data discontinuities. Be cautious of filtering and epoching around these events.\n",
            "  raw = mne.io.read_raw_eeglab(filepath, preload=True)\n"
          ]
        },
        {
          "output_type": "stream",
          "name": "stdout",
          "text": [
            "NOTE: pick_channels() is a legacy function. New code should use inst.pick(...).\n",
            "NOTE: pick_channels() is a legacy function. New code should use inst.pick(...).\n"
          ]
        },
        {
          "output_type": "stream",
          "name": "stderr",
          "text": [
            "/tmp/ipython-input-1251132072.py:11: RuntimeWarning: The data contains 'boundary' events, indicating data discontinuities. Be cautious of filtering and epoching around these events.\n",
            "  raw = mne.io.read_raw_eeglab(filepath, preload=True)\n"
          ]
        },
        {
          "output_type": "stream",
          "name": "stdout",
          "text": [
            "NOTE: pick_channels() is a legacy function. New code should use inst.pick(...).\n"
          ]
        },
        {
          "output_type": "stream",
          "name": "stderr",
          "text": [
            "/tmp/ipython-input-1251132072.py:11: RuntimeWarning: The data contains 'boundary' events, indicating data discontinuities. Be cautious of filtering and epoching around these events.\n",
            "  raw = mne.io.read_raw_eeglab(filepath, preload=True)\n"
          ]
        },
        {
          "output_type": "stream",
          "name": "stdout",
          "text": [
            "NOTE: pick_channels() is a legacy function. New code should use inst.pick(...).\n"
          ]
        },
        {
          "output_type": "stream",
          "name": "stderr",
          "text": [
            "/tmp/ipython-input-1251132072.py:11: RuntimeWarning: The data contains 'boundary' events, indicating data discontinuities. Be cautious of filtering and epoching around these events.\n",
            "  raw = mne.io.read_raw_eeglab(filepath, preload=True)\n"
          ]
        },
        {
          "output_type": "stream",
          "name": "stdout",
          "text": [
            "NOTE: pick_channels() is a legacy function. New code should use inst.pick(...).\n"
          ]
        },
        {
          "output_type": "stream",
          "name": "stderr",
          "text": [
            "/tmp/ipython-input-1251132072.py:11: RuntimeWarning: The data contains 'boundary' events, indicating data discontinuities. Be cautious of filtering and epoching around these events.\n",
            "  raw = mne.io.read_raw_eeglab(filepath, preload=True)\n"
          ]
        },
        {
          "output_type": "stream",
          "name": "stdout",
          "text": [
            "NOTE: pick_channels() is a legacy function. New code should use inst.pick(...).\n"
          ]
        },
        {
          "output_type": "stream",
          "name": "stderr",
          "text": [
            "/tmp/ipython-input-1251132072.py:11: RuntimeWarning: The data contains 'boundary' events, indicating data discontinuities. Be cautious of filtering and epoching around these events.\n",
            "  raw = mne.io.read_raw_eeglab(filepath, preload=True)\n"
          ]
        },
        {
          "output_type": "stream",
          "name": "stdout",
          "text": [
            "NOTE: pick_channels() is a legacy function. New code should use inst.pick(...).\n"
          ]
        },
        {
          "output_type": "stream",
          "name": "stderr",
          "text": [
            "/tmp/ipython-input-1251132072.py:11: RuntimeWarning: The data contains 'boundary' events, indicating data discontinuities. Be cautious of filtering and epoching around these events.\n",
            "  raw = mne.io.read_raw_eeglab(filepath, preload=True)\n"
          ]
        },
        {
          "output_type": "stream",
          "name": "stdout",
          "text": [
            "NOTE: pick_channels() is a legacy function. New code should use inst.pick(...).\n",
            "NOTE: pick_channels() is a legacy function. New code should use inst.pick(...).\n"
          ]
        },
        {
          "output_type": "stream",
          "name": "stderr",
          "text": [
            "/tmp/ipython-input-1251132072.py:11: RuntimeWarning: The data contains 'boundary' events, indicating data discontinuities. Be cautious of filtering and epoching around these events.\n",
            "  raw = mne.io.read_raw_eeglab(filepath, preload=True)\n"
          ]
        },
        {
          "output_type": "stream",
          "name": "stdout",
          "text": [
            "NOTE: pick_channels() is a legacy function. New code should use inst.pick(...).\n"
          ]
        },
        {
          "output_type": "stream",
          "name": "stderr",
          "text": [
            "/tmp/ipython-input-1251132072.py:11: RuntimeWarning: The data contains 'boundary' events, indicating data discontinuities. Be cautious of filtering and epoching around these events.\n",
            "  raw = mne.io.read_raw_eeglab(filepath, preload=True)\n"
          ]
        },
        {
          "output_type": "stream",
          "name": "stdout",
          "text": [
            "NOTE: pick_channels() is a legacy function. New code should use inst.pick(...).\n"
          ]
        },
        {
          "output_type": "stream",
          "name": "stderr",
          "text": [
            "/tmp/ipython-input-1251132072.py:11: RuntimeWarning: The data contains 'boundary' events, indicating data discontinuities. Be cautious of filtering and epoching around these events.\n",
            "  raw = mne.io.read_raw_eeglab(filepath, preload=True)\n"
          ]
        },
        {
          "output_type": "stream",
          "name": "stdout",
          "text": [
            "NOTE: pick_channels() is a legacy function. New code should use inst.pick(...).\n"
          ]
        },
        {
          "output_type": "stream",
          "name": "stderr",
          "text": [
            "/tmp/ipython-input-1251132072.py:11: RuntimeWarning: The data contains 'boundary' events, indicating data discontinuities. Be cautious of filtering and epoching around these events.\n",
            "  raw = mne.io.read_raw_eeglab(filepath, preload=True)\n"
          ]
        },
        {
          "output_type": "stream",
          "name": "stdout",
          "text": [
            "NOTE: pick_channels() is a legacy function. New code should use inst.pick(...).\n",
            "NOTE: pick_channels() is a legacy function. New code should use inst.pick(...).\n",
            "NOTE: pick_channels() is a legacy function. New code should use inst.pick(...).\n",
            "NOTE: pick_channels() is a legacy function. New code should use inst.pick(...).\n"
          ]
        },
        {
          "output_type": "stream",
          "name": "stderr",
          "text": [
            "/tmp/ipython-input-1251132072.py:11: RuntimeWarning: The data contains 'boundary' events, indicating data discontinuities. Be cautious of filtering and epoching around these events.\n",
            "  raw = mne.io.read_raw_eeglab(filepath, preload=True)\n"
          ]
        },
        {
          "output_type": "stream",
          "name": "stdout",
          "text": [
            "NOTE: pick_channels() is a legacy function. New code should use inst.pick(...).\n"
          ]
        },
        {
          "output_type": "stream",
          "name": "stderr",
          "text": [
            "/tmp/ipython-input-1251132072.py:11: RuntimeWarning: The data contains 'boundary' events, indicating data discontinuities. Be cautious of filtering and epoching around these events.\n",
            "  raw = mne.io.read_raw_eeglab(filepath, preload=True)\n"
          ]
        },
        {
          "output_type": "stream",
          "name": "stdout",
          "text": [
            "NOTE: pick_channels() is a legacy function. New code should use inst.pick(...).\n"
          ]
        },
        {
          "output_type": "stream",
          "name": "stderr",
          "text": [
            "/tmp/ipython-input-1251132072.py:11: RuntimeWarning: The data contains 'boundary' events, indicating data discontinuities. Be cautious of filtering and epoching around these events.\n",
            "  raw = mne.io.read_raw_eeglab(filepath, preload=True)\n"
          ]
        },
        {
          "output_type": "stream",
          "name": "stdout",
          "text": [
            "NOTE: pick_channels() is a legacy function. New code should use inst.pick(...).\n",
            "Extracting EDF parameters from /content/drive/MyDrive/EEG_Project/dataset_2/sub-hc7/ses-hc/eeg/sub-hc7_ses-hc_task-rest_eeg.bdf...\n",
            "BDF file detected\n",
            "Setting channel info structure...\n",
            "Creating raw.info structure...\n",
            "Reading 0 ... 98303  =      0.000 ...   191.998 secs...\n"
          ]
        },
        {
          "output_type": "stream",
          "name": "stderr",
          "text": [
            "/tmp/ipython-input-1251132072.py:11: RuntimeWarning: The data contains 'boundary' events, indicating data discontinuities. Be cautious of filtering and epoching around these events.\n",
            "  raw = mne.io.read_raw_eeglab(filepath, preload=True)\n"
          ]
        },
        {
          "output_type": "stream",
          "name": "stdout",
          "text": [
            "NOTE: pick_channels() is a legacy function. New code should use inst.pick(...).\n",
            "Extracting EDF parameters from /content/drive/MyDrive/EEG_Project/dataset_2/sub-hc1/ses-hc/eeg/sub-hc1_ses-hc_task-rest_eeg.bdf...\n",
            "BDF file detected\n",
            "Setting channel info structure...\n",
            "Creating raw.info structure...\n",
            "Reading 0 ... 98303  =      0.000 ...   191.998 secs...\n",
            "NOTE: pick_channels() is a legacy function. New code should use inst.pick(...).\n",
            "Extracting EDF parameters from /content/drive/MyDrive/EEG_Project/dataset_2/sub-hc2/ses-hc/eeg/sub-hc2_ses-hc_task-rest_eeg.bdf...\n",
            "BDF file detected\n",
            "Setting channel info structure...\n",
            "Creating raw.info structure...\n",
            "Reading 0 ... 99327  =      0.000 ...   193.998 secs...\n",
            "NOTE: pick_channels() is a legacy function. New code should use inst.pick(...).\n",
            "Extracting EDF parameters from /content/drive/MyDrive/EEG_Project/dataset_2/sub-hc21/ses-hc/eeg/sub-hc21_ses-hc_task-rest_eeg.bdf...\n",
            "BDF file detected\n",
            "Setting channel info structure...\n",
            "Creating raw.info structure...\n",
            "Reading 0 ... 96767  =      0.000 ...   188.998 secs...\n",
            "NOTE: pick_channels() is a legacy function. New code should use inst.pick(...).\n",
            "Extracting EDF parameters from /content/drive/MyDrive/EEG_Project/dataset_2/sub-hc4/ses-hc/eeg/sub-hc4_ses-hc_task-rest_eeg.bdf...\n",
            "BDF file detected\n",
            "Setting channel info structure...\n",
            "Creating raw.info structure...\n",
            "Reading 0 ... 92671  =      0.000 ...   180.998 secs...\n",
            "NOTE: pick_channels() is a legacy function. New code should use inst.pick(...).\n",
            "Extracting EDF parameters from /content/drive/MyDrive/EEG_Project/dataset_2/sub-hc8/ses-hc/eeg/sub-hc8_ses-hc_task-rest_eeg.bdf...\n",
            "BDF file detected\n",
            "Setting channel info structure...\n",
            "Creating raw.info structure...\n",
            "Reading 0 ... 97791  =      0.000 ...   190.998 secs...\n",
            "NOTE: pick_channels() is a legacy function. New code should use inst.pick(...).\n",
            "Extracting EDF parameters from /content/drive/MyDrive/EEG_Project/dataset_2/sub-hc10/ses-hc/eeg/sub-hc10_ses-hc_task-rest_eeg.bdf...\n",
            "BDF file detected\n",
            "Setting channel info structure...\n",
            "Creating raw.info structure...\n",
            "Reading 0 ... 102911  =      0.000 ...   200.998 secs...\n",
            "NOTE: pick_channels() is a legacy function. New code should use inst.pick(...).\n",
            "Extracting EDF parameters from /content/drive/MyDrive/EEG_Project/dataset_2/sub-hc18/ses-hc/eeg/sub-hc18_ses-hc_task-rest_eeg.bdf...\n",
            "BDF file detected\n",
            "Setting channel info structure...\n",
            "Creating raw.info structure...\n",
            "Reading 0 ... 95231  =      0.000 ...   185.998 secs...\n",
            "NOTE: pick_channels() is a legacy function. New code should use inst.pick(...).\n",
            "Extracting EDF parameters from /content/drive/MyDrive/EEG_Project/dataset_2/sub-hc24/ses-hc/eeg/sub-hc24_ses-hc_task-rest_eeg.bdf...\n",
            "BDF file detected\n",
            "Setting channel info structure...\n",
            "Creating raw.info structure...\n",
            "Reading 0 ... 98303  =      0.000 ...   191.998 secs...\n",
            "NOTE: pick_channels() is a legacy function. New code should use inst.pick(...).\n",
            "Extracting EDF parameters from /content/drive/MyDrive/EEG_Project/dataset_2/sub-hc20/ses-hc/eeg/sub-hc20_ses-hc_task-rest_eeg.bdf...\n",
            "BDF file detected\n",
            "Setting channel info structure...\n",
            "Creating raw.info structure...\n",
            "Reading 0 ... 94207  =      0.000 ...   183.998 secs...\n",
            "NOTE: pick_channels() is a legacy function. New code should use inst.pick(...).\n",
            "Extracting EDF parameters from /content/drive/MyDrive/EEG_Project/dataset_2/sub-hc25/ses-hc/eeg/sub-hc25_ses-hc_task-rest_eeg.bdf...\n",
            "BDF file detected\n",
            "Setting channel info structure...\n",
            "Creating raw.info structure...\n",
            "Reading 0 ... 103423  =      0.000 ...   201.998 secs...\n",
            "NOTE: pick_channels() is a legacy function. New code should use inst.pick(...).\n",
            "Extracting EDF parameters from /content/drive/MyDrive/EEG_Project/dataset_2/sub-hc29/ses-hc/eeg/sub-hc29_ses-hc_task-rest_eeg.bdf...\n",
            "BDF file detected\n",
            "Setting channel info structure...\n",
            "Creating raw.info structure...\n",
            "Reading 0 ... 101887  =      0.000 ...   198.998 secs...\n",
            "NOTE: pick_channels() is a legacy function. New code should use inst.pick(...).\n",
            "Extracting EDF parameters from /content/drive/MyDrive/EEG_Project/dataset_2/sub-hc30/ses-hc/eeg/sub-hc30_ses-hc_task-rest_eeg.bdf...\n",
            "BDF file detected\n",
            "Setting channel info structure...\n",
            "Creating raw.info structure...\n",
            "Reading 0 ... 96767  =      0.000 ...   188.998 secs...\n",
            "NOTE: pick_channels() is a legacy function. New code should use inst.pick(...).\n",
            "Extracting EDF parameters from /content/drive/MyDrive/EEG_Project/dataset_2/sub-hc31/ses-hc/eeg/sub-hc31_ses-hc_task-rest_eeg.bdf...\n",
            "BDF file detected\n",
            "Setting channel info structure...\n",
            "Creating raw.info structure...\n",
            "Reading 0 ... 95743  =      0.000 ...   186.998 secs...\n",
            "NOTE: pick_channels() is a legacy function. New code should use inst.pick(...).\n",
            "Extracting EDF parameters from /content/drive/MyDrive/EEG_Project/dataset_2/sub-hc32/ses-hc/eeg/sub-hc32_ses-hc_task-rest_eeg.bdf...\n",
            "BDF file detected\n",
            "Setting channel info structure...\n",
            "Creating raw.info structure...\n",
            "Reading 0 ... 100351  =      0.000 ...   195.998 secs...\n",
            "NOTE: pick_channels() is a legacy function. New code should use inst.pick(...).\n",
            "Extracting EDF parameters from /content/drive/MyDrive/EEG_Project/dataset_2/sub-hc33/ses-hc/eeg/sub-hc33_ses-hc_task-rest_eeg.bdf...\n",
            "BDF file detected\n",
            "Setting channel info structure...\n",
            "Creating raw.info structure...\n",
            "Reading 0 ... 97279  =      0.000 ...   189.998 secs...\n",
            "NOTE: pick_channels() is a legacy function. New code should use inst.pick(...).\n",
            "Extracting EDF parameters from /content/drive/MyDrive/EEG_Project/dataset_2/sub-pd3/ses-on/eeg/sub-pd3_ses-on_task-rest_eeg.bdf...\n",
            "BDF file detected\n",
            "Setting channel info structure...\n",
            "Creating raw.info structure...\n",
            "Reading 0 ... 109055  =      0.000 ...   212.998 secs...\n",
            "NOTE: pick_channels() is a legacy function. New code should use inst.pick(...).\n",
            "Extracting EDF parameters from /content/drive/MyDrive/EEG_Project/dataset_2/sub-pd3/ses-off/eeg/sub-pd3_ses-off_task-rest_eeg.bdf...\n",
            "BDF file detected\n",
            "Setting channel info structure...\n",
            "Creating raw.info structure...\n",
            "Reading 0 ... 102399  =      0.000 ...   199.998 secs...\n",
            "NOTE: pick_channels() is a legacy function. New code should use inst.pick(...).\n",
            "Extracting EDF parameters from /content/drive/MyDrive/EEG_Project/dataset_2/sub-pd5/ses-on/eeg/sub-pd5_ses-on_task-rest_eeg.bdf...\n",
            "BDF file detected\n",
            "Setting channel info structure...\n",
            "Creating raw.info structure...\n",
            "Reading 0 ... 105471  =      0.000 ...   205.998 secs...\n",
            "NOTE: pick_channels() is a legacy function. New code should use inst.pick(...).\n",
            "Extracting EDF parameters from /content/drive/MyDrive/EEG_Project/dataset_2/sub-pd5/ses-off/eeg/sub-pd5_ses-off_task-rest_eeg.bdf...\n",
            "BDF file detected\n",
            "Setting channel info structure...\n",
            "Creating raw.info structure...\n",
            "Reading 0 ... 100863  =      0.000 ...   196.998 secs...\n",
            "NOTE: pick_channels() is a legacy function. New code should use inst.pick(...).\n",
            "Extracting EDF parameters from /content/drive/MyDrive/EEG_Project/dataset_2/sub-pd6/ses-on/eeg/sub-pd6_ses-on_task-rest_eeg.bdf...\n",
            "BDF file detected\n",
            "Setting channel info structure...\n",
            "Creating raw.info structure...\n",
            "Reading 0 ... 147967  =      0.000 ...   288.998 secs...\n",
            "NOTE: pick_channels() is a legacy function. New code should use inst.pick(...).\n",
            "Extracting EDF parameters from /content/drive/MyDrive/EEG_Project/dataset_2/sub-pd6/ses-off/eeg/sub-pd6_ses-off_task-rest_eeg.bdf...\n",
            "BDF file detected\n",
            "Setting channel info structure...\n",
            "Creating raw.info structure...\n",
            "Reading 0 ... 97791  =      0.000 ...   190.998 secs...\n",
            "NOTE: pick_channels() is a legacy function. New code should use inst.pick(...).\n",
            "Extracting EDF parameters from /content/drive/MyDrive/EEG_Project/dataset_2/sub-pd9/ses-on/eeg/sub-pd9_ses-on_task-rest_eeg.bdf...\n",
            "BDF file detected\n",
            "Setting channel info structure...\n",
            "Creating raw.info structure...\n",
            "Reading 0 ... 95743  =      0.000 ...   186.998 secs...\n",
            "NOTE: pick_channels() is a legacy function. New code should use inst.pick(...).\n",
            "Extracting EDF parameters from /content/drive/MyDrive/EEG_Project/dataset_2/sub-pd9/ses-off/eeg/sub-pd9_ses-off_task-rest_eeg.bdf...\n",
            "BDF file detected\n",
            "Setting channel info structure...\n",
            "Creating raw.info structure...\n",
            "Reading 0 ... 97791  =      0.000 ...   190.998 secs...\n",
            "NOTE: pick_channels() is a legacy function. New code should use inst.pick(...).\n",
            "Extracting EDF parameters from /content/drive/MyDrive/EEG_Project/dataset_2/sub-pd11/ses-on/eeg/sub-pd11_ses-on_task-rest_eeg.bdf...\n",
            "BDF file detected\n",
            "Setting channel info structure...\n",
            "Creating raw.info structure...\n",
            "Reading 0 ... 95743  =      0.000 ...   186.998 secs...\n",
            "NOTE: pick_channels() is a legacy function. New code should use inst.pick(...).\n",
            "Extracting EDF parameters from /content/drive/MyDrive/EEG_Project/dataset_2/sub-pd11/ses-off/eeg/sub-pd11_ses-off_task-rest_eeg.bdf...\n",
            "BDF file detected\n",
            "Setting channel info structure...\n",
            "Creating raw.info structure...\n",
            "Reading 0 ... 95231  =      0.000 ...   185.998 secs...\n",
            "NOTE: pick_channels() is a legacy function. New code should use inst.pick(...).\n",
            "Extracting EDF parameters from /content/drive/MyDrive/EEG_Project/dataset_2/sub-pd12/ses-off/eeg/sub-pd12_ses-off_task-rest_eeg.bdf...\n",
            "BDF file detected\n",
            "Setting channel info structure...\n",
            "Creating raw.info structure...\n",
            "Reading 0 ... 105983  =      0.000 ...   206.998 secs...\n",
            "NOTE: pick_channels() is a legacy function. New code should use inst.pick(...).\n",
            "Extracting EDF parameters from /content/drive/MyDrive/EEG_Project/dataset_2/sub-pd12/ses-on/eeg/sub-pd12_ses-on_task-rest_eeg.bdf...\n",
            "BDF file detected\n",
            "Setting channel info structure...\n",
            "Creating raw.info structure...\n",
            "Reading 0 ... 98303  =      0.000 ...   191.998 secs...\n",
            "NOTE: pick_channels() is a legacy function. New code should use inst.pick(...).\n",
            "Extracting EDF parameters from /content/drive/MyDrive/EEG_Project/dataset_2/sub-pd13/ses-on/eeg/sub-pd13_ses-on_task-rest_eeg.bdf...\n",
            "BDF file detected\n",
            "Setting channel info structure...\n",
            "Creating raw.info structure...\n",
            "Reading 0 ... 95743  =      0.000 ...   186.998 secs...\n",
            "NOTE: pick_channels() is a legacy function. New code should use inst.pick(...).\n",
            "Extracting EDF parameters from /content/drive/MyDrive/EEG_Project/dataset_2/sub-pd13/ses-off/eeg/sub-pd13_ses-off_task-rest_eeg.bdf...\n",
            "BDF file detected\n",
            "Setting channel info structure...\n",
            "Creating raw.info structure...\n",
            "Reading 0 ... 95231  =      0.000 ...   185.998 secs...\n",
            "NOTE: pick_channels() is a legacy function. New code should use inst.pick(...).\n",
            "Extracting EDF parameters from /content/drive/MyDrive/EEG_Project/dataset_2/sub-pd14/ses-on/eeg/sub-pd14_ses-on_task-rest_eeg.bdf...\n",
            "BDF file detected\n",
            "Setting channel info structure...\n",
            "Creating raw.info structure...\n",
            "Reading 0 ... 96767  =      0.000 ...   188.998 secs...\n",
            "NOTE: pick_channels() is a legacy function. New code should use inst.pick(...).\n",
            "Extracting EDF parameters from /content/drive/MyDrive/EEG_Project/dataset_2/sub-pd14/ses-off/eeg/sub-pd14_ses-off_task-rest_eeg.bdf...\n",
            "BDF file detected\n",
            "Setting channel info structure...\n",
            "Creating raw.info structure...\n",
            "Reading 0 ... 149503  =      0.000 ...   291.998 secs...\n",
            "NOTE: pick_channels() is a legacy function. New code should use inst.pick(...).\n",
            "Extracting EDF parameters from /content/drive/MyDrive/EEG_Project/dataset_2/sub-pd16/ses-on/eeg/sub-pd16_ses-on_task-rest_eeg.bdf...\n",
            "BDF file detected\n",
            "Setting channel info structure...\n",
            "Creating raw.info structure...\n",
            "Reading 0 ... 95743  =      0.000 ...   186.998 secs...\n",
            "NOTE: pick_channels() is a legacy function. New code should use inst.pick(...).\n",
            "Extracting EDF parameters from /content/drive/MyDrive/EEG_Project/dataset_2/sub-pd16/ses-off/eeg/sub-pd16_ses-off_task-rest_eeg.bdf...\n",
            "BDF file detected\n",
            "Setting channel info structure...\n",
            "Creating raw.info structure...\n",
            "Reading 0 ... 96255  =      0.000 ...   187.998 secs...\n",
            "NOTE: pick_channels() is a legacy function. New code should use inst.pick(...).\n",
            "Extracting EDF parameters from /content/drive/MyDrive/EEG_Project/dataset_2/sub-pd17/ses-on/eeg/sub-pd17_ses-on_task-rest_eeg.bdf...\n",
            "BDF file detected\n",
            "Setting channel info structure...\n",
            "Creating raw.info structure...\n",
            "Reading 0 ... 95231  =      0.000 ...   185.998 secs...\n",
            "NOTE: pick_channels() is a legacy function. New code should use inst.pick(...).\n",
            "Extracting EDF parameters from /content/drive/MyDrive/EEG_Project/dataset_2/sub-pd17/ses-off/eeg/sub-pd17_ses-off_task-rest_eeg.bdf...\n",
            "BDF file detected\n",
            "Setting channel info structure...\n",
            "Creating raw.info structure...\n",
            "Reading 0 ... 96767  =      0.000 ...   188.998 secs...\n",
            "NOTE: pick_channels() is a legacy function. New code should use inst.pick(...).\n",
            "Extracting EDF parameters from /content/drive/MyDrive/EEG_Project/dataset_2/sub-pd22/ses-on/eeg/sub-pd22_ses-on_task-rest_eeg.bdf...\n",
            "BDF file detected\n",
            "Setting channel info structure...\n",
            "Creating raw.info structure...\n",
            "Reading 0 ... 94207  =      0.000 ...   183.998 secs...\n",
            "NOTE: pick_channels() is a legacy function. New code should use inst.pick(...).\n",
            "Extracting EDF parameters from /content/drive/MyDrive/EEG_Project/dataset_2/sub-pd22/ses-off/eeg/sub-pd22_ses-off_task-rest_eeg.bdf...\n",
            "BDF file detected\n",
            "Setting channel info structure...\n",
            "Creating raw.info structure...\n",
            "Reading 0 ... 96255  =      0.000 ...   187.998 secs...\n",
            "NOTE: pick_channels() is a legacy function. New code should use inst.pick(...).\n",
            "Extracting EDF parameters from /content/drive/MyDrive/EEG_Project/dataset_2/sub-pd19/ses-on/eeg/sub-pd19_ses-on_task-rest_eeg.bdf...\n",
            "BDF file detected\n",
            "Setting channel info structure...\n",
            "Creating raw.info structure...\n",
            "Reading 0 ... 96255  =      0.000 ...   187.998 secs...\n",
            "NOTE: pick_channels() is a legacy function. New code should use inst.pick(...).\n",
            "Extracting EDF parameters from /content/drive/MyDrive/EEG_Project/dataset_2/sub-pd19/ses-off/eeg/sub-pd19_ses-off_task-rest_eeg.bdf...\n",
            "BDF file detected\n",
            "Setting channel info structure...\n",
            "Creating raw.info structure...\n",
            "Reading 0 ... 94719  =      0.000 ...   184.998 secs...\n",
            "NOTE: pick_channels() is a legacy function. New code should use inst.pick(...).\n",
            "Extracting EDF parameters from /content/drive/MyDrive/EEG_Project/dataset_2/sub-pd23/ses-on/eeg/sub-pd23_ses-on_task-rest_eeg.bdf...\n",
            "BDF file detected\n",
            "Setting channel info structure...\n",
            "Creating raw.info structure...\n",
            "Reading 0 ... 95231  =      0.000 ...   185.998 secs...\n",
            "NOTE: pick_channels() is a legacy function. New code should use inst.pick(...).\n",
            "Extracting EDF parameters from /content/drive/MyDrive/EEG_Project/dataset_2/sub-pd23/ses-off/eeg/sub-pd23_ses-off_task-rest_eeg.bdf...\n",
            "BDF file detected\n",
            "Setting channel info structure...\n",
            "Creating raw.info structure...\n",
            "Reading 0 ... 104447  =      0.000 ...   203.998 secs...\n",
            "NOTE: pick_channels() is a legacy function. New code should use inst.pick(...).\n",
            "Extracting EDF parameters from /content/drive/MyDrive/EEG_Project/dataset_2/sub-pd26/ses-on/eeg/sub-pd26_ses-on_task-rest_eeg.bdf...\n",
            "BDF file detected\n",
            "Setting channel info structure...\n",
            "Creating raw.info structure...\n",
            "Reading 0 ... 110591  =      0.000 ...   215.998 secs...\n",
            "NOTE: pick_channels() is a legacy function. New code should use inst.pick(...).\n",
            "Extracting EDF parameters from /content/drive/MyDrive/EEG_Project/dataset_2/sub-pd26/ses-off/eeg/sub-pd26_ses-off_task-rest_eeg.bdf...\n",
            "BDF file detected\n",
            "Setting channel info structure...\n",
            "Creating raw.info structure...\n",
            "Reading 0 ... 97791  =      0.000 ...   190.998 secs...\n",
            "NOTE: pick_channels() is a legacy function. New code should use inst.pick(...).\n",
            "Extracting EDF parameters from /content/drive/MyDrive/EEG_Project/dataset_2/sub-pd28/ses-on/eeg/sub-pd28_ses-on_task-rest_eeg.bdf...\n",
            "BDF file detected\n",
            "Setting channel info structure...\n",
            "Creating raw.info structure...\n",
            "Reading 0 ... 102911  =      0.000 ...   200.998 secs...\n",
            "NOTE: pick_channels() is a legacy function. New code should use inst.pick(...).\n",
            "Extracting EDF parameters from /content/drive/MyDrive/EEG_Project/dataset_2/sub-pd28/ses-off/eeg/sub-pd28_ses-off_task-rest_eeg.bdf...\n",
            "BDF file detected\n",
            "Setting channel info structure...\n",
            "Creating raw.info structure...\n",
            "Reading 0 ... 105471  =      0.000 ...   205.998 secs...\n",
            "NOTE: pick_channels() is a legacy function. New code should use inst.pick(...).\n"
          ]
        }
      ],
      "source": [
        "import mne\n",
        "\n",
        "# We will use the order from the .set dataset\n",
        "ordered_common_channels = [ch for ch in channels_set if ch in common_channels]\n",
        "\n",
        "print(\"Final channel order:\", ordered_common_channels)\n",
        "\n",
        "# Function to load and reorder channels\n",
        "def load_and_reorder(filepath, filetype, channel_order):\n",
        "    if filetype == \"set\":\n",
        "        raw = mne.io.read_raw_eeglab(filepath, preload=True)\n",
        "    elif filetype == \"bdf\":\n",
        "        raw = mne.io.read_raw_bdf(filepath, preload=True)\n",
        "    else:\n",
        "        raise ValueError(\"Unsupported file type\")\n",
        "\n",
        "    # Pick only common channels and reorder\n",
        "    raw.pick_channels(channel_order)\n",
        "    raw.reorder_channels(channel_order)\n",
        "\n",
        "    return raw\n",
        "\n",
        "# Load all .set files in same channel order\n",
        "all_set_data = [load_and_reorder(f, \"set\", ordered_common_channels) for f in set_files]\n",
        "\n",
        "# Load all .bdf files in same channel order\n",
        "all_bdf_data = [load_and_reorder(f, \"bdf\", ordered_common_channels) for f in bdf_files]\n"
      ]
    },
    {
      "cell_type": "markdown",
      "id": "b4ff6b49",
      "metadata": {
        "id": "b4ff6b49"
      },
      "source": [
        "## 4. checking if the order is same or not\n"
      ]
    },
    {
      "cell_type": "code",
      "execution_count": null,
      "id": "6525e002",
      "metadata": {
        "id": "6525e002",
        "colab": {
          "base_uri": "https://localhost:8080/"
        },
        "outputId": "288f60b3-41d3-4d5f-f127-57aee41723dc"
      },
      "outputs": [
        {
          "output_type": "stream",
          "name": "stdout",
          "text": [
            "\n",
            "SET file 1 channels:\n",
            "['Fp1', 'Fp2', 'F3', 'F4', 'C3', 'C4', 'P3', 'P4', 'O1', 'O2', 'F7', 'F8', 'Fz', 'Cz', 'Pz']\n",
            "\n",
            "SET file 2 channels:\n",
            "['Fp1', 'Fp2', 'F3', 'F4', 'C3', 'C4', 'P3', 'P4', 'O1', 'O2', 'F7', 'F8', 'Fz', 'Cz', 'Pz']\n",
            "\n",
            "SET file 3 channels:\n",
            "['Fp1', 'Fp2', 'F3', 'F4', 'C3', 'C4', 'P3', 'P4', 'O1', 'O2', 'F7', 'F8', 'Fz', 'Cz', 'Pz']\n",
            "\n",
            "BDF file 1 channels:\n",
            "['Fp1', 'Fp2', 'F3', 'F4', 'C3', 'C4', 'P3', 'P4', 'O1', 'O2', 'F7', 'F8', 'Fz', 'Cz', 'Pz']\n",
            "\n",
            "BDF file 2 channels:\n",
            "['Fp1', 'Fp2', 'F3', 'F4', 'C3', 'C4', 'P3', 'P4', 'O1', 'O2', 'F7', 'F8', 'Fz', 'Cz', 'Pz']\n",
            "\n",
            "BDF file 3 channels:\n",
            "['Fp1', 'Fp2', 'F3', 'F4', 'C3', 'C4', 'P3', 'P4', 'O1', 'O2', 'F7', 'F8', 'Fz', 'Cz', 'Pz']\n",
            "\n",
            "✅ Channel orders match for SET and BDF datasets.\n"
          ]
        }
      ],
      "source": [
        "# Check first 3 files from each dataset to verify channel order\n",
        "for i, raw_obj in enumerate(all_set_data[:3]):\n",
        "    print(f\"\\nSET file {i+1} channels:\")\n",
        "    print(raw_obj.info[\"ch_names\"])\n",
        "\n",
        "for i, raw_obj in enumerate(all_bdf_data[:3]):\n",
        "    print(f\"\\nBDF file {i+1} channels:\")\n",
        "    print(raw_obj.info[\"ch_names\"])\n",
        "\n",
        "# Final check: compare channel order between first SET and first BDF\n",
        "set_order = all_set_data[0].info[\"ch_names\"]\n",
        "bdf_order = all_bdf_data[0].info[\"ch_names\"]\n",
        "\n",
        "if set_order == bdf_order:\n",
        "    print(\"\\n✅ Channel orders match for SET and BDF datasets.\")\n",
        "else:\n",
        "    print(\"\\n❌ Channel orders do NOT match.\")\n",
        "    print(\"SET order:\", set_order)\n",
        "    print(\"BDF order:\", bdf_order)\n"
      ]
    },
    {
      "cell_type": "markdown",
      "id": "07f675f0",
      "metadata": {
        "id": "07f675f0"
      },
      "source": [
        "##5. checking the sampling freuquency"
      ]
    },
    {
      "cell_type": "markdown",
      "id": "ba4ed057",
      "metadata": {
        "id": "ba4ed057"
      },
      "source": [
        "## 6. Resampling"
      ]
    },
    {
      "cell_type": "code",
      "execution_count": null,
      "id": "0e3a8981",
      "metadata": {
        "id": "0e3a8981",
        "colab": {
          "base_uri": "https://localhost:8080/"
        },
        "outputId": "b07edbda-7528-4fd7-e1d3-f882a9fff729"
      },
      "outputs": [
        {
          "output_type": "stream",
          "name": "stdout",
          "text": [
            "Resampled .set file 1 to 256 Hz\n",
            "Resampled .set file 2 to 256 Hz\n",
            "Resampled .set file 3 to 256 Hz\n",
            "Resampled .set file 4 to 256 Hz\n",
            "Resampled .set file 5 to 256 Hz\n",
            "Resampled .set file 6 to 256 Hz\n",
            "Resampled .set file 7 to 256 Hz\n",
            "Resampled .set file 8 to 256 Hz\n",
            "Resampled .set file 9 to 256 Hz\n",
            "Resampled .set file 10 to 256 Hz\n",
            "Resampled .set file 11 to 256 Hz\n",
            "Resampled .set file 12 to 256 Hz\n",
            "Resampled .set file 13 to 256 Hz\n",
            "Resampled .set file 14 to 256 Hz\n",
            "Resampled .set file 15 to 256 Hz\n",
            "Resampled .set file 16 to 256 Hz\n",
            "Resampled .set file 17 to 256 Hz\n",
            "Resampled .set file 18 to 256 Hz\n",
            "Resampled .set file 19 to 256 Hz\n",
            "Resampled .set file 20 to 256 Hz\n",
            "Resampled .set file 21 to 256 Hz\n",
            "Resampled .set file 22 to 256 Hz\n",
            "Resampled .set file 23 to 256 Hz\n",
            "Resampled .set file 24 to 256 Hz\n",
            "Resampled .set file 25 to 256 Hz\n",
            "Resampled .set file 26 to 256 Hz\n",
            "Resampled .set file 27 to 256 Hz\n",
            "Resampled .set file 28 to 256 Hz\n",
            "Resampled .set file 29 to 256 Hz\n",
            "Resampled .set file 30 to 256 Hz\n",
            "Resampled .set file 31 to 256 Hz\n",
            "Resampled .set file 32 to 256 Hz\n",
            "Resampled .set file 33 to 256 Hz\n",
            "Resampled .set file 34 to 256 Hz\n",
            "Resampled .set file 35 to 256 Hz\n",
            "Resampled .set file 36 to 256 Hz\n",
            "Resampled .set file 37 to 256 Hz\n",
            "Resampled .set file 38 to 256 Hz\n",
            "Resampled .set file 39 to 256 Hz\n",
            "Resampled .set file 40 to 256 Hz\n",
            "Resampled .set file 41 to 256 Hz\n",
            "Resampled .set file 42 to 256 Hz\n",
            "Resampled .set file 43 to 256 Hz\n",
            "Resampled .set file 44 to 256 Hz\n",
            "Resampled .set file 45 to 256 Hz\n",
            "Resampled .set file 46 to 256 Hz\n",
            "Resampled .set file 47 to 256 Hz\n",
            "Resampled .set file 48 to 256 Hz\n",
            "Resampled .set file 49 to 256 Hz\n",
            "Resampled .set file 50 to 256 Hz\n",
            "Resampled .set file 51 to 256 Hz\n",
            "Resampled .set file 52 to 256 Hz\n",
            "Resampled .set file 53 to 256 Hz\n",
            "Resampled .set file 54 to 256 Hz\n",
            "Resampled .set file 55 to 256 Hz\n",
            "Resampled .set file 56 to 256 Hz\n",
            "Resampled .set file 57 to 256 Hz\n",
            "Resampled .set file 58 to 256 Hz\n",
            "Resampled .set file 59 to 256 Hz\n",
            "Resampled .set file 60 to 256 Hz\n",
            "Resampled .set file 61 to 256 Hz\n",
            "Resampled .set file 62 to 256 Hz\n",
            "Resampled .set file 63 to 256 Hz\n",
            "Resampled .set file 64 to 256 Hz\n",
            "Resampled .set file 65 to 256 Hz\n",
            "Resampled .set file 66 to 256 Hz\n",
            "Resampled .set file 67 to 256 Hz\n",
            "Resampled .set file 68 to 256 Hz\n",
            "Resampled .set file 69 to 256 Hz\n",
            "Resampled .set file 70 to 256 Hz\n",
            "Resampled .set file 71 to 256 Hz\n",
            "Resampled .set file 72 to 256 Hz\n",
            "Resampled .set file 73 to 256 Hz\n",
            "Resampled .set file 74 to 256 Hz\n",
            "Resampled .set file 75 to 256 Hz\n",
            "Resampled .set file 76 to 256 Hz\n",
            "Resampled .set file 77 to 256 Hz\n",
            "Resampled .set file 78 to 256 Hz\n",
            "Resampled .set file 79 to 256 Hz\n",
            "Resampled .set file 80 to 256 Hz\n",
            "Resampled .set file 81 to 256 Hz\n",
            "Resampled .set file 82 to 256 Hz\n",
            "Resampled .set file 83 to 256 Hz\n",
            "Resampled .set file 84 to 256 Hz\n",
            "Resampled .set file 85 to 256 Hz\n",
            "Resampled .set file 86 to 256 Hz\n",
            "Resampled .set file 87 to 256 Hz\n",
            "Resampled .set file 88 to 256 Hz\n",
            "Resampled .bdf file 1 to 256 Hz\n",
            "Resampled .bdf file 2 to 256 Hz\n",
            "Resampled .bdf file 3 to 256 Hz\n",
            "Resampled .bdf file 4 to 256 Hz\n",
            "Resampled .bdf file 5 to 256 Hz\n",
            "Resampled .bdf file 6 to 256 Hz\n",
            "Resampled .bdf file 7 to 256 Hz\n",
            "Resampled .bdf file 8 to 256 Hz\n",
            "Resampled .bdf file 9 to 256 Hz\n",
            "Resampled .bdf file 10 to 256 Hz\n",
            "Resampled .bdf file 11 to 256 Hz\n",
            "Resampled .bdf file 12 to 256 Hz\n",
            "Resampled .bdf file 13 to 256 Hz\n",
            "Resampled .bdf file 14 to 256 Hz\n",
            "Resampled .bdf file 15 to 256 Hz\n",
            "Resampled .bdf file 16 to 256 Hz\n",
            "Resampled .bdf file 17 to 256 Hz\n",
            "Resampled .bdf file 18 to 256 Hz\n",
            "Resampled .bdf file 19 to 256 Hz\n",
            "Resampled .bdf file 20 to 256 Hz\n",
            "Resampled .bdf file 21 to 256 Hz\n",
            "Resampled .bdf file 22 to 256 Hz\n",
            "Resampled .bdf file 23 to 256 Hz\n",
            "Resampled .bdf file 24 to 256 Hz\n",
            "Resampled .bdf file 25 to 256 Hz\n",
            "Resampled .bdf file 26 to 256 Hz\n",
            "Resampled .bdf file 27 to 256 Hz\n",
            "Resampled .bdf file 28 to 256 Hz\n",
            "Resampled .bdf file 29 to 256 Hz\n",
            "Resampled .bdf file 30 to 256 Hz\n",
            "Resampled .bdf file 31 to 256 Hz\n",
            "Resampled .bdf file 32 to 256 Hz\n",
            "Resampled .bdf file 33 to 256 Hz\n",
            "Resampled .bdf file 34 to 256 Hz\n",
            "Resampled .bdf file 35 to 256 Hz\n",
            "Resampled .bdf file 36 to 256 Hz\n",
            "Resampled .bdf file 37 to 256 Hz\n",
            "Resampled .bdf file 38 to 256 Hz\n",
            "Resampled .bdf file 39 to 256 Hz\n",
            "Resampled .bdf file 40 to 256 Hz\n",
            "Resampled .bdf file 41 to 256 Hz\n",
            "Resampled .bdf file 42 to 256 Hz\n",
            "Resampled .bdf file 43 to 256 Hz\n",
            "Resampled .bdf file 44 to 256 Hz\n",
            "Resampled .bdf file 45 to 256 Hz\n",
            "Resampled .bdf file 46 to 256 Hz\n"
          ]
        }
      ],
      "source": [
        "target_sfreq = 256  # Hz\n",
        "\n",
        "# Resample .set files\n",
        "for i, raw in enumerate(all_set_data):\n",
        "    if raw.info['sfreq'] != target_sfreq:\n",
        "        raw.resample(target_sfreq)\n",
        "        print(f\"Resampled .set file {i+1} to {target_sfreq} Hz\")\n",
        "\n",
        "# Resample .bdf files\n",
        "for i, raw in enumerate(all_bdf_data):\n",
        "    if raw.info['sfreq'] != target_sfreq:\n",
        "        raw.resample(target_sfreq)\n",
        "        print(f\"Resampled .bdf file {i+1} to {target_sfreq} Hz\")\n"
      ]
    },
    {
      "cell_type": "markdown",
      "id": "a18de62e",
      "metadata": {
        "id": "a18de62e"
      },
      "source": [
        "##6. normalization\n"
      ]
    },
    {
      "cell_type": "code",
      "execution_count": null,
      "id": "115942ef",
      "metadata": {
        "id": "115942ef",
        "colab": {
          "base_uri": "https://localhost:8080/"
        },
        "outputId": "6743aab8-c930-4340-8681-5bff7d19a6cf"
      },
      "outputs": [
        {
          "output_type": "stream",
          "name": "stdout",
          "text": [
            "Minimum common length (time points): 46336\n",
            "✅ Combined dataset shape: (134, 15, 46336)\n",
            "✅ Normalized dataset shape: (134, 15, 46336)\n",
            "💾 Saved raw as 'X_combined.npy' and normalized as 'X_combined_normalized.npy'\n",
            "Unique sampling frequencies: {256.0}\n",
            "✅ Channel orders match.\n"
          ]
        }
      ],
      "source": [
        "import numpy as np\n",
        "from sklearn.preprocessing import StandardScaler\n",
        "\n",
        "# ===== 1️⃣ Shortest recording length =====\n",
        "min_times = min([raw.n_times for raw in all_set_data + all_bdf_data])\n",
        "print(f\"Minimum common length (time points): {min_times}\")\n",
        "\n",
        "# ===== 2️⃣ Combine datasets =====\n",
        "X_all = []\n",
        "\n",
        "# Append all .set files\n",
        "for raw in all_set_data:\n",
        "    X_all.append(raw.get_data()[:, :min_times])\n",
        "\n",
        "# Append all .bdf files\n",
        "for raw in all_bdf_data:\n",
        "    X_all.append(raw.get_data()[:, :min_times])\n",
        "\n",
        "# Convert to NumPy array (n_samples, n_channels, n_times)\n",
        "X_all = np.array(X_all)\n",
        "print(f\"✅ Combined dataset shape: {X_all.shape}\")\n",
        "\n",
        "# ===== 3️⃣ Normalize using StandardScaler =====\n",
        "# Reshape to (n_samples * n_times, n_channels) for scaler\n",
        "n_samples, n_channels, n_times = X_all.shape\n",
        "X_reshaped = X_all.transpose(0, 2, 1).reshape(-1, n_channels)\n",
        "\n",
        "scaler = StandardScaler()\n",
        "X_scaled = scaler.fit_transform(X_reshaped)\n",
        "\n",
        "# Reshape back to (n_samples, n_channels, n_times)\n",
        "X_scaled = X_scaled.reshape(n_samples, n_times, n_channels).transpose(0, 2, 1)\n",
        "\n",
        "print(f\"✅ Normalized dataset shape: {X_scaled.shape}\")\n",
        "\n",
        "# ===== 4️⃣ Save datasets =====\n",
        "np.save(\"X_combined.npy\", X_all)  # raw\n",
        "np.save(\"X_combined_normalized.npy\", X_scaled)  # normalized\n",
        "\n",
        "# Also save to Google Drive\n",
        "np.save('/content/drive/MyDrive/X_combined.npy', X_all)\n",
        "np.save('/content/drive/MyDrive/X_combined_normalized.npy', X_scaled)\n",
        "\n",
        "print(\"💾 Saved raw as 'X_combined.npy' and normalized as 'X_combined_normalized.npy'\")\n",
        "\n",
        "# ===== 5️⃣ Verify consistency =====\n",
        "print(\"Unique sampling frequencies:\", set([raw.info[\"sfreq\"] for raw in all_set_data + all_bdf_data]))\n",
        "if all(raw.info[\"ch_names\"] == all_set_data[0].info[\"ch_names\"] for raw in all_set_data + all_bdf_data):\n",
        "    print(\"✅ Channel orders match.\")\n",
        "else:\n",
        "    print(\"❌ Channel orders differ!\")\n"
      ]
    },
    {
      "cell_type": "markdown",
      "id": "379e1646",
      "metadata": {
        "id": "379e1646"
      },
      "source": []
    },
    {
      "cell_type": "code",
      "execution_count": null,
      "id": "dfc56179",
      "metadata": {
        "id": "dfc56179",
        "colab": {
          "base_uri": "https://localhost:8080/"
        },
        "outputId": "f813fa63-bf77-4a3d-ad23-df54ffee8948"
      },
      "outputs": [
        {
          "output_type": "stream",
          "name": "stdout",
          "text": [
            "(134, 15, 46336)\n",
            "float64\n"
          ]
        }
      ],
      "source": [
        "import numpy as np\n",
        "\n",
        "# Load the .npy file\n",
        "data = np.load('/content/drive/MyDrive/X_combined.npy')\n",
        "\n",
        "# Now you can inspect the 'data' variable\n",
        "# For example, to see its shape:\n",
        "print(data.shape)\n",
        "\n",
        "# To see its data type:\n",
        "print(data.dtype)"
      ]
    },
    {
      "cell_type": "markdown",
      "id": "24c0e743",
      "metadata": {
        "id": "24c0e743"
      },
      "source": [
        "## 9. Save Metrics & Plots"
      ]
    },
    {
      "cell_type": "code",
      "execution_count": null,
      "id": "eab5e444",
      "metadata": {
        "id": "eab5e444",
        "colab": {
          "base_uri": "https://localhost:8080/"
        },
        "outputId": "6fa7dd12-97d4-4e1e-f3b5-826703326321"
      },
      "outputs": [
        {
          "output_type": "stream",
          "name": "stdout",
          "text": [
            "Sample 1 shape: (15, 46336)\n",
            "Sample 2 shape: (15, 46336)\n",
            "Sample 3 shape: (15, 46336)\n",
            "Sample 4 shape: (15, 46336)\n",
            "Sample 5 shape: (15, 46336)\n",
            "Sample 6 shape: (15, 46336)\n",
            "Sample 7 shape: (15, 46336)\n",
            "Sample 8 shape: (15, 46336)\n",
            "Sample 9 shape: (15, 46336)\n",
            "Sample 10 shape: (15, 46336)\n",
            "Sample 11 shape: (15, 46336)\n",
            "Sample 12 shape: (15, 46336)\n",
            "Sample 13 shape: (15, 46336)\n",
            "Sample 14 shape: (15, 46336)\n",
            "Sample 15 shape: (15, 46336)\n",
            "Sample 16 shape: (15, 46336)\n",
            "Sample 17 shape: (15, 46336)\n",
            "Sample 18 shape: (15, 46336)\n",
            "Sample 19 shape: (15, 46336)\n",
            "Sample 20 shape: (15, 46336)\n",
            "Sample 21 shape: (15, 46336)\n",
            "Sample 22 shape: (15, 46336)\n",
            "Sample 23 shape: (15, 46336)\n",
            "Sample 24 shape: (15, 46336)\n",
            "Sample 25 shape: (15, 46336)\n",
            "Sample 26 shape: (15, 46336)\n",
            "Sample 27 shape: (15, 46336)\n",
            "Sample 28 shape: (15, 46336)\n",
            "Sample 29 shape: (15, 46336)\n",
            "Sample 30 shape: (15, 46336)\n",
            "Sample 31 shape: (15, 46336)\n",
            "Sample 32 shape: (15, 46336)\n",
            "Sample 33 shape: (15, 46336)\n",
            "Sample 34 shape: (15, 46336)\n",
            "Sample 35 shape: (15, 46336)\n",
            "Sample 36 shape: (15, 46336)\n",
            "Sample 37 shape: (15, 46336)\n",
            "Sample 38 shape: (15, 46336)\n",
            "Sample 39 shape: (15, 46336)\n",
            "Sample 40 shape: (15, 46336)\n",
            "Sample 41 shape: (15, 46336)\n",
            "Sample 42 shape: (15, 46336)\n",
            "Sample 43 shape: (15, 46336)\n",
            "Sample 44 shape: (15, 46336)\n",
            "Sample 45 shape: (15, 46336)\n",
            "Sample 46 shape: (15, 46336)\n",
            "Sample 47 shape: (15, 46336)\n",
            "Sample 48 shape: (15, 46336)\n",
            "Sample 49 shape: (15, 46336)\n",
            "Sample 50 shape: (15, 46336)\n",
            "Sample 51 shape: (15, 46336)\n",
            "Sample 52 shape: (15, 46336)\n",
            "Sample 53 shape: (15, 46336)\n",
            "Sample 54 shape: (15, 46336)\n",
            "Sample 55 shape: (15, 46336)\n",
            "Sample 56 shape: (15, 46336)\n",
            "Sample 57 shape: (15, 46336)\n",
            "Sample 58 shape: (15, 46336)\n",
            "Sample 59 shape: (15, 46336)\n",
            "Sample 60 shape: (15, 46336)\n",
            "Sample 61 shape: (15, 46336)\n",
            "Sample 62 shape: (15, 46336)\n",
            "Sample 63 shape: (15, 46336)\n",
            "Sample 64 shape: (15, 46336)\n",
            "Sample 65 shape: (15, 46336)\n",
            "Sample 66 shape: (15, 46336)\n",
            "Sample 67 shape: (15, 46336)\n",
            "Sample 68 shape: (15, 46336)\n",
            "Sample 69 shape: (15, 46336)\n",
            "Sample 70 shape: (15, 46336)\n",
            "Sample 71 shape: (15, 46336)\n",
            "Sample 72 shape: (15, 46336)\n",
            "Sample 73 shape: (15, 46336)\n",
            "Sample 74 shape: (15, 46336)\n",
            "Sample 75 shape: (15, 46336)\n",
            "Sample 76 shape: (15, 46336)\n",
            "Sample 77 shape: (15, 46336)\n",
            "Sample 78 shape: (15, 46336)\n",
            "Sample 79 shape: (15, 46336)\n",
            "Sample 80 shape: (15, 46336)\n",
            "Sample 81 shape: (15, 46336)\n",
            "Sample 82 shape: (15, 46336)\n",
            "Sample 83 shape: (15, 46336)\n",
            "Sample 84 shape: (15, 46336)\n",
            "Sample 85 shape: (15, 46336)\n",
            "Sample 86 shape: (15, 46336)\n",
            "Sample 87 shape: (15, 46336)\n",
            "Sample 88 shape: (15, 46336)\n",
            "Sample 89 shape: (15, 46336)\n",
            "Sample 90 shape: (15, 46336)\n",
            "Sample 91 shape: (15, 46336)\n",
            "Sample 92 shape: (15, 46336)\n",
            "Sample 93 shape: (15, 46336)\n",
            "Sample 94 shape: (15, 46336)\n",
            "Sample 95 shape: (15, 46336)\n",
            "Sample 96 shape: (15, 46336)\n",
            "Sample 97 shape: (15, 46336)\n",
            "Sample 98 shape: (15, 46336)\n",
            "Sample 99 shape: (15, 46336)\n",
            "Sample 100 shape: (15, 46336)\n",
            "Sample 101 shape: (15, 46336)\n",
            "Sample 102 shape: (15, 46336)\n",
            "Sample 103 shape: (15, 46336)\n",
            "Sample 104 shape: (15, 46336)\n",
            "Sample 105 shape: (15, 46336)\n",
            "Sample 106 shape: (15, 46336)\n",
            "Sample 107 shape: (15, 46336)\n",
            "Sample 108 shape: (15, 46336)\n",
            "Sample 109 shape: (15, 46336)\n",
            "Sample 110 shape: (15, 46336)\n",
            "Sample 111 shape: (15, 46336)\n",
            "Sample 112 shape: (15, 46336)\n",
            "Sample 113 shape: (15, 46336)\n",
            "Sample 114 shape: (15, 46336)\n",
            "Sample 115 shape: (15, 46336)\n",
            "Sample 116 shape: (15, 46336)\n",
            "Sample 117 shape: (15, 46336)\n",
            "Sample 118 shape: (15, 46336)\n",
            "Sample 119 shape: (15, 46336)\n",
            "Sample 120 shape: (15, 46336)\n",
            "Sample 121 shape: (15, 46336)\n",
            "Sample 122 shape: (15, 46336)\n",
            "Sample 123 shape: (15, 46336)\n",
            "Sample 124 shape: (15, 46336)\n",
            "Sample 125 shape: (15, 46336)\n",
            "Sample 126 shape: (15, 46336)\n",
            "Sample 127 shape: (15, 46336)\n",
            "Sample 128 shape: (15, 46336)\n",
            "Sample 129 shape: (15, 46336)\n",
            "Sample 130 shape: (15, 46336)\n",
            "Sample 131 shape: (15, 46336)\n",
            "Sample 132 shape: (15, 46336)\n",
            "Sample 133 shape: (15, 46336)\n",
            "Sample 134 shape: (15, 46336)\n"
          ]
        }
      ],
      "source": [
        "for i, sample in enumerate(X_all):\n",
        "    print(f\"Sample {i+1} shape: {sample.shape}\")\n"
      ]
    },
    {
      "cell_type": "code",
      "source": [
        "import numpy as np\n",
        "import pandas as pd\n",
        "from pathlib import Path\n",
        "\n",
        "\n",
        "df_set = pd.read_csv(\"/content/drive/MyDrive/EEG_Project/participants_set.tsv\", sep=\"\\t\")\n",
        "df_bdf = pd.read_csv(\"/content/drive/MyDrive/EEG_Project/participants_bdf.tsv\", sep=\"\\t\")\n",
        "\n",
        "group_map_set = {'A': 1, 'F': 1, 'C': 0}\n",
        "df_set[\"label\"] = df_set[\"Group\"].map(group_map_set)\n",
        "\n",
        "\n",
        "df_bdf[\"label\"] = df_bdf[\"participant_id\"].apply(lambda x: 0 if \"hc\" in x.lower() else 1)\n",
        "\n",
        "print(\"=== SET Metadata ===\")\n",
        "print(df_set.head())\n",
        "print(\"=== BDF Metadata ===\")\n",
        "print(df_bdf.head())\n",
        "\n",
        "\n",
        "ids_set = [Path(raw.filenames[0]).parts[-3] for raw in all_set_data]\n",
        "ids_bdf = [Path(raw.filenames[0]).parts[-4] for raw in all_bdf_data]\n",
        "\n",
        "missing_set = [sid for sid in ids_set if sid not in df_set[\"participant_id\"].values]\n",
        "missing_bdf = [sid for sid in ids_bdf if sid not in df_bdf[\"participant_id\"].values]\n",
        "print(\"Missing from SET metadata:\", missing_set)\n",
        "print(\"Missing from BDF metadata:\", missing_bdf)\n",
        "\n",
        "lengths = [raw.n_times for raw in all_set_data] + [raw.n_times for raw in all_bdf_data]\n",
        "min_length = min(lengths)\n",
        "print(\"Minimum common length (time points):\", min_length)\n",
        "\n",
        "X_all = []\n",
        "y_all = []\n",
        "id_all = []\n",
        "\n",
        "for raw in all_set_data:\n",
        "    sid = Path(raw.filenames[0]).parts[-3]\n",
        "    label = df_set.loc[df_set[\"participant_id\"] == sid, \"label\"].values[0]\n",
        "    data = raw.get_data()[:, :min_length]\n",
        "    X_all.append(data)\n",
        "    y_all.append(label)\n",
        "    id_all.append(sid)\n",
        "\n",
        "for raw in all_bdf_data:\n",
        "    sid = Path(raw.filenames[0]).parts[-4]\n",
        "    label = df_bdf.loc[df_bdf[\"participant_id\"] == sid, \"label\"].values[0]\n",
        "    data = raw.get_data()[:, :min_length]\n",
        "    X_all.append(data)\n",
        "    y_all.append(label)\n",
        "    id_all.append(sid)\n",
        "\n",
        "\n",
        "X_all = np.stack(X_all)\n",
        "y_all = np.array(y_all)\n",
        "id_all = np.array(id_all)\n",
        "\n",
        "print(\"✅ Final combined dataset shape:\", X_all.shape)\n",
        "print(\"✅ Labels shape:\", y_all.shape)\n",
        "print(\"Class distribution:\\n\", pd.Series(y_all).value_counts())\n",
        "\n",
        "\n",
        "np.save(\"X_all.npy\", X_all)\n",
        "np.save(\"y_all.npy\", y_all)\n",
        "np.save('/content/drive/MyDrive/y_all', y_all)\n",
        "pd.DataFrame({\"ID\": id_all, \"label\": y_all}).to_csv(\"id_labels.csv\", index=False)\n",
        "print(\"💾 Saved X_all.npy, y_all.npy, and id_labels.csv\")\n"
      ],
      "metadata": {
        "colab": {
          "base_uri": "https://localhost:8080/"
        },
        "id": "owD2qzjsKPmx",
        "outputId": "0a411f6e-4422-457b-ae76-44d8d4597c6b"
      },
      "id": "owD2qzjsKPmx",
      "execution_count": null,
      "outputs": [
        {
          "output_type": "stream",
          "name": "stdout",
          "text": [
            "=== SET Metadata ===\n",
            "  participant_id Gender  Age Group  MMSE  label\n",
            "0        sub-001      F   57     A    16      1\n",
            "1        sub-002      F   78     A    22      1\n",
            "2        sub-003      M   70     A    14      1\n",
            "3        sub-004      F   67     A    20      1\n",
            "4        sub-005      M   70     A    22      1\n",
            "=== BDF Metadata ===\n",
            "  participant_id  age gender hand  MMSE  NAART  disease_duration  \\\n",
            "0        sub-hc1   54      f    r    30     48               NaN   \n",
            "1        sub-hc2   50      f    r    30     55               NaN   \n",
            "2        sub-pd3   52      f    r    29     44               9.0   \n",
            "3        sub-hc4   50      f    r    30     52               NaN   \n",
            "4        sub-pd5   67      f    r    29     48               2.0   \n",
            "\n",
            "                     rl_deficits notes  label  \n",
            "0                            NaN   NaN      0  \n",
            "1                            NaN   NaN      0  \n",
            "2                              R   NaN      1  \n",
            "3                            NaN   NaN      0  \n",
            "4  No clear side, perhaps more L   NaN      1  \n",
            "Missing from SET metadata: []\n",
            "Missing from BDF metadata: []\n",
            "Minimum common length (time points): 46336\n",
            "✅ Final combined dataset shape: (134, 15, 46336)\n",
            "✅ Labels shape: (134,)\n",
            "Class distribution:\n",
            " 1    89\n",
            "0    45\n",
            "Name: count, dtype: int64\n",
            "💾 Saved X_all.npy, y_all.npy, and id_labels.csv\n"
          ]
        }
      ]
    },
    {
      "cell_type": "markdown",
      "source": [],
      "metadata": {
        "id": "fFmINOHgw1z5"
      },
      "id": "fFmINOHgw1z5"
    },
    {
      "cell_type": "code",
      "source": [
        "import pandas as pd\n",
        "\n",
        "\n",
        "df_overview = pd.DataFrame({\n",
        "    \"ID\": id_all,\n",
        "    \"Label\": y_all\n",
        "})\n",
        "\n",
        "\n",
        "label_map = {0: \"Healthy\", 1: \"Alzheimer/Dementia/PD\"}\n",
        "df_overview[\"Label_Name\"] = df_overview[\"Label\"].map(label_map)\n",
        "\n",
        "\n",
        "print(df_overview)\n",
        "\n",
        "\n",
        "df_overview.to_csv(\"/content/drive/MyDrive/dataset_overview.csv\", index=False)\n",
        "print(\"💾 Saved to /content/drive/MyDrive/dataset_overview.csv\")\n",
        "\n",
        "print(\"\\nClass distribution:\")\n",
        "print(df_overview[\"Label_Name\"].value_counts())\n"
      ],
      "metadata": {
        "colab": {
          "base_uri": "https://localhost:8080/"
        },
        "id": "ep4gdVCWDIYy",
        "outputId": "982fb93e-db5b-40df-c9cf-e91b1363f15d"
      },
      "id": "ep4gdVCWDIYy",
      "execution_count": null,
      "outputs": [
        {
          "output_type": "stream",
          "name": "stdout",
          "text": [
            "           ID  Label             Label_Name\n",
            "0     sub-005      1  Alzheimer/Dementia/PD\n",
            "1     sub-003      1  Alzheimer/Dementia/PD\n",
            "2     sub-001      1  Alzheimer/Dementia/PD\n",
            "3     sub-006      1  Alzheimer/Dementia/PD\n",
            "4     sub-004      1  Alzheimer/Dementia/PD\n",
            "..        ...    ...                    ...\n",
            "129  sub-pd23      1  Alzheimer/Dementia/PD\n",
            "130  sub-pd26      1  Alzheimer/Dementia/PD\n",
            "131  sub-pd26      1  Alzheimer/Dementia/PD\n",
            "132  sub-pd28      1  Alzheimer/Dementia/PD\n",
            "133  sub-pd28      1  Alzheimer/Dementia/PD\n",
            "\n",
            "[134 rows x 3 columns]\n",
            "💾 Saved to /content/drive/MyDrive/dataset_overview.csv\n",
            "\n",
            "Class distribution:\n",
            "Label_Name\n",
            "Alzheimer/Dementia/PD    89\n",
            "Healthy                  45\n",
            "Name: count, dtype: int64\n"
          ]
        }
      ]
    },
    {
      "cell_type": "code",
      "source": [
        "for i, arr in enumerate(X_all):\n",
        "    print(f\"Index {i}: shape = {np.array(arr).shape}\")\n"
      ],
      "metadata": {
        "id": "Fi41MKGOFq54",
        "colab": {
          "base_uri": "https://localhost:8080/"
        },
        "outputId": "a9328ffb-5a9b-4ebf-ca63-65c03be9bec1"
      },
      "id": "Fi41MKGOFq54",
      "execution_count": null,
      "outputs": [
        {
          "output_type": "stream",
          "name": "stdout",
          "text": [
            "Index 0: shape = (15, 46336)\n",
            "Index 1: shape = (15, 46336)\n",
            "Index 2: shape = (15, 46336)\n",
            "Index 3: shape = (15, 46336)\n",
            "Index 4: shape = (15, 46336)\n",
            "Index 5: shape = (15, 46336)\n",
            "Index 6: shape = (15, 46336)\n",
            "Index 7: shape = (15, 46336)\n",
            "Index 8: shape = (15, 46336)\n",
            "Index 9: shape = (15, 46336)\n",
            "Index 10: shape = (15, 46336)\n",
            "Index 11: shape = (15, 46336)\n",
            "Index 12: shape = (15, 46336)\n",
            "Index 13: shape = (15, 46336)\n",
            "Index 14: shape = (15, 46336)\n",
            "Index 15: shape = (15, 46336)\n",
            "Index 16: shape = (15, 46336)\n",
            "Index 17: shape = (15, 46336)\n",
            "Index 18: shape = (15, 46336)\n",
            "Index 19: shape = (15, 46336)\n",
            "Index 20: shape = (15, 46336)\n",
            "Index 21: shape = (15, 46336)\n",
            "Index 22: shape = (15, 46336)\n",
            "Index 23: shape = (15, 46336)\n",
            "Index 24: shape = (15, 46336)\n",
            "Index 25: shape = (15, 46336)\n",
            "Index 26: shape = (15, 46336)\n",
            "Index 27: shape = (15, 46336)\n",
            "Index 28: shape = (15, 46336)\n",
            "Index 29: shape = (15, 46336)\n",
            "Index 30: shape = (15, 46336)\n",
            "Index 31: shape = (15, 46336)\n",
            "Index 32: shape = (15, 46336)\n",
            "Index 33: shape = (15, 46336)\n",
            "Index 34: shape = (15, 46336)\n",
            "Index 35: shape = (15, 46336)\n",
            "Index 36: shape = (15, 46336)\n",
            "Index 37: shape = (15, 46336)\n",
            "Index 38: shape = (15, 46336)\n",
            "Index 39: shape = (15, 46336)\n",
            "Index 40: shape = (15, 46336)\n",
            "Index 41: shape = (15, 46336)\n",
            "Index 42: shape = (15, 46336)\n",
            "Index 43: shape = (15, 46336)\n",
            "Index 44: shape = (15, 46336)\n",
            "Index 45: shape = (15, 46336)\n",
            "Index 46: shape = (15, 46336)\n",
            "Index 47: shape = (15, 46336)\n",
            "Index 48: shape = (15, 46336)\n",
            "Index 49: shape = (15, 46336)\n",
            "Index 50: shape = (15, 46336)\n",
            "Index 51: shape = (15, 46336)\n",
            "Index 52: shape = (15, 46336)\n",
            "Index 53: shape = (15, 46336)\n",
            "Index 54: shape = (15, 46336)\n",
            "Index 55: shape = (15, 46336)\n",
            "Index 56: shape = (15, 46336)\n",
            "Index 57: shape = (15, 46336)\n",
            "Index 58: shape = (15, 46336)\n",
            "Index 59: shape = (15, 46336)\n",
            "Index 60: shape = (15, 46336)\n",
            "Index 61: shape = (15, 46336)\n",
            "Index 62: shape = (15, 46336)\n",
            "Index 63: shape = (15, 46336)\n",
            "Index 64: shape = (15, 46336)\n",
            "Index 65: shape = (15, 46336)\n",
            "Index 66: shape = (15, 46336)\n",
            "Index 67: shape = (15, 46336)\n",
            "Index 68: shape = (15, 46336)\n",
            "Index 69: shape = (15, 46336)\n",
            "Index 70: shape = (15, 46336)\n",
            "Index 71: shape = (15, 46336)\n",
            "Index 72: shape = (15, 46336)\n",
            "Index 73: shape = (15, 46336)\n",
            "Index 74: shape = (15, 46336)\n",
            "Index 75: shape = (15, 46336)\n",
            "Index 76: shape = (15, 46336)\n",
            "Index 77: shape = (15, 46336)\n",
            "Index 78: shape = (15, 46336)\n",
            "Index 79: shape = (15, 46336)\n",
            "Index 80: shape = (15, 46336)\n",
            "Index 81: shape = (15, 46336)\n",
            "Index 82: shape = (15, 46336)\n",
            "Index 83: shape = (15, 46336)\n",
            "Index 84: shape = (15, 46336)\n",
            "Index 85: shape = (15, 46336)\n",
            "Index 86: shape = (15, 46336)\n",
            "Index 87: shape = (15, 46336)\n",
            "Index 88: shape = (15, 46336)\n",
            "Index 89: shape = (15, 46336)\n",
            "Index 90: shape = (15, 46336)\n",
            "Index 91: shape = (15, 46336)\n",
            "Index 92: shape = (15, 46336)\n",
            "Index 93: shape = (15, 46336)\n",
            "Index 94: shape = (15, 46336)\n",
            "Index 95: shape = (15, 46336)\n",
            "Index 96: shape = (15, 46336)\n",
            "Index 97: shape = (15, 46336)\n",
            "Index 98: shape = (15, 46336)\n",
            "Index 99: shape = (15, 46336)\n",
            "Index 100: shape = (15, 46336)\n",
            "Index 101: shape = (15, 46336)\n",
            "Index 102: shape = (15, 46336)\n",
            "Index 103: shape = (15, 46336)\n",
            "Index 104: shape = (15, 46336)\n",
            "Index 105: shape = (15, 46336)\n",
            "Index 106: shape = (15, 46336)\n",
            "Index 107: shape = (15, 46336)\n",
            "Index 108: shape = (15, 46336)\n",
            "Index 109: shape = (15, 46336)\n",
            "Index 110: shape = (15, 46336)\n",
            "Index 111: shape = (15, 46336)\n",
            "Index 112: shape = (15, 46336)\n",
            "Index 113: shape = (15, 46336)\n",
            "Index 114: shape = (15, 46336)\n",
            "Index 115: shape = (15, 46336)\n",
            "Index 116: shape = (15, 46336)\n",
            "Index 117: shape = (15, 46336)\n",
            "Index 118: shape = (15, 46336)\n",
            "Index 119: shape = (15, 46336)\n",
            "Index 120: shape = (15, 46336)\n",
            "Index 121: shape = (15, 46336)\n",
            "Index 122: shape = (15, 46336)\n",
            "Index 123: shape = (15, 46336)\n",
            "Index 124: shape = (15, 46336)\n",
            "Index 125: shape = (15, 46336)\n",
            "Index 126: shape = (15, 46336)\n",
            "Index 127: shape = (15, 46336)\n",
            "Index 128: shape = (15, 46336)\n",
            "Index 129: shape = (15, 46336)\n",
            "Index 130: shape = (15, 46336)\n",
            "Index 131: shape = (15, 46336)\n",
            "Index 132: shape = (15, 46336)\n",
            "Index 133: shape = (15, 46336)\n"
          ]
        }
      ]
    },
    {
      "cell_type": "code",
      "source": [
        "import torch\n",
        "from torch.utils.data import TensorDataset, DataLoader\n",
        "from sklearn.model_selection import train_test_split\n",
        "\n",
        "\n",
        "print(f\"Full dataset size: {len(X_all)} samples\")\n",
        "\n",
        "\n",
        "X_train, X_temp, y_train, y_temp = train_test_split(\n",
        "    X_all, y_all, test_size=0.3, random_state=42, stratify=y_all\n",
        ")\n",
        "\n",
        "\n",
        "X_test, X_eval, y_test, y_eval = train_test_split(\n",
        "    X_temp, y_temp, test_size=1/3, random_state=42, stratify=y_temp\n",
        ")\n",
        "\n",
        "print(f\"Train: {len(X_train)}, Test: {len(X_test)}, Eval: {len(X_eval)}\")\n",
        "\n",
        "\n",
        "X_train_t = torch.tensor(X_train, dtype=torch.float32)\n",
        "y_train_t = torch.tensor(y_train, dtype=torch.long)\n",
        "\n",
        "X_test_t = torch.tensor(X_test, dtype=torch.float32)\n",
        "y_test_t = torch.tensor(y_test, dtype=torch.long)\n",
        "\n",
        "X_eval_t = torch.tensor(X_eval, dtype=torch.float32)\n",
        "y_eval_t = torch.tensor(y_eval, dtype=torch.long)\n",
        "\n",
        "\n",
        "train_dataset = TensorDataset(X_train_t, y_train_t)\n",
        "test_dataset = TensorDataset(X_test_t, y_test_t)\n",
        "eval_dataset = TensorDataset(X_eval_t, y_eval_t)\n",
        "\n",
        "\n",
        "train_loader = DataLoader(train_dataset, batch_size=32, shuffle=True)\n",
        "test_loader = DataLoader(test_dataset, batch_size=32, shuffle=False)\n",
        "eval_loader = DataLoader(eval_dataset, batch_size=32, shuffle=False)\n"
      ],
      "metadata": {
        "colab": {
          "base_uri": "https://localhost:8080/"
        },
        "id": "mHgMXR6Ai7aN",
        "outputId": "ce6f6f4c-4fe2-4637-d6bc-0495c47e502a"
      },
      "id": "mHgMXR6Ai7aN",
      "execution_count": null,
      "outputs": [
        {
          "output_type": "stream",
          "name": "stdout",
          "text": [
            "Full dataset size: 134 samples\n",
            "Train: 93, Test: 27, Eval: 14\n"
          ]
        }
      ]
    },
    {
      "cell_type": "markdown",
      "source": [
        "EEGNet Model Definition"
      ],
      "metadata": {
        "id": "Rum-C2AfoBeh"
      },
      "id": "Rum-C2AfoBeh"
    },
    {
      "cell_type": "code",
      "source": [
        "import torch\n",
        "import torch.nn as nn\n",
        "\n",
        "class EEGNet(nn.Module):\n",
        "    def __init__(self, num_classes, Chans=64, Samples=128, dropoutRate=0.8, activation='ELU'):\n",
        "        super(EEGNet, self).__init__()\n",
        "\n",
        "        self.firstConv = nn.Sequential(\n",
        "            nn.Conv2d(1, 16, (1, 64), padding=(0, 32), bias=False),\n",
        "            nn.BatchNorm2d(16)\n",
        "        )\n",
        "\n",
        "        # Define the activation function based on the input string\n",
        "        if activation == 'ELU':\n",
        "            self.activation = nn.ELU()\n",
        "        elif activation == 'tanh':\n",
        "            self.activation = nn.Tanh()\n",
        "        elif activation == 'swish':\n",
        "            self.activation = nn.SiLU() # SiLU is the PyTorch implementation of Swish\n",
        "        else:\n",
        "            raise ValueError(f\"Unsupported activation function: {activation}\")\n",
        "\n",
        "\n",
        "        self.depthwiseConv = nn.Sequential(\n",
        "            nn.Conv2d(16, 32, (Chans, 1), groups=16, bias=False),\n",
        "            nn.BatchNorm2d(32),\n",
        "            self.activation, # Use the selected activation\n",
        "            nn.AvgPool2d((1, 4)),\n",
        "            nn.Dropout(dropoutRate)\n",
        "        )\n",
        "\n",
        "        self.separableConv = nn.Sequential(\n",
        "            nn.Conv2d(32, 32, (1, 16), padding=(0, 8), bias=False),\n",
        "            nn.BatchNorm2d(32),\n",
        "            self.activation, # Use the selected activation\n",
        "            nn.AvgPool2d((1, 8)),\n",
        "            nn.Dropout(dropoutRate)\n",
        "        )\n",
        "\n",
        "        test_input = torch.zeros(1, 1, Chans, Samples)\n",
        "        out = self.separableConv(self.depthwiseConv(self.firstConv(test_input)))\n",
        "        flattened_size = out.shape[1] * out.shape[2] * out.shape[3]\n",
        "\n",
        "        self.classify = nn.Linear(flattened_size, num_classes)\n",
        "\n",
        "    def forward(self, x):\n",
        "        x = self.firstConv(x)\n",
        "        x = self.depthwiseConv(x)\n",
        "        x = self.separableConv(x)\n",
        "        x = x.view(x.size(0), -1)\n",
        "        return self.classify(x)"
      ],
      "metadata": {
        "id": "4C3al2eTj3Fs"
      },
      "id": "4C3al2eTj3Fs",
      "execution_count": null,
      "outputs": []
    },
    {
      "cell_type": "markdown",
      "source": [
        "Dataset Split (70% Train / 20% Test / 10% Eval)"
      ],
      "metadata": {
        "id": "lIMo4TJMnuW0"
      },
      "id": "lIMo4TJMnuW0"
    },
    {
      "cell_type": "code",
      "source": [
        "import matplotlib.pyplot as plt\n",
        "\n",
        "batch_sizes = [16, 24, 32]\n",
        "\n",
        "results = {}  # to store final accuracies + losses\n",
        "\n",
        "for bs in batch_sizes:\n",
        "    print(f\"\\n===== Training with batch size {bs} =====\\n\")\n",
        "\n",
        "    train_loader = DataLoader(TensorDataset(X_train_t, y_train_t), batch_size=bs, shuffle=True)\n",
        "    test_loader  = DataLoader(TensorDataset(X_test_t, y_test_t), batch_size=bs, shuffle=False)\n",
        "    eval_loader  = DataLoader(TensorDataset(X_eval_t, y_eval_t), batch_size=bs, shuffle=False)\n",
        "\n",
        "    # -------------------------------\n",
        "    # Model initialization & optimizer\n",
        "    # -------------------------------\n",
        "    device = torch.device(\"cuda\" if torch.cuda.is_available() else \"cpu\")\n",
        "    num_classes = len(set(y_all))\n",
        "    Chans = X_all.shape[1]\n",
        "    Samples = X_all.shape[2]\n",
        "\n",
        "    model = EEGNet(num_classes=num_classes, Chans=Chans, Samples=Samples,\n",
        "                   dropoutRate=0.6, activation='tanh').to(device)\n",
        "\n",
        "    criterion = nn.CrossEntropyLoss()\n",
        "    optimizer = torch.optim.Adam(model.parameters(), lr=0.0001)\n",
        "\n",
        "    # -------------------------------\n",
        "    # Training loop\n",
        "    # -------------------------------\n",
        "    n_epochs = 50\n",
        "    train_losses, eval_losses = [], []\n",
        "\n",
        "    for epoch in range(n_epochs):\n",
        "        model.train()\n",
        "        train_loss, correct_train = 0, 0\n",
        "\n",
        "        for X_batch, y_batch in train_loader:\n",
        "            X_batch, y_batch = X_batch.to(device), y_batch.to(device)\n",
        "\n",
        "            optimizer.zero_grad()\n",
        "            output = model(X_batch)\n",
        "            loss = criterion(output, y_batch)\n",
        "            loss.backward()\n",
        "            optimizer.step()\n",
        "\n",
        "            train_loss += loss.item()\n",
        "            preds = output.argmax(dim=1)\n",
        "            correct_train += (preds == y_batch).sum().item()\n",
        "\n",
        "        # average train loss\n",
        "        avg_train_loss = train_loss / len(train_loader)\n",
        "        acc_train = correct_train / len(train_loader.dataset)\n",
        "        train_losses.append(avg_train_loss)\n",
        "\n",
        "        # compute validation (eval) loss\n",
        "        model.eval()\n",
        "        eval_loss, correct_eval = 0, 0\n",
        "        with torch.no_grad():\n",
        "            for X_batch, y_batch in eval_loader:\n",
        "                X_batch, y_batch = X_batch.to(device), y_batch.to(device)\n",
        "                output = model(X_batch)\n",
        "                loss = criterion(output, y_batch)\n",
        "                eval_loss += loss.item()\n",
        "\n",
        "                preds = output.argmax(dim=1)\n",
        "                correct_eval += (preds == y_batch).sum().item()\n",
        "\n",
        "        avg_eval_loss = eval_loss / len(eval_loader)\n",
        "        acc_eval = correct_eval / len(eval_loader.dataset)\n",
        "        eval_losses.append(avg_eval_loss)\n",
        "\n",
        "        print(f\"Epoch [{epoch+1}/{n_epochs}] \"\n",
        "              f\"Train Loss: {avg_train_loss:.4f} | Train Acc: {acc_train:.4f} \"\n",
        "              f\"| Eval Loss: {avg_eval_loss:.4f} | Eval Acc: {acc_eval:.4f}\")\n",
        "\n",
        "    # -------------------------------\n",
        "    # Final test accuracy\n",
        "    # -------------------------------\n",
        "    model.eval()\n",
        "    correct_test = 0\n",
        "    with torch.no_grad():\n",
        "        for X_batch, y_batch in test_loader:\n",
        "            X_batch, y_batch = X_batch.to(device), y_batch.to(device)\n",
        "            output = model(X_batch)\n",
        "            preds = output.argmax(dim=1)\n",
        "            correct_test += (preds == y_batch).sum().item()\n",
        "\n",
        "    acc_test = correct_test / len(test_loader.dataset)\n",
        "\n",
        "    # Save results\n",
        "    results[bs] = {\n",
        "        \"train_acc\": acc_train,\n",
        "        \"eval_acc\": acc_eval,\n",
        "        \"test_acc\": acc_test,\n",
        "        \"train_losses\": train_losses,\n",
        "        \"eval_losses\": eval_losses\n",
        "    }\n",
        "\n",
        "    print(f\"✅ Finished training with batch size {bs} | \"\n",
        "          f\"Train Acc: {acc_train:.4f} | Test Acc: {acc_test:.4f} | Eval Acc: {acc_eval:.4f}\")\n",
        "\n",
        "# -------------------------------\n",
        "# Plot Loss Curves\n",
        "# -------------------------------\n",
        "plt.figure(figsize=(12, 6))\n",
        "for bs in batch_sizes:\n",
        "    plt.plot(results[bs][\"train_losses\"], label=f\"Train Loss (bs={bs})\")\n",
        "    plt.plot(results[bs][\"eval_losses\"], linestyle=\"--\", label=f\"Eval Loss (bs={bs})\")\n",
        "plt.xlabel(\"Epoch\")\n",
        "plt.ylabel(\"Loss\")\n",
        "plt.title(\"Training & Eval Loss Curves\")\n",
        "plt.legend()\n",
        "plt.show()\n",
        "\n",
        "# -------------------------------\n",
        "# Print Final Accuracies\n",
        "# -------------------------------\n",
        "print(\"\\n=== Final Accuracy Summary ===\")\n",
        "for bs in batch_sizes:\n",
        "    print(f\"Batch Size {bs}: \"\n",
        "          f\"Train Acc={results[bs]['train_acc']:.4f}, \"\n",
        "          f\"Eval Acc={results[bs]['eval_acc']:.4f}, \"\n",
        "          f\"Test Acc={results[bs]['test_acc']:.4f}\")\n"
      ],
      "metadata": {
        "colab": {
          "base_uri": "https://localhost:8080/",
          "height": 1000
        },
        "id": "d7Gb2J2ulf8E",
        "outputId": "0d25b2e6-b3e0-468e-bd0e-4c78602996fe"
      },
      "id": "d7Gb2J2ulf8E",
      "execution_count": null,
      "outputs": [
        {
          "output_type": "stream",
          "name": "stdout",
          "text": [
            "\n",
            "===== Training with batch size 16 =====\n",
            "\n",
            "Epoch [1/50] Train Loss: 0.7292 | Train Acc: 0.4624 | Eval Loss: 0.7042 | Eval Acc: 0.3571\n",
            "Epoch [2/50] Train Loss: 0.8146 | Train Acc: 0.6452 | Eval Loss: 0.7190 | Eval Acc: 0.3571\n",
            "Epoch [3/50] Train Loss: 0.6284 | Train Acc: 0.6237 | Eval Loss: 0.7462 | Eval Acc: 0.3571\n",
            "Epoch [4/50] Train Loss: 0.7527 | Train Acc: 0.5591 | Eval Loss: 0.7169 | Eval Acc: 0.3571\n",
            "Epoch [5/50] Train Loss: 0.6461 | Train Acc: 0.5806 | Eval Loss: 0.6959 | Eval Acc: 0.4286\n",
            "Epoch [6/50] Train Loss: 0.5939 | Train Acc: 0.6129 | Eval Loss: 0.6586 | Eval Acc: 0.6429\n",
            "Epoch [7/50] Train Loss: 0.6073 | Train Acc: 0.6452 | Eval Loss: 0.6601 | Eval Acc: 0.6429\n",
            "Epoch [8/50] Train Loss: 0.5845 | Train Acc: 0.6882 | Eval Loss: 0.6511 | Eval Acc: 0.6429\n",
            "Epoch [9/50] Train Loss: 0.6374 | Train Acc: 0.6022 | Eval Loss: 0.6390 | Eval Acc: 0.6429\n",
            "Epoch [10/50] Train Loss: 0.6159 | Train Acc: 0.6882 | Eval Loss: 0.6361 | Eval Acc: 0.5714\n",
            "Epoch [11/50] Train Loss: 0.5753 | Train Acc: 0.6452 | Eval Loss: 0.5808 | Eval Acc: 0.6429\n",
            "Epoch [12/50] Train Loss: 0.6129 | Train Acc: 0.6344 | Eval Loss: 0.6410 | Eval Acc: 0.6429\n",
            "Epoch [13/50] Train Loss: 0.5861 | Train Acc: 0.7419 | Eval Loss: 0.7013 | Eval Acc: 0.5714\n",
            "Epoch [14/50] Train Loss: 0.5550 | Train Acc: 0.7204 | Eval Loss: 0.7531 | Eval Acc: 0.5000\n",
            "Epoch [15/50] Train Loss: 0.5691 | Train Acc: 0.7097 | Eval Loss: 0.7306 | Eval Acc: 0.5714\n",
            "Epoch [16/50] Train Loss: 0.6887 | Train Acc: 0.6452 | Eval Loss: 0.6306 | Eval Acc: 0.5000\n",
            "Epoch [17/50] Train Loss: 0.5457 | Train Acc: 0.7419 | Eval Loss: 0.7250 | Eval Acc: 0.5000\n",
            "Epoch [18/50] Train Loss: 0.6476 | Train Acc: 0.6129 | Eval Loss: 0.7090 | Eval Acc: 0.4286\n",
            "Epoch [19/50] Train Loss: 0.5213 | Train Acc: 0.7634 | Eval Loss: 0.6317 | Eval Acc: 0.5714\n",
            "Epoch [20/50] Train Loss: 0.5580 | Train Acc: 0.6989 | Eval Loss: 0.5892 | Eval Acc: 0.5714\n",
            "Epoch [21/50] Train Loss: 0.5659 | Train Acc: 0.6774 | Eval Loss: 1.0669 | Eval Acc: 0.3571\n",
            "Epoch [22/50] Train Loss: 0.5554 | Train Acc: 0.7097 | Eval Loss: 0.7593 | Eval Acc: 0.5000\n",
            "Epoch [23/50] Train Loss: 0.4725 | Train Acc: 0.7957 | Eval Loss: 0.7805 | Eval Acc: 0.5000\n",
            "Epoch [24/50] Train Loss: 0.5114 | Train Acc: 0.7419 | Eval Loss: 0.7039 | Eval Acc: 0.5000\n",
            "Epoch [25/50] Train Loss: 0.5036 | Train Acc: 0.7097 | Eval Loss: 0.5503 | Eval Acc: 0.5714\n",
            "Epoch [26/50] Train Loss: 0.5066 | Train Acc: 0.7957 | Eval Loss: 0.8731 | Eval Acc: 0.5000\n",
            "Epoch [27/50] Train Loss: 0.5336 | Train Acc: 0.8065 | Eval Loss: 0.6787 | Eval Acc: 0.5714\n",
            "Epoch [28/50] Train Loss: 0.5610 | Train Acc: 0.6344 | Eval Loss: 0.5603 | Eval Acc: 0.5714\n",
            "Epoch [29/50] Train Loss: 0.4421 | Train Acc: 0.8172 | Eval Loss: 1.0368 | Eval Acc: 0.4286\n",
            "Epoch [30/50] Train Loss: 0.5165 | Train Acc: 0.7312 | Eval Loss: 0.9978 | Eval Acc: 0.5000\n",
            "Epoch [31/50] Train Loss: 0.4529 | Train Acc: 0.8065 | Eval Loss: 0.6496 | Eval Acc: 0.5000\n",
            "Epoch [32/50] Train Loss: 0.4594 | Train Acc: 0.8280 | Eval Loss: 0.8983 | Eval Acc: 0.4286\n",
            "Epoch [33/50] Train Loss: 0.4289 | Train Acc: 0.8495 | Eval Loss: 1.0304 | Eval Acc: 0.3571\n",
            "Epoch [34/50] Train Loss: 0.4763 | Train Acc: 0.7849 | Eval Loss: 1.3155 | Eval Acc: 0.4286\n",
            "Epoch [35/50] Train Loss: 0.4649 | Train Acc: 0.8387 | Eval Loss: 0.7040 | Eval Acc: 0.5714\n",
            "Epoch [36/50] Train Loss: 0.4387 | Train Acc: 0.7527 | Eval Loss: 0.8582 | Eval Acc: 0.5000\n",
            "Epoch [37/50] Train Loss: 0.4028 | Train Acc: 0.7849 | Eval Loss: 0.7916 | Eval Acc: 0.5000\n",
            "Epoch [38/50] Train Loss: 0.4286 | Train Acc: 0.8495 | Eval Loss: 0.9284 | Eval Acc: 0.5000\n",
            "Epoch [39/50] Train Loss: 0.3741 | Train Acc: 0.8495 | Eval Loss: 0.8916 | Eval Acc: 0.4286\n",
            "Epoch [40/50] Train Loss: 0.3461 | Train Acc: 0.8925 | Eval Loss: 0.7630 | Eval Acc: 0.5000\n",
            "Epoch [41/50] Train Loss: 0.3059 | Train Acc: 0.8817 | Eval Loss: 0.7250 | Eval Acc: 0.5714\n",
            "Epoch [42/50] Train Loss: 0.3085 | Train Acc: 0.9247 | Eval Loss: 1.0026 | Eval Acc: 0.4286\n",
            "Epoch [43/50] Train Loss: 0.3062 | Train Acc: 0.8817 | Eval Loss: 0.8025 | Eval Acc: 0.5714\n",
            "Epoch [44/50] Train Loss: 0.2966 | Train Acc: 0.8710 | Eval Loss: 0.7280 | Eval Acc: 0.5714\n",
            "Epoch [45/50] Train Loss: 0.2468 | Train Acc: 0.9570 | Eval Loss: 1.1411 | Eval Acc: 0.5000\n",
            "Epoch [46/50] Train Loss: 0.2616 | Train Acc: 0.9355 | Eval Loss: 0.9422 | Eval Acc: 0.5000\n",
            "Epoch [47/50] Train Loss: 0.2711 | Train Acc: 0.9140 | Eval Loss: 0.7227 | Eval Acc: 0.6429\n",
            "Epoch [48/50] Train Loss: 0.2342 | Train Acc: 0.9355 | Eval Loss: 0.7098 | Eval Acc: 0.6429\n",
            "Epoch [49/50] Train Loss: 0.2287 | Train Acc: 0.9355 | Eval Loss: 0.8640 | Eval Acc: 0.5714\n",
            "Epoch [50/50] Train Loss: 0.2425 | Train Acc: 0.9247 | Eval Loss: 1.0095 | Eval Acc: 0.5000\n",
            "✅ Finished training with batch size 16 | Train Acc: 0.9247 | Test Acc: 0.5926 | Eval Acc: 0.5000\n",
            "\n",
            "===== Training with batch size 24 =====\n",
            "\n",
            "Epoch [1/50] Train Loss: 0.7139 | Train Acc: 0.5806 | Eval Loss: 0.6927 | Eval Acc: 0.5714\n",
            "Epoch [2/50] Train Loss: 0.6052 | Train Acc: 0.7097 | Eval Loss: 0.6920 | Eval Acc: 0.5714\n",
            "Epoch [3/50] Train Loss: 0.6407 | Train Acc: 0.6452 | Eval Loss: 0.6807 | Eval Acc: 0.6429\n",
            "Epoch [4/50] Train Loss: 0.6303 | Train Acc: 0.6452 | Eval Loss: 0.6634 | Eval Acc: 0.6429\n",
            "Epoch [5/50] Train Loss: 0.6085 | Train Acc: 0.6452 | Eval Loss: 0.6429 | Eval Acc: 0.6429\n",
            "Epoch [6/50] Train Loss: 0.6117 | Train Acc: 0.7312 | Eval Loss: 0.6657 | Eval Acc: 0.6429\n",
            "Epoch [7/50] Train Loss: 0.6111 | Train Acc: 0.7204 | Eval Loss: 0.6893 | Eval Acc: 0.6429\n",
            "Epoch [8/50] Train Loss: 0.6482 | Train Acc: 0.6559 | Eval Loss: 0.6624 | Eval Acc: 0.6429\n",
            "Epoch [9/50] Train Loss: 0.5481 | Train Acc: 0.7097 | Eval Loss: 0.6548 | Eval Acc: 0.6429\n",
            "Epoch [10/50] Train Loss: 0.6556 | Train Acc: 0.6237 | Eval Loss: 0.6564 | Eval Acc: 0.6429\n",
            "Epoch [11/50] Train Loss: 0.6467 | Train Acc: 0.5914 | Eval Loss: 0.6611 | Eval Acc: 0.6429\n",
            "Epoch [12/50] Train Loss: 0.5661 | Train Acc: 0.6774 | Eval Loss: 0.6321 | Eval Acc: 0.6429\n",
            "Epoch [13/50] Train Loss: 0.5513 | Train Acc: 0.7204 | Eval Loss: 0.6618 | Eval Acc: 0.6429\n",
            "Epoch [14/50] Train Loss: 0.5483 | Train Acc: 0.6774 | Eval Loss: 0.7320 | Eval Acc: 0.6429\n",
            "Epoch [15/50] Train Loss: 0.5763 | Train Acc: 0.6882 | Eval Loss: 0.7751 | Eval Acc: 0.6429\n",
            "Epoch [16/50] Train Loss: 0.5663 | Train Acc: 0.6989 | Eval Loss: 0.7233 | Eval Acc: 0.6429\n",
            "Epoch [17/50] Train Loss: 0.5048 | Train Acc: 0.7634 | Eval Loss: 0.6414 | Eval Acc: 0.6429\n",
            "Epoch [18/50] Train Loss: 0.5339 | Train Acc: 0.7204 | Eval Loss: 0.6896 | Eval Acc: 0.5714\n",
            "Epoch [19/50] Train Loss: 0.5242 | Train Acc: 0.6989 | Eval Loss: 0.6928 | Eval Acc: 0.6429\n",
            "Epoch [20/50] Train Loss: 0.5393 | Train Acc: 0.7097 | Eval Loss: 0.7759 | Eval Acc: 0.5714\n",
            "Epoch [21/50] Train Loss: 0.5677 | Train Acc: 0.7097 | Eval Loss: 0.7833 | Eval Acc: 0.5714\n",
            "Epoch [22/50] Train Loss: 0.4765 | Train Acc: 0.7849 | Eval Loss: 0.6625 | Eval Acc: 0.6429\n",
            "Epoch [23/50] Train Loss: 0.5227 | Train Acc: 0.7204 | Eval Loss: 0.6072 | Eval Acc: 0.6429\n",
            "Epoch [24/50] Train Loss: 0.4802 | Train Acc: 0.7742 | Eval Loss: 0.5646 | Eval Acc: 0.5714\n",
            "Epoch [25/50] Train Loss: 0.5552 | Train Acc: 0.7312 | Eval Loss: 0.6131 | Eval Acc: 0.5714\n",
            "Epoch [26/50] Train Loss: 0.4627 | Train Acc: 0.7849 | Eval Loss: 0.6163 | Eval Acc: 0.5714\n",
            "Epoch [27/50] Train Loss: 0.4073 | Train Acc: 0.8065 | Eval Loss: 0.6404 | Eval Acc: 0.5714\n",
            "Epoch [28/50] Train Loss: 0.3915 | Train Acc: 0.8495 | Eval Loss: 0.5631 | Eval Acc: 0.6429\n",
            "Epoch [29/50] Train Loss: 0.3948 | Train Acc: 0.7957 | Eval Loss: 0.5116 | Eval Acc: 0.6429\n",
            "Epoch [30/50] Train Loss: 0.3908 | Train Acc: 0.8172 | Eval Loss: 0.5233 | Eval Acc: 0.6429\n",
            "Epoch [31/50] Train Loss: 0.4393 | Train Acc: 0.7419 | Eval Loss: 0.6419 | Eval Acc: 0.6429\n",
            "Epoch [32/50] Train Loss: 0.3900 | Train Acc: 0.8280 | Eval Loss: 0.6173 | Eval Acc: 0.5714\n",
            "Epoch [33/50] Train Loss: 0.5663 | Train Acc: 0.6989 | Eval Loss: 0.5795 | Eval Acc: 0.5714\n",
            "Epoch [34/50] Train Loss: 0.3657 | Train Acc: 0.8817 | Eval Loss: 0.4981 | Eval Acc: 0.6429\n",
            "Epoch [35/50] Train Loss: 0.3639 | Train Acc: 0.8172 | Eval Loss: 0.5858 | Eval Acc: 0.5714\n",
            "Epoch [36/50] Train Loss: 0.3766 | Train Acc: 0.8387 | Eval Loss: 0.6462 | Eval Acc: 0.5714\n",
            "Epoch [37/50] Train Loss: 0.3278 | Train Acc: 0.8710 | Eval Loss: 0.6180 | Eval Acc: 0.5714\n",
            "Epoch [38/50] Train Loss: 0.3018 | Train Acc: 0.9140 | Eval Loss: 0.6023 | Eval Acc: 0.5714\n",
            "Epoch [39/50] Train Loss: 0.3697 | Train Acc: 0.7849 | Eval Loss: 0.4892 | Eval Acc: 0.6429\n",
            "Epoch [40/50] Train Loss: 0.3191 | Train Acc: 0.9677 | Eval Loss: 0.5181 | Eval Acc: 0.6429\n",
            "Epoch [41/50] Train Loss: 0.3240 | Train Acc: 0.8495 | Eval Loss: 0.9867 | Eval Acc: 0.5000\n",
            "Epoch [42/50] Train Loss: 0.3274 | Train Acc: 0.7957 | Eval Loss: 0.8795 | Eval Acc: 0.5000\n",
            "Epoch [43/50] Train Loss: 0.3794 | Train Acc: 0.8065 | Eval Loss: 0.4999 | Eval Acc: 0.5000\n",
            "Epoch [44/50] Train Loss: 0.3312 | Train Acc: 0.8495 | Eval Loss: 0.5203 | Eval Acc: 0.5714\n",
            "Epoch [45/50] Train Loss: 0.2843 | Train Acc: 0.9355 | Eval Loss: 0.6368 | Eval Acc: 0.5714\n",
            "Epoch [46/50] Train Loss: 0.2279 | Train Acc: 0.9570 | Eval Loss: 0.6732 | Eval Acc: 0.5714\n",
            "Epoch [47/50] Train Loss: 0.2008 | Train Acc: 0.9355 | Eval Loss: 0.6109 | Eval Acc: 0.6429\n",
            "Epoch [48/50] Train Loss: 0.1998 | Train Acc: 0.9677 | Eval Loss: 0.5920 | Eval Acc: 0.5714\n",
            "Epoch [49/50] Train Loss: 0.1792 | Train Acc: 0.9570 | Eval Loss: 0.6623 | Eval Acc: 0.5000\n",
            "Epoch [50/50] Train Loss: 0.2029 | Train Acc: 0.9677 | Eval Loss: 0.7192 | Eval Acc: 0.5000\n",
            "✅ Finished training with batch size 24 | Train Acc: 0.9677 | Test Acc: 0.6296 | Eval Acc: 0.5000\n",
            "\n",
            "===== Training with batch size 32 =====\n",
            "\n",
            "Epoch [1/50] Train Loss: 0.7435 | Train Acc: 0.4839 | Eval Loss: 0.6911 | Eval Acc: 0.6429\n",
            "Epoch [2/50] Train Loss: 0.6755 | Train Acc: 0.5914 | Eval Loss: 0.6797 | Eval Acc: 0.6429\n",
            "Epoch [3/50] Train Loss: 0.6518 | Train Acc: 0.6129 | Eval Loss: 0.6716 | Eval Acc: 0.6429\n",
            "Epoch [4/50] Train Loss: 0.6139 | Train Acc: 0.6022 | Eval Loss: 0.6686 | Eval Acc: 0.6429\n",
            "Epoch [5/50] Train Loss: 0.6012 | Train Acc: 0.6667 | Eval Loss: 0.6627 | Eval Acc: 0.6429\n",
            "Epoch [6/50] Train Loss: 0.6001 | Train Acc: 0.6022 | Eval Loss: 0.6517 | Eval Acc: 0.6429\n",
            "Epoch [7/50] Train Loss: 0.5956 | Train Acc: 0.7419 | Eval Loss: 0.6438 | Eval Acc: 0.6429\n",
            "Epoch [8/50] Train Loss: 0.5824 | Train Acc: 0.6882 | Eval Loss: 0.6437 | Eval Acc: 0.6429\n",
            "Epoch [9/50] Train Loss: 0.5973 | Train Acc: 0.5914 | Eval Loss: 0.6393 | Eval Acc: 0.6429\n",
            "Epoch [10/50] Train Loss: 0.5774 | Train Acc: 0.6344 | Eval Loss: 0.6380 | Eval Acc: 0.6429\n",
            "Epoch [11/50] Train Loss: 0.5753 | Train Acc: 0.6882 | Eval Loss: 0.6401 | Eval Acc: 0.6429\n",
            "Epoch [12/50] Train Loss: 0.5955 | Train Acc: 0.6452 | Eval Loss: 0.6434 | Eval Acc: 0.6429\n",
            "Epoch [13/50] Train Loss: 0.5258 | Train Acc: 0.7742 | Eval Loss: 0.6581 | Eval Acc: 0.6429\n",
            "Epoch [14/50] Train Loss: 0.5410 | Train Acc: 0.7742 | Eval Loss: 0.6505 | Eval Acc: 0.6429\n",
            "Epoch [15/50] Train Loss: 0.5771 | Train Acc: 0.6237 | Eval Loss: 0.6591 | Eval Acc: 0.6429\n",
            "Epoch [16/50] Train Loss: 0.5283 | Train Acc: 0.7204 | Eval Loss: 0.6549 | Eval Acc: 0.6429\n",
            "Epoch [17/50] Train Loss: 0.4841 | Train Acc: 0.8065 | Eval Loss: 0.6582 | Eval Acc: 0.6429\n",
            "Epoch [18/50] Train Loss: 0.5138 | Train Acc: 0.7957 | Eval Loss: 0.6802 | Eval Acc: 0.6429\n",
            "Epoch [19/50] Train Loss: 0.4820 | Train Acc: 0.7419 | Eval Loss: 0.6755 | Eval Acc: 0.5714\n",
            "Epoch [20/50] Train Loss: 0.4686 | Train Acc: 0.8387 | Eval Loss: 0.6518 | Eval Acc: 0.6429\n",
            "Epoch [21/50] Train Loss: 0.5042 | Train Acc: 0.7957 | Eval Loss: 0.6350 | Eval Acc: 0.6429\n",
            "Epoch [22/50] Train Loss: 0.4390 | Train Acc: 0.8172 | Eval Loss: 0.6379 | Eval Acc: 0.6429\n",
            "Epoch [23/50] Train Loss: 0.4751 | Train Acc: 0.6989 | Eval Loss: 0.6146 | Eval Acc: 0.6429\n",
            "Epoch [24/50] Train Loss: 0.4493 | Train Acc: 0.7634 | Eval Loss: 0.5995 | Eval Acc: 0.5714\n",
            "Epoch [25/50] Train Loss: 0.4464 | Train Acc: 0.8710 | Eval Loss: 0.6176 | Eval Acc: 0.5714\n",
            "Epoch [26/50] Train Loss: 0.3913 | Train Acc: 0.9032 | Eval Loss: 0.6476 | Eval Acc: 0.5714\n",
            "Epoch [27/50] Train Loss: 0.3727 | Train Acc: 0.9032 | Eval Loss: 0.6567 | Eval Acc: 0.5000\n",
            "Epoch [28/50] Train Loss: 0.3301 | Train Acc: 0.9247 | Eval Loss: 0.6638 | Eval Acc: 0.5714\n",
            "Epoch [29/50] Train Loss: 0.4171 | Train Acc: 0.9032 | Eval Loss: 0.6728 | Eval Acc: 0.5000\n",
            "Epoch [30/50] Train Loss: 0.3742 | Train Acc: 0.8495 | Eval Loss: 0.7463 | Eval Acc: 0.4286\n",
            "Epoch [31/50] Train Loss: 0.3478 | Train Acc: 0.8495 | Eval Loss: 0.6912 | Eval Acc: 0.4286\n",
            "Epoch [32/50] Train Loss: 0.3240 | Train Acc: 0.9140 | Eval Loss: 0.6779 | Eval Acc: 0.4286\n",
            "Epoch [33/50] Train Loss: 0.2471 | Train Acc: 0.9677 | Eval Loss: 0.7065 | Eval Acc: 0.4286\n",
            "Epoch [34/50] Train Loss: 0.2429 | Train Acc: 0.9892 | Eval Loss: 0.6612 | Eval Acc: 0.5000\n",
            "Epoch [35/50] Train Loss: 0.2569 | Train Acc: 0.9677 | Eval Loss: 0.6797 | Eval Acc: 0.5000\n",
            "Epoch [36/50] Train Loss: 0.2343 | Train Acc: 0.9785 | Eval Loss: 0.7913 | Eval Acc: 0.6429\n",
            "Epoch [37/50] Train Loss: 0.2193 | Train Acc: 0.9570 | Eval Loss: 0.9011 | Eval Acc: 0.5714\n",
            "Epoch [38/50] Train Loss: 0.1868 | Train Acc: 0.9892 | Eval Loss: 0.7767 | Eval Acc: 0.5714\n",
            "Epoch [39/50] Train Loss: 0.1891 | Train Acc: 0.9785 | Eval Loss: 0.7130 | Eval Acc: 0.6429\n",
            "Epoch [40/50] Train Loss: 0.2161 | Train Acc: 0.9892 | Eval Loss: 0.8311 | Eval Acc: 0.5000\n",
            "Epoch [41/50] Train Loss: 0.1708 | Train Acc: 0.9677 | Eval Loss: 0.8668 | Eval Acc: 0.5000\n",
            "Epoch [42/50] Train Loss: 0.1843 | Train Acc: 0.9892 | Eval Loss: 0.8618 | Eval Acc: 0.5714\n",
            "Epoch [43/50] Train Loss: 0.1873 | Train Acc: 0.9677 | Eval Loss: 0.8295 | Eval Acc: 0.5000\n",
            "Epoch [44/50] Train Loss: 0.1813 | Train Acc: 0.9785 | Eval Loss: 0.8132 | Eval Acc: 0.6429\n",
            "Epoch [45/50] Train Loss: 0.1391 | Train Acc: 0.9892 | Eval Loss: 0.8739 | Eval Acc: 0.6429\n",
            "Epoch [46/50] Train Loss: 0.1692 | Train Acc: 0.9785 | Eval Loss: 0.9641 | Eval Acc: 0.6429\n",
            "Epoch [47/50] Train Loss: 0.1235 | Train Acc: 1.0000 | Eval Loss: 0.9711 | Eval Acc: 0.5714\n",
            "Epoch [48/50] Train Loss: 0.1124 | Train Acc: 0.9892 | Eval Loss: 0.9908 | Eval Acc: 0.5714\n",
            "Epoch [49/50] Train Loss: 0.1321 | Train Acc: 0.9892 | Eval Loss: 0.8894 | Eval Acc: 0.5714\n",
            "Epoch [50/50] Train Loss: 0.1362 | Train Acc: 0.9785 | Eval Loss: 0.9232 | Eval Acc: 0.6429\n",
            "✅ Finished training with batch size 32 | Train Acc: 0.9785 | Test Acc: 0.6296 | Eval Acc: 0.6429\n"
          ]
        },
        {
          "output_type": "display_data",
          "data": {
            "text/plain": [
              "<Figure size 1200x600 with 1 Axes>"
            ],
            "image/png": "[encoded data removed]"
          },
          "metadata": {}
        },
        {
          "output_type": "stream",
          "name": "stdout",
          "text": [
            "\n",
            "=== Final Accuracy Summary ===\n",
            "Batch Size 16: Train Acc=0.9247, Eval Acc=0.5000, Test Acc=0.5926\n",
            "Batch Size 24: Train Acc=0.9677, Eval Acc=0.5000, Test Acc=0.6296\n",
            "Batch Size 32: Train Acc=0.9785, Eval Acc=0.6429, Test Acc=0.6296\n"
          ]
        }
      ]
    },
    {
      "cell_type": "markdown",
      "source": [
        "Model Initialization & Optimizer"
      ],
      "metadata": {
        "id": "sfGwLRTjnr9-"
      },
      "id": "sfGwLRTjnr9-"
    },
    {
      "cell_type": "markdown",
      "source": [
        "Final Evaluation on Eval Set"
      ],
      "metadata": {
        "id": "WdhfkBrMnfbG"
      },
      "id": "WdhfkBrMnfbG"
    },
    {
      "cell_type": "code",
      "metadata": {
        "colab": {
          "base_uri": "https://localhost:8080/",
          "height": 564
        },
        "id": "fc37ea77",
        "outputId": "402ea022-215c-4d88-f4c2-cf12d01d5aba"
      },
      "source": [
        "import matplotlib.pyplot as plt\n",
        "\n",
        "# Assuming you have stored training and validation loss per epoch\n",
        "# If not, you would need to modify the training loop to store these values.\n",
        "\n",
        "  # Placeholder data - replace with your actual loss lists\n",
        "# Example:\n",
        "# train_losses = [...] # List of training loss per epoch\n",
        "# val_losses = [...]   # List of validation loss per epoch\n",
        "\n",
        "# For now, we'll use the last calculated values, but for a proper curve,\n",
        "# you need to store the loss at the end of each epoch in the training loop.\n",
        "# Let's assume 'train_loss_history' and 'val_loss_history' lists exist\n",
        "# from the training loop. If not, you'll need to rerun the training with logging.\n",
        "\n",
        "# If you ran the training loop cell by cell, you might not have the history.\n",
        "# To get the history, you need to modify the training loop to append loss\n",
        "# values to lists at the end of each epoch.\n",
        "\n",
        "# Assuming you have lists named train_loss_history and val_loss_history\n",
        "# If not, the following code will not produce a meaningful curve.\n",
        "# You would need to re-run the training cell after adding loss logging.\n",
        "\n",
        "# Example (assuming loss history lists are populated in the training cell):\n",
        "plt.figure(figsize=(10, 6))\n",
        "plt.plot(range(1, n_epochs + 1), train_loss_history, label='Training Loss')\n",
        "plt.plot(range(1, n_epochs + 1), val_loss_history, label='Validation Loss')\n",
        "plt.xlabel('Epoch')\n",
        "plt.ylabel('Loss')\n",
        "plt.title('Training and Validation Loss Curve')\n",
        "plt.legend()\n",
        "plt.grid(True)\n",
        "plt.show()\n",
        "\n",
        "# print(\"To plot the loss curve, please ensure you have lists storing the training and validation loss at the end of each epoch in the training loop.\")\n",
        "# print(\"If you modified the training loop to store loss history, uncomment the plotting code above.\")"
      ],
      "id": "fc37ea77",
      "execution_count": null,
      "outputs": [
        {
          "output_type": "display_data",
          "data": {
            "text/plain": [
              "<Figure size 1000x600 with 1 Axes>"
            ],
            "image/png": "[encoded data removed]"
          },
          "metadata": {}
        }
      ]
    },
    {
      "cell_type": "code",
      "metadata": {
        "colab": {
          "base_uri": "https://localhost:8080/",
          "height": 564
        },
        "id": "051526ff",
        "outputId": "e49d5e51-5730-4a9f-ae80-ae9f1d75754b"
      },
      "source": [
        "plt.figure(figsize=(10, 6))\n",
        "plt.plot(range(1, n_epochs + 1), [acc * 100 for acc in train_loss_history], label='Training Accuracy') # Assuming accuracy is stored in train_loss_history (should be train_acc_history)\n",
        "plt.plot(range(1, n_epochs + 1), [acc * 100 for acc in val_loss_history], label='Validation Accuracy') # Assuming accuracy is stored in val_loss_history (should be val_acc_history)\n",
        "plt.xlabel('Epoch')\n",
        "plt.ylabel('Accuracy (%)')\n",
        "plt.title('Training and Validation Accuracy Curve')\n",
        "plt.legend()\n",
        "plt.grid(True)\n",
        "plt.show()"
      ],
      "id": "051526ff",
      "execution_count": null,
      "outputs": [
        {
          "output_type": "display_data",
          "data": {
            "text/plain": [
              "<Figure size 1000x600 with 1 Axes>"
            ],
            "image/png": "[encoded data removed]"
          },
          "metadata": {}
        }
      ]
    }
  ],
  "metadata": {
    "kernelspec": {
      "display_name": "Python 3",
      "name": "python3"
    },
    "colab": {
      "provenance": [],
      "gpuType": "T4",
      "include_colab_link": true
    },
    "accelerator": "GPU"
  },
  "nbformat": 4,
  "nbformat_minor": 5
}